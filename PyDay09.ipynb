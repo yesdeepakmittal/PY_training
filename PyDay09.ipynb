{
  "nbformat": 4,
  "nbformat_minor": 0,
  "metadata": {
    "colab": {
      "name": "Untitled7.ipynb",
      "provenance": [],
      "authorship_tag": "ABX9TyPprMXWjZ7yobSf51vcuclD",
      "include_colab_link": true
    },
    "kernelspec": {
      "name": "python3",
      "display_name": "Python 3"
    }
  },
  "cells": [
    {
      "cell_type": "markdown",
      "metadata": {
        "id": "view-in-github",
        "colab_type": "text"
      },
      "source": [
        "<a href=\"https://colab.research.google.com/github/yesdeepakmittal/pytraining/blob/master/PyDay09.ipynb\" target=\"_parent\"><img src=\"https://colab.research.google.com/assets/colab-badge.svg\" alt=\"Open In Colab\"/></a>"
      ]
    },
    {
      "cell_type": "markdown",
      "metadata": {
        "id": "hT9WZyhH9J1q"
      },
      "source": [
        "# Variable scope - LEGB\n",
        "- Local\n",
        "- Enclosing\n",
        "- Global\n",
        "- Built-in\n",
        "\n",
        "#### Local vs Global variable \n",
        "\n"
      ]
    },
    {
      "cell_type": "code",
      "metadata": {
        "id": "JToZ-TMP9I8m",
        "colab": {
          "base_uri": "https://localhost:8080/"
        },
        "outputId": "bcbe5980-e19b-4952-c1bd-bc9f567e1963"
      },
      "source": [
        "team = \"local value\"\n",
        "\n",
        "def change_value():\n",
        "    global team\n",
        "\n",
        "    team = 'making global'\n",
        "print(team)\n",
        "\n",
        "change_value()\n",
        "\n",
        "print(team)"
      ],
      "execution_count": null,
      "outputs": [
        {
          "output_type": "stream",
          "name": "stdout",
          "text": [
            "local value\n",
            "making global\n"
          ]
        }
      ]
    },
    {
      "cell_type": "code",
      "metadata": {
        "id": "1KKgjAcG9lKL",
        "colab": {
          "base_uri": "https://localhost:8080/"
        },
        "outputId": "5b924cdd-f544-4c49-fc2e-55ec5d73c46e"
      },
      "source": [
        "import builtins\n",
        "dir(builtins)"
      ],
      "execution_count": null,
      "outputs": [
        {
          "output_type": "execute_result",
          "data": {
            "text/plain": [
              "['ArithmeticError',\n",
              " 'AssertionError',\n",
              " 'AttributeError',\n",
              " 'BaseException',\n",
              " 'BlockingIOError',\n",
              " 'BrokenPipeError',\n",
              " 'BufferError',\n",
              " 'BytesWarning',\n",
              " 'ChildProcessError',\n",
              " 'ConnectionAbortedError',\n",
              " 'ConnectionError',\n",
              " 'ConnectionRefusedError',\n",
              " 'ConnectionResetError',\n",
              " 'DeprecationWarning',\n",
              " 'EOFError',\n",
              " 'Ellipsis',\n",
              " 'EnvironmentError',\n",
              " 'Exception',\n",
              " 'False',\n",
              " 'FileExistsError',\n",
              " 'FileNotFoundError',\n",
              " 'FloatingPointError',\n",
              " 'FutureWarning',\n",
              " 'GeneratorExit',\n",
              " 'IOError',\n",
              " 'ImportError',\n",
              " 'ImportWarning',\n",
              " 'IndentationError',\n",
              " 'IndexError',\n",
              " 'InterruptedError',\n",
              " 'IsADirectoryError',\n",
              " 'KeyError',\n",
              " 'KeyboardInterrupt',\n",
              " 'LookupError',\n",
              " 'MemoryError',\n",
              " 'ModuleNotFoundError',\n",
              " 'NameError',\n",
              " 'None',\n",
              " 'NotADirectoryError',\n",
              " 'NotImplemented',\n",
              " 'NotImplementedError',\n",
              " 'OSError',\n",
              " 'OverflowError',\n",
              " 'PendingDeprecationWarning',\n",
              " 'PermissionError',\n",
              " 'ProcessLookupError',\n",
              " 'RecursionError',\n",
              " 'ReferenceError',\n",
              " 'ResourceWarning',\n",
              " 'RuntimeError',\n",
              " 'RuntimeWarning',\n",
              " 'StopAsyncIteration',\n",
              " 'StopIteration',\n",
              " 'SyntaxError',\n",
              " 'SyntaxWarning',\n",
              " 'SystemError',\n",
              " 'SystemExit',\n",
              " 'TabError',\n",
              " 'TimeoutError',\n",
              " 'True',\n",
              " 'TypeError',\n",
              " 'UnboundLocalError',\n",
              " 'UnicodeDecodeError',\n",
              " 'UnicodeEncodeError',\n",
              " 'UnicodeError',\n",
              " 'UnicodeTranslateError',\n",
              " 'UnicodeWarning',\n",
              " 'UserWarning',\n",
              " 'ValueError',\n",
              " 'Warning',\n",
              " 'ZeroDivisionError',\n",
              " '__IPYTHON__',\n",
              " '__build_class__',\n",
              " '__debug__',\n",
              " '__doc__',\n",
              " '__import__',\n",
              " '__loader__',\n",
              " '__name__',\n",
              " '__package__',\n",
              " '__spec__',\n",
              " 'abs',\n",
              " 'all',\n",
              " 'any',\n",
              " 'ascii',\n",
              " 'bin',\n",
              " 'bool',\n",
              " 'breakpoint',\n",
              " 'bytearray',\n",
              " 'bytes',\n",
              " 'callable',\n",
              " 'chr',\n",
              " 'classmethod',\n",
              " 'compile',\n",
              " 'complex',\n",
              " 'copyright',\n",
              " 'credits',\n",
              " 'delattr',\n",
              " 'dict',\n",
              " 'dir',\n",
              " 'display',\n",
              " 'divmod',\n",
              " 'dreload',\n",
              " 'enumerate',\n",
              " 'eval',\n",
              " 'exec',\n",
              " 'execfile',\n",
              " 'filter',\n",
              " 'float',\n",
              " 'format',\n",
              " 'frozenset',\n",
              " 'get_ipython',\n",
              " 'getattr',\n",
              " 'globals',\n",
              " 'hasattr',\n",
              " 'hash',\n",
              " 'help',\n",
              " 'hex',\n",
              " 'id',\n",
              " 'input',\n",
              " 'int',\n",
              " 'isinstance',\n",
              " 'issubclass',\n",
              " 'iter',\n",
              " 'len',\n",
              " 'license',\n",
              " 'list',\n",
              " 'locals',\n",
              " 'map',\n",
              " 'max',\n",
              " 'memoryview',\n",
              " 'min',\n",
              " 'next',\n",
              " 'object',\n",
              " 'oct',\n",
              " 'open',\n",
              " 'ord',\n",
              " 'pow',\n",
              " 'print',\n",
              " 'property',\n",
              " 'range',\n",
              " 'repr',\n",
              " 'reversed',\n",
              " 'round',\n",
              " 'runfile',\n",
              " 'set',\n",
              " 'setattr',\n",
              " 'slice',\n",
              " 'sorted',\n",
              " 'staticmethod',\n",
              " 'str',\n",
              " 'sum',\n",
              " 'super',\n",
              " 'tuple',\n",
              " 'type',\n",
              " 'vars',\n",
              " 'zip']"
            ]
          },
          "metadata": {},
          "execution_count": 2
        }
      ]
    },
    {
      "cell_type": "code",
      "metadata": {
        "id": "mQMTcryD9lGs",
        "colab": {
          "base_uri": "https://localhost:8080/"
        },
        "outputId": "ebf44e44-9cc6-473c-8252-9dd0cd13533c"
      },
      "source": [
        "def power(p):\n",
        "    def inner(n):\n",
        "        return n**p\n",
        "    return inner\n",
        "\n",
        "sq = power(2)\n",
        "cb = power(3)\n",
        "\n",
        "print(sq(5))\n",
        "print(cb(5))"
      ],
      "execution_count": null,
      "outputs": [
        {
          "output_type": "stream",
          "name": "stdout",
          "text": [
            "25\n",
            "125\n"
          ]
        }
      ]
    },
    {
      "cell_type": "code",
      "metadata": {
        "id": "NgrC-Jt39lEV",
        "colab": {
          "base_uri": "https://localhost:8080/"
        },
        "outputId": "9902015e-4a6d-407b-987f-20d691a739a3"
      },
      "source": [
        "#Enclosing - In nested function, 'nonlocal' can be used to change a variable like 'global'\n",
        "\n",
        "def outer():\n",
        "    x = 1\n",
        "\n",
        "    def inner():\n",
        "        nonlocal x\n",
        "        x = 5\n",
        "        print(x)\n",
        "    \n",
        "    inner()\n",
        "    print(x)\n",
        "\n",
        "outer()"
      ],
      "execution_count": null,
      "outputs": [
        {
          "output_type": "stream",
          "name": "stdout",
          "text": [
            "5\n",
            "5\n"
          ]
        }
      ]
    },
    {
      "cell_type": "code",
      "metadata": {
        "id": "hvQ4HHyH9lCZ",
        "colab": {
          "base_uri": "https://localhost:8080/"
        },
        "outputId": "93616d57-5e6e-4f60-d283-2b685dce25f0"
      },
      "source": [
        "#Flexible functions\n",
        "# *args - argument\n",
        "\n",
        "def adding(*args):\n",
        "    ad = 0\n",
        "\n",
        "    for i in args:\n",
        "        ad += i\n",
        "    return ad \n",
        "\n",
        "adding(3,4,5)"
      ],
      "execution_count": null,
      "outputs": [
        {
          "output_type": "execute_result",
          "data": {
            "text/plain": [
              "12"
            ]
          },
          "metadata": {},
          "execution_count": 6
        }
      ]
    },
    {
      "cell_type": "code",
      "metadata": {
        "id": "kWtytDew9I5K",
        "colab": {
          "base_uri": "https://localhost:8080/"
        },
        "outputId": "ad619bfb-e564-4c7f-f78e-941a9d64ac84"
      },
      "source": [
        "adding(4,3,1,6)"
      ],
      "execution_count": null,
      "outputs": [
        {
          "output_type": "execute_result",
          "data": {
            "text/plain": [
              "14"
            ]
          },
          "metadata": {},
          "execution_count": 7
        }
      ]
    },
    {
      "cell_type": "code",
      "metadata": {
        "id": "o35C9XRi9I2a",
        "colab": {
          "base_uri": "https://localhost:8080/"
        },
        "outputId": "650f3087-f7cc-4ad7-bb59-d6305a1cbf6a"
      },
      "source": [
        "# **kwargs - keyword arguments in key-value pairs\n",
        "\n",
        "def printing(**kwargs):\n",
        "\n",
        "    for k,v in kwargs.items():\n",
        "        print(k,'-',v)\n",
        "\n",
        "printing(name='abc',mobile='0000')"
      ],
      "execution_count": null,
      "outputs": [
        {
          "output_type": "stream",
          "name": "stdout",
          "text": [
            "name - abc\n",
            "mobile - 0000\n"
          ]
        }
      ]
    },
    {
      "cell_type": "code",
      "metadata": {
        "id": "k-uqtJO56s7y",
        "colab": {
          "base_uri": "https://localhost:8080/"
        },
        "outputId": "24a5688b-2550-4224-c76b-f0a7ec84396c"
      },
      "source": [
        "printing(a = 'a', b = 'b',c = 'c', d = 'd')"
      ],
      "execution_count": null,
      "outputs": [
        {
          "output_type": "stream",
          "name": "stdout",
          "text": [
            "a - a\n",
            "b - b\n",
            "c - c\n",
            "d - d\n"
          ]
        }
      ]
    },
    {
      "cell_type": "code",
      "metadata": {
        "id": "PxChRBnW6s4i",
        "colab": {
          "base_uri": "https://localhost:8080/"
        },
        "outputId": "650683f5-001b-47e0-db04-3147dd0a9a12"
      },
      "source": [
        "#Lambda function\n",
        "a = [1,2,3,4]\n",
        "list(map(lambda x: x**2,a))"
      ],
      "execution_count": null,
      "outputs": [
        {
          "output_type": "execute_result",
          "data": {
            "text/plain": [
              "[1, 4, 9, 16]"
            ]
          },
          "metadata": {},
          "execution_count": 1
        }
      ]
    },
    {
      "cell_type": "code",
      "metadata": {
        "id": "LJYmR_-f6sw_",
        "colab": {
          "base_uri": "https://localhost:8080/"
        },
        "outputId": "45f5990f-da7e-4469-a8c2-5f5fa38e5af2"
      },
      "source": [
        "check = lambda x: x**2\n",
        "\n",
        "check(3)"
      ],
      "execution_count": null,
      "outputs": [
        {
          "output_type": "execute_result",
          "data": {
            "text/plain": [
              "9"
            ]
          },
          "metadata": {},
          "execution_count": 2
        }
      ]
    },
    {
      "cell_type": "code",
      "metadata": {
        "id": "Zc7rxCkk9IvG",
        "colab": {
          "base_uri": "https://localhost:8080/"
        },
        "outputId": "75320e69-438f-414d-a816-bbdd8588dfe6"
      },
      "source": [
        "mul = (lambda a,b: a*b)\n",
        "\n",
        "mul(3,4)"
      ],
      "execution_count": null,
      "outputs": [
        {
          "output_type": "execute_result",
          "data": {
            "text/plain": [
              "12"
            ]
          },
          "metadata": {},
          "execution_count": 4
        }
      ]
    },
    {
      "cell_type": "code",
      "metadata": {
        "id": "53N3BKDGMiqb",
        "colab": {
          "base_uri": "https://localhost:8080/"
        },
        "outputId": "28b79689-f477-4a6f-9534-22c779e084a4"
      },
      "source": [
        "a = [1,2,3,4,5,6,7,8,9,10]\n",
        "\n",
        "list(map(lambda x: x%2 == 0,a))  #mapping"
      ],
      "execution_count": null,
      "outputs": [
        {
          "output_type": "execute_result",
          "data": {
            "text/plain": [
              "[False, True, False, True, False, True, False, True, False, True]"
            ]
          },
          "metadata": {},
          "execution_count": 5
        }
      ]
    },
    {
      "cell_type": "code",
      "metadata": {
        "id": "7XOPBc3YMinA",
        "colab": {
          "base_uri": "https://localhost:8080/"
        },
        "outputId": "fb8f0ee1-4f6b-4295-c514-bdebc4f59f2e"
      },
      "source": [
        "list(filter(lambda x: x%2 == 0,a))   #filtering"
      ],
      "execution_count": null,
      "outputs": [
        {
          "output_type": "execute_result",
          "data": {
            "text/plain": [
              "[2, 4, 6, 8, 10]"
            ]
          },
          "metadata": {},
          "execution_count": 6
        }
      ]
    },
    {
      "cell_type": "code",
      "metadata": {
        "id": "cHRO3Oo2MWHx",
        "outputId": "fa7ab768-15b7-494d-c1a5-9b086a25a567",
        "colab": {
          "base_uri": "https://localhost:8080/"
        }
      },
      "source": [
        "def even_num(n):\n",
        "    if n%2 == 0:\n",
        "        return True\n",
        "\n",
        "l = list(range(1,11))\n",
        "filter(even_num,l)"
      ],
      "execution_count": 1,
      "outputs": [
        {
          "output_type": "execute_result",
          "data": {
            "text/plain": [
              "<filter at 0x7fad715cbf10>"
            ]
          },
          "metadata": {},
          "execution_count": 1
        }
      ]
    },
    {
      "cell_type": "code",
      "metadata": {
        "id": "7L5pdzgWMoTQ",
        "outputId": "b39e49b7-240a-4d57-fb05-6e7303ceabdf",
        "colab": {
          "base_uri": "https://localhost:8080/"
        }
      },
      "source": [
        "list(filter(even_num,l))"
      ],
      "execution_count": 2,
      "outputs": [
        {
          "output_type": "execute_result",
          "data": {
            "text/plain": [
              "[2, 4, 6, 8, 10]"
            ]
          },
          "metadata": {},
          "execution_count": 2
        }
      ]
    },
    {
      "cell_type": "code",
      "metadata": {
        "id": "I6k29YKwMikS",
        "colab": {
          "base_uri": "https://localhost:8080/",
          "height": 35
        },
        "outputId": "f52ba2dd-8a6b-4acd-cc47-66fd7697d90e"
      },
      "source": [
        "#Reduce - It returns a single value as a result\n",
        "\n",
        "from functools import reduce\n",
        "a = list('Hello, World!')\n",
        "\n",
        "reduce(lambda x,y: x+y,a)  #reducing"
      ],
      "execution_count": null,
      "outputs": [
        {
          "output_type": "execute_result",
          "data": {
            "application/vnd.google.colaboratory.intrinsic+json": {
              "type": "string"
            },
            "text/plain": [
              "'Hello, World!'"
            ]
          },
          "metadata": {},
          "execution_count": 7
        }
      ]
    },
    {
      "cell_type": "markdown",
      "metadata": {
        "id": "JzzUEovBJfNG"
      },
      "source": [
        "A function to print ASCII value"
      ]
    },
    {
      "cell_type": "code",
      "metadata": {
        "id": "N6xCZ1ScIegk",
        "colab": {
          "base_uri": "https://localhost:8080/",
          "height": 35
        },
        "outputId": "da3e91b4-c611-407c-f9e5-a39bc9f40991"
      },
      "source": [
        "ord('a'),ord('A')"
      ],
      "execution_count": null,
      "outputs": [
        {
          "output_type": "execute_result",
          "data": {
            "text/plain": [
              "(97, 65)"
            ]
          },
          "metadata": {
            "tags": []
          },
          "execution_count": 8
        }
      ]
    },
    {
      "cell_type": "code",
      "metadata": {
        "id": "5ROAJQTWIhJF",
        "colab": {
          "base_uri": "https://localhost:8080/",
          "height": 35
        },
        "outputId": "a0ad5946-f499-4d77-ece0-eba91ee7c8ff"
      },
      "source": [
        "ord('/')"
      ],
      "execution_count": null,
      "outputs": [
        {
          "output_type": "execute_result",
          "data": {
            "text/plain": [
              "47"
            ]
          },
          "metadata": {
            "tags": []
          },
          "execution_count": 9
        }
      ]
    },
    {
      "cell_type": "code",
      "metadata": {
        "id": "cfToh47uJEM_",
        "colab": {
          "base_uri": "https://localhost:8080/",
          "height": 35
        },
        "outputId": "415e8a40-3b70-4e05-c971-89aa7b28aec8"
      },
      "source": [
        "ord('\\n')"
      ],
      "execution_count": null,
      "outputs": [
        {
          "output_type": "execute_result",
          "data": {
            "text/plain": [
              "10"
            ]
          },
          "metadata": {
            "tags": []
          },
          "execution_count": 1
        }
      ]
    },
    {
      "cell_type": "markdown",
      "metadata": {
        "id": "cgi6CvwLWUCW"
      },
      "source": [
        "# Iterator & Iterable\n",
        "\n",
        "- Iterable is an object, which one can iterate over. ... Iterator is an object, which is used to iterate over an iterable object using __next__() method.\n",
        "\n",
        "- https://www.geeksforgeeks.org/python-difference-iterable-iterator/\n",
        "\n",
        "- Datacamp \n",
        "    - iterable is an object that can return an iterator\n",
        "    -  iterator is an object that keeps state and produces the next value when you call next() on it"
      ]
    },
    {
      "cell_type": "code",
      "metadata": {
        "id": "g3PEIRnQrN7R",
        "colab": {
          "base_uri": "https://localhost:8080/",
          "height": 35
        },
        "outputId": "6a2bb709-fcb1-4277-b6ea-a4671924868d"
      },
      "source": [
        "a = 'Hey'  \n",
        "b = iter(a)\n",
        "\n",
        "next(b) #iterating element-wise"
      ],
      "execution_count": null,
      "outputs": [
        {
          "output_type": "execute_result",
          "data": {
            "application/vnd.google.colaboratory.intrinsic+json": {
              "type": "string"
            },
            "text/plain": [
              "'H'"
            ]
          },
          "metadata": {},
          "execution_count": 12
        }
      ]
    },
    {
      "cell_type": "code",
      "metadata": {
        "colab": {
          "base_uri": "https://localhost:8080/",
          "height": 35
        },
        "id": "DKVyywM-Uzj_",
        "outputId": "289bc29d-fd18-4e3d-c696-15be8c846ed1"
      },
      "source": [
        "next(b)"
      ],
      "execution_count": null,
      "outputs": [
        {
          "output_type": "execute_result",
          "data": {
            "application/vnd.google.colaboratory.intrinsic+json": {
              "type": "string"
            },
            "text/plain": [
              "'e'"
            ]
          },
          "metadata": {},
          "execution_count": 13
        }
      ]
    },
    {
      "cell_type": "code",
      "metadata": {
        "colab": {
          "base_uri": "https://localhost:8080/",
          "height": 35
        },
        "id": "jv2eyZqyU2f7",
        "outputId": "64ae6698-cfdf-41ac-e539-71af5bdf584f"
      },
      "source": [
        "next(b)"
      ],
      "execution_count": null,
      "outputs": [
        {
          "output_type": "execute_result",
          "data": {
            "application/vnd.google.colaboratory.intrinsic+json": {
              "type": "string"
            },
            "text/plain": [
              "'y'"
            ]
          },
          "metadata": {},
          "execution_count": 14
        }
      ]
    },
    {
      "cell_type": "code",
      "metadata": {
        "colab": {
          "base_uri": "https://localhost:8080/",
          "height": 162
        },
        "id": "h3FuBhQPU3Ji",
        "outputId": "bc89120d-026d-424d-aefb-064c68a56926"
      },
      "source": [
        "next(b)"
      ],
      "execution_count": null,
      "outputs": [
        {
          "output_type": "error",
          "ename": "StopIteration",
          "evalue": "ignored",
          "traceback": [
            "\u001b[0;31m---------------------------------------------------------------------------\u001b[0m",
            "\u001b[0;31mStopIteration\u001b[0m                             Traceback (most recent call last)",
            "\u001b[0;32m<ipython-input-15-adb3e17b0219>\u001b[0m in \u001b[0;36m<module>\u001b[0;34m()\u001b[0m\n\u001b[0;32m----> 1\u001b[0;31m \u001b[0mnext\u001b[0m\u001b[0;34m(\u001b[0m\u001b[0mb\u001b[0m\u001b[0;34m)\u001b[0m\u001b[0;34m\u001b[0m\u001b[0;34m\u001b[0m\u001b[0m\n\u001b[0m",
            "\u001b[0;31mStopIteration\u001b[0m: "
          ]
        }
      ]
    },
    {
      "cell_type": "code",
      "metadata": {
        "colab": {
          "base_uri": "https://localhost:8080/"
        },
        "id": "WQfwTssLVEha",
        "outputId": "cbce0d9f-668d-4793-cc97-d55008792299"
      },
      "source": [
        "a = 'Hey'\n",
        "b = iter(a)\n",
        "\n",
        "print(*b)  #iterating all together"
      ],
      "execution_count": null,
      "outputs": [
        {
          "output_type": "stream",
          "name": "stdout",
          "text": [
            "H e y\n"
          ]
        }
      ]
    },
    {
      "cell_type": "code",
      "metadata": {
        "id": "iURBkalYVIC7"
      },
      "source": [
        "#iterating over a file\n",
        "\n",
        "f = open('abc.txt')\n",
        "b = iter(f)\n",
        "\n",
        "next(b)  #printing first line\n",
        "next(b)  #printing second line and so on ..."
      ],
      "execution_count": null,
      "outputs": []
    },
    {
      "cell_type": "code",
      "metadata": {
        "colab": {
          "base_uri": "https://localhost:8080/"
        },
        "id": "RdH6PIPGZez4",
        "outputId": "a19f7ebb-dff9-460c-c936-2063f1962eee"
      },
      "source": [
        "#enumerate\n",
        "\n",
        "for index,value in enumerate(list('hello')): print('Index :',index,'&','Value :',value)"
      ],
      "execution_count": null,
      "outputs": [
        {
          "output_type": "stream",
          "name": "stdout",
          "text": [
            "Index : 0 & Value : h\n",
            "Index : 1 & Value : e\n",
            "Index : 2 & Value : l\n",
            "Index : 3 & Value : l\n",
            "Index : 4 & Value : o\n"
          ]
        }
      ]
    },
    {
      "cell_type": "code",
      "metadata": {
        "colab": {
          "base_uri": "https://localhost:8080/"
        },
        "id": "DmNji6TtZwl9",
        "outputId": "543afe5f-e634-44f4-8263-574a50abdb2c"
      },
      "source": [
        "a = list('hello')\n",
        "b = enumerate(a)\n",
        "list(b)"
      ],
      "execution_count": null,
      "outputs": [
        {
          "output_type": "execute_result",
          "data": {
            "text/plain": [
              "[(0, 'h'), (1, 'e'), (2, 'l'), (3, 'l'), (4, 'o')]"
            ]
          },
          "metadata": {},
          "execution_count": 20
        }
      ]
    },
    {
      "cell_type": "code",
      "metadata": {
        "colab": {
          "base_uri": "https://localhost:8080/"
        },
        "id": "kDHQGwpZbI4f",
        "outputId": "eb5fb86f-2ad4-46bd-eb0a-af11923154fa"
      },
      "source": [
        "a = list('hello')\n",
        "b = enumerate(a,start=2)   #starting index from 2 rather than default 0\n",
        "list(b)"
      ],
      "execution_count": null,
      "outputs": [
        {
          "output_type": "execute_result",
          "data": {
            "text/plain": [
              "[(2, 'h'), (3, 'e'), (4, 'l'), (5, 'l'), (6, 'o')]"
            ]
          },
          "metadata": {},
          "execution_count": 31
        }
      ]
    },
    {
      "cell_type": "code",
      "metadata": {
        "colab": {
          "base_uri": "https://localhost:8080/"
        },
        "id": "8mOrmyAuZ3Rg",
        "outputId": "e4d7b14f-b541-4736-ca83-dbaed5065a18"
      },
      "source": [
        "#zip\n",
        "\n",
        "a = list('hello')\n",
        "b = list(range(1,6))\n",
        "\n",
        "c = zip(a,b)  #zipping together\n",
        "print(c)"
      ],
      "execution_count": null,
      "outputs": [
        {
          "output_type": "stream",
          "name": "stdout",
          "text": [
            "<zip object at 0x7f193a25f0a0>\n"
          ]
        }
      ]
    },
    {
      "cell_type": "code",
      "metadata": {
        "colab": {
          "base_uri": "https://localhost:8080/"
        },
        "id": "sNNWzpRTaSxk",
        "outputId": "aa791d60-73ee-4855-9651-8be898e6effb"
      },
      "source": [
        "print(*c)"
      ],
      "execution_count": null,
      "outputs": [
        {
          "output_type": "stream",
          "name": "stdout",
          "text": [
            "('h', 1) ('e', 2) ('l', 3) ('l', 4) ('o', 5)\n"
          ]
        }
      ]
    },
    {
      "cell_type": "code",
      "metadata": {
        "colab": {
          "base_uri": "https://localhost:8080/"
        },
        "id": "WIla34_VaHbs",
        "outputId": "c777ac14-73cd-46a3-cd96-63e21e517de8"
      },
      "source": [
        "c = zip(a,b)\n",
        "list(c)"
      ],
      "execution_count": null,
      "outputs": [
        {
          "output_type": "execute_result",
          "data": {
            "text/plain": [
              "[('h', 1), ('e', 2), ('l', 3), ('l', 4), ('o', 5)]"
            ]
          },
          "metadata": {},
          "execution_count": 30
        }
      ]
    },
    {
      "cell_type": "code",
      "metadata": {
        "colab": {
          "base_uri": "https://localhost:8080/"
        },
        "id": "O2uXY0JlaJDf",
        "outputId": "e17ebc34-e6ee-4a0e-a346-bbfa499de03c"
      },
      "source": [
        "a = list('hello')  #5\n",
        "b = list(range(6)) #6\n",
        "c = list('abcdefg') #7\n",
        "\n",
        "for i,j,k in zip(a,b,c):\n",
        "    print(i,j,k) #only prints 5"
      ],
      "execution_count": null,
      "outputs": [
        {
          "output_type": "stream",
          "name": "stdout",
          "text": [
            "h 0 a\n",
            "e 1 b\n",
            "l 2 c\n",
            "l 3 d\n",
            "o 4 e\n"
          ]
        }
      ]
    },
    {
      "cell_type": "code",
      "metadata": {
        "colab": {
          "base_uri": "https://localhost:8080/"
        },
        "id": "kUAS2Jy3b4AG",
        "outputId": "88457483-78dc-4e32-aace-fafc73e1e90c"
      },
      "source": [
        "a = tuple('hello')  \n",
        "b = tuple(range(5))\n",
        "\n",
        "z1 = zip(a,b)\n",
        "print(*z1)\n",
        "\n",
        "z1 = zip(a,b)\n",
        "r1, r2 = zip(*z1)\n",
        "\n",
        "print(r1 == a)\n",
        "print(r2 == b)"
      ],
      "execution_count": null,
      "outputs": [
        {
          "output_type": "stream",
          "name": "stdout",
          "text": [
            "('h', 0) ('e', 1) ('l', 2) ('l', 3) ('o', 4)\n",
            "True\n",
            "True\n"
          ]
        }
      ]
    },
    {
      "cell_type": "code",
      "metadata": {
        "colab": {
          "base_uri": "https://localhost:8080/"
        },
        "id": "QpxG-gyMdzv-",
        "outputId": "2a412c6e-93ea-4b61-ae67-a2f64bd20a43"
      },
      "source": [
        "r1"
      ],
      "execution_count": null,
      "outputs": [
        {
          "output_type": "execute_result",
          "data": {
            "text/plain": [
              "('h', 'e', 'l', 'l', 'o')"
            ]
          },
          "metadata": {},
          "execution_count": 42
        }
      ]
    },
    {
      "cell_type": "code",
      "metadata": {
        "id": "LMBPdzzsODSU",
        "colab": {
          "base_uri": "https://localhost:8080/"
        },
        "outputId": "cc9bda2e-e748-48ec-952a-08621190fab2"
      },
      "source": [
        "a = tuple('hello')  \n",
        "b = tuple(range(5))\n",
        "\n",
        "print(zip(a,b))\n",
        "# print(list(zip(a,b)))\n",
        "print(dict(zip(a,b)))"
      ],
      "execution_count": null,
      "outputs": [
        {
          "output_type": "stream",
          "name": "stdout",
          "text": [
            "<zip object at 0x7f569fcc2230>\n",
            "{'h': 0, 'e': 1, 'l': 3, 'o': 4}\n"
          ]
        }
      ]
    },
    {
      "cell_type": "code",
      "metadata": {
        "id": "RwvQR72MODO8"
      },
      "source": [
        ""
      ],
      "execution_count": null,
      "outputs": []
    },
    {
      "cell_type": "code",
      "metadata": {
        "colab": {
          "base_uri": "https://localhost:8080/",
          "height": 357
        },
        "id": "HtMKPbbJd9rh",
        "outputId": "0b7a197f-30ef-43e6-af74-9fcf21419b01"
      },
      "source": [
        "#working with large data > memory capacity\n",
        "import pandas as pd\n",
        "\n",
        "df = pd.DataFrame({'a':list(range(1,11)),'b':list(range(11,21))})\n",
        "df.to_csv('df.csv',)   #try chunksize with to_csv\n",
        "df"
      ],
      "execution_count": null,
      "outputs": [
        {
          "output_type": "execute_result",
          "data": {
            "text/html": [
              "<div>\n",
              "<style scoped>\n",
              "    .dataframe tbody tr th:only-of-type {\n",
              "        vertical-align: middle;\n",
              "    }\n",
              "\n",
              "    .dataframe tbody tr th {\n",
              "        vertical-align: top;\n",
              "    }\n",
              "\n",
              "    .dataframe thead th {\n",
              "        text-align: right;\n",
              "    }\n",
              "</style>\n",
              "<table border=\"1\" class=\"dataframe\">\n",
              "  <thead>\n",
              "    <tr style=\"text-align: right;\">\n",
              "      <th></th>\n",
              "      <th>a</th>\n",
              "      <th>b</th>\n",
              "    </tr>\n",
              "  </thead>\n",
              "  <tbody>\n",
              "    <tr>\n",
              "      <th>0</th>\n",
              "      <td>1</td>\n",
              "      <td>11</td>\n",
              "    </tr>\n",
              "    <tr>\n",
              "      <th>1</th>\n",
              "      <td>2</td>\n",
              "      <td>12</td>\n",
              "    </tr>\n",
              "    <tr>\n",
              "      <th>2</th>\n",
              "      <td>3</td>\n",
              "      <td>13</td>\n",
              "    </tr>\n",
              "    <tr>\n",
              "      <th>3</th>\n",
              "      <td>4</td>\n",
              "      <td>14</td>\n",
              "    </tr>\n",
              "    <tr>\n",
              "      <th>4</th>\n",
              "      <td>5</td>\n",
              "      <td>15</td>\n",
              "    </tr>\n",
              "    <tr>\n",
              "      <th>5</th>\n",
              "      <td>6</td>\n",
              "      <td>16</td>\n",
              "    </tr>\n",
              "    <tr>\n",
              "      <th>6</th>\n",
              "      <td>7</td>\n",
              "      <td>17</td>\n",
              "    </tr>\n",
              "    <tr>\n",
              "      <th>7</th>\n",
              "      <td>8</td>\n",
              "      <td>18</td>\n",
              "    </tr>\n",
              "    <tr>\n",
              "      <th>8</th>\n",
              "      <td>9</td>\n",
              "      <td>19</td>\n",
              "    </tr>\n",
              "    <tr>\n",
              "      <th>9</th>\n",
              "      <td>10</td>\n",
              "      <td>20</td>\n",
              "    </tr>\n",
              "  </tbody>\n",
              "</table>\n",
              "</div>"
            ],
            "text/plain": [
              "    a   b\n",
              "0   1  11\n",
              "1   2  12\n",
              "2   3  13\n",
              "3   4  14\n",
              "4   5  15\n",
              "5   6  16\n",
              "6   7  17\n",
              "7   8  18\n",
              "8   9  19\n",
              "9  10  20"
            ]
          },
          "metadata": {},
          "execution_count": 16
        }
      ]
    },
    {
      "cell_type": "code",
      "metadata": {
        "colab": {
          "base_uri": "https://localhost:8080/"
        },
        "id": "2y0gOp9NfiO4",
        "outputId": "2c2eb3f6-780b-44de-8535-9df534e04b87"
      },
      "source": [
        "for chunk in pd.read_csv('df.csv',chunksize=5):\n",
        "    print(chunk) #do computation of each chunk and then current chunk will gets replaced with another"
      ],
      "execution_count": null,
      "outputs": [
        {
          "output_type": "stream",
          "name": "stdout",
          "text": [
            "   Unnamed: 0  a   b\n",
            "0           0  1  11\n",
            "1           1  2  12\n",
            "2           2  3  13\n",
            "3           3  4  14\n",
            "4           4  5  15\n",
            "   Unnamed: 0   a   b\n",
            "5           5   6  16\n",
            "6           6   7  17\n",
            "7           7   8  18\n",
            "8           8   9  19\n",
            "9           9  10  20\n"
          ]
        }
      ]
    },
    {
      "cell_type": "code",
      "metadata": {
        "id": "rS9DISiaSRro",
        "colab": {
          "base_uri": "https://localhost:8080/",
          "height": 203
        },
        "outputId": "f062e155-2216-4eac-db5e-62d23981e3e0"
      },
      "source": [
        "#creating an iterable reader object and one can use next()\n",
        "temp = pd.read_csv('df.csv',chunksize=5)\n",
        "next(temp)"
      ],
      "execution_count": null,
      "outputs": [
        {
          "output_type": "execute_result",
          "data": {
            "text/html": [
              "<div>\n",
              "<style scoped>\n",
              "    .dataframe tbody tr th:only-of-type {\n",
              "        vertical-align: middle;\n",
              "    }\n",
              "\n",
              "    .dataframe tbody tr th {\n",
              "        vertical-align: top;\n",
              "    }\n",
              "\n",
              "    .dataframe thead th {\n",
              "        text-align: right;\n",
              "    }\n",
              "</style>\n",
              "<table border=\"1\" class=\"dataframe\">\n",
              "  <thead>\n",
              "    <tr style=\"text-align: right;\">\n",
              "      <th></th>\n",
              "      <th>Unnamed: 0</th>\n",
              "      <th>a</th>\n",
              "      <th>b</th>\n",
              "    </tr>\n",
              "  </thead>\n",
              "  <tbody>\n",
              "    <tr>\n",
              "      <th>0</th>\n",
              "      <td>0</td>\n",
              "      <td>1</td>\n",
              "      <td>11</td>\n",
              "    </tr>\n",
              "    <tr>\n",
              "      <th>1</th>\n",
              "      <td>1</td>\n",
              "      <td>2</td>\n",
              "      <td>12</td>\n",
              "    </tr>\n",
              "    <tr>\n",
              "      <th>2</th>\n",
              "      <td>2</td>\n",
              "      <td>3</td>\n",
              "      <td>13</td>\n",
              "    </tr>\n",
              "    <tr>\n",
              "      <th>3</th>\n",
              "      <td>3</td>\n",
              "      <td>4</td>\n",
              "      <td>14</td>\n",
              "    </tr>\n",
              "    <tr>\n",
              "      <th>4</th>\n",
              "      <td>4</td>\n",
              "      <td>5</td>\n",
              "      <td>15</td>\n",
              "    </tr>\n",
              "  </tbody>\n",
              "</table>\n",
              "</div>"
            ],
            "text/plain": [
              "   Unnamed: 0  a   b\n",
              "0           0  1  11\n",
              "1           1  2  12\n",
              "2           2  3  13\n",
              "3           3  4  14\n",
              "4           4  5  15"
            ]
          },
          "metadata": {},
          "execution_count": 17
        }
      ]
    },
    {
      "cell_type": "code",
      "metadata": {
        "id": "uHC23uq4SRWb",
        "colab": {
          "base_uri": "https://localhost:8080/",
          "height": 203
        },
        "outputId": "52cd636e-5d14-4f8d-c31c-cf67c43b9d9b"
      },
      "source": [
        "next(temp)"
      ],
      "execution_count": null,
      "outputs": [
        {
          "output_type": "execute_result",
          "data": {
            "text/html": [
              "<div>\n",
              "<style scoped>\n",
              "    .dataframe tbody tr th:only-of-type {\n",
              "        vertical-align: middle;\n",
              "    }\n",
              "\n",
              "    .dataframe tbody tr th {\n",
              "        vertical-align: top;\n",
              "    }\n",
              "\n",
              "    .dataframe thead th {\n",
              "        text-align: right;\n",
              "    }\n",
              "</style>\n",
              "<table border=\"1\" class=\"dataframe\">\n",
              "  <thead>\n",
              "    <tr style=\"text-align: right;\">\n",
              "      <th></th>\n",
              "      <th>Unnamed: 0</th>\n",
              "      <th>a</th>\n",
              "      <th>b</th>\n",
              "    </tr>\n",
              "  </thead>\n",
              "  <tbody>\n",
              "    <tr>\n",
              "      <th>5</th>\n",
              "      <td>5</td>\n",
              "      <td>6</td>\n",
              "      <td>16</td>\n",
              "    </tr>\n",
              "    <tr>\n",
              "      <th>6</th>\n",
              "      <td>6</td>\n",
              "      <td>7</td>\n",
              "      <td>17</td>\n",
              "    </tr>\n",
              "    <tr>\n",
              "      <th>7</th>\n",
              "      <td>7</td>\n",
              "      <td>8</td>\n",
              "      <td>18</td>\n",
              "    </tr>\n",
              "    <tr>\n",
              "      <th>8</th>\n",
              "      <td>8</td>\n",
              "      <td>9</td>\n",
              "      <td>19</td>\n",
              "    </tr>\n",
              "    <tr>\n",
              "      <th>9</th>\n",
              "      <td>9</td>\n",
              "      <td>10</td>\n",
              "      <td>20</td>\n",
              "    </tr>\n",
              "  </tbody>\n",
              "</table>\n",
              "</div>"
            ],
            "text/plain": [
              "   Unnamed: 0   a   b\n",
              "5           5   6  16\n",
              "6           6   7  17\n",
              "7           7   8  18\n",
              "8           8   9  19\n",
              "9           9  10  20"
            ]
          },
          "metadata": {},
          "execution_count": 18
        }
      ]
    },
    {
      "cell_type": "markdown",
      "metadata": {
        "id": "dLEZunc5l9Iy"
      },
      "source": [
        "Comprehensions"
      ]
    },
    {
      "cell_type": "code",
      "metadata": {
        "colab": {
          "base_uri": "https://localhost:8080/"
        },
        "id": "2sd5rMhmgJF8",
        "outputId": "4f4ef59b-8903-415f-c2e5-7d472bb7badc"
      },
      "source": [
        "[n**3 if n%3 == 0 else '?' for n in range(10)]"
      ],
      "execution_count": null,
      "outputs": [
        {
          "output_type": "execute_result",
          "data": {
            "text/plain": [
              "[0, '?', '?', 27, '?', '?', 216, '?', '?', 729]"
            ]
          },
          "metadata": {},
          "execution_count": 51
        }
      ]
    },
    {
      "cell_type": "code",
      "metadata": {
        "colab": {
          "base_uri": "https://localhost:8080/"
        },
        "id": "kvICGjxImAhH",
        "outputId": "c8c05262-5a64-4f83-8817-a0c4514d32be"
      },
      "source": [
        "type([n**3 if n%3 == 0 else '?' for n in range(10)])"
      ],
      "execution_count": null,
      "outputs": [
        {
          "output_type": "execute_result",
          "data": {
            "text/plain": [
              "list"
            ]
          },
          "metadata": {},
          "execution_count": 53
        }
      ]
    },
    {
      "cell_type": "code",
      "metadata": {
        "colab": {
          "base_uri": "https://localhost:8080/"
        },
        "id": "5XkfmRjakymw",
        "outputId": "e1121b72-e4ff-4d7d-f2f4-2b77ab60948b"
      },
      "source": [
        "{i: i**2 for i in range(10)}"
      ],
      "execution_count": null,
      "outputs": [
        {
          "output_type": "execute_result",
          "data": {
            "text/plain": [
              "{0: 0, 1: 1, 2: 4, 3: 9, 4: 16, 5: 25, 6: 36, 7: 49, 8: 64, 9: 81}"
            ]
          },
          "metadata": {},
          "execution_count": 52
        }
      ]
    },
    {
      "cell_type": "code",
      "metadata": {
        "colab": {
          "base_uri": "https://localhost:8080/"
        },
        "id": "ric7yDuwlDod",
        "outputId": "5940ea1b-775a-4a35-8645-84cf08e80319"
      },
      "source": [
        "type({i: i**2 for i in range(10)})"
      ],
      "execution_count": null,
      "outputs": [
        {
          "output_type": "execute_result",
          "data": {
            "text/plain": [
              "dict"
            ]
          },
          "metadata": {},
          "execution_count": 54
        }
      ]
    },
    {
      "cell_type": "markdown",
      "metadata": {
        "id": "p9D11WhTmNCr"
      },
      "source": [
        "Generators\n",
        "- use `()` instead of `[]` to produce generator \n",
        "- It is like a list but it `does not` store list in `memory` but it can be used as an iterator. \n",
        "- It can be used to iterate over a large number like 100 ^ 1000000 without storing the list in memory.\n",
        "- Generator function uses `yield` for iteration and unlike `return`(which terminates after returning value), it returns a value and pauses the execution while maintaining the internal states and get executed when `next()` is called until hitting `StopIteration` like error.\n",
        "- Generator Function defined like a regular function(def) and yields a sequence of values instead of returning a single value - datacamp\n",
        "- https://www.tutorialsteacher.com/python/python-generator"
      ]
    },
    {
      "cell_type": "code",
      "metadata": {
        "colab": {
          "base_uri": "https://localhost:8080/"
        },
        "id": "FHkfuPWdmK2e",
        "outputId": "fe620fe5-d324-48ac-fbff-c652558de417"
      },
      "source": [
        "(n**3 if n%3 == 0 else '?' for n in range(10))"
      ],
      "execution_count": null,
      "outputs": [
        {
          "output_type": "execute_result",
          "data": {
            "text/plain": [
              "<generator object <genexpr> at 0x7f193a21ff50>"
            ]
          },
          "metadata": {},
          "execution_count": 55
        }
      ]
    },
    {
      "cell_type": "code",
      "metadata": {
        "colab": {
          "base_uri": "https://localhost:8080/"
        },
        "id": "SsI7TxZ2mYIs",
        "outputId": "7ec37181-310a-48ec-ceda-551d52d8a402"
      },
      "source": [
        "temp = (n**3 if n%3 == 0 else '?' for n in range(10))\n",
        "next(temp)  #lazy evaluation  | working because it is a generator but couldn't if would be a list"
      ],
      "execution_count": null,
      "outputs": [
        {
          "output_type": "execute_result",
          "data": {
            "text/plain": [
              "0"
            ]
          },
          "metadata": {},
          "execution_count": 1
        }
      ]
    },
    {
      "cell_type": "code",
      "metadata": {
        "id": "uUuVY10MAM95",
        "colab": {
          "base_uri": "https://localhost:8080/",
          "height": 35
        },
        "outputId": "09c9c22e-ef33-4236-cf6f-f9d4ac5d82c2"
      },
      "source": [
        "next(temp)"
      ],
      "execution_count": null,
      "outputs": [
        {
          "output_type": "execute_result",
          "data": {
            "application/vnd.google.colaboratory.intrinsic+json": {
              "type": "string"
            },
            "text/plain": [
              "'?'"
            ]
          },
          "metadata": {},
          "execution_count": 2
        }
      ]
    },
    {
      "cell_type": "code",
      "metadata": {
        "id": "EeqHGO3JAVdX",
        "colab": {
          "base_uri": "https://localhost:8080/",
          "height": 178
        },
        "outputId": "a4d2ec13-a336-4155-fe63-823a998ccb21"
      },
      "source": [
        "a = [n**3 if n%3 == 0 else '?' for n in range(10)]\n",
        "next(a)  #do not work because it is not a generator"
      ],
      "execution_count": null,
      "outputs": [
        {
          "output_type": "error",
          "ename": "TypeError",
          "evalue": "ignored",
          "traceback": [
            "\u001b[0;31m---------------------------------------------------------------------------\u001b[0m",
            "\u001b[0;31mTypeError\u001b[0m                                 Traceback (most recent call last)",
            "\u001b[0;32m<ipython-input-4-17b52a9e1359>\u001b[0m in \u001b[0;36m<module>\u001b[0;34m()\u001b[0m\n\u001b[1;32m      1\u001b[0m \u001b[0ma\u001b[0m \u001b[0;34m=\u001b[0m \u001b[0;34m[\u001b[0m\u001b[0mn\u001b[0m\u001b[0;34m**\u001b[0m\u001b[0;36m3\u001b[0m \u001b[0;32mif\u001b[0m \u001b[0mn\u001b[0m\u001b[0;34m%\u001b[0m\u001b[0;36m3\u001b[0m \u001b[0;34m==\u001b[0m \u001b[0;36m0\u001b[0m \u001b[0;32melse\u001b[0m \u001b[0;34m'?'\u001b[0m \u001b[0;32mfor\u001b[0m \u001b[0mn\u001b[0m \u001b[0;32min\u001b[0m \u001b[0mrange\u001b[0m\u001b[0;34m(\u001b[0m\u001b[0;36m10\u001b[0m\u001b[0;34m)\u001b[0m\u001b[0;34m]\u001b[0m\u001b[0;34m\u001b[0m\u001b[0;34m\u001b[0m\u001b[0m\n\u001b[0;32m----> 2\u001b[0;31m \u001b[0mnext\u001b[0m\u001b[0;34m(\u001b[0m\u001b[0ma\u001b[0m\u001b[0;34m)\u001b[0m  \u001b[0;31m#do not work because it is not a generator\u001b[0m\u001b[0;34m\u001b[0m\u001b[0;34m\u001b[0m\u001b[0m\n\u001b[0m",
            "\u001b[0;31mTypeError\u001b[0m: 'list' object is not an iterator"
          ]
        }
      ]
    },
    {
      "cell_type": "code",
      "metadata": {
        "id": "lm64HoyoAnTn"
      },
      "source": [
        "[num for num in range(100**1000000)]  #this will not work because of high computational requirement"
      ],
      "execution_count": null,
      "outputs": []
    },
    {
      "cell_type": "code",
      "metadata": {
        "id": "06hJ9B2PJir8",
        "colab": {
          "base_uri": "https://localhost:8080/"
        },
        "outputId": "d854a604-68ad-4cc7-ecef-e0fe94701cf6"
      },
      "source": [
        "(num for num in range(100**1000000))  # this will easily work, because it is generator"
      ],
      "execution_count": null,
      "outputs": [
        {
          "output_type": "execute_result",
          "data": {
            "text/plain": [
              "<generator object <genexpr> at 0x7f569fc69d50>"
            ]
          },
          "metadata": {},
          "execution_count": 5
        }
      ]
    },
    {
      "cell_type": "code",
      "metadata": {
        "id": "xsUyz48uJq8B",
        "colab": {
          "base_uri": "https://localhost:8080/"
        },
        "outputId": "c5960c97-9de1-48eb-eb97-48d014dccee7"
      },
      "source": [
        "list((i for i in range(10)))"
      ],
      "execution_count": null,
      "outputs": [
        {
          "output_type": "execute_result",
          "data": {
            "text/plain": [
              "[0, 1, 2, 3, 4, 5, 6, 7, 8, 9]"
            ]
          },
          "metadata": {},
          "execution_count": 7
        }
      ]
    },
    {
      "cell_type": "code",
      "metadata": {
        "id": "JR0qAOxfLGKk"
      },
      "source": [
        "#generator function\n",
        "def numbers(n):\n",
        "    i = 0\n",
        "    while i<n:\n",
        "        yield i\n",
        "        i += 1\n",
        "\n",
        "temp = numbers(5)"
      ],
      "execution_count": null,
      "outputs": []
    },
    {
      "cell_type": "code",
      "metadata": {
        "id": "6uJ-QaiSLqH-",
        "colab": {
          "base_uri": "https://localhost:8080/"
        },
        "outputId": "38abce10-3b68-48c5-ea8b-8f3bf0b42567"
      },
      "source": [
        "next(temp)"
      ],
      "execution_count": null,
      "outputs": [
        {
          "output_type": "execute_result",
          "data": {
            "text/plain": [
              "0"
            ]
          },
          "metadata": {},
          "execution_count": 9
        }
      ]
    },
    {
      "cell_type": "code",
      "metadata": {
        "id": "xu-ynYjyLrXq",
        "colab": {
          "base_uri": "https://localhost:8080/"
        },
        "outputId": "a5f8ad43-9e73-4b17-fd3b-9f28d2f913dd"
      },
      "source": [
        "next(temp)"
      ],
      "execution_count": null,
      "outputs": [
        {
          "output_type": "execute_result",
          "data": {
            "text/plain": [
              "1"
            ]
          },
          "metadata": {},
          "execution_count": 10
        }
      ]
    },
    {
      "cell_type": "code",
      "metadata": {
        "id": "MOueHYVkLuAt",
        "colab": {
          "base_uri": "https://localhost:8080/"
        },
        "outputId": "5cf6babe-a8c4-4b2d-e8b6-727d3388140f"
      },
      "source": [
        "for i in temp: print(i)"
      ],
      "execution_count": null,
      "outputs": [
        {
          "output_type": "stream",
          "name": "stdout",
          "text": [
            "2\n",
            "3\n",
            "4\n"
          ]
        }
      ]
    },
    {
      "cell_type": "code",
      "metadata": {
        "id": "okbrsVLkMX8M"
      },
      "source": [
        ""
      ],
      "execution_count": null,
      "outputs": []
    }
  ]
}
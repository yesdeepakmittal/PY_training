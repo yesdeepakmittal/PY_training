{
  "nbformat": 4,
  "nbformat_minor": 0,
  "metadata": {
    "colab": {
      "name": "Untitled7.ipynb",
      "provenance": [],
      "authorship_tag": "ABX9TyOPHi5dX7OclJwgXtwpQkHF",
      "include_colab_link": true
    },
    "kernelspec": {
      "name": "python3",
      "display_name": "Python 3"
    }
  },
  "cells": [
    {
      "cell_type": "markdown",
      "metadata": {
        "id": "view-in-github",
        "colab_type": "text"
      },
      "source": [
        "<a href=\"https://colab.research.google.com/github/yesdeepakmittal/pytraining/blob/master/PyDay09.ipynb\" target=\"_parent\"><img src=\"https://colab.research.google.com/assets/colab-badge.svg\" alt=\"Open In Colab\"/></a>"
      ]
    },
    {
      "cell_type": "markdown",
      "metadata": {
        "id": "hT9WZyhH9J1q"
      },
      "source": [
        "# Variable scope - LEGB\n",
        "- Local\n",
        "- Enclosing\n",
        "- Global\n",
        "- Built-in\n",
        "\n",
        "#### Local vs Global variable \n",
        "\n"
      ]
    },
    {
      "cell_type": "code",
      "metadata": {
        "id": "JToZ-TMP9I8m",
        "colab": {
          "base_uri": "https://localhost:8080/"
        },
        "outputId": "bcbe5980-e19b-4952-c1bd-bc9f567e1963"
      },
      "source": [
        "team = \"local value\"\n",
        "\n",
        "def change_value():\n",
        "    global team\n",
        "\n",
        "    team = 'making global'\n",
        "print(team)\n",
        "\n",
        "change_value()\n",
        "\n",
        "print(team)"
      ],
      "execution_count": null,
      "outputs": [
        {
          "output_type": "stream",
          "name": "stdout",
          "text": [
            "local value\n",
            "making global\n"
          ]
        }
      ]
    },
    {
      "cell_type": "code",
      "metadata": {
        "id": "1KKgjAcG9lKL",
        "colab": {
          "base_uri": "https://localhost:8080/"
        },
        "outputId": "5b924cdd-f544-4c49-fc2e-55ec5d73c46e"
      },
      "source": [
        "import builtins\n",
        "dir(builtins)"
      ],
      "execution_count": null,
      "outputs": [
        {
          "output_type": "execute_result",
          "data": {
            "text/plain": [
              "['ArithmeticError',\n",
              " 'AssertionError',\n",
              " 'AttributeError',\n",
              " 'BaseException',\n",
              " 'BlockingIOError',\n",
              " 'BrokenPipeError',\n",
              " 'BufferError',\n",
              " 'BytesWarning',\n",
              " 'ChildProcessError',\n",
              " 'ConnectionAbortedError',\n",
              " 'ConnectionError',\n",
              " 'ConnectionRefusedError',\n",
              " 'ConnectionResetError',\n",
              " 'DeprecationWarning',\n",
              " 'EOFError',\n",
              " 'Ellipsis',\n",
              " 'EnvironmentError',\n",
              " 'Exception',\n",
              " 'False',\n",
              " 'FileExistsError',\n",
              " 'FileNotFoundError',\n",
              " 'FloatingPointError',\n",
              " 'FutureWarning',\n",
              " 'GeneratorExit',\n",
              " 'IOError',\n",
              " 'ImportError',\n",
              " 'ImportWarning',\n",
              " 'IndentationError',\n",
              " 'IndexError',\n",
              " 'InterruptedError',\n",
              " 'IsADirectoryError',\n",
              " 'KeyError',\n",
              " 'KeyboardInterrupt',\n",
              " 'LookupError',\n",
              " 'MemoryError',\n",
              " 'ModuleNotFoundError',\n",
              " 'NameError',\n",
              " 'None',\n",
              " 'NotADirectoryError',\n",
              " 'NotImplemented',\n",
              " 'NotImplementedError',\n",
              " 'OSError',\n",
              " 'OverflowError',\n",
              " 'PendingDeprecationWarning',\n",
              " 'PermissionError',\n",
              " 'ProcessLookupError',\n",
              " 'RecursionError',\n",
              " 'ReferenceError',\n",
              " 'ResourceWarning',\n",
              " 'RuntimeError',\n",
              " 'RuntimeWarning',\n",
              " 'StopAsyncIteration',\n",
              " 'StopIteration',\n",
              " 'SyntaxError',\n",
              " 'SyntaxWarning',\n",
              " 'SystemError',\n",
              " 'SystemExit',\n",
              " 'TabError',\n",
              " 'TimeoutError',\n",
              " 'True',\n",
              " 'TypeError',\n",
              " 'UnboundLocalError',\n",
              " 'UnicodeDecodeError',\n",
              " 'UnicodeEncodeError',\n",
              " 'UnicodeError',\n",
              " 'UnicodeTranslateError',\n",
              " 'UnicodeWarning',\n",
              " 'UserWarning',\n",
              " 'ValueError',\n",
              " 'Warning',\n",
              " 'ZeroDivisionError',\n",
              " '__IPYTHON__',\n",
              " '__build_class__',\n",
              " '__debug__',\n",
              " '__doc__',\n",
              " '__import__',\n",
              " '__loader__',\n",
              " '__name__',\n",
              " '__package__',\n",
              " '__spec__',\n",
              " 'abs',\n",
              " 'all',\n",
              " 'any',\n",
              " 'ascii',\n",
              " 'bin',\n",
              " 'bool',\n",
              " 'breakpoint',\n",
              " 'bytearray',\n",
              " 'bytes',\n",
              " 'callable',\n",
              " 'chr',\n",
              " 'classmethod',\n",
              " 'compile',\n",
              " 'complex',\n",
              " 'copyright',\n",
              " 'credits',\n",
              " 'delattr',\n",
              " 'dict',\n",
              " 'dir',\n",
              " 'display',\n",
              " 'divmod',\n",
              " 'dreload',\n",
              " 'enumerate',\n",
              " 'eval',\n",
              " 'exec',\n",
              " 'execfile',\n",
              " 'filter',\n",
              " 'float',\n",
              " 'format',\n",
              " 'frozenset',\n",
              " 'get_ipython',\n",
              " 'getattr',\n",
              " 'globals',\n",
              " 'hasattr',\n",
              " 'hash',\n",
              " 'help',\n",
              " 'hex',\n",
              " 'id',\n",
              " 'input',\n",
              " 'int',\n",
              " 'isinstance',\n",
              " 'issubclass',\n",
              " 'iter',\n",
              " 'len',\n",
              " 'license',\n",
              " 'list',\n",
              " 'locals',\n",
              " 'map',\n",
              " 'max',\n",
              " 'memoryview',\n",
              " 'min',\n",
              " 'next',\n",
              " 'object',\n",
              " 'oct',\n",
              " 'open',\n",
              " 'ord',\n",
              " 'pow',\n",
              " 'print',\n",
              " 'property',\n",
              " 'range',\n",
              " 'repr',\n",
              " 'reversed',\n",
              " 'round',\n",
              " 'runfile',\n",
              " 'set',\n",
              " 'setattr',\n",
              " 'slice',\n",
              " 'sorted',\n",
              " 'staticmethod',\n",
              " 'str',\n",
              " 'sum',\n",
              " 'super',\n",
              " 'tuple',\n",
              " 'type',\n",
              " 'vars',\n",
              " 'zip']"
            ]
          },
          "metadata": {},
          "execution_count": 2
        }
      ]
    },
    {
      "cell_type": "code",
      "metadata": {
        "id": "mQMTcryD9lGs",
        "colab": {
          "base_uri": "https://localhost:8080/"
        },
        "outputId": "ebf44e44-9cc6-473c-8252-9dd0cd13533c"
      },
      "source": [
        "def power(p):\n",
        "    def inner(n):\n",
        "        return n**p\n",
        "    return inner\n",
        "\n",
        "sq = power(2)\n",
        "cb = power(3)\n",
        "\n",
        "print(sq(5))\n",
        "print(cb(5))"
      ],
      "execution_count": null,
      "outputs": [
        {
          "output_type": "stream",
          "name": "stdout",
          "text": [
            "25\n",
            "125\n"
          ]
        }
      ]
    },
    {
      "cell_type": "code",
      "metadata": {
        "id": "NgrC-Jt39lEV",
        "colab": {
          "base_uri": "https://localhost:8080/"
        },
        "outputId": "9902015e-4a6d-407b-987f-20d691a739a3"
      },
      "source": [
        "#Enclosing - In nested function, 'nonlocal' can be used to change a variable like 'global'\n",
        "\n",
        "def outer():\n",
        "    x = 1\n",
        "\n",
        "    def inner():\n",
        "        nonlocal x\n",
        "        x = 5\n",
        "        print(x)\n",
        "    \n",
        "    inner()\n",
        "    print(x)\n",
        "\n",
        "outer()"
      ],
      "execution_count": null,
      "outputs": [
        {
          "output_type": "stream",
          "name": "stdout",
          "text": [
            "5\n",
            "5\n"
          ]
        }
      ]
    },
    {
      "cell_type": "code",
      "metadata": {
        "id": "hvQ4HHyH9lCZ",
        "colab": {
          "base_uri": "https://localhost:8080/"
        },
        "outputId": "93616d57-5e6e-4f60-d283-2b685dce25f0"
      },
      "source": [
        "#Flexible functions\n",
        "# *args - argument\n",
        "\n",
        "def adding(*args):\n",
        "    ad = 0\n",
        "\n",
        "    for i in args:\n",
        "        ad += i\n",
        "    return ad \n",
        "\n",
        "adding(3,4,5)"
      ],
      "execution_count": null,
      "outputs": [
        {
          "output_type": "execute_result",
          "data": {
            "text/plain": [
              "12"
            ]
          },
          "metadata": {},
          "execution_count": 6
        }
      ]
    },
    {
      "cell_type": "code",
      "metadata": {
        "id": "kWtytDew9I5K",
        "colab": {
          "base_uri": "https://localhost:8080/"
        },
        "outputId": "ad619bfb-e564-4c7f-f78e-941a9d64ac84"
      },
      "source": [
        "adding(4,3,1,6)"
      ],
      "execution_count": null,
      "outputs": [
        {
          "output_type": "execute_result",
          "data": {
            "text/plain": [
              "14"
            ]
          },
          "metadata": {},
          "execution_count": 7
        }
      ]
    },
    {
      "cell_type": "code",
      "metadata": {
        "id": "o35C9XRi9I2a",
        "colab": {
          "base_uri": "https://localhost:8080/"
        },
        "outputId": "650f3087-f7cc-4ad7-bb59-d6305a1cbf6a"
      },
      "source": [
        "# **kwargs - keyword arguments in key-value pairs\n",
        "\n",
        "def printing(**kwargs):\n",
        "\n",
        "    for k,v in kwargs.items():\n",
        "        print(k,'-',v)\n",
        "\n",
        "printing(name='abc',mobile='0000')"
      ],
      "execution_count": null,
      "outputs": [
        {
          "output_type": "stream",
          "name": "stdout",
          "text": [
            "name - abc\n",
            "mobile - 0000\n"
          ]
        }
      ]
    },
    {
      "cell_type": "code",
      "metadata": {
        "id": "k-uqtJO56s7y",
        "colab": {
          "base_uri": "https://localhost:8080/"
        },
        "outputId": "24a5688b-2550-4224-c76b-f0a7ec84396c"
      },
      "source": [
        "printing(a = 'a', b = 'b',c = 'c', d = 'd')"
      ],
      "execution_count": null,
      "outputs": [
        {
          "output_type": "stream",
          "name": "stdout",
          "text": [
            "a - a\n",
            "b - b\n",
            "c - c\n",
            "d - d\n"
          ]
        }
      ]
    },
    {
      "cell_type": "code",
      "metadata": {
        "id": "PxChRBnW6s4i",
        "outputId": "650683f5-001b-47e0-db04-3147dd0a9a12",
        "colab": {
          "base_uri": "https://localhost:8080/"
        }
      },
      "source": [
        "#Lambda function\n",
        "a = [1,2,3,4]\n",
        "list(map(lambda x: x**2,a))"
      ],
      "execution_count": 1,
      "outputs": [
        {
          "output_type": "execute_result",
          "data": {
            "text/plain": [
              "[1, 4, 9, 16]"
            ]
          },
          "metadata": {},
          "execution_count": 1
        }
      ]
    },
    {
      "cell_type": "code",
      "metadata": {
        "id": "LJYmR_-f6sw_",
        "outputId": "45f5990f-da7e-4469-a8c2-5f5fa38e5af2",
        "colab": {
          "base_uri": "https://localhost:8080/"
        }
      },
      "source": [
        "check = lambda x: x**2\n",
        "\n",
        "check(3)"
      ],
      "execution_count": 2,
      "outputs": [
        {
          "output_type": "execute_result",
          "data": {
            "text/plain": [
              "9"
            ]
          },
          "metadata": {},
          "execution_count": 2
        }
      ]
    },
    {
      "cell_type": "code",
      "metadata": {
        "id": "Zc7rxCkk9IvG",
        "outputId": "75320e69-438f-414d-a816-bbdd8588dfe6",
        "colab": {
          "base_uri": "https://localhost:8080/"
        }
      },
      "source": [
        "mul = (lambda a,b: a*b)\n",
        "\n",
        "mul(3,4)"
      ],
      "execution_count": 4,
      "outputs": [
        {
          "output_type": "execute_result",
          "data": {
            "text/plain": [
              "12"
            ]
          },
          "metadata": {},
          "execution_count": 4
        }
      ]
    },
    {
      "cell_type": "code",
      "metadata": {
        "id": "53N3BKDGMiqb",
        "outputId": "28b79689-f477-4a6f-9534-22c779e084a4",
        "colab": {
          "base_uri": "https://localhost:8080/"
        }
      },
      "source": [
        "a = [1,2,3,4,5,6,7,8,9,10]\n",
        "\n",
        "list(map(lambda x: x%2 == 0,a))  #mapping"
      ],
      "execution_count": 5,
      "outputs": [
        {
          "output_type": "execute_result",
          "data": {
            "text/plain": [
              "[False, True, False, True, False, True, False, True, False, True]"
            ]
          },
          "metadata": {},
          "execution_count": 5
        }
      ]
    },
    {
      "cell_type": "code",
      "metadata": {
        "id": "7XOPBc3YMinA",
        "outputId": "fb8f0ee1-4f6b-4295-c514-bdebc4f59f2e",
        "colab": {
          "base_uri": "https://localhost:8080/"
        }
      },
      "source": [
        "list(filter(lambda x: x%2 == 0,a))   #filtering"
      ],
      "execution_count": 6,
      "outputs": [
        {
          "output_type": "execute_result",
          "data": {
            "text/plain": [
              "[2, 4, 6, 8, 10]"
            ]
          },
          "metadata": {},
          "execution_count": 6
        }
      ]
    },
    {
      "cell_type": "code",
      "metadata": {
        "id": "I6k29YKwMikS",
        "outputId": "f52ba2dd-8a6b-4acd-cc47-66fd7697d90e",
        "colab": {
          "base_uri": "https://localhost:8080/",
          "height": 35
        }
      },
      "source": [
        "#Reduce - It returns a single value as a result\n",
        "\n",
        "from functools import reduce\n",
        "a = list('Hello, World!')\n",
        "\n",
        "reduce(lambda x,y: x+y,a)  #reducing"
      ],
      "execution_count": 7,
      "outputs": [
        {
          "output_type": "execute_result",
          "data": {
            "application/vnd.google.colaboratory.intrinsic+json": {
              "type": "string"
            },
            "text/plain": [
              "'Hello, World!'"
            ]
          },
          "metadata": {},
          "execution_count": 7
        }
      ]
    },
    {
      "cell_type": "markdown",
      "metadata": {
        "id": "JzzUEovBJfNG"
      },
      "source": [
        "A function to print ASCII value"
      ]
    },
    {
      "cell_type": "code",
      "metadata": {
        "id": "N6xCZ1ScIegk",
        "colab": {
          "base_uri": "https://localhost:8080/",
          "height": 35
        },
        "outputId": "da3e91b4-c611-407c-f9e5-a39bc9f40991"
      },
      "source": [
        "ord('a'),ord('A')"
      ],
      "execution_count": null,
      "outputs": [
        {
          "output_type": "execute_result",
          "data": {
            "text/plain": [
              "(97, 65)"
            ]
          },
          "metadata": {
            "tags": []
          },
          "execution_count": 8
        }
      ]
    },
    {
      "cell_type": "code",
      "metadata": {
        "id": "5ROAJQTWIhJF",
        "colab": {
          "base_uri": "https://localhost:8080/",
          "height": 35
        },
        "outputId": "a0ad5946-f499-4d77-ece0-eba91ee7c8ff"
      },
      "source": [
        "ord('/')"
      ],
      "execution_count": null,
      "outputs": [
        {
          "output_type": "execute_result",
          "data": {
            "text/plain": [
              "47"
            ]
          },
          "metadata": {
            "tags": []
          },
          "execution_count": 9
        }
      ]
    },
    {
      "cell_type": "code",
      "metadata": {
        "id": "cfToh47uJEM_",
        "colab": {
          "base_uri": "https://localhost:8080/",
          "height": 35
        },
        "outputId": "415e8a40-3b70-4e05-c971-89aa7b28aec8"
      },
      "source": [
        "ord('\\n')"
      ],
      "execution_count": null,
      "outputs": [
        {
          "output_type": "execute_result",
          "data": {
            "text/plain": [
              "10"
            ]
          },
          "metadata": {
            "tags": []
          },
          "execution_count": 1
        }
      ]
    },
    {
      "cell_type": "code",
      "metadata": {
        "id": "g3PEIRnQrN7R"
      },
      "source": [
        ""
      ],
      "execution_count": null,
      "outputs": []
    }
  ]
}
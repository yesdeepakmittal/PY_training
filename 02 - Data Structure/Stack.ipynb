{
 "cells": [
  {
   "cell_type": "code",
   "execution_count": 2,
   "metadata": {},
   "outputs": [
    {
     "name": "stdout",
     "output_type": "stream",
     "text": [
      "Hello\n",
      "world\n",
      "['Hello', 'world']\n"
     ]
    }
   ],
   "source": [
    "class Stack:\n",
    "\tdef __init__(self):\n",
    "\t\tself.stack = []\n",
    "\t\n",
    "\tdef push(self,element):\n",
    "\t\tself.stack.append(element)\n",
    "\t\n",
    "\tdef pop(self):\n",
    "\t\tif len(self.stack) > 0:\n",
    "\t\t\tself.stack.pop()\n",
    "\t\n",
    "\tdef peek(self):\n",
    "\t\tif len(self.stack) > 0:\n",
    "\t\t\treturn self.stack[-1]\n",
    "\t\n",
    "\tdef get_stack(self):\n",
    "\t\treturn self.stack\n",
    "\n",
    "stack = Stack()\n",
    "stack.push('Hello')\n",
    "print(stack.peek())\n",
    "stack.push('world')\n",
    "print(stack.peek())\n",
    "print(stack.get_stack())"
   ]
  },
  {
   "cell_type": "code",
   "execution_count": null,
   "metadata": {},
   "outputs": [],
   "source": []
  }
 ],
 "metadata": {
  "interpreter": {
   "hash": "108ef16d1ee03905dfbafe44d5b3e610a1f1579a68c7f1fd06ea7e2b83fc5f3b"
  },
  "kernelspec": {
   "display_name": "Python 3.9.6 64-bit",
   "language": "python",
   "name": "python3"
  },
  "language_info": {
   "codemirror_mode": {
    "name": "ipython",
    "version": 3
   },
   "file_extension": ".py",
   "mimetype": "text/x-python",
   "name": "python",
   "nbconvert_exporter": "python",
   "pygments_lexer": "ipython3",
   "version": "3.9.6"
  },
  "orig_nbformat": 4
 },
 "nbformat": 4,
 "nbformat_minor": 2
}

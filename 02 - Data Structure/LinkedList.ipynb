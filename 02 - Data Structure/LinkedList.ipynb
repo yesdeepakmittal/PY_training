{
 "cells": [
  {
   "cell_type": "markdown",
   "metadata": {},
   "source": [
    "### Linked List\n",
    "- Singly LL\n",
    "- Doubly LL\n",
    "- Circular LL\n",
    "\n",
    "|           |Array      |LL         |\n",
    "|-----------|-----------|-----------|\n",
    "|TC for inserting element at the beginning|*O(N)*|*O(1)*|\n",
    "|TC for searching an element|*O(1)*|*O(N)*|\n",
    "|Memory Allocation|*Contiguous*|*Non-Contiguous*|"
   ]
  },
  {
   "cell_type": "code",
   "execution_count": 1,
   "metadata": {},
   "outputs": [
    {
     "name": "stdout",
     "output_type": "stream",
     "text": [
      "<__main__.Node object at 0x000001E785FA8E80>\n",
      "<__main__.Node object at 0x000001E785FA8BB0>\n"
     ]
    }
   ],
   "source": [
    "class Node:\n",
    "    def __init__(self,data):\n",
    "        self.data = data\n",
    "        self.next = None\n",
    "        self.prev = None\n",
    "    \n",
    "    # def __repr__(self):\n",
    "    #     return str(self.data)\n",
    "\n",
    "head = Node(0)\n",
    "head.next = Node(1)\n",
    "print(head)\n",
    "print(head.next)"
   ]
  },
  {
   "cell_type": "code",
   "execution_count": 3,
   "metadata": {},
   "outputs": [
    {
     "name": "stdout",
     "output_type": "stream",
     "text": [
      "0\n",
      "1\n"
     ]
    }
   ],
   "source": [
    "class Node:\n",
    "    def __init__(self,data):\n",
    "        self.data = data\n",
    "        self.next = None\n",
    "        self.prev = None\n",
    "    \n",
    "    def __repr__(self):\n",
    "        return str(self.data)\n",
    "\n",
    "head = Node(0)\n",
    "head.next = Node(1)\n",
    "print(head)\n",
    "print(head.next)"
   ]
  },
  {
   "cell_type": "code",
   "execution_count": 66,
   "metadata": {},
   "outputs": [
    {
     "data": {
      "text/plain": [
       "4"
      ]
     },
     "execution_count": 66,
     "metadata": {},
     "output_type": "execute_result"
    }
   ],
   "source": [
    "head = Node(4)\n",
    "head"
   ]
  },
  {
   "cell_type": "code",
   "execution_count": 67,
   "metadata": {},
   "outputs": [
    {
     "data": {
      "text/plain": [
       "4"
      ]
     },
     "execution_count": 67,
     "metadata": {},
     "output_type": "execute_result"
    }
   ],
   "source": [
    "head.next = 9\n",
    "head"
   ]
  },
  {
   "cell_type": "code",
   "execution_count": 68,
   "metadata": {},
   "outputs": [],
   "source": [
    "head.next = Node(3)"
   ]
  },
  {
   "cell_type": "code",
   "execution_count": 63,
   "metadata": {},
   "outputs": [],
   "source": [
    "head.next.next = Node(3)"
   ]
  },
  {
   "cell_type": "code",
   "execution_count": 40,
   "metadata": {},
   "outputs": [],
   "source": [
    "head.next.next.next = Node(3)"
   ]
  },
  {
   "cell_type": "code",
   "execution_count": 59,
   "metadata": {},
   "outputs": [],
   "source": [
    "head.next.next.next.next.next = Node(7)"
   ]
  },
  {
   "cell_type": "code",
   "execution_count": 70,
   "metadata": {},
   "outputs": [],
   "source": [
    "a = Node(1)\n",
    "a.next = Node(2)\n",
    "a.next.next = Node(3)\n",
    "a.next.next.next = Node(4)"
   ]
  },
  {
   "cell_type": "code",
   "execution_count": 71,
   "metadata": {},
   "outputs": [
    {
     "data": {
      "text/plain": [
       "2"
      ]
     },
     "execution_count": 71,
     "metadata": {},
     "output_type": "execute_result"
    }
   ],
   "source": [
    "b = a.next\n",
    "b"
   ]
  },
  {
   "cell_type": "code",
   "execution_count": 72,
   "metadata": {},
   "outputs": [
    {
     "data": {
      "text/plain": [
       "3"
      ]
     },
     "execution_count": 72,
     "metadata": {},
     "output_type": "execute_result"
    }
   ],
   "source": [
    "c = b.next\n",
    "c"
   ]
  },
  {
   "cell_type": "code",
   "execution_count": 73,
   "metadata": {},
   "outputs": [
    {
     "data": {
      "text/plain": [
       "True"
      ]
     },
     "execution_count": 73,
     "metadata": {},
     "output_type": "execute_result"
    }
   ],
   "source": [
    "a.next.next == b.next"
   ]
  },
  {
   "cell_type": "code",
   "execution_count": 75,
   "metadata": {},
   "outputs": [
    {
     "data": {
      "text/plain": [
       "4"
      ]
     },
     "execution_count": 75,
     "metadata": {},
     "output_type": "execute_result"
    }
   ],
   "source": [
    "d = b.next.next\n",
    "d"
   ]
  },
  {
   "cell_type": "code",
   "execution_count": 76,
   "metadata": {},
   "outputs": [],
   "source": [
    "d.next    #None"
   ]
  },
  {
   "cell_type": "markdown",
   "metadata": {},
   "source": [
    "## Adding a node in LL"
   ]
  },
  {
   "cell_type": "code",
   "execution_count": 3,
   "metadata": {},
   "outputs": [
    {
     "name": "stdout",
     "output_type": "stream",
     "text": [
      "1 2 3 4 5 6 \n",
      "start 1 2 3 mid 4 5 6 end "
     ]
    },
    {
     "data": {
      "text/plain": [
       "9"
      ]
     },
     "execution_count": 3,
     "metadata": {},
     "output_type": "execute_result"
    }
   ],
   "source": [
    "class Node:\n",
    "    def __init__(self,data):\n",
    "        self.data = data\n",
    "        self.next = None\n",
    "        self.prev = None\n",
    "        \n",
    "    def __repr__(self) -> str:\n",
    "        return str(self.data)\n",
    "    \n",
    "class LL:\n",
    "    def __init__(self) -> None:\n",
    "        self.head = None\n",
    "\n",
    "    def addNodeStart(self,data):\n",
    "        '''\n",
    "        Adding a node at the front of LL\n",
    "        TC - O(1)\n",
    "        '''\n",
    "        addNode = Node(data)\n",
    "        addNode.next = self.head\n",
    "        self.head = addNode\n",
    "    \n",
    "    def addNodeAfter(self,Pnode,data):\n",
    "        '''\n",
    "        Adds Node in-between nodes\n",
    "        TC - O(1)\n",
    "        '''\n",
    "        addNode = Node(data)\n",
    "        addNode.next = Pnode.next\n",
    "        Pnode.next = addNode\n",
    "    \n",
    "    def addNodeEnd(self,data):\n",
    "        '''\n",
    "        Adds node in the end of LL\n",
    "        TC - O(N) due to traversing \n",
    "        '''\n",
    "        addNode = Node(data)\n",
    "        \n",
    "        if self.head == None:\n",
    "            self.head = addNode\n",
    "            return\n",
    "        end = self.head\n",
    "        while end.next:\n",
    "            end = end.next\n",
    "        end.next = addNode\n",
    "    \n",
    "    def printNodes(self):\n",
    "        '''\n",
    "        Prints data of all nodes\n",
    "        '''\n",
    "        var = self.head\n",
    "        while var:\n",
    "            print(var.data,end = \" \")\n",
    "            var = var.next\n",
    "\n",
    "    def size(self):\n",
    "        l = 0\n",
    "        temp = self.head\n",
    "        while temp:\n",
    "            l += 1\n",
    "            temp = temp.next\n",
    "        return l\n",
    "\n",
    "    def isPresent(self,key):\n",
    "        '''\n",
    "        It checks whether an element is present in the LL\n",
    "        '''\n",
    "        var = self.head\n",
    "        while var:\n",
    "            if var.data == key:\n",
    "                return True\n",
    "            var = var.next\n",
    "        return False\n",
    "\n",
    "ll = LL()\n",
    "ll.head = Node(1)\n",
    "b = Node(2)\n",
    "c = Node(3)\n",
    "d = Node(4)\n",
    "e = Node(5)\n",
    "f = Node(6)\n",
    "\n",
    "ll.head.next = b\n",
    "b.next = c\n",
    "c.next = d\n",
    "d.next = e\n",
    "e.next = f\n",
    "\n",
    "ll.printNodes(); print()\n",
    "\n",
    "ll.addNodeStart('start')\n",
    "ll.addNodeAfter(c,'mid')\n",
    "ll.addNodeEnd('end')\n",
    "\n",
    "ll.printNodes()\n",
    "ll.size()"
   ]
  },
  {
   "cell_type": "code",
   "execution_count": 10,
   "metadata": {},
   "outputs": [
    {
     "data": {
      "text/plain": [
       "True"
      ]
     },
     "execution_count": 10,
     "metadata": {},
     "output_type": "execute_result"
    }
   ],
   "source": [
    "ll.isPresent(5)"
   ]
  },
  {
   "cell_type": "markdown",
   "metadata": {},
   "source": [
    "## Binary Search on LL\n",
    "\n",
    "Unlike TC of array(which is O(logN)), the TC of LL for BS is O(N)"
   ]
  },
  {
   "cell_type": "code",
   "execution_count": null,
   "metadata": {},
   "outputs": [],
   "source": [
    "head = Node(1)\n",
    "head.next = Node(2)\n",
    "head.next.next = Node(3)\n",
    "head.next.next.next = Node(4)\n",
    "head.next.next.next.next = Node(5)\n",
    "head.next.next.next.next.next = Node(6)\n",
    "head.next.next.next.next.next.next = Node(7)\n",
    "head.next.next.next.next.next.next.next = Node(8)\n",
    "\n",
    "''' \n",
    "1 -> 2 -> 3 -> 4 -> 5 -> 6 -> 7 -> 8 -> None\n",
    "'''"
   ]
  },
  {
   "cell_type": "code",
   "execution_count": 129,
   "metadata": {},
   "outputs": [],
   "source": [
    "def midNode(start, end):\n",
    "    if start == None: return None\n",
    " \n",
    "    slow = start\n",
    "    fast = start.next\n",
    "    while fast != end:\n",
    "        fast = fast.next\n",
    "        if fast != end:\n",
    "            slow = slow.next\n",
    "            fast = fast.next\n",
    "         \n",
    "    return slow"
   ]
  },
  {
   "cell_type": "code",
   "execution_count": 132,
   "metadata": {},
   "outputs": [],
   "source": [
    "def binarySearch(head,target):\n",
    "    start = head\n",
    "    end = None\n",
    "\n",
    "    while start != end:\n",
    "        mid = midNode(start,end)\n",
    "\n",
    "        if mid == None:  #Element not found\n",
    "            return -1\n",
    "        \n",
    "        if mid.data < target:\n",
    "            start = mid.next\n",
    "        elif mid.data > target:\n",
    "            end = mid\n",
    "        else:\n",
    "            return mid\n",
    "    return -1"
   ]
  },
  {
   "cell_type": "code",
   "execution_count": 133,
   "metadata": {},
   "outputs": [
    {
     "name": "stdout",
     "output_type": "stream",
     "text": [
      "Found\n"
     ]
    }
   ],
   "source": [
    "ans = binarySearch(head,4)\n",
    "if ans == -1:\n",
    "    print(\"Not Found\")\n",
    "else:\n",
    "    print('Found')"
   ]
  },
  {
   "cell_type": "code",
   "execution_count": null,
   "metadata": {},
   "outputs": [],
   "source": []
  }
 ],
 "metadata": {
  "interpreter": {
   "hash": "5d3fc0c4eb10362043affec83520f5b4055cada69a658db64d30293aaaeeb5a6"
  },
  "kernelspec": {
   "display_name": "Python 3.9.6 64-bit (system)",
   "language": "python",
   "name": "python3"
  },
  "language_info": {
   "codemirror_mode": {
    "name": "ipython",
    "version": 3
   },
   "file_extension": ".py",
   "mimetype": "text/x-python",
   "name": "python",
   "nbconvert_exporter": "python",
   "pygments_lexer": "ipython3",
   "version": "3.9.6"
  },
  "orig_nbformat": 4
 },
 "nbformat": 4,
 "nbformat_minor": 2
}

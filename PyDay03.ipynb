{
  "nbformat": 4,
  "nbformat_minor": 0,
  "metadata": {
    "colab": {
      "name": "PyDay3",
      "provenance": []
    },
    "kernelspec": {
      "name": "python3",
      "display_name": "Python 3"
    }
  },
  "cells": [
    {
      "cell_type": "markdown",
      "metadata": {
        "id": "xtbcRv36qr-h"
      },
      "source": [
        "###Conditional Statement\n",
        "* if\n",
        "* if-else\n",
        "* if-elif-else\n",
        "\n",
        "###Loops and Iterations\n",
        "* for\n",
        "* while\n",
        "\n",
        "###Recursion\n",
        "* Function calling iteself\n",
        "\n",
        "###Break\n",
        "* Stop iteration\n",
        "\n",
        "###Continue\n",
        "* Stop current iteration\n",
        "\n",
        "###Pass\n",
        "* Passing for non-executable condition"
      ]
    },
    {
      "cell_type": "markdown",
      "metadata": {
        "id": "3NVVA9KQjbMA"
      },
      "source": [
        "Python is an indentation-based language and hence it is required to have a proper indentation for all the statements under the contitional statement and a loop."
      ]
    },
    {
      "cell_type": "markdown",
      "metadata": {
        "id": "O8WTWJGJhOTL"
      },
      "source": [
        "<h3>⭐if</h3>"
      ]
    },
    {
      "cell_type": "code",
      "metadata": {
        "id": "5NoJ6mx6qToe",
        "colab": {
          "base_uri": "https://localhost:8080/",
          "height": 34
        },
        "outputId": "6ef45b12-3438-4b17-ee47-b5d1f092c562"
      },
      "source": [
        "if True:\n",
        "    print(\"Hello, World!\") #carefully look at the shift of 4 whitespace"
      ],
      "execution_count": null,
      "outputs": [
        {
          "output_type": "stream",
          "text": [
            "Hello, World!\n"
          ],
          "name": "stdout"
        }
      ]
    },
    {
      "cell_type": "code",
      "metadata": {
        "id": "vSpFtlJ4rV99"
      },
      "source": [
        "if False:\n",
        "    print('Hello, World!')"
      ],
      "execution_count": null,
      "outputs": []
    },
    {
      "cell_type": "code",
      "metadata": {
        "id": "JzKDIbHvrdmj",
        "colab": {
          "base_uri": "https://localhost:8080/",
          "height": 34
        },
        "outputId": "765cae64-e9b4-4159-eb49-9785749dcb58"
      },
      "source": [
        "num = 2\n",
        "\n",
        "if num > 0:\n",
        "    print('It is possible to print')"
      ],
      "execution_count": null,
      "outputs": [
        {
          "output_type": "stream",
          "text": [
            "It is possible to print\n"
          ],
          "name": "stdout"
        }
      ]
    },
    {
      "cell_type": "code",
      "metadata": {
        "id": "_v3Wws1_rnvb",
        "colab": {
          "base_uri": "https://localhost:8080/",
          "height": 34
        },
        "outputId": "f6c89b4f-6107-42ca-8501-2c813098ff1a"
      },
      "source": [
        "if num >= 0 or num <= 3:\n",
        "    print('It is possible to print')"
      ],
      "execution_count": null,
      "outputs": [
        {
          "output_type": "stream",
          "text": [
            "It is possible to print\n"
          ],
          "name": "stdout"
        }
      ]
    },
    {
      "cell_type": "code",
      "metadata": {
        "id": "YdbYzeG_rwrS",
        "colab": {
          "base_uri": "https://localhost:8080/",
          "height": 34
        },
        "outputId": "a378b97d-716e-4a0c-a6b5-aee1c58a3008"
      },
      "source": [
        "if num >= 0 and num <= 3:\n",
        "    print('It is possible to print')"
      ],
      "execution_count": null,
      "outputs": [
        {
          "output_type": "stream",
          "text": [
            "It is possible to print\n"
          ],
          "name": "stdout"
        }
      ]
    },
    {
      "cell_type": "code",
      "metadata": {
        "id": "gHu3ZGpWr3hc",
        "colab": {
          "base_uri": "https://localhost:8080/",
          "height": 34
        },
        "outputId": "c59d09e7-19d9-4bf4-db4b-122d774ba8fa"
      },
      "source": [
        "if num >= 0 or num >= 4:\n",
        "    print('It is possible to print') "
      ],
      "execution_count": null,
      "outputs": [
        {
          "output_type": "stream",
          "text": [
            "It is possible to print\n"
          ],
          "name": "stdout"
        }
      ]
    },
    {
      "cell_type": "code",
      "metadata": {
        "id": "vntSpVMar7PK"
      },
      "source": [
        "if num >= 0 and num >= 4:\n",
        "    print('It is not possible to print')"
      ],
      "execution_count": null,
      "outputs": []
    },
    {
      "cell_type": "markdown",
      "metadata": {
        "id": "wtcOsytHhVhn"
      },
      "source": [
        "<h3>⭐if-else</h3>"
      ]
    },
    {
      "cell_type": "code",
      "metadata": {
        "id": "xgE0-l2Rr-8g",
        "colab": {
          "base_uri": "https://localhost:8080/",
          "height": 34
        },
        "outputId": "fbcf3da4-4b8e-430d-d978-bbda64542707"
      },
      "source": [
        "if False:\n",
        "    print('False statement')\n",
        "else:\n",
        "    print('True statement')"
      ],
      "execution_count": null,
      "outputs": [
        {
          "output_type": "stream",
          "text": [
            "True statement\n"
          ],
          "name": "stdout"
        }
      ]
    },
    {
      "cell_type": "code",
      "metadata": {
        "id": "EFXGb7F8sT6Q",
        "colab": {
          "base_uri": "https://localhost:8080/",
          "height": 34
        },
        "outputId": "79c21c91-96a6-4adc-d00d-3bd4dba58f59"
      },
      "source": [
        "num = 5\n",
        "if num > 6:\n",
        "    print('greater than 6')\n",
        "else:\n",
        "    print('not greater than 6')"
      ],
      "execution_count": null,
      "outputs": [
        {
          "output_type": "stream",
          "text": [
            "not greater than 6\n"
          ],
          "name": "stdout"
        }
      ]
    },
    {
      "cell_type": "code",
      "metadata": {
        "id": "zH1ea4dBshRO",
        "colab": {
          "base_uri": "https://localhost:8080/",
          "height": 34
        },
        "outputId": "bcbebe48-a7aa-48e2-cf64-8bae59e48721"
      },
      "source": [
        "if num < 6:\n",
        "    if num > 3:\n",
        "        print('smaller than 6 but greater than 3')\n",
        "    if num < 3:\n",
        "        print('smaller than 6 but not than 3')\n",
        "else:\n",
        "    print('greater than 6')"
      ],
      "execution_count": null,
      "outputs": [
        {
          "output_type": "stream",
          "text": [
            "smaller than 6 but greater than 3\n"
          ],
          "name": "stdout"
        }
      ]
    },
    {
      "cell_type": "code",
      "metadata": {
        "id": "EP9VULyds4TL",
        "colab": {
          "base_uri": "https://localhost:8080/",
          "height": 35
        },
        "outputId": "e27ed314-bba2-4dba-a746-d55c25713d4f"
      },
      "source": [
        "if num > 6:\n",
        "  if num > 3:\n",
        "    print('smaller than 6 but greater than 3')\n",
        "  if num < 3:\n",
        "    print('smaller than 6 but not than 3')\n",
        "else:\n",
        "  if num > 3:\n",
        "    print('smaller than or equal to 6 but greater than 3')"
      ],
      "execution_count": null,
      "outputs": [
        {
          "output_type": "stream",
          "text": [
            "smaller than or equal to 6 but greater than 3\n"
          ],
          "name": "stdout"
        }
      ]
    },
    {
      "cell_type": "markdown",
      "metadata": {
        "id": "lAxX39kBlAlp"
      },
      "source": [
        "<h3>⭐if-elif-else</h3>"
      ]
    },
    {
      "cell_type": "code",
      "metadata": {
        "id": "s7WXZh-7tu3i",
        "colab": {
          "base_uri": "https://localhost:8080/",
          "height": 34
        },
        "outputId": "f3d288eb-32b6-40a9-cdc1-dcbcc0b956a3"
      },
      "source": [
        "a = 60\n",
        "b = 70\n",
        "c = 80\n",
        "d = 90\n",
        "e = 95\n",
        "num = 100\n",
        "\n",
        "if num <= a:\n",
        "    print(num,'is less than equal to',a)\n",
        "elif num <= b:\n",
        "    print(num,'is less than equal to',b)\n",
        "elif num <= c:\n",
        "    print(num,'is less than equal to',c)\n",
        "elif num <= d:\n",
        "    print(num,'is less than equal to',b)\n",
        "else:\n",
        "    print('What\\'s going on...')"
      ],
      "execution_count": null,
      "outputs": [
        {
          "output_type": "stream",
          "text": [
            "What's going on...\n"
          ],
          "name": "stdout"
        }
      ]
    },
    {
      "cell_type": "code",
      "metadata": {
        "id": "OeFFjE6xumfD",
        "colab": {
          "base_uri": "https://localhost:8080/",
          "height": 34
        },
        "outputId": "3819b9c0-56f0-4739-a089-872bb09c477c"
      },
      "source": [
        "a = 10\n",
        "if a == 5:\n",
        "    print('a is equal to',a)\n",
        "elif a ==10:\n",
        "    print('a is equal to',a)\n",
        "else:\n",
        "    print('I don\\'t know')"
      ],
      "execution_count": null,
      "outputs": [
        {
          "output_type": "stream",
          "text": [
            "a is equal to 10\n"
          ],
          "name": "stdout"
        }
      ]
    },
    {
      "cell_type": "markdown",
      "metadata": {
        "id": "wr4f6P03hepz"
      },
      "source": [
        "<h3>⭐For-loop</h3>"
      ]
    },
    {
      "cell_type": "code",
      "metadata": {
        "id": "lQTewQz3vPp0",
        "colab": {
          "base_uri": "https://localhost:8080/",
          "height": 210
        },
        "outputId": "438e428e-918d-47df-fe05-41f383b0ee94"
      },
      "source": [
        "for i in range(10): #📌range() is built-in function starting from 0 to n-1\n",
        "    print(i)\n",
        "print('outside of loop')"
      ],
      "execution_count": null,
      "outputs": [
        {
          "output_type": "stream",
          "text": [
            "0\n",
            "1\n",
            "2\n",
            "3\n",
            "4\n",
            "5\n",
            "6\n",
            "7\n",
            "8\n",
            "9\n",
            "outside of loop\n"
          ],
          "name": "stdout"
        }
      ]
    },
    {
      "cell_type": "code",
      "metadata": {
        "id": "9_GJibKI0gH7",
        "colab": {
          "base_uri": "https://localhost:8080/",
          "height": 70
        },
        "outputId": "de767515-4d83-4dd5-e384-79980ce74fb9"
      },
      "source": [
        "print(range(1,10))\n",
        "print(list(range(10))) #a range object returned by range constructor is converted into a list\n",
        "print(list(range(1,10)))"
      ],
      "execution_count": null,
      "outputs": [
        {
          "output_type": "stream",
          "text": [
            "range(1, 10)\n",
            "[0, 1, 2, 3, 4, 5, 6, 7, 8, 9]\n",
            "[1, 2, 3, 4, 5, 6, 7, 8, 9]\n"
          ],
          "name": "stdout"
        }
      ]
    },
    {
      "cell_type": "code",
      "metadata": {
        "id": "yehq_brgvm1M",
        "colab": {
          "base_uri": "https://localhost:8080/",
          "height": 456
        },
        "outputId": "4be8e925-e18c-4512-ef26-63a1d3f4f9c4"
      },
      "source": [
        "for i in range(5):\n",
        "    for j in range(5):\n",
        "        print('i =',i,'j =',j)"
      ],
      "execution_count": null,
      "outputs": [
        {
          "output_type": "stream",
          "text": [
            "i = 0 j = 0\n",
            "i = 0 j = 1\n",
            "i = 0 j = 2\n",
            "i = 0 j = 3\n",
            "i = 0 j = 4\n",
            "i = 1 j = 0\n",
            "i = 1 j = 1\n",
            "i = 1 j = 2\n",
            "i = 1 j = 3\n",
            "i = 1 j = 4\n",
            "i = 2 j = 0\n",
            "i = 2 j = 1\n",
            "i = 2 j = 2\n",
            "i = 2 j = 3\n",
            "i = 2 j = 4\n",
            "i = 3 j = 0\n",
            "i = 3 j = 1\n",
            "i = 3 j = 2\n",
            "i = 3 j = 3\n",
            "i = 3 j = 4\n",
            "i = 4 j = 0\n",
            "i = 4 j = 1\n",
            "i = 4 j = 2\n",
            "i = 4 j = 3\n",
            "i = 4 j = 4\n"
          ],
          "name": "stdout"
        }
      ]
    },
    {
      "cell_type": "code",
      "metadata": {
        "id": "rK4ttomZv3Qm",
        "colab": {
          "base_uri": "https://localhost:8080/",
          "height": 193
        },
        "outputId": "f0db4c03-e765-47a7-aa27-30b8c2106aab"
      },
      "source": [
        "lis = [1,2,3,4,5,6,7,8,9,10]\n",
        "sum = 0\n",
        "\n",
        "for i in lis:\n",
        "    sum += i\n",
        "    print('Now the sum is',sum)"
      ],
      "execution_count": null,
      "outputs": [
        {
          "output_type": "stream",
          "text": [
            "Now the sum is 1\n",
            "Now the sum is 3\n",
            "Now the sum is 6\n",
            "Now the sum is 10\n",
            "Now the sum is 15\n",
            "Now the sum is 21\n",
            "Now the sum is 28\n",
            "Now the sum is 36\n",
            "Now the sum is 45\n",
            "Now the sum is 55\n"
          ],
          "name": "stdout"
        }
      ]
    },
    {
      "cell_type": "code",
      "metadata": {
        "id": "_lCJm4aNwKa5",
        "colab": {
          "base_uri": "https://localhost:8080/",
          "height": 245
        },
        "outputId": "c7f7733d-2466-4825-9053-156910fb6268"
      },
      "source": [
        "for i in 'Hello, World!':\n",
        "    print(i)"
      ],
      "execution_count": null,
      "outputs": [
        {
          "output_type": "stream",
          "text": [
            "H\n",
            "e\n",
            "l\n",
            "l\n",
            "o\n",
            ",\n",
            " \n",
            "W\n",
            "o\n",
            "r\n",
            "l\n",
            "d\n",
            "!\n"
          ],
          "name": "stdout"
        }
      ]
    },
    {
      "cell_type": "code",
      "metadata": {
        "id": "dFC3rH_1waSj",
        "colab": {
          "base_uri": "https://localhost:8080/",
          "height": 140
        },
        "outputId": "a99fd3db-3904-4171-de3f-a34a23f0b8f9"
      },
      "source": [
        "for i in [1,2.3, '4',[12,34],(1,23,4),{1,23,4},{'1':'one'}]:\n",
        "    print('Datatype of',i,'is',type(i))"
      ],
      "execution_count": null,
      "outputs": [
        {
          "output_type": "stream",
          "text": [
            "Datatype of 1 is <class 'int'>\n",
            "Datatype of 2.3 is <class 'float'>\n",
            "Datatype of 4 is <class 'str'>\n",
            "Datatype of [12, 34] is <class 'list'>\n",
            "Datatype of (1, 23, 4) is <class 'tuple'>\n",
            "Datatype of {1, 4, 23} is <class 'set'>\n",
            "Datatype of {'1': 'one'} is <class 'dict'>\n"
          ],
          "name": "stdout"
        }
      ]
    },
    {
      "cell_type": "markdown",
      "metadata": {
        "id": "2x6awSN9lcmE"
      },
      "source": [
        "<h3>⭐While-loop</h3>\n",
        "Executes until a condition is True"
      ]
    },
    {
      "cell_type": "code",
      "metadata": {
        "id": "36fo0MylwuoJ",
        "colab": {
          "base_uri": "https://localhost:8080/",
          "height": 122
        },
        "outputId": "1260fc6d-f456-4ff8-bc17-8138af6592c6"
      },
      "source": [
        "n = 32\n",
        "while n <= 37:\n",
        "  print('Executed because value of n is',n,'which is <= 37')\n",
        "  n += 1"
      ],
      "execution_count": null,
      "outputs": [
        {
          "output_type": "stream",
          "text": [
            "Executed because value of n is 32 which is <= 37\n",
            "Executed because value of n is 33 which is <= 37\n",
            "Executed because value of n is 34 which is <= 37\n",
            "Executed because value of n is 35 which is <= 37\n",
            "Executed because value of n is 36 which is <= 37\n",
            "Executed because value of n is 37 which is <= 37\n"
          ],
          "name": "stdout"
        }
      ]
    },
    {
      "cell_type": "code",
      "metadata": {
        "id": "IHtzU5DmmAN4",
        "colab": {
          "base_uri": "https://localhost:8080/",
          "height": 122
        },
        "outputId": "ef3a3000-6f97-4321-e9bd-786df4d1be32"
      },
      "source": [
        "temp = True\n",
        "i = 1\n",
        "while temp:\n",
        "    print('Hey, I\\'m inside the while loop')\n",
        "    if i == 5:\n",
        "        temp = False\n",
        "        print('Now, temp became False and I have to come out of while loop')\n",
        "    i += 1"
      ],
      "execution_count": null,
      "outputs": [
        {
          "output_type": "stream",
          "text": [
            "Hey, I'm inside the while loop\n",
            "Hey, I'm inside the while loop\n",
            "Hey, I'm inside the while loop\n",
            "Hey, I'm inside the while loop\n",
            "Hey, I'm inside the while loop\n",
            "Now, temp became False and I have to come out of while loop\n"
          ],
          "name": "stdout"
        }
      ]
    },
    {
      "cell_type": "markdown",
      "metadata": {
        "id": "GOZfXZBHmtQR"
      },
      "source": [
        "<h3>⭐Recursion</h3>\n",
        "In recursion, a function calls itself. "
      ]
    },
    {
      "cell_type": "code",
      "metadata": {
        "id": "QDIFjSctMLKR",
        "colab": {
          "base_uri": "https://localhost:8080/",
          "height": 34
        },
        "outputId": "321682db-8d3f-4695-9afa-f2b71619608e"
      },
      "source": [
        "# Sum of numbers\n",
        "def sum_temp(n):\n",
        "  if n == 1: #base condition\n",
        "    return 1\n",
        "  return n + sum_temp(n-1) # 3 + 2 + 1 = 6\n",
        "sum_temp(3)"
      ],
      "execution_count": null,
      "outputs": [
        {
          "output_type": "execute_result",
          "data": {
            "text/plain": [
              "6"
            ]
          },
          "metadata": {
            "tags": []
          },
          "execution_count": 25
        }
      ]
    },
    {
      "cell_type": "code",
      "metadata": {
        "id": "FYNqdMnQMwPc",
        "colab": {
          "base_uri": "https://localhost:8080/",
          "height": 34
        },
        "outputId": "c636ddbd-ac68-47c7-c7dc-50d34dbdb5c9"
      },
      "source": [
        "# Factorial\n",
        "def fact(n):\n",
        "  if n == 0:\n",
        "    return 1\n",
        "  return n*fact(n-1)\n",
        "fact(3)"
      ],
      "execution_count": null,
      "outputs": [
        {
          "output_type": "execute_result",
          "data": {
            "text/plain": [
              "6"
            ]
          },
          "metadata": {
            "tags": []
          },
          "execution_count": 26
        }
      ]
    },
    {
      "cell_type": "markdown",
      "metadata": {
        "id": "neOea1SHz-e1"
      },
      "source": [
        "<h3>⭐Break</h3>\n",
        "    ...stopping iteration"
      ]
    },
    {
      "cell_type": "code",
      "metadata": {
        "id": "ZwugqrYG0LzC",
        "colab": {
          "base_uri": "https://localhost:8080/",
          "height": 140
        },
        "outputId": "e70862e0-e94b-4ff1-c953-bd6eacff2916"
      },
      "source": [
        "for i in range(10):\n",
        "    print('The value of i is',i)\n",
        "    if i == 5:\n",
        "        print('Breaking because i is',5)\n",
        "        break #No execution for 6,7,8,9"
      ],
      "execution_count": null,
      "outputs": [
        {
          "output_type": "stream",
          "text": [
            "The value of i is 0\n",
            "The value of i is 1\n",
            "The value of i is 2\n",
            "The value of i is 3\n",
            "The value of i is 4\n",
            "The value of i is 5\n",
            "Breaking because i is 5\n"
          ],
          "name": "stdout"
        }
      ]
    },
    {
      "cell_type": "markdown",
      "metadata": {
        "id": "sDf2Mf832JwE"
      },
      "source": [
        "<h3>⭐Continue</h3>\n",
        "...stopping current iteration"
      ]
    },
    {
      "cell_type": "code",
      "metadata": {
        "id": "hPvlRgcU16Rq",
        "colab": {
          "base_uri": "https://localhost:8080/",
          "height": 122
        },
        "outputId": "833d3829-9f5f-403a-feb6-4f8ba23508bd"
      },
      "source": [
        "for i in range(10):\n",
        "    if i>5:\n",
        "        continue\n",
        "    else:\n",
        "        print('still running')"
      ],
      "execution_count": null,
      "outputs": [
        {
          "output_type": "stream",
          "text": [
            "still running\n",
            "still running\n",
            "still running\n",
            "still running\n",
            "still running\n",
            "still running\n"
          ],
          "name": "stdout"
        }
      ]
    },
    {
      "cell_type": "markdown",
      "metadata": {
        "id": "1xTxlONI2krc"
      },
      "source": [
        "<h3>⭐Pass</h3>\n",
        "Useful if we will write some code inside a block but not now"
      ]
    },
    {
      "cell_type": "code",
      "metadata": {
        "id": "Mp8UhP8U2cfz"
      },
      "source": [
        "for i in range(10):\n",
        "    pass"
      ],
      "execution_count": null,
      "outputs": []
    }
  ]
}
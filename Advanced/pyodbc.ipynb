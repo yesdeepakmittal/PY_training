{
 "cells": [
  {
   "cell_type": "code",
   "execution_count": null,
   "metadata": {},
   "outputs": [],
   "source": [
    "import pyodbc \n",
    "# Some other example server values are\n",
    "# server = 'localhost\\sqlexpress' # for a named instance\n",
    "# server = 'myserver,port' # to specify an alternate port\n",
    "server = '000.000.000.000'\n",
    "database = 'database_name' \n",
    "username = '' \n",
    "password = '' \n",
    "cnxn = pyodbc.connect('DRIVER={ODBC Driver 17 for SQL Server};SERVER='+server+';DATABASE='+database+';UID='+username+';PWD='+ password)\n",
    "cursor = cnxn.cursor()\n",
    "\n",
    "# for i in cursor.execute(\"SELECT * FROM Table_Name\"): print(i)\n",
    "\n",
    "\n",
    "for i in range(1,100):\n",
    "    cursor.execute(\"INSERT INTO SERIAL_NUM(COUNT) VALUES(\\'\" + str(i) + '\\');')\n",
    "    cursor.commit()\n",
    "\n",
    "\n",
    "# print(cursor.execute('select * from SERIAL_NUM').fetchall())\n",
    "cnxn.close()"
   ]
  }
 ],
 "metadata": {
  "language_info": {
   "name": "python"
  },
  "orig_nbformat": 4
 },
 "nbformat": 4,
 "nbformat_minor": 2
}

{
  "cells": [
    {
      "cell_type": "markdown",
      "metadata": {
        "id": "view-in-github",
        "colab_type": "text"
      },
      "source": [
        "<a href=\"https://colab.research.google.com/github/yesdeepakmittal/pytraining/blob/master/01%20-%20Basics/02-DataType.ipynb\" target=\"_parent\"><img src=\"https://colab.research.google.com/assets/colab-badge.svg\" alt=\"Open In Colab\"/></a>"
      ]
    },
    {
      "cell_type": "markdown",
      "metadata": {
        "id": "6i4elgD4K6gP"
      },
      "source": [
        "## Python Datatypes"
      ]
    },
    {
      "cell_type": "markdown",
      "metadata": {
        "id": "VCooas6TK_SZ"
      },
      "source": [
        "* **Numeric**\n",
        "    * **Integer**: Negative, zero, and positive number without decimal part Ex. ...-2,-1,0,1,2...\n",
        "    * **Float**: Decimal point numbers ...-2.1,-1.5,0.7,1.2,3.4...\n",
        "    * **Complex**: Number having both  *real number* and *imaginary number* $\\sqrt{-1}$ Ex. 1+$\\sqrt{-2}$"
      ]
    },
    {
      "cell_type": "markdown",
      "metadata": {
        "id": "HQRZIOmZXUVR"
      },
      "source": [
        "<h3>⭐Integer</h3>"
      ]
    },
    {
      "cell_type": "markdown",
      "metadata": {
        "id": "gPGpVLx-FliS"
      },
      "source": [
        "Integral type is choosen by Py itself based on the magnitude. "
      ]
    },
    {
      "cell_type": "code",
      "execution_count": null,
      "metadata": {
        "colab": {
          "base_uri": "https://localhost:8080/"
        },
        "id": "j4XxVts9Gy6i",
        "outputId": "7c0d8585-a66e-48fe-cacc-1454bb5f0316"
      },
      "outputs": [
        {
          "data": {
            "text/plain": [
              "0"
            ]
          },
          "execution_count": 13,
          "metadata": {
            "tags": []
          },
          "output_type": "execute_result"
        }
      ],
      "source": [
        "int() #default int() returns 0"
      ]
    },
    {
      "cell_type": "code",
      "execution_count": null,
      "metadata": {
        "colab": {
          "base_uri": "https://localhost:8080/",
          "height": 106
        },
        "id": "y_dJUBXNHeG8",
        "outputId": "07b3f541-e7dd-434d-9883-116a3f635544"
      },
      "outputs": [
        {
          "name": "stdout",
          "output_type": "stream",
          "text": [
            "10 -100\n",
            "20\n",
            "<class 'int'>\n",
            "<class 'int'>\n",
            "<class 'int'>\n"
          ]
        }
      ],
      "source": [
        "a = 10  \n",
        "b = -100\n",
        "c = 0x14 #Octal\n",
        "print(a,b)\n",
        "print(c)  #Decimal\n",
        "print(type(a))  #📌type() is an inbuilt function\n",
        "print(type(b))\n",
        "print(type(c)) "
      ]
    },
    {
      "cell_type": "code",
      "execution_count": null,
      "metadata": {
        "colab": {
          "base_uri": "https://localhost:8080/",
          "height": 35
        },
        "id": "hdSs86EXGLvu",
        "outputId": "174f815f-523f-4933-bfe9-f87f7e802617"
      },
      "outputs": [
        {
          "data": {
            "application/vnd.google.colaboratory.intrinsic+json": {
              "type": "string"
            },
            "text/plain": [
              "'0b1010'"
            ]
          },
          "execution_count": 7,
          "metadata": {
            "tags": []
          },
          "output_type": "execute_result"
        }
      ],
      "source": [
        "a = 10\n",
        "bin(a)"
      ]
    },
    {
      "cell_type": "code",
      "execution_count": null,
      "metadata": {
        "colab": {
          "base_uri": "https://localhost:8080/"
        },
        "id": "u5Sjgb5DF8--",
        "outputId": "09ec6d30-9a0b-4d94-c743-c9be3c07f3bb"
      },
      "outputs": [
        {
          "name": "stdout",
          "output_type": "stream",
          "text": [
            "Binary to integer representation 10\n"
          ]
        }
      ],
      "source": [
        "print('Binary to integer representation',0b1010)"
      ]
    },
    {
      "cell_type": "code",
      "execution_count": null,
      "metadata": {
        "colab": {
          "base_uri": "https://localhost:8080/",
          "height": 35
        },
        "id": "m7wS78JDGbYS",
        "outputId": "23849b7a-ddf9-4e1a-a6ba-4d3d5a79bc11"
      },
      "outputs": [
        {
          "data": {
            "application/vnd.google.colaboratory.intrinsic+json": {
              "type": "string"
            },
            "text/plain": [
              "'0xa'"
            ]
          },
          "execution_count": 9,
          "metadata": {
            "tags": []
          },
          "output_type": "execute_result"
        }
      ],
      "source": [
        "hex(10)"
      ]
    },
    {
      "cell_type": "code",
      "execution_count": null,
      "metadata": {
        "colab": {
          "base_uri": "https://localhost:8080/"
        },
        "id": "G3gLRHBQGeOs",
        "outputId": "fdc87b38-3e4d-450a-c464-4cf6174b603c"
      },
      "outputs": [
        {
          "name": "stdout",
          "output_type": "stream",
          "text": [
            "Hexadecimal to integer representation 10\n"
          ]
        }
      ],
      "source": [
        "print('Hexadecimal to integer representation',0xa)"
      ]
    },
    {
      "cell_type": "code",
      "execution_count": null,
      "metadata": {
        "colab": {
          "base_uri": "https://localhost:8080/",
          "height": 35
        },
        "id": "qlkt_0_HGeLA",
        "outputId": "57c54d41-c980-4151-c6e7-b596e319129d"
      },
      "outputs": [
        {
          "data": {
            "application/vnd.google.colaboratory.intrinsic+json": {
              "type": "string"
            },
            "text/plain": [
              "'0o12'"
            ]
          },
          "execution_count": 30,
          "metadata": {
            "tags": []
          },
          "output_type": "execute_result"
        }
      ],
      "source": [
        "oct(10)"
      ]
    },
    {
      "cell_type": "code",
      "execution_count": null,
      "metadata": {
        "colab": {
          "base_uri": "https://localhost:8080/"
        },
        "id": "hu_2YW4zGeIT",
        "outputId": "ef47eb88-c868-4ddb-9951-6419c43985a7"
      },
      "outputs": [
        {
          "name": "stdout",
          "output_type": "stream",
          "text": [
            "Hexadecimal to integer representation 10\n"
          ]
        }
      ],
      "source": [
        "print('Hexadecimal to integer representation',0o12)"
      ]
    },
    {
      "cell_type": "code",
      "execution_count": null,
      "metadata": {
        "colab": {
          "base_uri": "https://localhost:8080/",
          "height": 88
        },
        "id": "-jvrja1TZw2n",
        "outputId": "4d7e7940-469e-40e0-c97b-161f3587ad4c"
      },
      "outputs": [
        {
          "name": "stdout",
          "output_type": "stream",
          "text": [
            "27 in decimal\n",
            "1b in hexadecimal\n",
            "11011 in binary\n",
            "33 in octal\n"
          ]
        }
      ],
      "source": [
        "a = 27\n",
        "print('{} in decimal'.format(int(a)))\n",
        "print('{} in hexadecimal'.format(hex(a)[2:]))\n",
        "print('{} in binary'.format(bin(a)[2:]))\n",
        "print('{} in octal'.format(oct(a)[2:]))"
      ]
    },
    {
      "cell_type": "code",
      "execution_count": null,
      "metadata": {
        "colab": {
          "base_uri": "https://localhost:8080/",
          "height": 88
        },
        "id": "eZWOSzvTbAg-",
        "outputId": "2f2092d5-2496-4a5c-8468-b2199b042d58"
      },
      "outputs": [
        {
          "name": "stdout",
          "output_type": "stream",
          "text": [
            "111 in decimal form to decimal: 111\n",
            "1b in hexadecimal form to decimal: 27\n",
            "33 in octal form to decimal: 27\n",
            "11011 in binary form to decimal: 27\n"
          ]
        }
      ],
      "source": [
        "print('{} in decimal form to decimal: {}'.format('111',int('111',10)))\n",
        "print('{} in hexadecimal form to decimal: {}'.format('1b',int('1b',16)))\n",
        "print('{} in octal form to decimal: {}'.format('33',int('33',8)))\n",
        "print('{} in binary form to decimal: {}'.format('11011',int('11011',2)))"
      ]
    },
    {
      "cell_type": "code",
      "execution_count": null,
      "metadata": {
        "colab": {
          "base_uri": "https://localhost:8080/"
        },
        "id": "fPzYfB3WHAMX",
        "outputId": "7e522071-f867-48c0-b99d-fb7b1ec6bcda"
      },
      "outputs": [
        {
          "name": "stdout",
          "output_type": "stream",
          "text": [
            "a in integer form 4\n",
            "b in integer form -4\n",
            "c in integer form 44\n"
          ]
        }
      ],
      "source": [
        "a = 4.12\n",
        "b = -4.99\n",
        "c = '44'\n",
        "print('a in integer form',int(a))\n",
        "print('b in integer form',int(b))\n",
        "print('c in integer form',int(c))"
      ]
    },
    {
      "cell_type": "code",
      "execution_count": null,
      "metadata": {
        "colab": {
          "base_uri": "https://localhost:8080/"
        },
        "id": "IBkucbvkIUHG",
        "outputId": "64e0659e-d6d8-4425-9838-481563b411af"
      },
      "outputs": [
        {
          "data": {
            "text/plain": [
              "57"
            ]
          },
          "execution_count": 19,
          "metadata": {
            "tags": []
          },
          "output_type": "execute_result"
        }
      ],
      "source": [
        "int('111001',2) #change default base to your desired base"
      ]
    },
    {
      "cell_type": "code",
      "execution_count": null,
      "metadata": {
        "colab": {
          "base_uri": "https://localhost:8080/"
        },
        "id": "uuDiFQ-1Ivsu",
        "outputId": "a3a9a3b4-3e39-42f7-eea1-ec0151b47cec"
      },
      "outputs": [
        {
          "data": {
            "text/plain": [
              "3876"
            ]
          },
          "execution_count": 21,
          "metadata": {
            "tags": []
          },
          "output_type": "execute_result"
        }
      ],
      "source": [
        "int('111001',5)"
      ]
    },
    {
      "cell_type": "code",
      "execution_count": null,
      "metadata": {
        "colab": {
          "base_uri": "https://localhost:8080/"
        },
        "id": "17lppyy5JR_k",
        "outputId": "d1b9eb1a-0477-4870-a74e-c6d76e7b8c71"
      },
      "outputs": [
        {
          "data": {
            "text/plain": [
              "True"
            ]
          },
          "execution_count": 28,
          "metadata": {
            "tags": []
          },
          "output_type": "execute_result"
        }
      ],
      "source": [
        "a = 10\n",
        "isinstance(a,int)"
      ]
    },
    {
      "cell_type": "code",
      "execution_count": null,
      "metadata": {
        "colab": {
          "base_uri": "https://localhost:8080/"
        },
        "id": "GBC0QBGIJ1r0",
        "outputId": "6650291a-2605-413d-d947-b8ef977a2ce7"
      },
      "outputs": [
        {
          "data": {
            "text/plain": [
              "int"
            ]
          },
          "execution_count": 26,
          "metadata": {
            "tags": []
          },
          "output_type": "execute_result"
        }
      ],
      "source": [
        "type(10)"
      ]
    },
    {
      "cell_type": "code",
      "execution_count": null,
      "metadata": {
        "id": "Uamis69cR64v",
        "outputId": "794d7c78-d38b-45a0-9f43-9dabcc851249"
      },
      "outputs": [
        {
          "data": {
            "text/plain": [
              "0"
            ]
          },
          "execution_count": 3,
          "metadata": {},
          "output_type": "execute_result"
        }
      ],
      "source": [
        "int()"
      ]
    },
    {
      "cell_type": "code",
      "execution_count": null,
      "metadata": {
        "id": "iNjK2IPuR64v",
        "outputId": "87aa1861-c20b-4639-e17b-e611cf450bb6"
      },
      "outputs": [
        {
          "data": {
            "text/plain": [
              "0.0"
            ]
          },
          "execution_count": 4,
          "metadata": {},
          "output_type": "execute_result"
        }
      ],
      "source": [
        "float()"
      ]
    },
    {
      "cell_type": "code",
      "execution_count": null,
      "metadata": {
        "id": "BB-kbc8TR64v",
        "outputId": "0bb04433-c16a-4a41-98c1-a8e7a01783ec"
      },
      "outputs": [
        {
          "data": {
            "text/plain": [
              "''"
            ]
          },
          "execution_count": 5,
          "metadata": {},
          "output_type": "execute_result"
        }
      ],
      "source": [
        "str()"
      ]
    },
    {
      "cell_type": "code",
      "execution_count": null,
      "metadata": {
        "id": "Sr9RY9g6R64w",
        "outputId": "d7810c62-18e2-4499-b1b6-599eeb107b14"
      },
      "outputs": [
        {
          "data": {
            "text/plain": [
              "False"
            ]
          },
          "execution_count": 6,
          "metadata": {},
          "output_type": "execute_result"
        }
      ],
      "source": [
        "bool()"
      ]
    },
    {
      "cell_type": "code",
      "execution_count": null,
      "metadata": {
        "id": "m5n0bZ0qR64w",
        "outputId": "81889ea7-5e59-46a7-fa9d-90c6c90041ca"
      },
      "outputs": [
        {
          "data": {
            "text/plain": [
              "(2, 1)"
            ]
          },
          "execution_count": 2,
          "metadata": {},
          "output_type": "execute_result"
        }
      ],
      "source": [
        "a = 5\n",
        "b = 2\n",
        "\n",
        "# Calculating Dividend & % \n",
        "\n",
        "a.__divmod__(b)"
      ]
    },
    {
      "cell_type": "code",
      "execution_count": null,
      "metadata": {
        "id": "reqLCZaDR64x",
        "outputId": "af8c21a2-afbd-497c-e8ef-33ea16da5035"
      },
      "outputs": [
        {
          "data": {
            "text/plain": [
              "4"
            ]
          },
          "execution_count": 11,
          "metadata": {},
          "output_type": "execute_result"
        }
      ],
      "source": [
        "a = 3.2\n",
        "a.__ceil__()"
      ]
    },
    {
      "cell_type": "code",
      "execution_count": null,
      "metadata": {
        "id": "27AucnTkR64x",
        "outputId": "c6588efc-ba81-4431-849b-3502ae5af169"
      },
      "outputs": [
        {
          "data": {
            "text/plain": [
              "3"
            ]
          },
          "execution_count": 12,
          "metadata": {},
          "output_type": "execute_result"
        }
      ],
      "source": [
        "a.__floor__()"
      ]
    },
    {
      "cell_type": "code",
      "execution_count": null,
      "metadata": {
        "id": "lcCCklwUR64x",
        "outputId": "e09130e2-cdb0-41f7-8940-59a5e822a2a2"
      },
      "outputs": [
        {
          "data": {
            "text/plain": [
              "2"
            ]
          },
          "execution_count": 4,
          "metadata": {},
          "output_type": "execute_result"
        }
      ],
      "source": [
        "a = 5\n",
        "b = 2\n",
        "a.__floordiv__(b)"
      ]
    },
    {
      "cell_type": "code",
      "execution_count": null,
      "metadata": {
        "id": "UYYYhGF1R64x",
        "outputId": "78035345-3421-4734-eac8-5b5927a4d6b3"
      },
      "outputs": [
        {
          "data": {
            "text/plain": [
              "2.5"
            ]
          },
          "execution_count": 5,
          "metadata": {},
          "output_type": "execute_result"
        }
      ],
      "source": [
        "a.__truediv__(b)"
      ]
    },
    {
      "cell_type": "code",
      "execution_count": null,
      "metadata": {
        "id": "KInulD4vR64y",
        "outputId": "ba22d0c7-4ba0-4790-b134-fadd7749a388"
      },
      "outputs": [
        {
          "data": {
            "text/plain": [
              "True"
            ]
          },
          "execution_count": 6,
          "metadata": {},
          "output_type": "execute_result"
        }
      ],
      "source": [
        "a.__ge__(b)"
      ]
    },
    {
      "cell_type": "code",
      "execution_count": null,
      "metadata": {
        "id": "nXpi0ViKR64y",
        "outputId": "a16557b6-a78e-473f-90e7-4cdfe6dc5c94"
      },
      "outputs": [
        {
          "data": {
            "text/plain": [
              "False"
            ]
          },
          "execution_count": 7,
          "metadata": {},
          "output_type": "execute_result"
        }
      ],
      "source": [
        "a.__eq__(b)"
      ]
    },
    {
      "cell_type": "code",
      "execution_count": null,
      "metadata": {
        "id": "GwSneBAwR64z",
        "outputId": "daf6f34d-10d5-407a-e3f3-741668734fbf"
      },
      "outputs": [
        {
          "data": {
            "text/plain": [
              "False"
            ]
          },
          "execution_count": 8,
          "metadata": {},
          "output_type": "execute_result"
        }
      ],
      "source": [
        "a.__le__(b)"
      ]
    },
    {
      "cell_type": "code",
      "execution_count": null,
      "metadata": {
        "id": "3jjAqSGAR64z",
        "outputId": "967dbd0b-c19b-4b0c-91fa-252c58aee3de"
      },
      "outputs": [
        {
          "data": {
            "text/plain": [
              "True"
            ]
          },
          "execution_count": 9,
          "metadata": {},
          "output_type": "execute_result"
        }
      ],
      "source": [
        "a.__ne__(b)"
      ]
    },
    {
      "cell_type": "code",
      "execution_count": null,
      "metadata": {
        "id": "MoBACYIRR64z",
        "outputId": "5f524de9-c25a-44e8-e6c6-6a557cc49111"
      },
      "outputs": [
        {
          "data": {
            "text/plain": [
              "-5"
            ]
          },
          "execution_count": 10,
          "metadata": {},
          "output_type": "execute_result"
        }
      ],
      "source": [
        "a.__neg__()"
      ]
    },
    {
      "cell_type": "code",
      "execution_count": null,
      "metadata": {
        "id": "TAcgJYibR64z",
        "outputId": "15ffb907-3fd3-46f0-f6ec-5a73527234c0"
      },
      "outputs": [
        {
          "data": {
            "text/plain": [
              "True"
            ]
          },
          "execution_count": 11,
          "metadata": {},
          "output_type": "execute_result"
        }
      ],
      "source": [
        "a.__bool__()"
      ]
    },
    {
      "cell_type": "code",
      "execution_count": null,
      "metadata": {
        "id": "RPtC8sh8R64z",
        "outputId": "979b3630-ff7a-450a-bfcd-0655fbf86763"
      },
      "outputs": [
        {
          "data": {
            "text/plain": [
              "False"
            ]
          },
          "execution_count": 12,
          "metadata": {},
          "output_type": "execute_result"
        }
      ],
      "source": [
        "zero = 0\n",
        "zero.__bool__()"
      ]
    },
    {
      "cell_type": "code",
      "execution_count": null,
      "metadata": {
        "id": "8NkPW3B9R640",
        "outputId": "25cf9ad6-f528-4242-82aa-4f5e9b4158d4"
      },
      "outputs": [
        {
          "data": {
            "text/plain": [
              "2"
            ]
          },
          "execution_count": 13,
          "metadata": {},
          "output_type": "execute_result"
        }
      ],
      "source": [
        "b.__hash__()"
      ]
    },
    {
      "cell_type": "code",
      "execution_count": null,
      "metadata": {
        "id": "9eMua-WfR640",
        "outputId": "66e7712c-775e-4a26-8d5d-3029f62b4020"
      },
      "outputs": [
        {
          "data": {
            "text/plain": [
              "-6"
            ]
          },
          "execution_count": 14,
          "metadata": {},
          "output_type": "execute_result"
        }
      ],
      "source": [
        "a.__invert__()   # \"plus 1 and change sign\" - thank you Dr. Pradeep Pant(MIET) for this memorable learning"
      ]
    },
    {
      "cell_type": "code",
      "execution_count": null,
      "metadata": {
        "id": "SDvHLZMpR640",
        "outputId": "fe7ac509-1413-499f-e289-36a81afdc7a3"
      },
      "outputs": [
        {
          "data": {
            "text/plain": [
              "-6"
            ]
          },
          "execution_count": 17,
          "metadata": {},
          "output_type": "execute_result"
        }
      ],
      "source": [
        "~a"
      ]
    },
    {
      "cell_type": "code",
      "execution_count": null,
      "metadata": {
        "id": "YZZPBMM9R640",
        "outputId": "8f191c31-2d9f-4a34-98be-469bf5bac459"
      },
      "outputs": [
        {
          "data": {
            "text/plain": [
              "True"
            ]
          },
          "execution_count": 18,
          "metadata": {},
          "output_type": "execute_result"
        }
      ],
      "source": [
        "~a == a.__invert__()"
      ]
    },
    {
      "cell_type": "code",
      "execution_count": null,
      "metadata": {
        "id": "igHtBXAHR640",
        "outputId": "6879c00d-a4b1-4051-fc19-a19e70826060"
      },
      "outputs": [
        {
          "data": {
            "text/plain": [
              "5"
            ]
          },
          "execution_count": 19,
          "metadata": {},
          "output_type": "execute_result"
        }
      ],
      "source": [
        "a.__invert__().__invert__()"
      ]
    },
    {
      "cell_type": "code",
      "execution_count": null,
      "metadata": {
        "id": "_Ose0vpvR640",
        "outputId": "e7915531-3d24-4582-c067-f0510b0c8e4c"
      },
      "outputs": [
        {
          "data": {
            "text/plain": [
              "10"
            ]
          },
          "execution_count": 39,
          "metadata": {},
          "output_type": "execute_result"
        }
      ],
      "source": [
        "a.__lshift__(1)   # Multiplying by 2"
      ]
    },
    {
      "cell_type": "code",
      "execution_count": null,
      "metadata": {
        "id": "Uv9La9y0R641",
        "outputId": "66b234fd-2eed-4bd6-81f9-e3f8ce5756b7"
      },
      "outputs": [
        {
          "data": {
            "text/plain": [
              "2"
            ]
          },
          "execution_count": 40,
          "metadata": {},
          "output_type": "execute_result"
        }
      ],
      "source": [
        "a.__rshift__(1)"
      ]
    },
    {
      "cell_type": "code",
      "execution_count": null,
      "metadata": {
        "id": "vfPwaC-ZR641",
        "outputId": "d1b8e2d5-9061-4737-d9f7-23092340a83b"
      },
      "outputs": [
        {
          "data": {
            "text/plain": [
              "1"
            ]
          },
          "execution_count": 58,
          "metadata": {},
          "output_type": "execute_result"
        }
      ],
      "source": [
        "a.__mod__(2)"
      ]
    },
    {
      "cell_type": "code",
      "execution_count": null,
      "metadata": {
        "id": "jkQTPFefR641",
        "outputId": "fa8b54e2-2f85-4ed7-f4b9-0902bbd48b91"
      },
      "outputs": [
        {
          "data": {
            "text/plain": [
              "15"
            ]
          },
          "execution_count": 59,
          "metadata": {},
          "output_type": "execute_result"
        }
      ],
      "source": [
        "a.__mul__(3)"
      ]
    },
    {
      "cell_type": "code",
      "execution_count": null,
      "metadata": {
        "id": "9dcVLHQuR641",
        "outputId": "defc3638-67c8-4b0a-9575-c37961c62d6d"
      },
      "outputs": [
        {
          "data": {
            "text/plain": [
              "7"
            ]
          },
          "execution_count": 61,
          "metadata": {},
          "output_type": "execute_result"
        }
      ],
      "source": [
        "a.__xor__(2)"
      ]
    },
    {
      "cell_type": "code",
      "execution_count": null,
      "metadata": {
        "id": "9wQ2k2QWR641",
        "outputId": "05b75663-1ed9-4822-8aaf-eed5627b2d7e"
      },
      "outputs": [
        {
          "data": {
            "text/plain": [
              "'101'"
            ]
          },
          "execution_count": 63,
          "metadata": {},
          "output_type": "execute_result"
        }
      ],
      "source": [
        "bin(a)[2:]"
      ]
    },
    {
      "cell_type": "code",
      "execution_count": null,
      "metadata": {
        "id": "Zr1gppQIR641",
        "outputId": "e5ebc29a-edfe-4d41-b283-a1ee80569a93"
      },
      "outputs": [
        {
          "data": {
            "text/plain": [
              "3"
            ]
          },
          "execution_count": 64,
          "metadata": {},
          "output_type": "execute_result"
        }
      ],
      "source": [
        "a.bit_length()"
      ]
    },
    {
      "cell_type": "code",
      "execution_count": null,
      "metadata": {
        "id": "_gStm9KaR641",
        "outputId": "faa0ecaf-8c42-4db4-a872-f843fa6ced19"
      },
      "outputs": [
        {
          "data": {
            "text/plain": [
              "28"
            ]
          },
          "execution_count": 71,
          "metadata": {},
          "output_type": "execute_result"
        }
      ],
      "source": [
        "var = 1\n",
        "var.__sizeof__()  #Number of bytes being used by this obj along with Garbage Collector overhead, in memory"
      ]
    },
    {
      "cell_type": "code",
      "execution_count": null,
      "metadata": {
        "id": "juHczT9eR642"
      },
      "outputs": [],
      "source": [
        ""
      ]
    },
    {
      "cell_type": "code",
      "execution_count": null,
      "metadata": {
        "id": "3xWAycIWR642",
        "outputId": "1a563326-3825-4f0e-8853-30c4949b7e0a"
      },
      "outputs": [
        {
          "data": {
            "text/plain": [
              "True"
            ]
          },
          "execution_count": 20,
          "metadata": {},
          "output_type": "execute_result"
        }
      ],
      "source": [
        "'''\n",
        "If MSB of an integer is not 0, it means that integer is negative\n",
        "'''\n",
        "bool(-16 >> 32 )"
      ]
    },
    {
      "cell_type": "markdown",
      "metadata": {
        "id": "JjauyHWLXjiF"
      },
      "source": [
        "<h3>⭐Float</h3>"
      ]
    },
    {
      "cell_type": "markdown",
      "metadata": {
        "id": "MSZKCeBgKdm1"
      },
      "source": [
        "Precision akin to double in C++/Java"
      ]
    },
    {
      "cell_type": "code",
      "execution_count": null,
      "metadata": {
        "colab": {
          "base_uri": "https://localhost:8080/"
        },
        "id": "Dnyg3QDwKcnX",
        "outputId": "628ab593-566d-4b88-f978-b4d87d4aa885"
      },
      "outputs": [
        {
          "data": {
            "text/plain": [
              "0.0"
            ]
          },
          "execution_count": 32,
          "metadata": {
            "tags": []
          },
          "output_type": "execute_result"
        }
      ],
      "source": [
        "float()"
      ]
    },
    {
      "cell_type": "code",
      "execution_count": null,
      "metadata": {
        "colab": {
          "base_uri": "https://localhost:8080/",
          "height": 122
        },
        "id": "VC5pOEIwL1FS",
        "outputId": "be9bcb07-83a7-41bb-bea0-9fb256faadde"
      },
      "outputs": [
        {
          "name": "stdout",
          "output_type": "stream",
          "text": [
            "a is 10.1 \n",
            "b is -100.6 \n",
            "c is 200\n",
            "<class 'float'>\n",
            "<class 'float'>\n",
            "<class 'int'>\n"
          ]
        }
      ],
      "source": [
        "a = 10.1\n",
        "b = -100.6\n",
        "c = int(2e2) # 2 * 10^2\n",
        "print('a is',a,'\\nb is',b,'\\nc is',c)  #Escape character(\\n) for new line\n",
        "print(type(a))\n",
        "print(type(b))\n",
        "print(type(c))"
      ]
    },
    {
      "cell_type": "code",
      "execution_count": null,
      "metadata": {
        "colab": {
          "base_uri": "https://localhost:8080/",
          "height": 70
        },
        "id": "UV3S2_UddzBx",
        "outputId": "4e458ca3-c055-491a-acba-0d62da42b1af"
      },
      "outputs": [
        {
          "name": "stdout",
          "output_type": "stream",
          "text": [
            "1.7759569310000003\n",
            "1.21\n",
            "1.789\n"
          ]
        }
      ],
      "source": [
        "a = 1.211\n",
        "print(pow(a,3))\n",
        "print(round(a,2))\n",
        "print(abs(a-3))"
      ]
    },
    {
      "cell_type": "code",
      "execution_count": null,
      "metadata": {
        "colab": {
          "base_uri": "https://localhost:8080/"
        },
        "id": "pskWLW4cLKBe",
        "outputId": "2b962d40-f5c5-4abb-f745-8940e1ca0509"
      },
      "outputs": [
        {
          "data": {
            "text/plain": [
              "1.2"
            ]
          },
          "execution_count": 33,
          "metadata": {
            "tags": []
          },
          "output_type": "execute_result"
        }
      ],
      "source": [
        "a = '1.2'\n",
        "float(a)"
      ]
    },
    {
      "cell_type": "markdown",
      "metadata": {
        "id": "6X3JuHU_Xx3A"
      },
      "source": [
        "<h3>⭐Complex</h3>"
      ]
    },
    {
      "cell_type": "code",
      "execution_count": null,
      "metadata": {
        "colab": {
          "base_uri": "https://localhost:8080/",
          "height": 52
        },
        "id": "npi4AnlrcGg7",
        "outputId": "6927bc08-ffae-4642-8b07-f2229493f0df"
      },
      "outputs": [
        {
          "name": "stdout",
          "output_type": "stream",
          "text": [
            "(1+2j)\n",
            "<class 'complex'>\n"
          ]
        }
      ],
      "source": [
        "a = 1 + 2j\n",
        "print(a)\n",
        "print(type(a))"
      ]
    },
    {
      "cell_type": "markdown",
      "metadata": {
        "id": "wjFha1JKNb2v"
      },
      "source": [
        "* **Boolean**\n",
        "    * **True**(1)\n",
        "    * **False**(0)"
      ]
    },
    {
      "cell_type": "markdown",
      "metadata": {
        "id": "D-cRrWRYWuZ1"
      },
      "source": [
        "* All numbers results True if nonzero and False for if zero\n",
        "* Sequences and containers(viz list,string,tuple) results True if nonempty and False if empty\n",
        "* It is a default constructor of bool class"
      ]
    },
    {
      "cell_type": "code",
      "execution_count": null,
      "metadata": {
        "colab": {
          "base_uri": "https://localhost:8080/",
          "height": 34
        },
        "id": "VaOUNHvXMPEj",
        "outputId": "98b1c595-07cb-40de-f0be-72702b8b89ff"
      },
      "outputs": [
        {
          "data": {
            "text/plain": [
              "True"
            ]
          },
          "execution_count": 4,
          "metadata": {
            "tags": []
          },
          "output_type": "execute_result"
        }
      ],
      "source": [
        "1 == True"
      ]
    },
    {
      "cell_type": "code",
      "execution_count": null,
      "metadata": {
        "colab": {
          "base_uri": "https://localhost:8080/",
          "height": 34
        },
        "id": "2J-JJdZ3MPR4",
        "outputId": "8215b8ea-1992-4650-f742-e52b5794cf15"
      },
      "outputs": [
        {
          "data": {
            "text/plain": [
              "True"
            ]
          },
          "execution_count": 5,
          "metadata": {
            "tags": []
          },
          "output_type": "execute_result"
        }
      ],
      "source": [
        "0 == False"
      ]
    },
    {
      "cell_type": "code",
      "execution_count": null,
      "metadata": {
        "colab": {
          "base_uri": "https://localhost:8080/",
          "height": 34
        },
        "id": "cuVGQN-ENuGV",
        "outputId": "d8d8bbef-3e3a-4098-f076-5c2975bc507d"
      },
      "outputs": [
        {
          "data": {
            "text/plain": [
              "False"
            ]
          },
          "execution_count": 6,
          "metadata": {
            "tags": []
          },
          "output_type": "execute_result"
        }
      ],
      "source": [
        "1 == False"
      ]
    },
    {
      "cell_type": "code",
      "execution_count": null,
      "metadata": {
        "colab": {
          "base_uri": "https://localhost:8080/",
          "height": 34
        },
        "id": "FNpcmfapNvvz",
        "outputId": "f4b04235-b7b3-4135-a574-4b984c25a43f"
      },
      "outputs": [
        {
          "data": {
            "text/plain": [
              "False"
            ]
          },
          "execution_count": 7,
          "metadata": {
            "tags": []
          },
          "output_type": "execute_result"
        }
      ],
      "source": [
        "0 == True"
      ]
    },
    {
      "cell_type": "code",
      "execution_count": null,
      "metadata": {
        "colab": {
          "base_uri": "https://localhost:8080/",
          "height": 34
        },
        "id": "MycxtCeQNw3F",
        "outputId": "919bfc53-d230-4f71-d9e2-4eb8f14a1731"
      },
      "outputs": [
        {
          "name": "stdout",
          "output_type": "stream",
          "text": [
            "<class 'bool'>\n"
          ]
        }
      ],
      "source": [
        "x = True\n",
        "print(type(x))"
      ]
    },
    {
      "cell_type": "code",
      "execution_count": null,
      "metadata": {
        "colab": {
          "base_uri": "https://localhost:8080/",
          "height": 34
        },
        "id": "WPm7OxcGN556",
        "outputId": "dcbca507-c983-4cf0-84fa-b9cc34a66689"
      },
      "outputs": [
        {
          "data": {
            "text/plain": [
              "True"
            ]
          },
          "execution_count": 9,
          "metadata": {
            "tags": []
          },
          "output_type": "execute_result"
        }
      ],
      "source": [
        "bool(1) #📌 bool() is an inbuilt function"
      ]
    },
    {
      "cell_type": "code",
      "execution_count": null,
      "metadata": {
        "colab": {
          "base_uri": "https://localhost:8080/"
        },
        "id": "z8Cxcpswwxh3",
        "outputId": "4a9d4f7e-1d7f-42e9-f818-c169eb8c5a50"
      },
      "outputs": [
        {
          "data": {
            "text/plain": [
              "False"
            ]
          },
          "execution_count": 8,
          "metadata": {
            "tags": []
          },
          "output_type": "execute_result"
        }
      ],
      "source": [
        "bool() #default case"
      ]
    },
    {
      "cell_type": "code",
      "execution_count": null,
      "metadata": {
        "colab": {
          "base_uri": "https://localhost:8080/"
        },
        "id": "qmrxDbscN9km",
        "outputId": "99dcea9c-6ace-41d1-b205-34256168e539"
      },
      "outputs": [
        {
          "data": {
            "text/plain": [
              "False"
            ]
          },
          "execution_count": 1,
          "metadata": {
            "tags": []
          },
          "output_type": "execute_result"
        }
      ],
      "source": [
        "bool(0)"
      ]
    },
    {
      "cell_type": "code",
      "execution_count": null,
      "metadata": {
        "colab": {
          "base_uri": "https://localhost:8080/"
        },
        "id": "Cp-tr5ZWWYkM",
        "outputId": "54efc608-ac9f-46b0-cb98-f9fef541112e"
      },
      "outputs": [
        {
          "data": {
            "text/plain": [
              "True"
            ]
          },
          "execution_count": 1,
          "metadata": {
            "tags": []
          },
          "output_type": "execute_result"
        }
      ],
      "source": [
        "bool([1,2,3]) "
      ]
    },
    {
      "cell_type": "code",
      "execution_count": null,
      "metadata": {
        "colab": {
          "base_uri": "https://localhost:8080/"
        },
        "id": "WKyGk__vWg2N",
        "outputId": "886e37f6-10fd-4c52-9eea-f3bae98406f3"
      },
      "outputs": [
        {
          "data": {
            "text/plain": [
              "False"
            ]
          },
          "execution_count": 2,
          "metadata": {
            "tags": []
          },
          "output_type": "execute_result"
        }
      ],
      "source": [
        "bool([])"
      ]
    },
    {
      "cell_type": "code",
      "execution_count": null,
      "metadata": {
        "colab": {
          "base_uri": "https://localhost:8080/"
        },
        "id": "QtneyYqMXU8L",
        "outputId": "52d68fd8-c3fe-4475-dcaf-2d46fe7e42c4"
      },
      "outputs": [
        {
          "data": {
            "text/plain": [
              "True"
            ]
          },
          "execution_count": 3,
          "metadata": {
            "tags": []
          },
          "output_type": "execute_result"
        }
      ],
      "source": [
        "bool((1,2,3,0))"
      ]
    },
    {
      "cell_type": "code",
      "execution_count": null,
      "metadata": {
        "colab": {
          "base_uri": "https://localhost:8080/"
        },
        "id": "fIbYN3WxXdMu",
        "outputId": "2af4ca47-72cc-446d-edbd-e7431e280db7"
      },
      "outputs": [
        {
          "data": {
            "text/plain": [
              "False"
            ]
          },
          "execution_count": 4,
          "metadata": {
            "tags": []
          },
          "output_type": "execute_result"
        }
      ],
      "source": [
        "bool('')"
      ]
    },
    {
      "cell_type": "code",
      "execution_count": null,
      "metadata": {
        "colab": {
          "base_uri": "https://localhost:8080/"
        },
        "id": "Mm2nMYVRXhfE",
        "outputId": "b1d2fc4b-06db-4df7-be11-86a9a52e528c"
      },
      "outputs": [
        {
          "data": {
            "text/plain": [
              "False"
            ]
          },
          "execution_count": 6,
          "metadata": {
            "tags": []
          },
          "output_type": "execute_result"
        }
      ],
      "source": [
        "bool({})"
      ]
    },
    {
      "cell_type": "code",
      "execution_count": null,
      "metadata": {
        "colab": {
          "base_uri": "https://localhost:8080/"
        },
        "id": "7kiA_3R1vq-u",
        "outputId": "2638d03d-65c8-409c-95b8-7aa7d446f099"
      },
      "outputs": [
        {
          "data": {
            "text/plain": [
              "True"
            ]
          },
          "execution_count": 7,
          "metadata": {
            "tags": []
          },
          "output_type": "execute_result"
        }
      ],
      "source": [
        "bool({'filled':'yes'})"
      ]
    },
    {
      "cell_type": "markdown",
      "metadata": {
        "id": "txrfhXe6OKv8"
      },
      "source": [
        "* **Sequence**\n",
        "    * **String**: Collection of one or more than one characters in single quotes **' '** or double quotes **\" \"** and in triple quotes **''' '''** if the sentence is longer than one line. Strings are *immutable*.\n",
        "    * **List**: Unordered collection of data of any datatype. Lists are *mutable*. \n",
        "    * **Tuple**: Unordered collection of data of any datatype. Tuples are *immutable*."
      ]
    },
    {
      "cell_type": "markdown",
      "metadata": {
        "id": "UZ89h6n2Y9st"
      },
      "source": [
        "<h3>⭐String</h3>"
      ]
    },
    {
      "cell_type": "markdown",
      "metadata": {
        "id": "uadq18pbZH_p"
      },
      "source": [
        "* A string is a sequence of characters\n",
        "* It is immutable.\n",
        "* It compares two string character by character if there is any comparison task.\n",
        "* String in Python is based on **Unicode** international character set. \n",
        "* More internal compact representation than tuple/list"
      ]
    },
    {
      "cell_type": "code",
      "execution_count": null,
      "metadata": {
        "colab": {
          "base_uri": "https://localhost:8080/"
        },
        "id": "2QL_AxYSIWeG",
        "outputId": "23279059-fa79-4886-fb22-1a919b6efedc"
      },
      "outputs": [
        {
          "data": {
            "text/plain": [
              "True"
            ]
          },
          "execution_count": 2,
          "metadata": {
            "tags": []
          },
          "output_type": "execute_result"
        }
      ],
      "source": [
        "\"Hello\" == 'Hello'  #lexographic comparison"
      ]
    },
    {
      "cell_type": "code",
      "execution_count": null,
      "metadata": {
        "id": "eCt40xt0R647",
        "outputId": "041ee3fa-5b38-43c0-de7e-d5b1ef1d6517"
      },
      "outputs": [
        {
          "data": {
            "text/plain": [
              "False"
            ]
          },
          "execution_count": 1,
          "metadata": {},
          "output_type": "execute_result"
        }
      ],
      "source": [
        "'hello' == 'Hello'"
      ]
    },
    {
      "cell_type": "code",
      "execution_count": null,
      "metadata": {
        "colab": {
          "base_uri": "https://localhost:8080/",
          "height": 35
        },
        "id": "cENeGBtiIak3",
        "outputId": "ddfc7e29-9ffb-4839-8718-022600d4fbc1"
      },
      "outputs": [
        {
          "data": {
            "application/vnd.google.colaboratory.intrinsic+json": {
              "type": "string"
            },
            "text/plain": [
              "''"
            ]
          },
          "execution_count": 3,
          "metadata": {
            "tags": []
          },
          "output_type": "execute_result"
        }
      ],
      "source": [
        "str()"
      ]
    },
    {
      "cell_type": "code",
      "execution_count": null,
      "metadata": {
        "colab": {
          "base_uri": "https://localhost:8080/"
        },
        "id": "l83JXaiZIag6",
        "outputId": "2d15c1ce-41ce-4a5b-9c4d-6670d000486f"
      },
      "outputs": [
        {
          "data": {
            "text/plain": [
              "False"
            ]
          },
          "execution_count": 4,
          "metadata": {
            "tags": []
          },
          "output_type": "execute_result"
        }
      ],
      "source": [
        "bool(str())"
      ]
    },
    {
      "cell_type": "code",
      "execution_count": null,
      "metadata": {
        "colab": {
          "base_uri": "https://localhost:8080/"
        },
        "id": "kY8C1bpdZGQM",
        "outputId": "be041663-1797-4b65-faf7-3cbab451a27e"
      },
      "outputs": [
        {
          "name": "stdout",
          "output_type": "stream",
          "text": [
            "Hello, World!\n",
            "<class 'str'>\n"
          ]
        },
        {
          "data": {
            "text/plain": [
              "True"
            ]
          },
          "execution_count": 35,
          "metadata": {
            "tags": []
          },
          "output_type": "execute_result"
        }
      ],
      "source": [
        "a = 'Hello, World!'\n",
        "print(a)\n",
        "print(type(a))\n",
        "isinstance(a,str)"
      ]
    },
    {
      "cell_type": "code",
      "execution_count": null,
      "metadata": {
        "colab": {
          "base_uri": "https://localhost:8080/",
          "height": 35
        },
        "id": "5aqOClPPN_fA",
        "outputId": "69b0b3b4-3e02-4731-b192-249431d02ddb"
      },
      "outputs": [
        {
          "data": {
            "application/vnd.google.colaboratory.intrinsic+json": {
              "type": "string"
            },
            "text/plain": [
              "'l'"
            ]
          },
          "execution_count": 12,
          "metadata": {
            "tags": []
          },
          "output_type": "execute_result"
        }
      ],
      "source": [
        "a = \"Hello, World!\" #📌String Indexing starts from 0 to n-1\n",
        "a[2]"
      ]
    },
    {
      "cell_type": "code",
      "execution_count": null,
      "metadata": {
        "colab": {
          "base_uri": "https://localhost:8080/",
          "height": 34
        },
        "id": "wH-n45OkUgXU",
        "outputId": "909a6934-aed0-43bd-ce19-43c39d59bfc6"
      },
      "outputs": [
        {
          "data": {
            "text/plain": [
              "True"
            ]
          },
          "execution_count": 13,
          "metadata": {
            "tags": []
          },
          "output_type": "execute_result"
        }
      ],
      "source": [
        "a[7:12] == a[7:-1]  "
      ]
    },
    {
      "cell_type": "code",
      "execution_count": null,
      "metadata": {
        "colab": {
          "base_uri": "https://localhost:8080/",
          "height": 35
        },
        "id": "TEUmnv54UJbW",
        "outputId": "5e4b4530-8e87-4fe1-b289-1971b8118a34"
      },
      "outputs": [
        {
          "data": {
            "application/vnd.google.colaboratory.intrinsic+json": {
              "type": "string"
            },
            "text/plain": [
              "'d'"
            ]
          },
          "execution_count": 14,
          "metadata": {
            "tags": []
          },
          "output_type": "execute_result"
        }
      ],
      "source": [
        "a[-2] #access the character from the last"
      ]
    },
    {
      "cell_type": "code",
      "execution_count": null,
      "metadata": {
        "colab": {
          "base_uri": "https://localhost:8080/",
          "height": 35
        },
        "id": "MTyyXSCxUPCC",
        "outputId": "df276ff1-78bd-463a-8b65-024ab826a6b8"
      },
      "outputs": [
        {
          "data": {
            "application/vnd.google.colaboratory.intrinsic+json": {
              "type": "string"
            },
            "text/plain": [
              "'Hello'"
            ]
          },
          "execution_count": 15,
          "metadata": {
            "tags": []
          },
          "output_type": "execute_result"
        }
      ],
      "source": [
        "#slicing of a string\n",
        "a[0:5]"
      ]
    },
    {
      "cell_type": "code",
      "execution_count": null,
      "metadata": {
        "colab": {
          "base_uri": "https://localhost:8080/",
          "height": 34
        },
        "id": "VIHfft2KUVA4",
        "outputId": "63e90578-7dff-4465-b5a4-07cb988ae563"
      },
      "outputs": [
        {
          "name": "stdout",
          "output_type": "stream",
          "text": [
            "Hello Folk!\n"
          ]
        }
      ],
      "source": [
        "print(a[0:5],'Folk!')"
      ]
    },
    {
      "cell_type": "code",
      "execution_count": null,
      "metadata": {
        "colab": {
          "base_uri": "https://localhost:8080/",
          "height": 35
        },
        "id": "AVS118epUaSz",
        "outputId": "d538261c-6513-4be5-a292-ce05e23a6515"
      },
      "outputs": [
        {
          "data": {
            "application/vnd.google.colaboratory.intrinsic+json": {
              "type": "string"
            },
            "text/plain": [
              "'World'"
            ]
          },
          "execution_count": 17,
          "metadata": {
            "tags": []
          },
          "output_type": "execute_result"
        }
      ],
      "source": [
        "a[7:-1]"
      ]
    },
    {
      "cell_type": "code",
      "execution_count": null,
      "metadata": {
        "colab": {
          "base_uri": "https://localhost:8080/",
          "height": 34
        },
        "id": "E9CIfo9nUc1z",
        "outputId": "323b80ca-d654-4d35-9986-88955187aebe"
      },
      "outputs": [
        {
          "name": "stdout",
          "output_type": "stream",
          "text": [
            "Uditanshu Saxena\n"
          ]
        }
      ],
      "source": [
        "#Concatenation\n",
        "F_Name = 'Uditanshu'\n",
        "L_Name = 'Saxena'\n",
        "print(F_Name+' '+L_Name)"
      ]
    },
    {
      "cell_type": "code",
      "execution_count": null,
      "metadata": {
        "colab": {
          "base_uri": "https://localhost:8080/",
          "height": 35
        },
        "id": "lBWsuNsZZ2l4",
        "outputId": "b75c9064-481f-41db-9d80-90c187f08d4b"
      },
      "outputs": [
        {
          "data": {
            "application/vnd.google.colaboratory.intrinsic+json": {
              "type": "string"
            },
            "text/plain": [
              "\"Can't judge\""
            ]
          },
          "execution_count": 54,
          "metadata": {
            "tags": []
          },
          "output_type": "execute_result"
        }
      ],
      "source": [
        "\"Can't judge\"  #here another quotation works as a string"
      ]
    },
    {
      "cell_type": "code",
      "execution_count": null,
      "metadata": {
        "colab": {
          "base_uri": "https://localhost:8080/",
          "height": 35
        },
        "id": "uNe_VnHvZ2bx",
        "outputId": "27e99f23-22aa-4405-f004-c9215a3aafa8"
      },
      "outputs": [
        {
          "data": {
            "application/vnd.google.colaboratory.intrinsic+json": {
              "type": "string"
            },
            "text/plain": [
              "'Can\"t judge'"
            ]
          },
          "execution_count": 55,
          "metadata": {
            "tags": []
          },
          "output_type": "execute_result"
        }
      ],
      "source": [
        "'Can\"t judge'  #here another quotation works as a string"
      ]
    },
    {
      "cell_type": "code",
      "execution_count": null,
      "metadata": {
        "colab": {
          "base_uri": "https://localhost:8080/",
          "height": 35
        },
        "id": "sF8c-MZXZ2Qp",
        "outputId": "d29ef8c6-4ba3-4199-f13e-65b33d9cf070"
      },
      "outputs": [
        {
          "data": {
            "application/vnd.google.colaboratory.intrinsic+json": {
              "type": "string"
            },
            "text/plain": [
              "\"Can't judge\""
            ]
          },
          "execution_count": 56,
          "metadata": {
            "tags": []
          },
          "output_type": "execute_result"
        }
      ],
      "source": [
        "'Can\\'t judge'  #escape character \\' is used"
      ]
    },
    {
      "cell_type": "code",
      "execution_count": null,
      "metadata": {
        "colab": {
          "base_uri": "https://localhost:8080/",
          "height": 35
        },
        "id": "GmWcLfNleHOC",
        "outputId": "01059cc2-2873-49c5-976d-e59f9d96478f"
      },
      "outputs": [
        {
          "data": {
            "application/vnd.google.colaboratory.intrinsic+json": {
              "type": "string"
            },
            "text/plain": [
              "'Can\"t judge'"
            ]
          },
          "execution_count": 57,
          "metadata": {
            "tags": []
          },
          "output_type": "execute_result"
        }
      ],
      "source": [
        "\"Can\\\"t judge\""
      ]
    },
    {
      "cell_type": "code",
      "execution_count": null,
      "metadata": {
        "colab": {
          "base_uri": "https://localhost:8080/",
          "height": 35
        },
        "id": "NgJrc3kzhq8S",
        "outputId": "44f0613d-4220-4c05-878b-939a2fa5a2ad"
      },
      "outputs": [
        {
          "data": {
            "application/vnd.google.colaboratory.intrinsic+json": {
              "type": "string"
            },
            "text/plain": [
              "'₹178'"
            ]
          },
          "execution_count": 68,
          "metadata": {
            "tags": []
          },
          "output_type": "execute_result"
        }
      ],
      "source": [
        "#Unicode characters in Python using \\u\n",
        "'\\u20B9178' #\\u20B9 ~ ₹"
      ]
    },
    {
      "cell_type": "code",
      "execution_count": null,
      "metadata": {
        "colab": {
          "base_uri": "https://localhost:8080/"
        },
        "id": "7h6CsMXii7Yy",
        "outputId": "93c65b9a-706a-4fa5-8a6b-ffe108104d4f"
      },
      "outputs": [
        {
          "name": "stdout",
          "output_type": "stream",
          "text": [
            "1. I am a programmer.\n",
            "2. I am happy.\n",
            "3. I enjoy writing incredible codes which help others. \n",
            "4. Coding in fun. \n"
          ]
        }
      ],
      "source": [
        "# Doc-string using ''' '''  or \"\"\" \"\"\"\n",
        "a = '''1. I am a programmer.\n",
        "2. I am happy.\n",
        "3. I enjoy writing incredible codes which help others. \n",
        "4. Coding in fun. '''\n",
        "print(a)"
      ]
    },
    {
      "cell_type": "code",
      "execution_count": null,
      "metadata": {
        "colab": {
          "base_uri": "https://localhost:8080/",
          "height": 35
        },
        "id": "jqt1Ut9-UkEc",
        "outputId": "969d9037-61ec-4fa7-c263-6316987146a5"
      },
      "outputs": [
        {
          "data": {
            "application/vnd.google.colaboratory.intrinsic+json": {
              "type": "string"
            },
            "text/plain": [
              "'HEY'"
            ]
          },
          "execution_count": 19,
          "metadata": {
            "tags": []
          },
          "output_type": "execute_result"
        }
      ],
      "source": [
        "a = 'hey'\n",
        "a.upper() #📌built-in method"
      ]
    },
    {
      "cell_type": "code",
      "execution_count": null,
      "metadata": {
        "colab": {
          "base_uri": "https://localhost:8080/",
          "height": 35
        },
        "id": "Zf6zWAy1U0i-",
        "outputId": "30e65524-46c8-485f-cb3d-0921bd8f616d"
      },
      "outputs": [
        {
          "data": {
            "application/vnd.google.colaboratory.intrinsic+json": {
              "type": "string"
            },
            "text/plain": [
              "'hello'"
            ]
          },
          "execution_count": 20,
          "metadata": {
            "tags": []
          },
          "output_type": "execute_result"
        }
      ],
      "source": [
        "'HELLO'.lower()  #📌built-in method"
      ]
    },
    {
      "cell_type": "code",
      "execution_count": null,
      "metadata": {
        "colab": {
          "base_uri": "https://localhost:8080/",
          "height": 34
        },
        "id": "aE1SOx3lVF2m",
        "outputId": "ea3fd15f-a396-4850-8ae0-2bc96dc63b51"
      },
      "outputs": [
        {
          "data": {
            "text/plain": [
              "False"
            ]
          },
          "execution_count": 21,
          "metadata": {
            "tags": []
          },
          "output_type": "execute_result"
        }
      ],
      "source": [
        "a.isupper()  #📌built-in method"
      ]
    },
    {
      "cell_type": "code",
      "execution_count": null,
      "metadata": {
        "colab": {
          "base_uri": "https://localhost:8080/",
          "height": 34
        },
        "id": "Wn-mvDWbVJ_s",
        "outputId": "c703bd42-6920-4fc8-b3b1-e3b5cc969b59"
      },
      "outputs": [
        {
          "data": {
            "text/plain": [
              "True"
            ]
          },
          "execution_count": 22,
          "metadata": {
            "tags": []
          },
          "output_type": "execute_result"
        }
      ],
      "source": [
        "a.islower()  #📌built-in method"
      ]
    },
    {
      "cell_type": "code",
      "execution_count": null,
      "metadata": {
        "colab": {
          "base_uri": "https://localhost:8080/",
          "height": 34
        },
        "id": "mCuYdQdiVNxN",
        "outputId": "e117eac4-800b-46f3-a98b-8c42929d0321"
      },
      "outputs": [
        {
          "data": {
            "text/plain": [
              "str"
            ]
          },
          "execution_count": 23,
          "metadata": {
            "tags": []
          },
          "output_type": "execute_result"
        }
      ],
      "source": [
        "type(a)"
      ]
    },
    {
      "cell_type": "code",
      "execution_count": null,
      "metadata": {
        "colab": {
          "base_uri": "https://localhost:8080/",
          "height": 34
        },
        "id": "8ySI2mmQVeKU",
        "outputId": "698f7e94-2a3b-4332-bb75-da999dee934b"
      },
      "outputs": [
        {
          "data": {
            "text/plain": [
              "3"
            ]
          },
          "execution_count": 24,
          "metadata": {
            "tags": []
          },
          "output_type": "execute_result"
        }
      ],
      "source": [
        "len(a)  #📌built-in function"
      ]
    },
    {
      "cell_type": "code",
      "execution_count": null,
      "metadata": {
        "colab": {
          "base_uri": "https://localhost:8080/",
          "height": 88
        },
        "id": "3goSI7DFdSGQ",
        "outputId": "e5466ea0-33d1-4339-f465-abd3e0c3e9f0"
      },
      "outputs": [
        {
          "name": "stdout",
          "output_type": "stream",
          "text": [
            "vanijya technology\n",
            "VANIJYA TECHNOLOGY\n",
            "Vanijya Technology\n",
            "vANIJYA tECHNOLOGY\n"
          ]
        }
      ],
      "source": [
        "a = 'Vanijya Technology'\n",
        "print(a.lower())\n",
        "print(a.upper())\n",
        "print(a.title())\n",
        "print(a.swapcase())"
      ]
    },
    {
      "cell_type": "code",
      "execution_count": null,
      "metadata": {
        "colab": {
          "base_uri": "https://localhost:8080/",
          "height": 35
        },
        "id": "uVr2HuVq08Qc",
        "outputId": "c67a60b9-59fb-4719-8de6-d3413cc88fd1"
      },
      "outputs": [
        {
          "data": {
            "application/vnd.google.colaboratory.intrinsic+json": {
              "type": "string"
            },
            "text/plain": [
              "'Yeah'"
            ]
          },
          "execution_count": 25,
          "metadata": {
            "tags": []
          },
          "output_type": "execute_result"
        }
      ],
      "source": [
        "\" Yeah \".strip() #📌built-in method to remove whitespaces from left & right"
      ]
    },
    {
      "cell_type": "code",
      "execution_count": null,
      "metadata": {
        "colab": {
          "base_uri": "https://localhost:8080/",
          "height": 35
        },
        "id": "NxFoi8HO08M3",
        "outputId": "2b16f436-f51e-4ed2-f957-25338617b781"
      },
      "outputs": [
        {
          "data": {
            "application/vnd.google.colaboratory.intrinsic+json": {
              "type": "string"
            },
            "text/plain": [
              "'Yeah '"
            ]
          },
          "execution_count": 26,
          "metadata": {
            "tags": []
          },
          "output_type": "execute_result"
        }
      ],
      "source": [
        "\" Yeah \".lstrip() #📌built-in method to remove whitespace from left"
      ]
    },
    {
      "cell_type": "code",
      "execution_count": null,
      "metadata": {
        "colab": {
          "base_uri": "https://localhost:8080/",
          "height": 35
        },
        "id": "MLRRimgH1DsD",
        "outputId": "ebef139b-cda6-4687-ef28-4c54c2127339"
      },
      "outputs": [
        {
          "data": {
            "application/vnd.google.colaboratory.intrinsic+json": {
              "type": "string"
            },
            "text/plain": [
              "' Yeah'"
            ]
          },
          "execution_count": 27,
          "metadata": {
            "tags": []
          },
          "output_type": "execute_result"
        }
      ],
      "source": [
        "\" Yeah \".rstrip() #📌built-in method to remove whitespace from right"
      ]
    },
    {
      "cell_type": "code",
      "execution_count": null,
      "metadata": {
        "colab": {
          "base_uri": "https://localhost:8080/",
          "height": 34
        },
        "id": "lsx8QxFV1Dn8",
        "outputId": "d22b17c3-054e-4094-99f0-da84a5ae87ec"
      },
      "outputs": [
        {
          "data": {
            "text/plain": [
              "2"
            ]
          },
          "execution_count": 28,
          "metadata": {
            "tags": []
          },
          "output_type": "execute_result"
        }
      ],
      "source": [
        "\" Hello \".strip().count('l') #📌built-in method to count number of specific character in a string"
      ]
    },
    {
      "cell_type": "code",
      "execution_count": null,
      "metadata": {
        "colab": {
          "base_uri": "https://localhost:8080/",
          "height": 34
        },
        "id": "pc7Co90l1Sqq",
        "outputId": "b2f01b14-6187-49d9-a553-4f6b02ae86c7"
      },
      "outputs": [
        {
          "data": {
            "text/plain": [
              "True"
            ]
          },
          "execution_count": 29,
          "metadata": {
            "tags": []
          },
          "output_type": "execute_result"
        }
      ],
      "source": [
        "' hello'.endswith('lo') #📌built-in method to check if the string is ending with specified substring"
      ]
    },
    {
      "cell_type": "code",
      "execution_count": null,
      "metadata": {
        "colab": {
          "base_uri": "https://localhost:8080/",
          "height": 34
        },
        "id": "45C6prsr1W6s",
        "outputId": "644f3ecb-fb04-41ee-a548-f57a7aa2d6b8"
      },
      "outputs": [
        {
          "data": {
            "text/plain": [
              "True"
            ]
          },
          "execution_count": 30,
          "metadata": {
            "tags": []
          },
          "output_type": "execute_result"
        }
      ],
      "source": [
        "'hello'.startswith('he') #📌built-in method to check if the string is starting with specified substring"
      ]
    },
    {
      "cell_type": "code",
      "execution_count": null,
      "metadata": {
        "colab": {
          "base_uri": "https://localhost:8080/",
          "height": 34
        },
        "id": "Xtqr-nf41Xsb",
        "outputId": "34cc979e-2cd5-4296-d3cb-c97b0ec89aa6"
      },
      "outputs": [
        {
          "data": {
            "text/plain": [
              "True"
            ]
          },
          "execution_count": 31,
          "metadata": {
            "tags": []
          },
          "output_type": "execute_result"
        }
      ],
      "source": [
        "'123'.isnumeric() #📌built-in method to check if the string is numeric"
      ]
    },
    {
      "cell_type": "code",
      "execution_count": null,
      "metadata": {
        "colab": {
          "base_uri": "https://localhost:8080/",
          "height": 34
        },
        "id": "X1UgkW-51itX",
        "outputId": "de441538-7c06-42b3-9a49-5a12bdfdddc5"
      },
      "outputs": [
        {
          "data": {
            "text/plain": [
              "False"
            ]
          },
          "execution_count": 32,
          "metadata": {
            "tags": []
          },
          "output_type": "execute_result"
        }
      ],
      "source": [
        "'hellpo '.isnumeric()"
      ]
    },
    {
      "cell_type": "code",
      "execution_count": null,
      "metadata": {
        "colab": {
          "base_uri": "https://localhost:8080/",
          "height": 34
        },
        "id": "jh36vNDEMGc3",
        "outputId": "4e493333-bdec-429b-a6c4-1124bc264c0f"
      },
      "outputs": [
        {
          "data": {
            "text/plain": [
              "True"
            ]
          },
          "execution_count": 33,
          "metadata": {
            "tags": []
          },
          "output_type": "execute_result"
        }
      ],
      "source": [
        "'hello'.isalpha() #📌built-in method to check if the string is alphabetic"
      ]
    },
    {
      "cell_type": "code",
      "execution_count": null,
      "metadata": {
        "colab": {
          "base_uri": "https://localhost:8080/",
          "height": 35
        },
        "id": "jHO2Z9dWMO9U",
        "outputId": "1beab65d-16d1-431d-a656-120b73f3ae8c"
      },
      "outputs": [
        {
          "data": {
            "application/vnd.google.colaboratory.intrinsic+json": {
              "type": "string"
            },
            "text/plain": [
              "'hey'"
            ]
          },
          "execution_count": 34,
          "metadata": {
            "tags": []
          },
          "output_type": "execute_result"
        }
      ],
      "source": [
        "'hello'.replace('llo','y') #📌built-in method to replace a substring from a string"
      ]
    },
    {
      "cell_type": "code",
      "execution_count": null,
      "metadata": {
        "colab": {
          "base_uri": "https://localhost:8080/",
          "height": 35
        },
        "id": "XclJNKao1i4S",
        "outputId": "fee380be-e1d7-40c5-b218-ce7518be4db0"
      },
      "outputs": [
        {
          "data": {
            "application/vnd.google.colaboratory.intrinsic+json": {
              "type": "string"
            },
            "text/plain": [
              "'Hey, Deepak Mittal'"
            ]
          },
          "execution_count": 35,
          "metadata": {
            "tags": []
          },
          "output_type": "execute_result"
        }
      ],
      "source": [
        "a = \" \".join(['Hey,','Deepak','Mittal']) #📌built-in method to join strings with a specified \" \" character\n",
        "a"
      ]
    },
    {
      "cell_type": "code",
      "execution_count": null,
      "metadata": {
        "colab": {
          "base_uri": "https://localhost:8080/",
          "height": 34
        },
        "id": "on2brX8U1i0v",
        "outputId": "95eb03d1-8a8c-440b-8a7a-a4ca693db900"
      },
      "outputs": [
        {
          "data": {
            "text/plain": [
              "['Hey,', 'Deepak', 'Mittal']"
            ]
          },
          "execution_count": 36,
          "metadata": {
            "tags": []
          },
          "output_type": "execute_result"
        }
      ],
      "source": [
        "a.split() #default by whitespace"
      ]
    },
    {
      "cell_type": "code",
      "execution_count": 1,
      "metadata": {
        "colab": {
          "base_uri": "https://localhost:8080/"
        },
        "id": "GkgSX6AHgf3R",
        "outputId": "62bbe7de-2b6b-49b2-8372-25a0a03b3761"
      },
      "outputs": [
        {
          "output_type": "execute_result",
          "data": {
            "text/plain": [
              "1"
            ]
          },
          "metadata": {},
          "execution_count": 1
        }
      ],
      "source": [
        "'''\n",
        "find() is useful in case you are not sure about the presence of a string \n",
        "present in the big string except that it do not raise ValueError \n",
        "like index() raises when the value is not present. \n",
        "It gives -1 in that case. \n",
        "'''\n",
        "\n",
        "\n",
        "'Hello'.find('e')"
      ]
    },
    {
      "cell_type": "code",
      "source": [
        "s = 'Hello, World!'\n",
        "\n",
        "s.find('z')   # -1 not ValueError"
      ],
      "metadata": {
        "id": "Jogy6jVvSF5c",
        "outputId": "4548f476-1845-4ab3-e785-32053e5ab9ab",
        "colab": {
          "base_uri": "https://localhost:8080/"
        }
      },
      "execution_count": 2,
      "outputs": [
        {
          "output_type": "execute_result",
          "data": {
            "text/plain": [
              "-1"
            ]
          },
          "metadata": {},
          "execution_count": 2
        }
      ]
    },
    {
      "cell_type": "code",
      "source": [
        "s.rfind('o')    #last occurence of the string"
      ],
      "metadata": {
        "id": "h-wEP6VZSqpL",
        "outputId": "e76a5719-53dd-4b19-dfdd-3e0da0052b1a",
        "colab": {
          "base_uri": "https://localhost:8080/"
        }
      },
      "execution_count": 3,
      "outputs": [
        {
          "output_type": "execute_result",
          "data": {
            "text/plain": [
              "8"
            ]
          },
          "metadata": {},
          "execution_count": 3
        }
      ]
    },
    {
      "cell_type": "code",
      "execution_count": null,
      "metadata": {
        "colab": {
          "base_uri": "https://localhost:8080/",
          "height": 35
        },
        "id": "wGhpW62iglXm",
        "outputId": "7baaea71-7bc0-402e-8571-84de3755533b"
      },
      "outputs": [
        {
          "data": {
            "text/plain": [
              "1"
            ]
          },
          "execution_count": 31,
          "metadata": {
            "tags": []
          },
          "output_type": "execute_result"
        }
      ],
      "source": [
        "'Hello'.index('e')"
      ]
    },
    {
      "cell_type": "code",
      "source": [
        "s.rindex('o')   #last occurence of the string except it do not raises ValueError string not found"
      ],
      "metadata": {
        "id": "PREplEqOS7Od",
        "outputId": "e969f74c-4f80-4967-e1d2-2c50ac7c47c3",
        "colab": {
          "base_uri": "https://localhost:8080/"
        }
      },
      "execution_count": 6,
      "outputs": [
        {
          "output_type": "execute_result",
          "data": {
            "text/plain": [
              "8"
            ]
          },
          "metadata": {},
          "execution_count": 6
        }
      ]
    },
    {
      "cell_type": "code",
      "execution_count": null,
      "metadata": {
        "colab": {
          "base_uri": "https://localhost:8080/",
          "height": 35
        },
        "id": "yA6mIDXPgpNl",
        "outputId": "36e413b1-da6a-4f0a-c762-68ed68a047af"
      },
      "outputs": [
        {
          "data": {
            "application/vnd.google.colaboratory.intrinsic+json": {
              "type": "string"
            },
            "text/plain": [
              "'Heoo😂o'"
            ]
          },
          "execution_count": 33,
          "metadata": {
            "tags": []
          },
          "output_type": "execute_result"
        }
      ],
      "source": [
        "'Hello'.replace('ll','oo😂')"
      ]
    },
    {
      "cell_type": "code",
      "execution_count": null,
      "metadata": {
        "colab": {
          "base_uri": "https://localhost:8080/"
        },
        "id": "DxroCiNz0DBP",
        "outputId": "94123eb3-7c4c-4d36-9a01-5ec10a7c5d6d"
      },
      "outputs": [
        {
          "name": "stdout",
          "output_type": "stream",
          "text": [
            "True\n",
            "True\n"
          ]
        }
      ],
      "source": [
        "a = 'Hello'\n",
        "b = 'Hello'\n",
        "print(a is b) #Compare lexicographically\n",
        "print(a == b)"
      ]
    },
    {
      "cell_type": "code",
      "source": [
        "'hello, WOrLd'.title()"
      ],
      "metadata": {
        "id": "cmIybHzNTNWn",
        "outputId": "26b929e9-ca35-4c7f-b5cf-e7c118b1e7b9",
        "colab": {
          "base_uri": "https://localhost:8080/",
          "height": 36
        }
      },
      "execution_count": 9,
      "outputs": [
        {
          "output_type": "execute_result",
          "data": {
            "text/plain": [
              "'Hello, World'"
            ],
            "application/vnd.google.colaboratory.intrinsic+json": {
              "type": "string"
            }
          },
          "metadata": {},
          "execution_count": 9
        }
      ]
    },
    {
      "cell_type": "code",
      "source": [
        "a = '''\n",
        "Hello, World!\n",
        "I am Deepak Mittal. I love reading books. \n",
        "'''\n",
        "\n",
        "a.splitlines()"
      ],
      "metadata": {
        "id": "vgBXljVZTWWY",
        "outputId": "595dcdba-382a-42de-8cb4-79239c2485b4",
        "colab": {
          "base_uri": "https://localhost:8080/"
        }
      },
      "execution_count": 11,
      "outputs": [
        {
          "output_type": "execute_result",
          "data": {
            "text/plain": [
              "['', 'Hello, World!', 'I am Deepak Mittal. I love reading books. ']"
            ]
          },
          "metadata": {},
          "execution_count": 11
        }
      ]
    },
    {
      "cell_type": "markdown",
      "metadata": {
        "id": "Uytm92PmbyNK"
      },
      "source": [
        "<h5>🧐Formating in string</h5>"
      ]
    },
    {
      "cell_type": "code",
      "execution_count": null,
      "metadata": {
        "colab": {
          "base_uri": "https://localhost:8080/",
          "height": 35
        },
        "id": "NmxIQgkN1ilx",
        "outputId": "b2edab29-2682-4bb7-d05c-57ff12ea1477"
      },
      "outputs": [
        {
          "data": {
            "application/vnd.google.colaboratory.intrinsic+json": {
              "type": "string"
            },
            "text/plain": [
              "'My name is Deepak Mittal and I have 2 computers'"
            ]
          },
          "execution_count": 37,
          "metadata": {
            "tags": []
          },
          "output_type": "execute_result"
        }
      ],
      "source": [
        "'My name is {} and I have {} computers'.format('Deepak Mittal',2)"
      ]
    },
    {
      "cell_type": "code",
      "execution_count": null,
      "metadata": {
        "colab": {
          "base_uri": "https://localhost:8080/",
          "height": 35
        },
        "id": "dHo4EOm0GVmy",
        "outputId": "19e9d912-51bd-44dc-c847-a92c82ddf1f1"
      },
      "outputs": [
        {
          "data": {
            "application/vnd.google.colaboratory.intrinsic+json": {
              "type": "string"
            },
            "text/plain": [
              "'My name is Deepak Mittal and I have 2 computers'"
            ]
          },
          "execution_count": 38,
          "metadata": {
            "tags": []
          },
          "output_type": "execute_result"
        }
      ],
      "source": [
        "#https://docs.python.org/3/library/string.html#format-specification-mini-language\n",
        "'My name is {name} and I have {number} computers'.format(number = 2,name = \"Deepak Mittal\")"
      ]
    },
    {
      "cell_type": "code",
      "execution_count": null,
      "metadata": {
        "colab": {
          "base_uri": "https://localhost:8080/",
          "height": 35
        },
        "id": "4J5gkT97MusG",
        "outputId": "739ee719-5090-4589-e11a-d870da8b4534"
      },
      "outputs": [
        {
          "data": {
            "application/vnd.google.colaboratory.intrinsic+json": {
              "type": "string"
            },
            "text/plain": [
              "'My name is Deepak Mittal and I have 2 computers'"
            ]
          },
          "execution_count": 39,
          "metadata": {
            "tags": []
          },
          "output_type": "execute_result"
        }
      ],
      "source": [
        "'My name is {1} and I have {0} computers'.format(2,\"Deepak Mittal\")"
      ]
    },
    {
      "cell_type": "code",
      "execution_count": null,
      "metadata": {
        "colab": {
          "base_uri": "https://localhost:8080/",
          "height": 35
        },
        "id": "NR1f0uZGQKkI",
        "outputId": "b7baafb7-2848-4850-f7b2-1e240388510b"
      },
      "outputs": [
        {
          "data": {
            "application/vnd.google.colaboratory.intrinsic+json": {
              "type": "string"
            },
            "text/plain": [
              "'Py is awesome'"
            ]
          },
          "execution_count": 40,
          "metadata": {
            "tags": []
          },
          "output_type": "execute_result"
        }
      ],
      "source": [
        "'{:.2s} is awesome'.format('Python')"
      ]
    },
    {
      "cell_type": "code",
      "execution_count": null,
      "metadata": {
        "colab": {
          "base_uri": "https://localhost:8080/",
          "height": 35
        },
        "id": "4dcFXJayQKsK",
        "outputId": "2a660e33-fffd-461d-fa1e-363f204724e1"
      },
      "outputs": [
        {
          "data": {
            "application/vnd.google.colaboratory.intrinsic+json": {
              "type": "string"
            },
            "text/plain": [
              "'hi    '"
            ]
          },
          "execution_count": 41,
          "metadata": {
            "tags": []
          },
          "output_type": "execute_result"
        }
      ],
      "source": [
        "'{:<6s}'.format('hi') #left alignment"
      ]
    },
    {
      "cell_type": "code",
      "execution_count": null,
      "metadata": {
        "colab": {
          "base_uri": "https://localhost:8080/",
          "height": 35
        },
        "id": "xWQUs0W3QKft",
        "outputId": "1ddfef7a-dff4-4e5d-fb91-638038590167"
      },
      "outputs": [
        {
          "data": {
            "application/vnd.google.colaboratory.intrinsic+json": {
              "type": "string"
            },
            "text/plain": [
              "'    hi'"
            ]
          },
          "execution_count": 42,
          "metadata": {
            "tags": []
          },
          "output_type": "execute_result"
        }
      ],
      "source": [
        "'{:>6s}'.format('hi')  #right alignment"
      ]
    },
    {
      "cell_type": "code",
      "execution_count": null,
      "metadata": {
        "colab": {
          "base_uri": "https://localhost:8080/",
          "height": 35
        },
        "id": "iouUp_ttQzJ1",
        "outputId": "5c253d8b-c877-4335-fbc3-0f6d48dba44d"
      },
      "outputs": [
        {
          "data": {
            "application/vnd.google.colaboratory.intrinsic+json": {
              "type": "string"
            },
            "text/plain": [
              "'  hi  '"
            ]
          },
          "execution_count": 43,
          "metadata": {
            "tags": []
          },
          "output_type": "execute_result"
        }
      ],
      "source": [
        "'{:^6s}'.format('hi')       #center alignment"
      ]
    },
    {
      "cell_type": "code",
      "execution_count": null,
      "metadata": {
        "colab": {
          "base_uri": "https://localhost:8080/",
          "height": 35
        },
        "id": "ssceHt78OXK3",
        "outputId": "76967496-2995-4f1f-944e-833b4803dc0d"
      },
      "outputs": [
        {
          "data": {
            "application/vnd.google.colaboratory.intrinsic+json": {
              "type": "string"
            },
            "text/plain": [
              "'121'"
            ]
          },
          "execution_count": 44,
          "metadata": {
            "tags": []
          },
          "output_type": "execute_result"
        }
      ],
      "source": [
        "format(121, \"d\")"
      ]
    },
    {
      "cell_type": "code",
      "execution_count": null,
      "metadata": {
        "colab": {
          "base_uri": "https://localhost:8080/",
          "height": 34
        },
        "id": "8tMWp33eOaFJ",
        "outputId": "0ce89f44-ce57-4e01-b9d3-4281f9836eb2"
      },
      "outputs": [
        {
          "data": {
            "text/plain": [
              "('121.00', '12.000000')"
            ]
          },
          "execution_count": 45,
          "metadata": {
            "tags": []
          },
          "output_type": "execute_result"
        }
      ],
      "source": [
        "format(121, \".2f\"),format(12, \"f\")"
      ]
    },
    {
      "cell_type": "code",
      "execution_count": null,
      "metadata": {
        "colab": {
          "base_uri": "https://localhost:8080/",
          "height": 35
        },
        "id": "pXRH0-GhOn46",
        "outputId": "da3f4447-c014-405b-acf6-c4a364a027c8"
      },
      "outputs": [
        {
          "data": {
            "application/vnd.google.colaboratory.intrinsic+json": {
              "type": "string"
            },
            "text/plain": [
              "'1111'"
            ]
          },
          "execution_count": 46,
          "metadata": {
            "tags": []
          },
          "output_type": "execute_result"
        }
      ],
      "source": [
        "format(15, \"b\")"
      ]
    },
    {
      "cell_type": "code",
      "execution_count": null,
      "metadata": {
        "colab": {
          "base_uri": "https://localhost:8080/",
          "height": 35
        },
        "id": "oLjbPTRxOs5f",
        "outputId": "64f949f1-9276-446c-a3bb-981bed3c36d5"
      },
      "outputs": [
        {
          "data": {
            "application/vnd.google.colaboratory.intrinsic+json": {
              "type": "string"
            },
            "text/plain": [
              "'-1011'"
            ]
          },
          "execution_count": 47,
          "metadata": {
            "tags": []
          },
          "output_type": "execute_result"
        }
      ],
      "source": [
        "format(-11, \"b\")"
      ]
    },
    {
      "cell_type": "code",
      "execution_count": null,
      "metadata": {
        "colab": {
          "base_uri": "https://localhost:8080/",
          "height": 35
        },
        "id": "VxZWQBe7O4QI",
        "outputId": "f94a8fd0-6b32-4a13-cd28-853a0a832ada"
      },
      "outputs": [
        {
          "data": {
            "application/vnd.google.colaboratory.intrinsic+json": {
              "type": "string"
            },
            "text/plain": [
              "'*+1,561'"
            ]
          },
          "execution_count": 48,
          "metadata": {
            "tags": []
          },
          "output_type": "execute_result"
        }
      ],
      "source": [
        "format(1561, \"*>+7,d\")"
      ]
    },
    {
      "cell_type": "code",
      "execution_count": null,
      "metadata": {
        "colab": {
          "base_uri": "https://localhost:8080/",
          "height": 35
        },
        "id": "1hp1FJiwO4MM",
        "outputId": "6403646c-1847-4bc5-9100-73b85b04a70a"
      },
      "outputs": [
        {
          "data": {
            "application/vnd.google.colaboratory.intrinsic+json": {
              "type": "string"
            },
            "text/plain": [
              "'0566.7880'"
            ]
          },
          "execution_count": 49,
          "metadata": {
            "tags": []
          },
          "output_type": "execute_result"
        }
      ],
      "source": [
        "format(566.7883, \"^-09.3f\")"
      ]
    },
    {
      "cell_type": "code",
      "execution_count": null,
      "metadata": {
        "colab": {
          "base_uri": "https://localhost:8080/",
          "height": 35
        },
        "id": "NQuhoCJWJRtg",
        "outputId": "017ebb2d-f303-432f-a049-8d9c3b689d35"
      },
      "outputs": [
        {
          "data": {
            "application/vnd.google.colaboratory.intrinsic+json": {
              "type": "string"
            },
            "text/plain": [
              "'Number 10.50 and with 10% additional is 11.55'"
            ]
          },
          "execution_count": 50,
          "metadata": {
            "tags": []
          },
          "output_type": "execute_result"
        }
      ],
      "source": [
        "x = 10.5\n",
        "y = x * 1.1\n",
        "\n",
        "'Number {:.2f} and with 10% additional is {:.2f}'.format(x,y)"
      ]
    },
    {
      "cell_type": "code",
      "execution_count": null,
      "metadata": {
        "id": "6KqaQHvcR65J",
        "outputId": "313704d6-20ab-412f-cd22-2a463d21357a"
      },
      "outputs": [
        {
          "data": {
            "text/plain": [
              "'20€'"
            ]
          },
          "execution_count": 1,
          "metadata": {},
          "output_type": "execute_result"
        }
      ],
      "source": [
        "s = '20\\u20AC'  # Unicode international character set\n",
        "s"
      ]
    },
    {
      "cell_type": "markdown",
      "metadata": {
        "id": "SfAmXy31ZW_3"
      },
      "source": [
        "<h3>⭐List</h3>"
      ]
    },
    {
      "cell_type": "markdown",
      "metadata": {
        "id": "NYHMCUGDLdOj"
      },
      "source": [
        "Python is build using C-programming. List is the most general usuable sequence in Python. However, internally it is based on the array datatype of C-programming. When a list is instantiated, an array is instantiated under the hood. An array under the list tends to have many unoccupied positions which results in the unnecessary occupancy of memory. When an element is added to the list, it get added at the empty space. But when new elements are adding even more than the size of entire array, following process happens:\n",
        "* The new array with larger size is instantiated corresponding to the size of previous array but the exact dimension is fuzzy. \n",
        "* All the elements are copied to the new array. \n",
        "* Old array deleted. \n",
        "* New elements are then appended to the new array. \n",
        "\n",
        "When the elements from the list is removed, it tends to contract its size generally after around half of the positions are unoccupied. \n",
        "\n",
        "-----------------------------------------------------------------------\n",
        "* Lists are mutable\n",
        "* It is a referential structure(a[0],a[1],... reference to a particular element)\n",
        "* It is zero-indexed. \n",
        "* It can dynamically expand and contract its size depending upon the requirement and using above mechanism⬆.  \n",
        "* It uses [ ] as delimiters for literals. "
      ]
    },
    {
      "cell_type": "code",
      "execution_count": null,
      "metadata": {
        "colab": {
          "base_uri": "https://localhost:8080/"
        },
        "id": "Je6HjrF4Vt8K",
        "outputId": "09930fda-388e-4b63-8f2d-98b5c72a0474"
      },
      "outputs": [
        {
          "name": "stdout",
          "output_type": "stream",
          "text": [
            "<class 'list'>\n"
          ]
        }
      ],
      "source": [
        "a = [] #empty list\n",
        "a = list() #constructor for an empty list\n",
        "print(type(a))"
      ]
    },
    {
      "cell_type": "code",
      "execution_count": null,
      "metadata": {
        "colab": {
          "base_uri": "https://localhost:8080/"
        },
        "id": "aKULEZ7AZTdb",
        "outputId": "47afc8b5-8543-406d-d329-53e5ff4340a0"
      },
      "outputs": [
        {
          "data": {
            "text/plain": [
              "True"
            ]
          },
          "execution_count": 47,
          "metadata": {
            "tags": []
          },
          "output_type": "execute_result"
        }
      ],
      "source": [
        "a = []\n",
        "isinstance(a,list)"
      ]
    },
    {
      "cell_type": "code",
      "execution_count": null,
      "metadata": {
        "colab": {
          "base_uri": "https://localhost:8080/"
        },
        "id": "9PrVxjNIXbEM",
        "outputId": "92199d47-d69d-4092-9be3-ace1d10ca16f"
      },
      "outputs": [
        {
          "data": {
            "text/plain": [
              "['P', 'y', 't', 'h', 'o', 'n']"
            ]
          },
          "execution_count": 37,
          "metadata": {
            "tags": []
          },
          "output_type": "execute_result"
        }
      ],
      "source": [
        "list('Python')"
      ]
    },
    {
      "cell_type": "code",
      "execution_count": null,
      "metadata": {
        "colab": {
          "base_uri": "https://localhost:8080/",
          "height": 34
        },
        "id": "7jV8cy_WbNHo",
        "outputId": "1f4dfab7-8c47-4bc2-a892-0a9660ae24fe"
      },
      "outputs": [
        {
          "data": {
            "text/plain": [
              "[1, 23, 4, 3.4, 4.5, 'jvala', ['ismaa', 'Learning Python']]"
            ]
          },
          "execution_count": 52,
          "metadata": {
            "tags": []
          },
          "output_type": "execute_result"
        }
      ],
      "source": [
        "temp = [1,23,4,3.4, 4.5,'Nandini',[\"ismaa\",'Learning Python']]\n",
        "temp[5] = \"jvala\" #📌Mutability \n",
        "temp"
      ]
    },
    {
      "cell_type": "code",
      "execution_count": null,
      "metadata": {
        "colab": {
          "base_uri": "https://localhost:8080/",
          "height": 35
        },
        "id": "oRL-XTitdXuY",
        "outputId": "0c2fd317-16b9-4c2b-bfb4-e6c09de6e95e"
      },
      "outputs": [
        {
          "data": {
            "application/vnd.google.colaboratory.intrinsic+json": {
              "type": "string"
            },
            "text/plain": [
              "'maa'"
            ]
          },
          "execution_count": 53,
          "metadata": {
            "tags": []
          },
          "output_type": "execute_result"
        }
      ],
      "source": [
        "temp[6][0][2:]"
      ]
    },
    {
      "cell_type": "code",
      "execution_count": null,
      "metadata": {
        "colab": {
          "base_uri": "https://localhost:8080/",
          "height": 35
        },
        "id": "7dAwKHKUo3fz",
        "outputId": "8329603d-1bf1-4117-f737-8a4596002b75"
      },
      "outputs": [
        {
          "data": {
            "application/vnd.google.colaboratory.intrinsic+json": {
              "type": "string"
            },
            "text/plain": [
              "'Py'"
            ]
          },
          "execution_count": 54,
          "metadata": {
            "tags": []
          },
          "output_type": "execute_result"
        }
      ],
      "source": [
        "temp[6][1][-6:-4]"
      ]
    },
    {
      "cell_type": "code",
      "execution_count": null,
      "metadata": {
        "colab": {
          "base_uri": "https://localhost:8080/",
          "height": 35
        },
        "id": "fwPEcEmkeVDd",
        "outputId": "2df3d549-6ab3-44d3-c74a-b07ca469724d"
      },
      "outputs": [
        {
          "data": {
            "application/vnd.google.colaboratory.intrinsic+json": {
              "type": "string"
            },
            "text/plain": [
              "'sm'"
            ]
          },
          "execution_count": 55,
          "metadata": {
            "tags": []
          },
          "output_type": "execute_result"
        }
      ],
      "source": [
        "var = temp[6][0]\n",
        "var[1:3]"
      ]
    },
    {
      "cell_type": "code",
      "execution_count": null,
      "metadata": {
        "colab": {
          "base_uri": "https://localhost:8080/",
          "height": 34
        },
        "id": "3SjlVOSVaAsK",
        "outputId": "72a759d3-e794-4f5a-f427-68e45c8481fc"
      },
      "outputs": [
        {
          "name": "stdout",
          "output_type": "stream",
          "text": [
            "['a', 'b', 34, [23, 3], 'Hello, World!']\n"
          ]
        }
      ],
      "source": [
        "a = ['a','b',34,[23,3],'Hello, World!']\n",
        "print(a)"
      ]
    },
    {
      "cell_type": "code",
      "execution_count": null,
      "metadata": {
        "colab": {
          "base_uri": "https://localhost:8080/",
          "height": 35
        },
        "id": "WqxNuoudaFZO",
        "outputId": "0f8cc599-e799-4283-e3b7-324781ec4b29"
      },
      "outputs": [
        {
          "data": {
            "application/vnd.google.colaboratory.intrinsic+json": {
              "type": "string"
            },
            "text/plain": [
              "'b'"
            ]
          },
          "execution_count": 57,
          "metadata": {
            "tags": []
          },
          "output_type": "execute_result"
        }
      ],
      "source": [
        "a[1]"
      ]
    },
    {
      "cell_type": "code",
      "execution_count": null,
      "metadata": {
        "colab": {
          "base_uri": "https://localhost:8080/",
          "height": 34
        },
        "id": "0D1UrQffaKY5",
        "outputId": "dba4fedd-a430-4c88-c0dd-a14b2e7aadfb"
      },
      "outputs": [
        {
          "data": {
            "text/plain": [
              "[23, 3]"
            ]
          },
          "execution_count": 58,
          "metadata": {
            "tags": []
          },
          "output_type": "execute_result"
        }
      ],
      "source": [
        "a[3]"
      ]
    },
    {
      "cell_type": "code",
      "execution_count": null,
      "metadata": {
        "colab": {
          "base_uri": "https://localhost:8080/",
          "height": 34
        },
        "id": "g4KCCcn7aMyT",
        "outputId": "270335c1-fc8d-4305-efc1-b847461ddc78"
      },
      "outputs": [
        {
          "data": {
            "text/plain": [
              "3"
            ]
          },
          "execution_count": 59,
          "metadata": {
            "tags": []
          },
          "output_type": "execute_result"
        }
      ],
      "source": [
        "a[3][1]"
      ]
    },
    {
      "cell_type": "code",
      "execution_count": null,
      "metadata": {
        "colab": {
          "base_uri": "https://localhost:8080/",
          "height": 35
        },
        "id": "IgZlowt0aQFJ",
        "outputId": "4a2cba4f-7c0a-4658-cd64-fdb4bf14c41f"
      },
      "outputs": [
        {
          "data": {
            "application/vnd.google.colaboratory.intrinsic+json": {
              "type": "string"
            },
            "text/plain": [
              "'W'"
            ]
          },
          "execution_count": 60,
          "metadata": {
            "tags": []
          },
          "output_type": "execute_result"
        }
      ],
      "source": [
        "a[4][7]"
      ]
    },
    {
      "cell_type": "code",
      "execution_count": null,
      "metadata": {
        "colab": {
          "base_uri": "https://localhost:8080/",
          "height": 34
        },
        "id": "-KTwaedYaRyW",
        "outputId": "732317ce-5170-4173-9bf8-12afae5d14e3"
      },
      "outputs": [
        {
          "data": {
            "text/plain": [
              "True"
            ]
          },
          "execution_count": 61,
          "metadata": {
            "tags": []
          },
          "output_type": "execute_result"
        }
      ],
      "source": [
        "a[4][12] == a[4][-1]"
      ]
    },
    {
      "cell_type": "code",
      "execution_count": null,
      "metadata": {
        "colab": {
          "base_uri": "https://localhost:8080/",
          "height": 35
        },
        "id": "Xbj5t-enaTe0",
        "outputId": "423037f9-90e5-49bb-b1e1-5d7a5b30fd1b"
      },
      "outputs": [
        {
          "data": {
            "application/vnd.google.colaboratory.intrinsic+json": {
              "type": "string"
            },
            "text/plain": [
              "'Hello'"
            ]
          },
          "execution_count": 62,
          "metadata": {
            "tags": []
          },
          "output_type": "execute_result"
        }
      ],
      "source": [
        "a[4][0:5] #📌slicing"
      ]
    },
    {
      "cell_type": "code",
      "execution_count": null,
      "metadata": {
        "colab": {
          "base_uri": "https://localhost:8080/",
          "height": 34
        },
        "id": "922VHQUTaVrw",
        "outputId": "7a3a4274-3d66-477e-9cab-a65ee065f24c"
      },
      "outputs": [
        {
          "data": {
            "text/plain": [
              "5"
            ]
          },
          "execution_count": 63,
          "metadata": {
            "tags": []
          },
          "output_type": "execute_result"
        }
      ],
      "source": [
        "len(a)"
      ]
    },
    {
      "cell_type": "code",
      "execution_count": null,
      "metadata": {
        "id": "vBEXgaJ1qKfW"
      },
      "outputs": [],
      "source": [
        "temp = [38,39,33,37,32,50]"
      ]
    },
    {
      "cell_type": "code",
      "execution_count": null,
      "metadata": {
        "colab": {
          "base_uri": "https://localhost:8080/",
          "height": 52
        },
        "id": "DbAMgbkGaY5K",
        "outputId": "4a62e1c4-a55f-43ce-e973-155a51039415"
      },
      "outputs": [
        {
          "name": "stdout",
          "output_type": "stream",
          "text": [
            "32\n",
            "50\n"
          ]
        }
      ],
      "source": [
        "print(min(temp)) #📌built-in function\n",
        "print(max(temp))"
      ]
    },
    {
      "cell_type": "code",
      "execution_count": null,
      "metadata": {
        "colab": {
          "base_uri": "https://localhost:8080/",
          "height": 34
        },
        "id": "SWqwZC-DadTK",
        "outputId": "51875b28-3daf-458f-eccc-f662aa805d2b"
      },
      "outputs": [
        {
          "data": {
            "text/plain": [
              "[1, 2, 3, 4, 2, 2, 2, 2]"
            ]
          },
          "execution_count": 66,
          "metadata": {
            "tags": []
          },
          "output_type": "execute_result"
        }
      ],
      "source": [
        "[1,2,3,4] + [2,2,2,2] #concatenation"
      ]
    },
    {
      "cell_type": "code",
      "execution_count": null,
      "metadata": {
        "colab": {
          "base_uri": "https://localhost:8080/",
          "height": 34
        },
        "id": "F6VMrW4-ao8s",
        "outputId": "5c2a101c-4a85-43b5-f400-0c70ea540a1c"
      },
      "outputs": [
        {
          "data": {
            "text/plain": [
              "True"
            ]
          },
          "execution_count": 67,
          "metadata": {
            "tags": []
          },
          "output_type": "execute_result"
        }
      ],
      "source": [
        "'a' in a "
      ]
    },
    {
      "cell_type": "code",
      "execution_count": null,
      "metadata": {
        "colab": {
          "base_uri": "https://localhost:8080/",
          "height": 34
        },
        "id": "yyocLR-Gar9v",
        "outputId": "a8791b23-d5d7-45e6-ef4e-a2435e5be6aa"
      },
      "outputs": [
        {
          "data": {
            "text/plain": [
              "['a', 'b', 34, [23, 3], 'Hello, World!', 'd']"
            ]
          },
          "execution_count": 68,
          "metadata": {
            "tags": []
          },
          "output_type": "execute_result"
        }
      ],
      "source": [
        "a.append('d')  #📌built-in method which is use to add a element at the end of list\n",
        "a"
      ]
    },
    {
      "cell_type": "code",
      "execution_count": null,
      "metadata": {
        "colab": {
          "base_uri": "https://localhost:8080/",
          "height": 34
        },
        "id": "y6_N7o-9a0VU",
        "outputId": "3210321a-2006-4a91-a66e-3b8eba185ca5"
      },
      "outputs": [
        {
          "data": {
            "text/plain": [
              "5"
            ]
          },
          "execution_count": 69,
          "metadata": {
            "tags": []
          },
          "output_type": "execute_result"
        }
      ],
      "source": [
        "a.index('d') #this method is called \"accessors\" because it does not change the state of an object"
      ]
    },
    {
      "cell_type": "code",
      "execution_count": null,
      "metadata": {
        "colab": {
          "base_uri": "https://localhost:8080/",
          "height": 34
        },
        "id": "8-hYVsu-4Szx",
        "outputId": "9601b9f6-0b9b-4772-b599-66a106850460"
      },
      "outputs": [
        {
          "data": {
            "text/plain": [
              "['a', 'b', 34, [23, 3], 'Hello, World!', 'd']"
            ]
          },
          "execution_count": 70,
          "metadata": {
            "tags": []
          },
          "output_type": "execute_result"
        }
      ],
      "source": [
        "a"
      ]
    },
    {
      "cell_type": "code",
      "execution_count": null,
      "metadata": {
        "colab": {
          "base_uri": "https://localhost:8080/",
          "height": 34
        },
        "id": "9jGLtNT6a2Nh",
        "outputId": "0ca5e820-40d7-4ae6-e2b1-7cbcdb79d0d9"
      },
      "outputs": [
        {
          "data": {
            "text/plain": [
              "['a', 'b', 34, [23, 'Piyush'], 'Hello, World!', 'd']"
            ]
          },
          "execution_count": 71,
          "metadata": {
            "tags": []
          },
          "output_type": "execute_result"
        }
      ],
      "source": [
        "a[3][1] = 'Piyush'  #📌 Lists are mutuable\n",
        "a"
      ]
    },
    {
      "cell_type": "code",
      "execution_count": null,
      "metadata": {
        "colab": {
          "base_uri": "https://localhost:8080/",
          "height": 34
        },
        "id": "BHrM18MSuYQf",
        "outputId": "3bf5ee9c-ce3c-42f9-ced2-7981abae1941"
      },
      "outputs": [
        {
          "data": {
            "text/plain": [
              "5"
            ]
          },
          "execution_count": 72,
          "metadata": {
            "tags": []
          },
          "output_type": "execute_result"
        }
      ],
      "source": [
        "a.index('d')"
      ]
    },
    {
      "cell_type": "code",
      "execution_count": null,
      "metadata": {
        "colab": {
          "base_uri": "https://localhost:8080/"
        },
        "id": "ZPC8uBETyYbv",
        "outputId": "8284e994-f9bc-4fd0-d1ed-aee37e9e116d"
      },
      "outputs": [
        {
          "name": "stdout",
          "output_type": "stream",
          "text": [
            "[1, 2, 3, 4, 5, 6, 7, 8, 9]\n",
            "[1, 3, 4, 5, 6, 7, 8, 9]\n"
          ]
        }
      ],
      "source": [
        "a = [1,2,3]\n",
        "b = [4,5,6]\n",
        "c = [*a,*b,7,8,9] #spreading\n",
        "print(c)\n",
        "\n",
        "del c[1]\n",
        "print(c)"
      ]
    },
    {
      "cell_type": "code",
      "execution_count": null,
      "metadata": {
        "colab": {
          "base_uri": "https://localhost:8080/",
          "height": 106
        },
        "id": "4DW0JQeDe20t",
        "outputId": "38cd76ac-8d78-4c69-8ff6-542c451e4608"
      },
      "outputs": [
        {
          "name": "stdout",
          "output_type": "stream",
          "text": [
            "[10, 1, 2, 3, 4, 5, 6, 7, 8, 9]\n",
            "6\n",
            "[10, 1, 2, 3, 4, 5, 6, 7, 8]\n",
            "[10, 8, 7, 6, 5, 4, 3, 2, 1]\n",
            "[10, 8, 7, 6, 5, 4, 3, 2, 1]\n"
          ]
        }
      ],
      "source": [
        "c.insert(0,10)\n",
        "print(c)\n",
        "\n",
        "print(c.index(6))\n",
        "\n",
        "c.remove(9)\n",
        "print(c)\n",
        "\n",
        "c.sort() #Permanent sorting\n",
        "#this method is called mutators(or update methods) because it changes the state of an object\n",
        "c.sort(reverse=True)  #TC - O(NlogN)\n",
        "\n",
        "d = c.copy() #preventing the duplication of pointer to memory address\n",
        "e = c[:] #alternate method of above\n",
        "\n",
        "print(d)\n",
        "print(e)"
      ]
    },
    {
      "cell_type": "code",
      "execution_count": null,
      "metadata": {
        "colab": {
          "base_uri": "https://localhost:8080/"
        },
        "id": "p_iiIH6s1A0C",
        "outputId": "274ce694-78c8-49c0-883a-580181b652e6"
      },
      "outputs": [
        {
          "name": "stdout",
          "output_type": "stream",
          "text": [
            "True\n",
            "True\n",
            "True\n"
          ]
        }
      ],
      "source": [
        "a = [1,2,3,4,5]\n",
        "b = [1,2]\n",
        "c = [4,5]\n",
        "print(a >= b) #compare lexicographically\n",
        "print(a > b)  #compare lexicographically\n",
        "print(c > a)  #compare lexicographically"
      ]
    },
    {
      "cell_type": "code",
      "execution_count": null,
      "metadata": {
        "id": "yCN0GkFZR65N",
        "outputId": "3dbc1091-6102-4e40-ad3b-699e06a0cce2"
      },
      "outputs": [
        {
          "name": "stdout",
          "output_type": "stream",
          "text": [
            "[1, 2, 3, 4, 5, 6, 7, 8, 9]\n",
            "[1, 2, 3, 4, 5, 6, 7, 8, 9]\n"
          ]
        }
      ],
      "source": [
        "a = [1,2,3,4,5]\n",
        "b = a   #Aliased\n",
        "b += [6,7,8,9]  #Note - Alias not broken\n",
        "print(b)\n",
        "print(a)"
      ]
    },
    {
      "cell_type": "code",
      "execution_count": null,
      "metadata": {
        "id": "xwbT0Rg2R65N",
        "outputId": "f9f50ae2-f28a-476a-d185-f2951bc5e4d8"
      },
      "outputs": [
        {
          "name": "stdout",
          "output_type": "stream",
          "text": [
            "[1, 2, 3, 4, 5, 6, 7, 8, 9]\n",
            "[1, 2, 3, 4, 5]\n"
          ]
        }
      ],
      "source": [
        "a = [1,2,3,4,5]\n",
        "b = a   #Aliased\n",
        "b = b + [6,7,8,9]  #Note - Alias broken💔\n",
        "print(b)\n",
        "print(a)"
      ]
    },
    {
      "cell_type": "markdown",
      "metadata": {
        "id": "mlyAt4IvM6qE"
      },
      "source": [
        "<h3>⭐Tuple</h3>"
      ]
    },
    {
      "cell_type": "markdown",
      "metadata": {
        "id": "iEq2dhLBXzta"
      },
      "source": [
        "* It is also a sequence datatype of Python\n",
        "* It uses ( ) as delimiter\n",
        "* It is immutable - Internal representation is more streamlined than that of a list."
      ]
    },
    {
      "cell_type": "code",
      "execution_count": null,
      "metadata": {
        "colab": {
          "base_uri": "https://localhost:8080/"
        },
        "id": "ehu9yDDfYMXe",
        "outputId": "b0fd216b-8fbd-48bb-8640-1bf3e2d23257"
      },
      "outputs": [
        {
          "data": {
            "text/plain": [
              "()"
            ]
          },
          "execution_count": 38,
          "metadata": {
            "tags": []
          },
          "output_type": "execute_result"
        }
      ],
      "source": [
        "tuple() #default tuple"
      ]
    },
    {
      "cell_type": "code",
      "execution_count": null,
      "metadata": {
        "colab": {
          "base_uri": "https://localhost:8080/"
        },
        "id": "ibihEFZVYOMu",
        "outputId": "354a527a-ea25-4e55-ea41-522eaad0046d"
      },
      "outputs": [
        {
          "data": {
            "text/plain": [
              "int"
            ]
          },
          "execution_count": 40,
          "metadata": {
            "tags": []
          },
          "output_type": "execute_result"
        }
      ],
      "source": [
        "type((1))"
      ]
    },
    {
      "cell_type": "code",
      "execution_count": null,
      "metadata": {
        "colab": {
          "base_uri": "https://localhost:8080/"
        },
        "id": "CVkOU-QOYOJc",
        "outputId": "a0a35c3e-6238-424a-c382-5c39193d5dab"
      },
      "outputs": [
        {
          "data": {
            "text/plain": [
              "tuple"
            ]
          },
          "execution_count": 44,
          "metadata": {
            "tags": []
          },
          "output_type": "execute_result"
        }
      ],
      "source": [
        "type((1,)) #Notice the difference with comma   "
      ]
    },
    {
      "cell_type": "code",
      "execution_count": null,
      "metadata": {
        "colab": {
          "base_uri": "https://localhost:8080/"
        },
        "id": "LZNetn5nYYXm",
        "outputId": "3789bd13-0824-4432-90e0-afbb1419fd17"
      },
      "outputs": [
        {
          "data": {
            "text/plain": [
              "tuple"
            ]
          },
          "execution_count": 51,
          "metadata": {
            "tags": []
          },
          "output_type": "execute_result"
        }
      ],
      "source": [
        "a = 1, #one-element tuple\n",
        "type(a)"
      ]
    },
    {
      "cell_type": "code",
      "execution_count": null,
      "metadata": {
        "colab": {
          "base_uri": "https://localhost:8080/"
        },
        "id": "9SoZIaQNYb1E",
        "outputId": "c41a97b6-f32a-40cb-942d-0488e692b1df"
      },
      "outputs": [
        {
          "data": {
            "text/plain": [
              "(1,)"
            ]
          },
          "execution_count": 52,
          "metadata": {
            "tags": []
          },
          "output_type": "execute_result"
        }
      ],
      "source": [
        "a"
      ]
    },
    {
      "cell_type": "code",
      "execution_count": null,
      "metadata": {
        "colab": {
          "base_uri": "https://localhost:8080/"
        },
        "id": "U-re4eT9ZcBl",
        "outputId": "f250a34e-1979-4d2d-a09b-7715350b3efa"
      },
      "outputs": [
        {
          "data": {
            "text/plain": [
              "True"
            ]
          },
          "execution_count": 53,
          "metadata": {
            "tags": []
          },
          "output_type": "execute_result"
        }
      ],
      "source": [
        "isinstance(a,tuple)"
      ]
    },
    {
      "cell_type": "code",
      "execution_count": null,
      "metadata": {
        "colab": {
          "base_uri": "https://localhost:8080/",
          "height": 34
        },
        "id": "K4QWwU3wa4Dz",
        "outputId": "3d90ca1f-7b4f-43e4-d456-e6faa788c585"
      },
      "outputs": [
        {
          "data": {
            "text/plain": [
              "(1, 2, 3, 4)"
            ]
          },
          "execution_count": 73,
          "metadata": {
            "tags": []
          },
          "output_type": "execute_result"
        }
      ],
      "source": [
        "tup = (1,2,3,4)\n",
        "tup"
      ]
    },
    {
      "cell_type": "code",
      "execution_count": null,
      "metadata": {
        "colab": {
          "base_uri": "https://localhost:8080/",
          "height": 34
        },
        "id": "L6udyWpzbWE7",
        "outputId": "bc812091-10bf-420e-d2fc-45dbf0923055"
      },
      "outputs": [
        {
          "data": {
            "text/plain": [
              "1"
            ]
          },
          "execution_count": 74,
          "metadata": {
            "tags": []
          },
          "output_type": "execute_result"
        }
      ],
      "source": [
        "tup[0]"
      ]
    },
    {
      "cell_type": "code",
      "execution_count": null,
      "metadata": {
        "colab": {
          "base_uri": "https://localhost:8080/",
          "height": 167
        },
        "id": "RfVFANXebYYR",
        "outputId": "f3e85850-2f40-4e49-eb7e-04ef776c76ec"
      },
      "outputs": [
        {
          "ename": "TypeError",
          "evalue": "ignored",
          "output_type": "error",
          "traceback": [
            "\u001b[0;31m---------------------------------------------------------------------------\u001b[0m",
            "\u001b[0;31mTypeError\u001b[0m                                 Traceback (most recent call last)",
            "\u001b[0;32m<ipython-input-75-323d94f11b86>\u001b[0m in \u001b[0;36m<module>\u001b[0;34m()\u001b[0m\n\u001b[0;32m----> 1\u001b[0;31m \u001b[0mtup\u001b[0m\u001b[0;34m[\u001b[0m\u001b[0;36m0\u001b[0m\u001b[0;34m]\u001b[0m \u001b[0;34m=\u001b[0m \u001b[0;34m\"Laptop\"\u001b[0m   \u001b[0;31m#📌 tuples are immutuable 📌Error because tuple is immutable\u001b[0m\u001b[0;34m\u001b[0m\u001b[0;34m\u001b[0m\u001b[0m\n\u001b[0m",
            "\u001b[0;31mTypeError\u001b[0m: 'tuple' object does not support item assignment"
          ]
        }
      ],
      "source": [
        "tup[0] = \"Laptop\"   #📌 tuples are immutuable 📌Error because tuple is immutable"
      ]
    },
    {
      "cell_type": "code",
      "execution_count": null,
      "metadata": {
        "colab": {
          "base_uri": "https://localhost:8080/",
          "height": 34
        },
        "id": "Ry03zsQqbfQo",
        "outputId": "0f1c48e9-af4a-4719-f165-bdbfae5553d6"
      },
      "outputs": [
        {
          "data": {
            "text/plain": [
              "(1, 2, 3, 4, 5)"
            ]
          },
          "execution_count": 76,
          "metadata": {
            "tags": []
          },
          "output_type": "execute_result"
        }
      ],
      "source": [
        "t = (1,2,3,4) #create tuple\n",
        "t = list(t)   # convert tuple into list using list() function\n",
        "t.append(5)  # add 5 in list t [1,2,3,4,5]\n",
        "t = tuple(t)  # convert into tuple using tuple() function\n",
        "t"
      ]
    },
    {
      "cell_type": "code",
      "execution_count": null,
      "metadata": {
        "colab": {
          "base_uri": "https://localhost:8080/",
          "height": 34
        },
        "id": "Go2b_k6zbnD7",
        "outputId": "5bc6c40e-beb8-49ce-9403-b5e6395250c0"
      },
      "outputs": [
        {
          "data": {
            "text/plain": [
              "5"
            ]
          },
          "execution_count": 77,
          "metadata": {
            "tags": []
          },
          "output_type": "execute_result"
        }
      ],
      "source": [
        "len(t)"
      ]
    },
    {
      "cell_type": "code",
      "execution_count": null,
      "metadata": {
        "colab": {
          "base_uri": "https://localhost:8080/",
          "height": 34
        },
        "id": "vpVgeogzym5y",
        "outputId": "192d6607-10c3-4623-b89f-bb07e5f35346"
      },
      "outputs": [
        {
          "name": "stdout",
          "output_type": "stream",
          "text": [
            "(1, 2, 3, 4, 5, 6, 7, 8, 9)\n"
          ]
        }
      ],
      "source": [
        "a = (1,2,3)\n",
        "b = (4,5,6)\n",
        "c = (*a,*b,7,8,9) #spreading\n",
        "print(c)"
      ]
    },
    {
      "cell_type": "markdown",
      "metadata": {
        "id": "EH9fInQaeR8z"
      },
      "source": [
        "<h3>⭐Set</h3>\n",
        "<ul><b>Unordered</b> collection of objects to perform mathematical set operation. Contains only unique items. </ul>\n",
        "<ul>Optimized as compared to a list and based on hash table data structure.</ul>\n",
        "<ul>Contains immutable elements but itself is mutable</ul>\n",
        "<ul>TC to access an element in a set is O(1) vs O(N) in list</ul>"
      ]
    },
    {
      "cell_type": "code",
      "execution_count": null,
      "metadata": {
        "colab": {
          "base_uri": "https://localhost:8080/"
        },
        "id": "aNt2-gCQpiqL",
        "outputId": "34fe35f2-568e-4823-efbd-a8760d0152cb"
      },
      "outputs": [
        {
          "name": "stdout",
          "output_type": "stream",
          "text": [
            "<class 'set'>\n",
            "<class 'dict'>\n"
          ]
        }
      ],
      "source": [
        "a = set()  #constructor set()\n",
        "print(type(a))\n",
        "\n",
        "a = {}\n",
        "print(type(a))"
      ]
    },
    {
      "cell_type": "code",
      "execution_count": null,
      "metadata": {
        "colab": {
          "base_uri": "https://localhost:8080/"
        },
        "id": "toTZghZppvGh",
        "outputId": "bf638ab0-e781-45b6-9c47-326e77649dc3"
      },
      "outputs": [
        {
          "data": {
            "text/plain": [
              "set"
            ]
          },
          "execution_count": 92,
          "metadata": {
            "tags": []
          },
          "output_type": "execute_result"
        }
      ],
      "source": [
        "a = {1,2,3}\n",
        "type(a)"
      ]
    },
    {
      "cell_type": "code",
      "execution_count": null,
      "metadata": {
        "colab": {
          "base_uri": "https://localhost:8080/"
        },
        "id": "IdTis5T3pzIm",
        "outputId": "9ec70ba1-0ce3-41f4-eb6f-1caa20155f36"
      },
      "outputs": [
        {
          "data": {
            "text/plain": [
              "{'P', 'h', 'n', 'o', 't', 'y'}"
            ]
          },
          "execution_count": 93,
          "metadata": {
            "tags": []
          },
          "output_type": "execute_result"
        }
      ],
      "source": [
        "a = 'Python'\n",
        "set(a) #unordered"
      ]
    },
    {
      "cell_type": "code",
      "execution_count": null,
      "metadata": {
        "colab": {
          "base_uri": "https://localhost:8080/"
        },
        "id": "lQuvPmpSb2vh",
        "outputId": "f12eaa20-3f00-47a6-ffa9-68bfbfad832d"
      },
      "outputs": [
        {
          "name": "stdout",
          "output_type": "stream",
          "text": [
            "{1, 2, 3, 4, 5}\n",
            "{4, 5, 6, 7}\n"
          ]
        }
      ],
      "source": [
        "a = {1,2,3,4,5}\n",
        "b = {4,5,6,7,7}  # 7 twice\n",
        "print(a)\n",
        "print(b) #printed only once because set do not contain two similar elements"
      ]
    },
    {
      "cell_type": "code",
      "execution_count": null,
      "metadata": {
        "colab": {
          "base_uri": "https://localhost:8080/"
        },
        "id": "LkM5I10Me5IT",
        "outputId": "3f216b42-4b40-4587-a97b-ec0d1ff3cf93"
      },
      "outputs": [
        {
          "data": {
            "text/plain": [
              "{1, 2, 3, 4, 5, 6, 7}"
            ]
          },
          "execution_count": 95,
          "metadata": {
            "tags": []
          },
          "output_type": "execute_result"
        }
      ],
      "source": [
        "#OR\n",
        "a | b "
      ]
    },
    {
      "cell_type": "code",
      "execution_count": null,
      "metadata": {
        "colab": {
          "base_uri": "https://localhost:8080/"
        },
        "id": "0FuT1pwnfMyW",
        "outputId": "00355ebd-ae81-45d5-a3ee-fc13d9ddca07"
      },
      "outputs": [
        {
          "name": "stdout",
          "output_type": "stream",
          "text": [
            "{1, 2, 3, 4, 5, 6, 7}\n",
            "{1, 2, 3, 4, 5, 6, 7}\n"
          ]
        }
      ],
      "source": [
        "#union\n",
        "print(a.union(b)) #a u b\n",
        "print(b.union(a)) #b u a"
      ]
    },
    {
      "cell_type": "code",
      "execution_count": null,
      "metadata": {
        "colab": {
          "base_uri": "https://localhost:8080/"
        },
        "id": "a0AWsoDifKQy",
        "outputId": "0d9ad9d0-c41f-421c-e36f-e8b2ed138fca"
      },
      "outputs": [
        {
          "data": {
            "text/plain": [
              "{4, 5}"
            ]
          },
          "execution_count": 97,
          "metadata": {
            "tags": []
          },
          "output_type": "execute_result"
        }
      ],
      "source": [
        "#AND\n",
        "a & b"
      ]
    },
    {
      "cell_type": "code",
      "execution_count": null,
      "metadata": {
        "colab": {
          "base_uri": "https://localhost:8080/"
        },
        "id": "EpTQ-CwPfZfy",
        "outputId": "c3cb38b9-6169-4373-cd2d-79ebebf43141"
      },
      "outputs": [
        {
          "name": "stdout",
          "output_type": "stream",
          "text": [
            "{4, 5}\n",
            "{4, 5}\n"
          ]
        }
      ],
      "source": [
        "#intersection\n",
        "print(a.intersection(b))\n",
        "print(b.intersection(a))"
      ]
    },
    {
      "cell_type": "code",
      "execution_count": null,
      "metadata": {
        "colab": {
          "base_uri": "https://localhost:8080/"
        },
        "id": "g9uJ8xwHfiew",
        "outputId": "38c2a31d-2b13-47dd-dd80-d9b703a568dd"
      },
      "outputs": [
        {
          "name": "stdout",
          "output_type": "stream",
          "text": [
            "{1, 2, 3}\n",
            "{1, 2, 3}\n",
            "{6, 7}\n",
            "{6, 7}\n"
          ]
        }
      ],
      "source": [
        "#difference\n",
        "print(a-b)\n",
        "print(a.difference(b))\n",
        "print(b-a)\n",
        "print(b.difference(a))"
      ]
    },
    {
      "cell_type": "code",
      "execution_count": null,
      "metadata": {
        "colab": {
          "base_uri": "https://localhost:8080/"
        },
        "id": "1BeTLwMggKU5",
        "outputId": "22294586-45df-492f-d725-4777bf42f2f0"
      },
      "outputs": [
        {
          "name": "stdout",
          "output_type": "stream",
          "text": [
            "{1, 2, 3, 6, 7}\n",
            "{1, 2, 3, 6, 7}\n",
            "{1, 2, 3, 6, 7}\n",
            "{1, 2, 3, 6, 7}\n"
          ]
        }
      ],
      "source": [
        "#symmetric difference\n",
        "print(a ^ b)\n",
        "print(a.symmetric_difference(b))\n",
        "print(b ^ a)\n",
        "print(b.symmetric_difference(a))"
      ]
    },
    {
      "cell_type": "code",
      "execution_count": null,
      "metadata": {
        "colab": {
          "base_uri": "https://localhost:8080/"
        },
        "id": "fmq9GrQEhMqG",
        "outputId": "7f37b8e1-2739-44d6-cad8-ab7e37a816fb"
      },
      "outputs": [
        {
          "name": "stdout",
          "output_type": "stream",
          "text": [
            "{1, 2, 3, 4, 5}\n",
            "{1, 2, 3, 4, 5, 8}\n",
            "{2, 3, 4, 5, 8}\n",
            "{3, 4, 5, 8}\n"
          ]
        }
      ],
      "source": [
        "print(a)\n",
        "a.add(8)\n",
        "print(a)\n",
        "\n",
        "a.discard(1)\n",
        "print(a)\n",
        "\n",
        "a.remove(2)\n",
        "print(a)\n",
        "#remove raises an error if element is not in the set but discard do not"
      ]
    },
    {
      "cell_type": "code",
      "execution_count": null,
      "metadata": {
        "colab": {
          "base_uri": "https://localhost:8080/",
          "height": 167
        },
        "id": "G3ZMPCvVo5ou",
        "outputId": "087b1e0b-ff10-476c-90e7-685a0be35e3c"
      },
      "outputs": [
        {
          "ename": "TypeError",
          "evalue": "ignored",
          "output_type": "error",
          "traceback": [
            "\u001b[0;31m---------------------------------------------------------------------------\u001b[0m",
            "\u001b[0;31mTypeError\u001b[0m                                 Traceback (most recent call last)",
            "\u001b[0;32m<ipython-input-102-4b1da96d43b5>\u001b[0m in \u001b[0;36m<module>\u001b[0;34m()\u001b[0m\n\u001b[0;32m----> 1\u001b[0;31m \u001b[0ma\u001b[0m\u001b[0;34m.\u001b[0m\u001b[0madd\u001b[0m\u001b[0;34m(\u001b[0m\u001b[0;34m[\u001b[0m\u001b[0;36m1\u001b[0m\u001b[0;34m,\u001b[0m\u001b[0;36m2\u001b[0m\u001b[0;34m]\u001b[0m\u001b[0;34m)\u001b[0m \u001b[0;31m#set contains only immutable items not mutable; raise error\u001b[0m\u001b[0;34m\u001b[0m\u001b[0;34m\u001b[0m\u001b[0m\n\u001b[0m",
            "\u001b[0;31mTypeError\u001b[0m: unhashable type: 'list'"
          ]
        }
      ],
      "source": [
        "a.add([1,2]) #set contains only immutable items not mutable; raise error"
      ]
    },
    {
      "cell_type": "code",
      "execution_count": null,
      "metadata": {
        "colab": {
          "base_uri": "https://localhost:8080/",
          "height": 167
        },
        "id": "-0HV1UXApM9h",
        "outputId": "4668fc58-e4ba-44cc-a9db-9a64f01c39e2"
      },
      "outputs": [
        {
          "ename": "TypeError",
          "evalue": "ignored",
          "output_type": "error",
          "traceback": [
            "\u001b[0;31m---------------------------------------------------------------------------\u001b[0m",
            "\u001b[0;31mTypeError\u001b[0m                                 Traceback (most recent call last)",
            "\u001b[0;32m<ipython-input-108-976d59242296>\u001b[0m in \u001b[0;36m<module>\u001b[0;34m()\u001b[0m\n\u001b[0;32m----> 1\u001b[0;31m \u001b[0ma\u001b[0m\u001b[0;34m.\u001b[0m\u001b[0madd\u001b[0m\u001b[0;34m(\u001b[0m\u001b[0;34m{\u001b[0m\u001b[0;36m1\u001b[0m\u001b[0;34m,\u001b[0m\u001b[0;36m2\u001b[0m\u001b[0;34m}\u001b[0m\u001b[0;34m)\u001b[0m \u001b[0;31m# a set is also mutable; raise error\u001b[0m\u001b[0;34m\u001b[0m\u001b[0;34m\u001b[0m\u001b[0m\n\u001b[0m",
            "\u001b[0;31mTypeError\u001b[0m: unhashable type: 'set'"
          ]
        }
      ],
      "source": [
        "a.add({1,2}) # a set is also mutable; raise error"
      ]
    },
    {
      "cell_type": "code",
      "execution_count": null,
      "metadata": {
        "colab": {
          "base_uri": "https://localhost:8080/"
        },
        "id": "HKVLzY6ZpT0X",
        "outputId": "a791c2dc-8345-4aaa-d349-4b35203f78aa"
      },
      "outputs": [
        {
          "name": "stdout",
          "output_type": "stream",
          "text": [
            "{(1, 2), 3, 4, 5, 6, 7, 8}\n"
          ]
        },
        {
          "data": {
            "text/plain": [
              "{(1, 2), 3, 4, 5, 6, 7, 8, 'hello'}"
            ]
          },
          "execution_count": 106,
          "metadata": {
            "tags": []
          },
          "output_type": "execute_result"
        }
      ],
      "source": [
        "a.add((1,2))\n",
        "print(a)\n",
        "\n",
        "a.add('hello')\n",
        "a"
      ]
    },
    {
      "cell_type": "code",
      "execution_count": null,
      "metadata": {
        "colab": {
          "base_uri": "https://localhost:8080/"
        },
        "id": "tdhIV1NHqETR",
        "outputId": "8d544e89-e0ec-4089-af6c-4dfd0cc0ba8f"
      },
      "outputs": [
        {
          "data": {
            "text/plain": [
              "{(1, 2), 17, 19, 3, 4, 5, 6, 7, 8, 9, 'hello'}"
            ]
          },
          "execution_count": 110,
          "metadata": {
            "tags": []
          },
          "output_type": "execute_result"
        }
      ],
      "source": [
        "#adding multiple elements\n",
        "a.update([9,19,17]) #here we are not adding a list instead multiple elements\n",
        "a"
      ]
    },
    {
      "cell_type": "code",
      "execution_count": null,
      "metadata": {
        "colab": {
          "base_uri": "https://localhost:8080/"
        },
        "id": "owb81z00tLgb",
        "outputId": "277ecc5d-d0c0-4504-be9e-f24bc9d38c1a"
      },
      "outputs": [
        {
          "data": {
            "text/plain": [
              "{2, 3, 4, 5, 6}"
            ]
          },
          "execution_count": 116,
          "metadata": {
            "tags": []
          },
          "output_type": "execute_result"
        }
      ],
      "source": [
        "s = {1,2,3,4,5,6}\n",
        "s.pop() #removing a random element; mutator-method\n",
        "s "
      ]
    },
    {
      "cell_type": "code",
      "execution_count": null,
      "metadata": {
        "colab": {
          "base_uri": "https://localhost:8080/"
        },
        "id": "6SsAbWtrt7vq",
        "outputId": "7dadbb2e-5dc3-4b36-ac03-416ea1aad3db"
      },
      "outputs": [
        {
          "data": {
            "text/plain": [
              "set()"
            ]
          },
          "execution_count": 117,
          "metadata": {
            "tags": []
          },
          "output_type": "execute_result"
        }
      ],
      "source": [
        "s = {1,2,3,4,5,6}\n",
        "s.clear()\n",
        "s"
      ]
    },
    {
      "cell_type": "code",
      "execution_count": null,
      "metadata": {
        "colab": {
          "base_uri": "https://localhost:8080/"
        },
        "id": "29-dftevuxTb",
        "outputId": "03b9bcc9-b72b-4bef-dacf-38a16a30ff7a"
      },
      "outputs": [
        {
          "name": "stdout",
          "output_type": "stream",
          "text": [
            "{1, 2, 3, 4, 5, 6}\n",
            "{2, 3, 4, 5, 6}\n",
            "set()\n",
            "{1}\n"
          ]
        }
      ],
      "source": [
        "s = {1,2,3,4,5,6}\n",
        "t = s.copy()\n",
        "print(t)\n",
        "\n",
        "t.pop()\n",
        "print(t)\n",
        "\n",
        "print(t.difference(s))\n",
        "print(s.difference(t))"
      ]
    },
    {
      "cell_type": "code",
      "execution_count": null,
      "metadata": {
        "colab": {
          "base_uri": "https://localhost:8080/"
        },
        "id": "ObjQCnRCvV5O",
        "outputId": "44e16a61-cbbe-484a-8010-aecb3228a5cc"
      },
      "outputs": [
        {
          "name": "stdout",
          "output_type": "stream",
          "text": [
            "Is t and s are dis-joint sets? True\n",
            "Is u a subset of s? True\n",
            "Is s a superset of u? True\n"
          ]
        }
      ],
      "source": [
        "s = {1,2,3,4,5,6}\n",
        "t = {10}\n",
        "u = {1,2}\n",
        "\n",
        "print('Is t and s are dis-joint sets?',t.isdisjoint(s))\n",
        "print('Is u a subset of s?',u.issubset(s))\n",
        "print('Is s a superset of u?',s.issuperset(u))"
      ]
    },
    {
      "cell_type": "code",
      "execution_count": null,
      "metadata": {
        "colab": {
          "base_uri": "https://localhost:8080/"
        },
        "id": "OEgQpTwnzLu8",
        "outputId": "a6dada46-820f-40dd-ceac-ae508eb6f05f"
      },
      "outputs": [
        {
          "name": "stdout",
          "output_type": "stream",
          "text": [
            "True\n",
            "False\n",
            "a and c are equivalent? True\n",
            "a and c are not equivalent? False\n",
            "d is subset of a? True\n",
            "d is proper subset of a? True\n",
            "a is superset of c True\n",
            "a is proper superset of d True\n",
            "union of a and d {1, 2, 3}\n",
            "intersection of a and d {1, 2}\n",
            "a is superset of b? {1, 2, 3}\n"
          ]
        }
      ],
      "source": [
        "a = {1,2,3}\n",
        "b = 1\n",
        "c = {1,2,3}\n",
        "d = {1,2}\n",
        "\n",
        "print(b in a) \n",
        "print(b not in a)\n",
        "print('a and c are equivalent?',a == c) #both are equivalent because of having same elements\n",
        "print('a and c are not equivalent?',a != c)\n",
        "print('d is subset of a?',d <= a) #not lexicographic comparison\n",
        "print('d is proper subset of a?',d < a)\n",
        "print('a is superset of c',a >= c)\n",
        "print('a is proper superset of d',a>d)\n",
        "print('union of a and d',a|d)\n",
        "print('intersection of a and d',a&d)\n",
        "print('a is superset of b?',a )"
      ]
    },
    {
      "cell_type": "markdown",
      "metadata": {
        "id": "AxHIF0QBB2xI"
      },
      "source": [
        "**Frozenset** - A special type of set which is immutable. "
      ]
    },
    {
      "cell_type": "code",
      "execution_count": null,
      "metadata": {
        "colab": {
          "base_uri": "https://localhost:8080/"
        },
        "id": "rXEYdpAl_BGp",
        "outputId": "5217335f-729c-489c-e879-a5be0c3a65ab"
      },
      "outputs": [
        {
          "data": {
            "text/plain": [
              "frozenset"
            ]
          },
          "execution_count": 1,
          "metadata": {
            "tags": []
          },
          "output_type": "execute_result"
        }
      ],
      "source": [
        "a = frozenset([1,2,3,4])\n",
        "type(a)"
      ]
    },
    {
      "cell_type": "markdown",
      "metadata": {
        "id": "_xikIpQNgwau"
      },
      "source": [
        "<h3>⭐Dictionary</h3>\n",
        "Store data in the form of Key-value pairs"
      ]
    },
    {
      "cell_type": "code",
      "execution_count": null,
      "metadata": {
        "colab": {
          "base_uri": "https://localhost:8080/",
          "height": 34
        },
        "id": "-1HsshDjglbw",
        "outputId": "49c973c9-2c61-41fd-9aa1-ab8761ba6fd6"
      },
      "outputs": [
        {
          "data": {
            "text/plain": [
              "{5: 5.0, 'one': ['isma', 'nandini', 'piyush'], 'three': 3, 'two': 2.0}"
            ]
          },
          "execution_count": 85,
          "metadata": {
            "tags": []
          },
          "output_type": "execute_result"
        }
      ],
      "source": [
        "d = {}        #dictionary declaration not a set declaration. \n",
        "d = dict()    #Another way of declaring a dictionary.      \n",
        "\n",
        "d = {'one':['isma','nandini','piyush'],'two':2.0,'three':3,5:5.0}\n",
        "d"
      ]
    },
    {
      "cell_type": "code",
      "execution_count": null,
      "metadata": {
        "colab": {
          "base_uri": "https://localhost:8080/",
          "height": 34
        },
        "id": "tLCny9ne_xQR",
        "outputId": "a658fac9-568f-4d08-ff14-4c03188ddc9e"
      },
      "outputs": [
        {
          "data": {
            "text/plain": [
              "2.0"
            ]
          },
          "execution_count": 86,
          "metadata": {
            "tags": []
          },
          "output_type": "execute_result"
        }
      ],
      "source": [
        "d['two']"
      ]
    },
    {
      "cell_type": "code",
      "execution_count": null,
      "metadata": {
        "colab": {
          "base_uri": "https://localhost:8080/",
          "height": 122
        },
        "id": "n366NRNQhF0b",
        "outputId": "99d2aace-863f-4e4d-a04b-cb2341e57fca"
      },
      "outputs": [
        {
          "data": {
            "text/plain": [
              "{5: 5.0,\n",
              " 'five': 5,\n",
              " 'four': 4,\n",
              " 'one': ['isma', 'nandini', 'piyush'],\n",
              " 'three': 3,\n",
              " 'two': 2.0}"
            ]
          },
          "execution_count": 87,
          "metadata": {
            "tags": []
          },
          "output_type": "execute_result"
        }
      ],
      "source": [
        "d['four'] = 4\n",
        "d['five'] = 5\n",
        "d"
      ]
    },
    {
      "cell_type": "code",
      "execution_count": null,
      "metadata": {
        "colab": {
          "base_uri": "https://localhost:8080/",
          "height": 34
        },
        "id": "xcnm_Zz6hKfd",
        "outputId": "26d744f1-5783-4ffc-dbf3-f597ca84a483"
      },
      "outputs": [
        {
          "data": {
            "text/plain": [
              "dict_keys(['one', 'two', 'three', 5, 'four', 'five'])"
            ]
          },
          "execution_count": 88,
          "metadata": {
            "tags": []
          },
          "output_type": "execute_result"
        }
      ],
      "source": [
        "d.keys() #📌built-in method to get all the keys"
      ]
    },
    {
      "cell_type": "code",
      "execution_count": null,
      "metadata": {
        "colab": {
          "base_uri": "https://localhost:8080/",
          "height": 34
        },
        "id": "qn9VV6h9hT0G",
        "outputId": "53e85af2-2624-4493-bf86-b6d98f5df9f8"
      },
      "outputs": [
        {
          "data": {
            "text/plain": [
              "dict_values([['isma', 'nandini', 'piyush'], 2.0, 3, 5.0, 4, 5])"
            ]
          },
          "execution_count": 89,
          "metadata": {
            "tags": []
          },
          "output_type": "execute_result"
        }
      ],
      "source": [
        "d.values()  #📌built-in method to get all the values"
      ]
    },
    {
      "cell_type": "code",
      "execution_count": null,
      "metadata": {
        "colab": {
          "base_uri": "https://localhost:8080/",
          "height": 34
        },
        "id": "YSrscTDyhYD-",
        "outputId": "07b2156c-9f5b-4ed7-d263-e52e28a4ee17"
      },
      "outputs": [
        {
          "data": {
            "text/plain": [
              "dict_items([('one', ['isma', 'nandini', 'piyush']), ('two', 2.0), ('three', 3), (5, 5.0), ('four', 4), ('five', 5)])"
            ]
          },
          "execution_count": 90,
          "metadata": {
            "tags": []
          },
          "output_type": "execute_result"
        }
      ],
      "source": [
        "d.items() #📌built-in method to get all items in form of list of tuples"
      ]
    },
    {
      "cell_type": "code",
      "execution_count": null,
      "metadata": {
        "colab": {
          "base_uri": "https://localhost:8080/",
          "height": 105
        },
        "id": "frphjVhShc2V",
        "outputId": "7c76bd3d-4ff0-47aa-a4b4-201921e90ac9"
      },
      "outputs": [
        {
          "data": {
            "text/plain": [
              "{5: 5.0,\n",
              " 'five': 5,\n",
              " 'four': 4,\n",
              " 'one': ['isma', 'nandini', 'piyush'],\n",
              " 'three': 3}"
            ]
          },
          "execution_count": 91,
          "metadata": {
            "tags": []
          },
          "output_type": "execute_result"
        }
      ],
      "source": [
        "d.pop('two') #📌built-in method to remove any pair\n",
        "d"
      ]
    },
    {
      "cell_type": "code",
      "execution_count": null,
      "metadata": {
        "colab": {
          "base_uri": "https://localhost:8080/"
        },
        "id": "92fsNxl_4c07",
        "outputId": "274a6698-9f34-4384-f39a-18a98d824d94"
      },
      "outputs": [
        {
          "name": "stdout",
          "output_type": "stream",
          "text": [
            "1 in d1? True\n",
            "1 not in d1? False\n",
            "d1 == d2? False\n",
            "d1 != d2? True\n",
            "d1 == d3? True\n",
            "d1 != d3? False\n"
          ]
        }
      ],
      "source": [
        "d1 = {1:'yes',2:'no'}\n",
        "d2 = {1:'hello',2:'viola'}\n",
        "d3 = {2:'no',1:'yes',}\n",
        "\n",
        "print('1 in d1?',1 in d1)\n",
        "print('1 not in d1?', 1 not in d1)\n",
        "print('d1 == d2?', d1 == d2) #compare both key-value non-lexicographically\n",
        "print('d1 != d2?', d1 != d2)\n",
        "print('d1 == d3?', d1 == d3)\n",
        "print('d1 != d3?', d1 != d3)"
      ]
    },
    {
      "cell_type": "markdown",
      "metadata": {
        "id": "X3MkfEOOCuLN"
      },
      "source": [
        "<h2>Aliasing in Python</h2"
      ]
    },
    {
      "cell_type": "code",
      "execution_count": null,
      "metadata": {
        "colab": {
          "base_uri": "https://localhost:8080/"
        },
        "id": "Fv69_olVCynq",
        "outputId": "d7981b55-f54d-4292-9919-52242155d46a"
      },
      "outputs": [
        {
          "data": {
            "text/plain": [
              "2"
            ]
          },
          "execution_count": 2,
          "metadata": {
            "tags": []
          },
          "output_type": "execute_result"
        }
      ],
      "source": [
        "a = 2\n",
        "b = a \n",
        "b"
      ]
    },
    {
      "cell_type": "code",
      "execution_count": null,
      "metadata": {
        "colab": {
          "base_uri": "https://localhost:8080/"
        },
        "id": "ppWGWweYC0xp",
        "outputId": "878667ea-bf1a-456e-c59c-28f419e53323"
      },
      "outputs": [
        {
          "data": {
            "text/plain": [
              "2"
            ]
          },
          "execution_count": 3,
          "metadata": {
            "tags": []
          },
          "output_type": "execute_result"
        }
      ],
      "source": [
        "b = 3\n",
        "a"
      ]
    },
    {
      "cell_type": "markdown",
      "metadata": {
        "id": "eNPTZDFJC6Vw"
      },
      "source": [
        "- Aliasing in Python works until there is no additional value assignment to the alias. Assignment to any alias breaks the alaising and will not affect other identifiers.\n",
        "- `is` is use if we explicitly what to check true alaising"
      ]
    },
    {
      "cell_type": "code",
      "execution_count": null,
      "metadata": {
        "colab": {
          "base_uri": "https://localhost:8080/"
        },
        "id": "j1tXIG-7C26O",
        "outputId": "32b3332a-19d0-4767-9043-c87ea95b4e89"
      },
      "outputs": [
        {
          "data": {
            "text/plain": [
              "1"
            ]
          },
          "execution_count": 4,
          "metadata": {
            "tags": []
          },
          "output_type": "execute_result"
        }
      ],
      "source": [
        "a = 1\n",
        "b = a\n",
        "c = b\n",
        "c"
      ]
    },
    {
      "cell_type": "code",
      "execution_count": null,
      "metadata": {
        "colab": {
          "base_uri": "https://localhost:8080/"
        },
        "id": "OH71SAIrDNku",
        "outputId": "57fd5f3d-a2ed-4f6e-a8cd-2944a7002441"
      },
      "outputs": [
        {
          "data": {
            "text/plain": [
              "1"
            ]
          },
          "execution_count": 5,
          "metadata": {
            "tags": []
          },
          "output_type": "execute_result"
        }
      ],
      "source": [
        "a = 4\n",
        "c"
      ]
    },
    {
      "cell_type": "code",
      "execution_count": null,
      "metadata": {
        "colab": {
          "base_uri": "https://localhost:8080/"
        },
        "id": "3JcZOQc5DSbw",
        "outputId": "e0f0dfbb-8937-4f53-cb33-a84b0a8cc169"
      },
      "outputs": [
        {
          "name": "stdout",
          "output_type": "stream",
          "text": [
            "1 2\n"
          ]
        }
      ],
      "source": [
        "a = 1\n",
        "c = a\n",
        "c *= 2\n",
        "print(a,c)"
      ]
    },
    {
      "cell_type": "code",
      "execution_count": null,
      "metadata": {
        "colab": {
          "base_uri": "https://localhost:8080/"
        },
        "id": "0zUH9ypNwXjf",
        "outputId": "26799ef8-448d-48c9-b27d-85f661a67f56"
      },
      "outputs": [
        {
          "data": {
            "text/plain": [
              "True"
            ]
          },
          "execution_count": 128,
          "metadata": {
            "tags": []
          },
          "output_type": "execute_result"
        }
      ],
      "source": [
        "a = 2\n",
        "b = a\n",
        "a is b"
      ]
    },
    {
      "cell_type": "code",
      "execution_count": null,
      "metadata": {
        "colab": {
          "base_uri": "https://localhost:8080/"
        },
        "id": "IhshbOndw_BM",
        "outputId": "3e5c9f64-f47d-463d-841e-6df8eb871a24"
      },
      "outputs": [
        {
          "data": {
            "text/plain": [
              "True"
            ]
          },
          "execution_count": 129,
          "metadata": {
            "tags": []
          },
          "output_type": "execute_result"
        }
      ],
      "source": [
        "a = 2 \n",
        "b = 2\n",
        "a is b"
      ]
    },
    {
      "cell_type": "code",
      "execution_count": null,
      "metadata": {
        "colab": {
          "base_uri": "https://localhost:8080/"
        },
        "id": "-PMvY58PxBBM",
        "outputId": "a1689f7e-4876-4cfb-a3bf-ece89e2e404c"
      },
      "outputs": [
        {
          "data": {
            "text/plain": [
              "True"
            ]
          },
          "execution_count": 148,
          "metadata": {
            "tags": []
          },
          "output_type": "execute_result"
        }
      ],
      "source": [
        "a = 256  #extreme point for aliasing\n",
        "b = 256\n",
        "a is b"
      ]
    },
    {
      "cell_type": "code",
      "execution_count": null,
      "metadata": {
        "colab": {
          "base_uri": "https://localhost:8080/"
        },
        "id": "GXITjj48xFXq",
        "outputId": "1f4636f0-d883-4b03-cb6b-f18edc5fea6d"
      },
      "outputs": [
        {
          "data": {
            "text/plain": [
              "False"
            ]
          },
          "execution_count": 136,
          "metadata": {
            "tags": []
          },
          "output_type": "execute_result"
        }
      ],
      "source": [
        "a = 257\n",
        "b = 257\n",
        "a is b"
      ]
    },
    {
      "cell_type": "code",
      "execution_count": null,
      "metadata": {
        "colab": {
          "base_uri": "https://localhost:8080/"
        },
        "id": "Yv1s7EPBxWjO",
        "outputId": "1eddfb39-7c7c-4ed1-b881-401b38ed8639"
      },
      "outputs": [
        {
          "data": {
            "text/plain": [
              "True"
            ]
          },
          "execution_count": 137,
          "metadata": {
            "tags": []
          },
          "output_type": "execute_result"
        }
      ],
      "source": [
        "a = 0\n",
        "b = 0\n",
        "a is b"
      ]
    },
    {
      "cell_type": "code",
      "execution_count": null,
      "metadata": {
        "colab": {
          "base_uri": "https://localhost:8080/"
        },
        "id": "WIMj0p4ixuJR",
        "outputId": "51c10304-971a-4702-97d7-80b60699c9dc"
      },
      "outputs": [
        {
          "data": {
            "text/plain": [
              "True"
            ]
          },
          "execution_count": 147,
          "metadata": {
            "tags": []
          },
          "output_type": "execute_result"
        }
      ],
      "source": [
        "a = -5 #extreme point for aliasing(-5 to 256)\n",
        "b = -5\n",
        "a is b"
      ]
    },
    {
      "cell_type": "code",
      "execution_count": null,
      "metadata": {
        "colab": {
          "base_uri": "https://localhost:8080/"
        },
        "id": "vWqHgRGuxZXL",
        "outputId": "90319754-1823-4d66-cc75-cb897194c350"
      },
      "outputs": [
        {
          "data": {
            "text/plain": [
              "False"
            ]
          },
          "execution_count": 146,
          "metadata": {
            "tags": []
          },
          "output_type": "execute_result"
        }
      ],
      "source": [
        "a = -6\n",
        "b = -6\n",
        "a is b"
      ]
    },
    {
      "cell_type": "markdown",
      "metadata": {
        "id": "QS4f5QqUyrAo"
      },
      "source": [
        "However, using == and != we can find out whether both identfiers are equivalent upto any extend. "
      ]
    },
    {
      "cell_type": "code",
      "execution_count": null,
      "metadata": {
        "colab": {
          "base_uri": "https://localhost:8080/"
        },
        "id": "yu_V6VmVxdRR",
        "outputId": "ee199318-8205-4f9a-e2c5-5130cb625e99"
      },
      "outputs": [
        {
          "data": {
            "text/plain": [
              "True"
            ]
          },
          "execution_count": 149,
          "metadata": {
            "tags": []
          },
          "output_type": "execute_result"
        }
      ],
      "source": [
        "a = 10000\n",
        "b = 10000\n",
        "a == b"
      ]
    },
    {
      "cell_type": "code",
      "execution_count": null,
      "metadata": {
        "colab": {
          "base_uri": "https://localhost:8080/"
        },
        "id": "lqTRf5WRy7aR",
        "outputId": "3e1f60ee-da27-44f8-8df3-5ade6c6aee18"
      },
      "outputs": [
        {
          "name": "stdout",
          "output_type": "stream",
          "text": [
            "[2, 4, 6, 8, 10, 12]\n",
            "[2, 4, 6, 8, 10, 12]\n"
          ]
        }
      ],
      "source": [
        "a = [2,4,6,8]\n",
        "b = a\n",
        "b += [10,12] #still alias\n",
        "print(a)\n",
        "print(b)"
      ]
    },
    {
      "cell_type": "code",
      "execution_count": null,
      "metadata": {
        "colab": {
          "base_uri": "https://localhost:8080/"
        },
        "id": "-nBNn7d45-Yy",
        "outputId": "7db53b14-32ef-40c7-d509-5ef48572dc54"
      },
      "outputs": [
        {
          "name": "stdout",
          "output_type": "stream",
          "text": [
            "[2, 4, 6, 8]\n",
            "[2, 4, 6, 8, 10, 12]\n"
          ]
        }
      ],
      "source": [
        "a = [2,4,6,8]\n",
        "b = a\n",
        "b = b + [10,12] #alias breaked; carefully look at the difference in both assignments\n",
        "print(a)\n",
        "print(b)"
      ]
    },
    {
      "cell_type": "code",
      "execution_count": null,
      "metadata": {
        "colab": {
          "base_uri": "https://localhost:8080/"
        },
        "id": "fleHd5f26OWA",
        "outputId": "d9cdbbc1-b63f-4d7f-d982-6050e917f4da"
      },
      "outputs": [
        {
          "name": "stdout",
          "output_type": "stream",
          "text": [
            "[2, 4, 6, 8]\n",
            "[2, 4, 6, 8, 10, 12]\n"
          ]
        }
      ],
      "source": [
        "a = [2,4,6,8]\n",
        "b = a[:]  #no alias at all\n",
        "b += [10,12] \n",
        "print(a)\n",
        "print(b)"
      ]
    },
    {
      "cell_type": "code",
      "execution_count": null,
      "metadata": {
        "colab": {
          "base_uri": "https://localhost:8080/"
        },
        "id": "-DHcp5xs6cQc",
        "outputId": "49b32790-9dd3-4e80-9d25-2b7f170322d2"
      },
      "outputs": [
        {
          "name": "stdout",
          "output_type": "stream",
          "text": [
            "[2, 4, 6, 8]\n",
            "[2, 4, 6, 8, 10, 12]\n"
          ]
        }
      ],
      "source": [
        "a = [2,4,6,8]\n",
        "b = a.copy()  #no alias at all\n",
        "b += [10,12] \n",
        "print(a)\n",
        "print(b)"
      ]
    },
    {
      "cell_type": "code",
      "execution_count": null,
      "metadata": {
        "id": "blvVwLRY6h3W"
      },
      "outputs": [],
      "source": [
        ""
      ]
    },
    {
      "cell_type": "code",
      "execution_count": null,
      "metadata": {
        "id": "TmvKasjhR65Z"
      },
      "outputs": [],
      "source": [
        ""
      ]
    },
    {
      "cell_type": "code",
      "execution_count": null,
      "metadata": {
        "id": "p8gloFp-R65Z",
        "outputId": "19933f98-d6c4-45d1-a02d-b1de2e362eef"
      },
      "outputs": [
        {
          "data": {
            "text/plain": [
              "True"
            ]
          },
          "execution_count": 26,
          "metadata": {},
          "output_type": "execute_result"
        }
      ],
      "source": [
        "1 in range(7)"
      ]
    },
    {
      "cell_type": "code",
      "execution_count": null,
      "metadata": {
        "id": "sqeLP1mtR65a"
      },
      "outputs": [],
      "source": [
        ""
      ]
    }
  ],
  "metadata": {
    "colab": {
      "name": "PyDay2",
      "provenance": [],
      "include_colab_link": true
    },
    "kernelspec": {
      "display_name": "Python 3 (ipykernel)",
      "language": "python",
      "name": "python3"
    },
    "language_info": {
      "codemirror_mode": {
        "name": "ipython",
        "version": 3
      },
      "file_extension": ".py",
      "mimetype": "text/x-python",
      "name": "python",
      "nbconvert_exporter": "python",
      "pygments_lexer": "ipython3",
      "version": "3.9.6"
    }
  },
  "nbformat": 4,
  "nbformat_minor": 0
}
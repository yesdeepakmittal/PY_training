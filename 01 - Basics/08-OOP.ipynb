{
 "cells": [
  {
   "cell_type": "code",
   "execution_count": 11,
   "metadata": {},
   "outputs": [
    {
     "data": {
      "text/plain": [
       "{'name': 'Deepak Mittal'}"
      ]
     },
     "execution_count": 11,
     "metadata": {},
     "output_type": "execute_result"
    }
   ],
   "source": [
    "class Student:\n",
    "    pass\n",
    "s = Student()\n",
    "s.name = 'Deepak Mittal'\n",
    "s.__dict__   # double underscore - dunder  | __dict__ - CHeck attributes"
   ]
  },
  {
   "cell_type": "code",
   "execution_count": 7,
   "metadata": {},
   "outputs": [
    {
     "name": "stdout",
     "output_type": "stream",
     "text": [
      "<__main__.Student object at 0x000001954E41D550>\n"
     ]
    }
   ],
   "source": [
    "class Student:\n",
    "    def __init__(self):\n",
    "        print(self)   #self stores the address of object\n",
    "        self.name = 'DK'\n",
    "\n",
    "s = Student()"
   ]
  },
  {
   "cell_type": "code",
   "execution_count": 5,
   "metadata": {},
   "outputs": [
    {
     "name": "stdout",
     "output_type": "stream",
     "text": [
      "<__main__.Student object at 0x000001954E41DD90>\n"
     ]
    }
   ],
   "source": [
    "print(s)   #same address as the o/p of print() inside class"
   ]
  },
  {
   "cell_type": "code",
   "execution_count": 10,
   "metadata": {},
   "outputs": [
    {
     "name": "stdout",
     "output_type": "stream",
     "text": [
      "<__main__.Student object at 0x000001954E41D940>\n",
      "<__main__.Student object at 0x000001954E41D940>\n"
     ]
    }
   ],
   "source": [
    "#you can use anything inplace of self\n",
    "class Student:\n",
    "    def __init__(deepak):\n",
    "        print(deepak)   #self stores the address of object\n",
    "        deepak.name = 'DK'\n",
    "\n",
    "s = Student()\n",
    "print(s)"
   ]
  },
  {
   "cell_type": "code",
   "execution_count": 13,
   "metadata": {},
   "outputs": [
    {
     "name": "stdout",
     "output_type": "stream",
     "text": [
      "Student Name is DK\n"
     ]
    }
   ],
   "source": [
    "class Student:\n",
    "    def __init__(self):\n",
    "        self.name = 'DK'\n",
    "\n",
    "    def __str__(self): # return string representation of the object\n",
    "        return f\"Student Name is {str(self.name)}\"\n",
    "\n",
    "s = Student()\n",
    "print(s)"
   ]
  },
  {
   "cell_type": "code",
   "execution_count": 16,
   "metadata": {},
   "outputs": [
    {
     "name": "stdout",
     "output_type": "stream",
     "text": [
      "Student Name is DK | Roll No is 1\n",
      "Student Name is Deepak | Roll No is 2\n"
     ]
    }
   ],
   "source": [
    "class Student:\n",
    "    counter = 0     # class variable\n",
    "    \n",
    "    def __init__(self,name):\n",
    "        self.name = name\n",
    "        Student.counter += 1\n",
    "        self.roll_no = Student.counter\n",
    "\n",
    "    def __str__(self):\n",
    "        return f\"Student Name is {self.name} | Roll No is {self.roll_no}\"\n",
    "\n",
    "s1 = Student('DK')\n",
    "print(s1)\n",
    "\n",
    "s2 = Student('Deepak')\n",
    "print(s2)"
   ]
  },
  {
   "cell_type": "code",
   "execution_count": 17,
   "metadata": {},
   "outputs": [
    {
     "name": "stdout",
     "output_type": "stream",
     "text": [
      "Student Name is DK | Roll No is 3\n",
      "Student Name is DK | Roll No is 4\n",
      "Student Name is DK | Roll No is 5\n"
     ]
    }
   ],
   "source": [
    "s1 = Student('DK')\n",
    "s2 = Student('DK')\n",
    "s3 = Student('DK')\n",
    "\n",
    "print(s1)\n",
    "print(s2)\n",
    "print(s3)"
   ]
  },
  {
   "cell_type": "code",
   "execution_count": 19,
   "metadata": {},
   "outputs": [
    {
     "data": {
      "text/plain": [
       "5"
      ]
     },
     "execution_count": 19,
     "metadata": {},
     "output_type": "execute_result"
    }
   ],
   "source": [
    "s1.counter  # so we access the counter variable| local -> global scope"
   ]
  },
  {
   "cell_type": "code",
   "execution_count": 20,
   "metadata": {},
   "outputs": [
    {
     "data": {
      "text/plain": [
       "(5, 5)"
      ]
     },
     "execution_count": 20,
     "metadata": {},
     "output_type": "execute_result"
    }
   ],
   "source": [
    "s2.counter, s3.counter"
   ]
  },
  {
   "cell_type": "code",
   "execution_count": 21,
   "metadata": {},
   "outputs": [
    {
     "data": {
      "text/plain": [
       "5"
      ]
     },
     "execution_count": 21,
     "metadata": {},
     "output_type": "execute_result"
    }
   ],
   "source": [
    "s1.counter = 1000\n",
    "\n",
    "Student.counter"
   ]
  },
  {
   "cell_type": "code",
   "execution_count": 22,
   "metadata": {},
   "outputs": [
    {
     "data": {
      "text/plain": [
       "1000"
      ]
     },
     "execution_count": 22,
     "metadata": {},
     "output_type": "execute_result"
    }
   ],
   "source": [
    "s1.counter"
   ]
  },
  {
   "cell_type": "code",
   "execution_count": 23,
   "metadata": {},
   "outputs": [
    {
     "data": {
      "text/plain": [
       "5"
      ]
     },
     "execution_count": 23,
     "metadata": {},
     "output_type": "execute_result"
    }
   ],
   "source": [
    "s2.counter"
   ]
  },
  {
   "cell_type": "code",
   "execution_count": 2,
   "metadata": {},
   "outputs": [
    {
     "name": "stdout",
     "output_type": "stream",
     "text": [
      "Mechanical Engineering\n"
     ]
    }
   ],
   "source": [
    "#Inheritance - Single Level\n",
    "class Person:\n",
    "    def __init__(self,name,branch):\n",
    "        self.name = name\n",
    "        self.branch = branch\n",
    "    \n",
    "    def checkBranch(self):\n",
    "        print('my branch is',self.branch)\n",
    "\n",
    "class Student(Person):\n",
    "    def __init__(self,name):\n",
    "        Person.__init__(self,name,'Mechanical Engineering')\n",
    "    \n",
    "    def checkBranch(self):\n",
    "        print('Mechanical Engineering')\n",
    "\n",
    "Student('Deepak Mittal').checkBranch()"
   ]
  },
  {
   "cell_type": "code",
   "execution_count": 6,
   "metadata": {},
   "outputs": [
    {
     "name": "stdout",
     "output_type": "stream",
     "text": [
      "I am a Genious\n",
      "I live prosperous life\n",
      "I have 4 limbs\n"
     ]
    },
    {
     "data": {
      "text/plain": [
       "<__main__.Student at 0x23082ec4310>"
      ]
     },
     "execution_count": 6,
     "metadata": {},
     "output_type": "execute_result"
    }
   ],
   "source": [
    "# Inheritance - Multi level\n",
    "class Animal:\n",
    "    def __init__(self,name,characterstics,limbs):\n",
    "        self.name = name\n",
    "        self.characterstics = characterstics\n",
    "        self.limbs = limbs\n",
    "        print('I am a',name)\n",
    "    \n",
    "class Mammal(Animal):\n",
    "    def __init__(self,name,limbs):\n",
    "        Animal.__init__(self,name,'Live Prosperouse life',limbs)\n",
    "        print('I live prosperous life')\n",
    "\n",
    "class Student(Mammal):\n",
    "    def __init__(self,name):\n",
    "        Mammal.__init__(self,name,4)\n",
    "        print('I have 4 limbs')\n",
    "\n",
    "Student('Genious')"
   ]
  },
  {
   "cell_type": "code",
   "execution_count": 7,
   "metadata": {},
   "outputs": [
    {
     "name": "stdout",
     "output_type": "stream",
     "text": [
      "I have 4 limbs\n"
     ]
    }
   ],
   "source": [
    "# Inheritance - Multi level(printing outside the constructor & Overriding)\n",
    "class Animal:\n",
    "    def __init__(self,name,characterstics,limbs):\n",
    "        self.name = name\n",
    "        self.characterstics = characterstics\n",
    "        self.limbs = limbs\n",
    "    def prnt(self):\n",
    "        print('I am a',self.name)\n",
    "    \n",
    "class Mammal(Animal):\n",
    "    def __init__(self,name,limbs):\n",
    "        Animal.__init__(self,name,'Live Prosperouse life',limbs)\n",
    "    def prnt(self):\n",
    "        print('I live prosperous life')\n",
    "\n",
    "class Student(Mammal):\n",
    "    def __init__(self,name):\n",
    "        Mammal.__init__(self,name,4)\n",
    "    def prnt(self):\n",
    "        print('I have 4 limbs')\n",
    "\n",
    "Student('Genious').prnt()"
   ]
  },
  {
   "cell_type": "code",
   "execution_count": 8,
   "metadata": {},
   "outputs": [
    {
     "name": "stdout",
     "output_type": "stream",
     "text": [
      "I live prosperous life\n"
     ]
    }
   ],
   "source": [
    "# Inheritance - Multi level(printing outside the constructor & Overriding)\n",
    "class Animal:\n",
    "    def __init__(self,name,characterstics,limbs):\n",
    "        self.name = name\n",
    "        self.characterstics = characterstics\n",
    "        self.limbs = limbs\n",
    "    def prnt(self):\n",
    "        print('I am a',self.name)\n",
    "    \n",
    "class Mammal(Animal):\n",
    "    def __init__(self,name,limbs):\n",
    "        Animal.__init__(self,name,'Live Prosperouse life',limbs)\n",
    "    def prnt(self):\n",
    "        print('I live prosperous life')\n",
    "\n",
    "class Student(Mammal):\n",
    "    def __init__(self,name):\n",
    "        Mammal.__init__(self,name,4)\n",
    "    # def prnt(self):\n",
    "    #     print('I have 4 limbs')\n",
    "\n",
    "Student('Genious').prnt()"
   ]
  },
  {
   "cell_type": "code",
   "execution_count": 9,
   "metadata": {},
   "outputs": [
    {
     "name": "stdout",
     "output_type": "stream",
     "text": [
      "I am a Genious\n"
     ]
    }
   ],
   "source": [
    "# Inheritance - Multi level(printing outside the constructor & Overriding)\n",
    "class Animal:\n",
    "    def __init__(self,name,characterstics,limbs):\n",
    "        self.name = name\n",
    "        self.characterstics = characterstics\n",
    "        self.limbs = limbs\n",
    "    def prnt(self):\n",
    "        print('I am a',self.name)\n",
    "    \n",
    "class Mammal(Animal):\n",
    "    def __init__(self,name,limbs):\n",
    "        Animal.__init__(self,name,'Live Prosperouse life',limbs)\n",
    "    # def prnt(self):\n",
    "    #     print('I live prosperous life')\n",
    "\n",
    "class Student(Mammal):\n",
    "    def __init__(self,name):\n",
    "        Mammal.__init__(self,name,4)\n",
    "    # def prnt(self):\n",
    "    #     print('I have 4 limbs')\n",
    "\n",
    "Student('Genious').prnt()"
   ]
  },
  {
   "cell_type": "markdown",
   "metadata": {},
   "source": [
    "- Not only Python supports multi-level inheritance, it also supports multiple inheritance\n",
    "- https://en.wikipedia.org/wiki/Multiple_inheritance"
   ]
  },
  {
   "cell_type": "markdown",
   "metadata": {},
   "source": [
    "- Classes B & C inherits class A. Both classes A & B have same method name abc. \n",
    "- Class D inherits both classes B & C(Multiple inheritance)\n",
    "- Which method(B's abc or C'abc) will be called when we call it from class D's object? \n",
    "- whichever class will be inherited first"
   ]
  },
  {
   "cell_type": "code",
   "execution_count": 10,
   "metadata": {},
   "outputs": [],
   "source": [
    "class A:\n",
    "    def __init__(self):\n",
    "        pass\n",
    "    def greet(self):\n",
    "        print('A')\n",
    "\n",
    "class B(A):\n",
    "    def __init__(self):\n",
    "        pass\n",
    "    def greet(self):\n",
    "        print('B')\n",
    "\n",
    "class C(A):\n",
    "    def __init__(self):\n",
    "        pass\n",
    "    def greet(self):\n",
    "        print('C')"
   ]
  },
  {
   "cell_type": "code",
   "execution_count": 11,
   "metadata": {},
   "outputs": [
    {
     "name": "stdout",
     "output_type": "stream",
     "text": [
      "B\n"
     ]
    }
   ],
   "source": [
    "class D(B,C):\n",
    "    def __init__(self):\n",
    "        pass\n",
    "    def getter(self):\n",
    "        print('D')\n",
    "\n",
    "D().greet()"
   ]
  },
  {
   "cell_type": "code",
   "execution_count": 18,
   "metadata": {},
   "outputs": [
    {
     "name": "stdout",
     "output_type": "stream",
     "text": [
      "C\n"
     ]
    }
   ],
   "source": [
    "class D(C,B):\n",
    "    def __init__(self):\n",
    "        pass\n",
    "    def getter(self):\n",
    "        C.greet(self)  #calling method of super class(using self parameter)\n",
    "        print('D')\n",
    "\n",
    "D().greet()"
   ]
  },
  {
   "cell_type": "code",
   "execution_count": 17,
   "metadata": {},
   "outputs": [
    {
     "name": "stdout",
     "output_type": "stream",
     "text": [
      "C\n",
      "D\n"
     ]
    }
   ],
   "source": [
    "D().getter()"
   ]
  },
  {
   "cell_type": "code",
   "execution_count": 32,
   "metadata": {},
   "outputs": [
    {
     "name": "stdout",
     "output_type": "stream",
     "text": [
      "Inside Student Constructor\n",
      "Inside Person2 constructor\n"
     ]
    },
    {
     "data": {
      "text/plain": [
       "<__main__.Student at 0x23082ec42e0>"
      ]
     },
     "execution_count": 32,
     "metadata": {},
     "output_type": "execute_result"
    }
   ],
   "source": [
    "class Person:\n",
    "    def __init__(self):\n",
    "        print('Inside Person Constructor')\n",
    "\n",
    "    def greet(self):\n",
    "        print('hello')\n",
    "\n",
    "class Person2:\n",
    "    def __init__(self):\n",
    "        print('Inside Person2 constructor')\n",
    "\n",
    "class Student(Person2,Person):\n",
    "    def __init__(self):\n",
    "        print('Inside Student Constructor')\n",
    "        super().__init__()  #notice - not using self parameter\n",
    "        \n",
    "    def greet(self):\n",
    "        super().greet()  #not using self parameter\n",
    "        print('hi')\n",
    "\n",
    "Student()"
   ]
  },
  {
   "cell_type": "code",
   "execution_count": 33,
   "metadata": {},
   "outputs": [
    {
     "name": "stdout",
     "output_type": "stream",
     "text": [
      "Inside Student Constructor\n",
      "Inside Person2 constructor\n",
      "hello\n",
      "hi\n"
     ]
    }
   ],
   "source": [
    "Student().greet()"
   ]
  },
  {
   "cell_type": "code",
   "execution_count": 5,
   "metadata": {},
   "outputs": [
    {
     "name": "stdout",
     "output_type": "stream",
     "text": [
      "16\n"
     ]
    }
   ],
   "source": [
    "class Rectangle:\n",
    "  def __init__(self, x1, y1, x2, y2): \n",
    "    self.x1 = x1 \n",
    "    self.y1 = y1 \n",
    "    self.x2 = x2 \n",
    "    self.y2 = y2 \n",
    "        \n",
    "  def wth(self):\n",
    "    return self.x2 - self.x1\n",
    "      \n",
    "  def hgt(self):\n",
    "    return self.y2 - self.y1\n",
    "  \n",
    "  def area(self):\n",
    "    return self.wth() * self.hgt()\n",
    "  \n",
    "class Square(Rectangle):\n",
    "  def __init__(self,x1,y1,length):\n",
    "    super().__init__(x1,y1,x1+length,y1+length)\n",
    "    print(super().area())\n",
    "\n",
    "_ = Square(2,3,4)"
   ]
  },
  {
   "cell_type": "code",
   "execution_count": null,
   "metadata": {},
   "outputs": [],
   "source": []
  }
 ],
 "metadata": {
  "interpreter": {
   "hash": "108ef16d1ee03905dfbafe44d5b3e610a1f1579a68c7f1fd06ea7e2b83fc5f3b"
  },
  "kernelspec": {
   "display_name": "Python 3.9.6 64-bit",
   "language": "python",
   "name": "python3"
  },
  "language_info": {
   "codemirror_mode": {
    "name": "ipython",
    "version": 3
   },
   "file_extension": ".py",
   "mimetype": "text/x-python",
   "name": "python",
   "nbconvert_exporter": "python",
   "pygments_lexer": "ipython3",
   "version": "3.9.6"
  },
  "orig_nbformat": 4
 },
 "nbformat": 4,
 "nbformat_minor": 2
}

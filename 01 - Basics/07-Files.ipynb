{
 "cells": [
  {
   "cell_type": "code",
   "execution_count": null,
   "metadata": {},
   "outputs": [],
   "source": [
    "!dir"
   ]
  },
  {
   "cell_type": "markdown",
   "metadata": {},
   "source": [
    "### Different Modes\n",
    "- 'r' - read (default mode)\n",
    "- 'w' - write\n",
    "- 'a' - append\n",
    "- 'rb' - binary read\n",
    "- 'wb' - binary write"
   ]
  },
  {
   "cell_type": "code",
   "execution_count": 70,
   "metadata": {},
   "outputs": [],
   "source": [
    "with open(f'C:\\\\Users\\\\deepak-mittal\\\\Desktop\\\\abcd.txt','w') as fileProxy:\n",
    "    for i in range(3):\n",
    "        print('Hello',file=fileProxy);"
   ]
  },
  {
   "cell_type": "code",
   "execution_count": 71,
   "metadata": {},
   "outputs": [
    {
     "name": "stdout",
     "output_type": "stream",
     "text": [
      "H\n",
      "e\n",
      "l\n",
      "l\n",
      "o\n",
      "\n",
      "\n",
      "H\n",
      "e\n",
      "l\n",
      "l\n",
      "o\n",
      "\n",
      "\n",
      "H\n",
      "e\n",
      "l\n",
      "l\n",
      "o\n",
      "\n",
      "\n"
     ]
    }
   ],
   "source": [
    "f = open(f'C:\\\\Users\\\\deepak-mittal\\\\Desktop\\\\abcd.txt','r')\n",
    "\n",
    "for i in f.read():\n",
    "    print(i)"
   ]
  },
  {
   "cell_type": "code",
   "execution_count": 77,
   "metadata": {},
   "outputs": [
    {
     "name": "stdout",
     "output_type": "stream",
     "text": [
      "Hello\n",
      "Hello\n",
      "Hello\n",
      "\n",
      "End Of File\n"
     ]
    }
   ],
   "source": [
    "with open(f'C:\\\\Users\\\\deepak-mittal\\\\Desktop\\\\abcd.txt','r') as f:\n",
    "    while True:\n",
    "        file = f.read()\n",
    "        if file == '':\n",
    "            print('End Of File')\n",
    "            break\n",
    "        print(file)"
   ]
  },
  {
   "cell_type": "code",
   "execution_count": 82,
   "metadata": {},
   "outputs": [
    {
     "data": {
      "text/plain": [
       "False"
      ]
     },
     "execution_count": 82,
     "metadata": {},
     "output_type": "execute_result"
    }
   ],
   "source": [
    "bool('')"
   ]
  },
  {
   "cell_type": "code",
   "execution_count": 81,
   "metadata": {},
   "outputs": [
    {
     "name": "stdout",
     "output_type": "stream",
     "text": [
      "Hello\n",
      "Hello\n",
      "Hello\n",
      "\n",
      "End Of File\n"
     ]
    }
   ],
   "source": [
    "#using Walrus Operator\n",
    "with open(f'C:\\\\Users\\\\deepak-mittal\\\\Desktop\\\\abcd.txt','r') as f:\n",
    "    while file := f.read():\n",
    "        print(file)\n",
    "    print(\"End Of File\")"
   ]
  },
  {
   "cell_type": "code",
   "execution_count": 79,
   "metadata": {},
   "outputs": [
    {
     "name": "stdout",
     "output_type": "stream",
     "text": [
      "Hello\n",
      "\n",
      "Hello\n",
      "\n",
      "Hello\n",
      "\n"
     ]
    }
   ],
   "source": [
    "f = open(f'C:\\\\Users\\\\deepak-mittal\\\\Desktop\\\\abcd.txt','r')\n",
    "\n",
    "for i in f.readlines():\n",
    "    print(i)\n",
    "f.close()"
   ]
  },
  {
   "cell_type": "code",
   "execution_count": null,
   "metadata": {},
   "outputs": [],
   "source": []
  },
  {
   "cell_type": "code",
   "execution_count": null,
   "metadata": {},
   "outputs": [],
   "source": []
  }
 ],
 "metadata": {
  "interpreter": {
   "hash": "5d3fc0c4eb10362043affec83520f5b4055cada69a658db64d30293aaaeeb5a6"
  },
  "kernelspec": {
   "display_name": "Python 3.9.6 64-bit (system)",
   "language": "python",
   "name": "python3"
  },
  "language_info": {
   "codemirror_mode": {
    "name": "ipython",
    "version": 3
   },
   "file_extension": ".py",
   "mimetype": "text/x-python",
   "name": "python",
   "nbconvert_exporter": "python",
   "pygments_lexer": "ipython3",
   "version": "3.9.6"
  },
  "orig_nbformat": 4
 },
 "nbformat": 4,
 "nbformat_minor": 2
}

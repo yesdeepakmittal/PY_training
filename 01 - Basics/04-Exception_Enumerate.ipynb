{
  "nbformat": 4,
  "nbformat_minor": 0,
  "metadata": {
    "colab": {
      "name": "PyDay05",
      "provenance": [],
      "authorship_tag": "ABX9TyN1zfKdN7c+/bYS9Ak7wqvi"
    },
    "kernelspec": {
      "name": "python3",
      "display_name": "Python 3"
    }
  },
  "cells": [
    {
      "cell_type": "markdown",
      "metadata": {
        "id": "F4qSgxb06V29",
        "colab_type": "text"
      },
      "source": [
        "### Exception Handling"
      ]
    },
    {
      "cell_type": "code",
      "metadata": {
        "id": "C0fKd4p1DySh",
        "colab_type": "code",
        "colab": {
          "base_uri": "https://localhost:8080/",
          "height": 34
        },
        "outputId": "12825da3-5bec-4db7-cd08-e467fb0145f8"
      },
      "source": [
        "try:\n",
        "    print('Hello roll no.'+ 1)\n",
        "except:\n",
        "    print('Hello roll no.'+'3')"
      ],
      "execution_count": null,
      "outputs": [
        {
          "output_type": "stream",
          "text": [
            "Hello roll no.3\n"
          ],
          "name": "stdout"
        }
      ]
    },
    {
      "cell_type": "code",
      "metadata": {
        "id": "vr3nS1mjD2rI",
        "colab_type": "code",
        "colab": {
          "base_uri": "https://localhost:8080/",
          "height": 70
        },
        "outputId": "f09c03ba-6ab6-452a-d172-7e6b46c6aacf"
      },
      "source": [
        "try:\n",
        "    your_name = input('Please, enter your name')\n",
        "    your_roll_num = int(input('Plese, enter your roll number'))\n",
        "    print('Your Name is '+your_name+' and your roll number is '+your_roll_num)\n",
        "except:\n",
        "    print('Your roll number',your_roll_num)"
      ],
      "execution_count": null,
      "outputs": [
        {
          "output_type": "stream",
          "text": [
            "Please, enter your nameDeepak Mittal\n",
            "Plese, enter your roll number38\n",
            "Your roll number 38\n"
          ],
          "name": "stdout"
        }
      ]
    },
    {
      "cell_type": "code",
      "metadata": {
        "id": "N04Ko0YhFBoz",
        "colab_type": "code",
        "colab": {
          "base_uri": "https://localhost:8080/",
          "height": 70
        },
        "outputId": "18de192a-0c41-4918-f689-9a2802fb144e"
      },
      "source": [
        "try:\n",
        "    a = input('Enter first number')  \n",
        "    b = input('Enter second number') \n",
        "    sum_ = int(a+b)\n",
        "    print(sum_)\n",
        "except:\n",
        "    print('You have entered non-numberic digit')"
      ],
      "execution_count": null,
      "outputs": [
        {
          "output_type": "stream",
          "text": [
            "Enter first number3\n",
            "Enter second numberabc\n",
            "You have entered non-numberic digit\n"
          ],
          "name": "stdout"
        }
      ]
    },
    {
      "cell_type": "code",
      "metadata": {
        "id": "BL6wc3Bb0IF1",
        "colab_type": "code",
        "colab": {
          "base_uri": "https://localhost:8080/",
          "height": 70
        },
        "outputId": "7472c09f-f0e0-4669-ea52-5e567e77f7c3"
      },
      "source": [
        "try:\n",
        "    a = input()\n",
        "    b = input()\n",
        "    sum_ = int(a+b)\n",
        "    print(sum_)\n",
        "except ValueError:\n",
        "    print('Sorry, it is an ValueError')\n",
        "except TypeError:\n",
        "    print('Sorry, it is an TypeError')\n",
        "except ZeroDivisionError:\n",
        "    print('Sorry, it is an ZeroDivisionError')\n",
        "except:\n",
        "    print('final')"
      ],
      "execution_count": null,
      "outputs": [
        {
          "output_type": "stream",
          "text": [
            "4 \n",
            "g\n",
            "Sorry, it is an ValueError\n"
          ],
          "name": "stdout"
        }
      ]
    },
    {
      "cell_type": "code",
      "metadata": {
        "id": "mltKHW_q1CrD",
        "colab_type": "code",
        "colab": {
          "base_uri": "https://localhost:8080/",
          "height": 34
        },
        "outputId": "5c51a714-506e-4f29-cc95-cb51acc3118c"
      },
      "source": [
        "try:\n",
        "    a = 3\n",
        "    b = 'd'\n",
        "    sum_ = a+b\n",
        "    print(sum_)\n",
        "except ValueError:\n",
        "    print('Sorry, it is an ValueError')\n",
        "except TypeError:\n",
        "    print('Sorry, it is an TypeError')\n",
        "except ZeroDivisionError:\n",
        "    print('Sorry, it is an ZeroDivisionError')\n",
        "except:\n",
        "    print('final')"
      ],
      "execution_count": null,
      "outputs": [
        {
          "output_type": "stream",
          "text": [
            "Sorry, it is an TypeError\n"
          ],
          "name": "stdout"
        }
      ]
    },
    {
      "cell_type": "code",
      "metadata": {
        "id": "cSDpmpyO1NjJ",
        "colab_type": "code",
        "colab": {
          "base_uri": "https://localhost:8080/",
          "height": 34
        },
        "outputId": "aa491d41-9f2f-4e5c-8947-d69a91d5b04e"
      },
      "source": [
        "try:\n",
        "    a = 1\n",
        "    b = 0\n",
        "    print(a/b)\n",
        "except ValueError:\n",
        "    print('Sorry, it is an ValueError')\n",
        "except TypeError:\n",
        "    print('Sorry, it is an TypeError')\n",
        "except SyntaxError:\n",
        "    print('Sorry, it is an SyntaxError')\n",
        "except ZeroDivisionError:\n",
        "    print('Sorry, it is an ZeroDivisionError')\n",
        "except:\n",
        "    print('final')"
      ],
      "execution_count": null,
      "outputs": [
        {
          "output_type": "stream",
          "text": [
            "Sorry, it is an ZeroDivisionError\n"
          ],
          "name": "stdout"
        }
      ]
    },
    {
      "cell_type": "code",
      "metadata": {
        "id": "3GAzXUMZ2Its",
        "colab_type": "code",
        "colab": {
          "base_uri": "https://localhost:8080/",
          "height": 52
        },
        "outputId": "b87e383f-8f8b-4e52-d6ed-3747563b636a"
      },
      "source": [
        "try:\n",
        "    print(var)\n",
        "except ZeroDivisionError:\n",
        "    print(\"It is an ZeroDivisionError\")\n",
        "except NameError:\n",
        "    print(\"It is an NameError\")\n",
        "finally:\n",
        "    print('final statement')"
      ],
      "execution_count": null,
      "outputs": [
        {
          "output_type": "stream",
          "text": [
            "It is an NameError\n",
            "final statement\n"
          ],
          "name": "stdout"
        }
      ]
    },
    {
      "cell_type": "code",
      "metadata": {
        "id": "pyJULqcb3s97",
        "colab_type": "code",
        "colab": {
          "base_uri": "https://localhost:8080/",
          "height": 52
        },
        "outputId": "f73e6780-8143-48f3-d013-f4d908d38c41"
      },
      "source": [
        "try:\n",
        "    sum = 1 + 'a'\n",
        "    print(sum)\n",
        "except ZeroDivisionError:\n",
        "    print(\"It is an ZeroDivisionError\")\n",
        "except NameError:\n",
        "    print(\"It is an NameError\")\n",
        "except TypeError:\n",
        "    print(\"It is an TypeError\")\n",
        "finally:\n",
        "    print('final statement')"
      ],
      "execution_count": null,
      "outputs": [
        {
          "output_type": "stream",
          "text": [
            "It is an TypeError\n",
            "final statement\n"
          ],
          "name": "stdout"
        }
      ]
    },
    {
      "cell_type": "markdown",
      "metadata": {
        "id": "GX0Lpe1SB98B",
        "colab_type": "text"
      },
      "source": [
        "### Raise"
      ]
    },
    {
      "cell_type": "code",
      "metadata": {
        "id": "Nt4CTSx45PEC",
        "colab_type": "code",
        "colab": {
          "base_uri": "https://localhost:8080/",
          "height": 202
        },
        "outputId": "64f34790-d76e-40f5-be50-bb570c751528"
      },
      "source": [
        "a = 1\n",
        "b = 10\n",
        "\n",
        "if a<b:\n",
        "    raise ZeroDivisionError"
      ],
      "execution_count": null,
      "outputs": [
        {
          "output_type": "error",
          "ename": "ZeroDivisionError",
          "evalue": "ignored",
          "traceback": [
            "\u001b[0;31m---------------------------------------------------------------------------\u001b[0m",
            "\u001b[0;31mZeroDivisionError\u001b[0m                         Traceback (most recent call last)",
            "\u001b[0;32m<ipython-input-9-c70453118921>\u001b[0m in \u001b[0;36m<module>\u001b[0;34m()\u001b[0m\n\u001b[1;32m      3\u001b[0m \u001b[0;34m\u001b[0m\u001b[0m\n\u001b[1;32m      4\u001b[0m \u001b[0;32mif\u001b[0m \u001b[0ma\u001b[0m\u001b[0;34m<\u001b[0m\u001b[0mb\u001b[0m\u001b[0;34m:\u001b[0m\u001b[0;34m\u001b[0m\u001b[0;34m\u001b[0m\u001b[0m\n\u001b[0;32m----> 5\u001b[0;31m     \u001b[0;32mraise\u001b[0m \u001b[0mZeroDivisionError\u001b[0m\u001b[0;34m\u001b[0m\u001b[0;34m\u001b[0m\u001b[0m\n\u001b[0m",
            "\u001b[0;31mZeroDivisionError\u001b[0m: "
          ]
        }
      ]
    },
    {
      "cell_type": "code",
      "metadata": {
        "id": "ocFhn_TrBr3Z",
        "colab_type": "code",
        "colab": {
          "base_uri": "https://localhost:8080/",
          "height": 185
        },
        "outputId": "8f180e89-cf07-468a-cb23-5b91d5b9b0e0"
      },
      "source": [
        "if True:\n",
        "    raise NameError"
      ],
      "execution_count": null,
      "outputs": [
        {
          "output_type": "error",
          "ename": "NameError",
          "evalue": "ignored",
          "traceback": [
            "\u001b[0;31m---------------------------------------------------------------------------\u001b[0m",
            "\u001b[0;31mNameError\u001b[0m                                 Traceback (most recent call last)",
            "\u001b[0;32m<ipython-input-10-c8f9d0de78bc>\u001b[0m in \u001b[0;36m<module>\u001b[0;34m()\u001b[0m\n\u001b[1;32m      1\u001b[0m \u001b[0;32mif\u001b[0m \u001b[0;32mTrue\u001b[0m\u001b[0;34m:\u001b[0m\u001b[0;34m\u001b[0m\u001b[0;34m\u001b[0m\u001b[0m\n\u001b[0;32m----> 2\u001b[0;31m     \u001b[0;32mraise\u001b[0m \u001b[0mNameError\u001b[0m\u001b[0;34m\u001b[0m\u001b[0;34m\u001b[0m\u001b[0m\n\u001b[0m",
            "\u001b[0;31mNameError\u001b[0m: "
          ]
        }
      ]
    },
    {
      "cell_type": "code",
      "metadata": {
        "id": "yAtu9uiUBxZs",
        "colab_type": "code",
        "colab": {
          "base_uri": "https://localhost:8080/",
          "height": 97
        },
        "outputId": "78024a8c-6e97-459a-dc61-419dcf689565"
      },
      "source": [
        "a = 2\n",
        "b = 4\n",
        "if b < a:\n",
        "    raise NameError\n",
        "else:\n",
        "    raise SyntaxError"
      ],
      "execution_count": null,
      "outputs": [
        {
          "output_type": "error",
          "ename": "SyntaxError",
          "evalue": "ignored",
          "traceback": [
            "\u001b[0;36m  File \u001b[0;32m\"<string>\"\u001b[0;36m, line \u001b[0;32munknown\u001b[0m\n\u001b[0;31mSyntaxError\u001b[0m\n"
          ]
        }
      ]
    },
    {
      "cell_type": "markdown",
      "metadata": {
        "id": "YOwryR_EuUNV",
        "colab_type": "text"
      },
      "source": [
        "### zip"
      ]
    },
    {
      "cell_type": "code",
      "metadata": {
        "id": "_e1NFTj9KLpD",
        "colab_type": "code",
        "colab": {
          "base_uri": "https://localhost:8080/",
          "height": 34
        },
        "outputId": "a47602a0-33ca-4ead-a0d8-094fd6687931"
      },
      "source": [
        "a = [1,2,3,4,5]\n",
        "b = [6,7,8,9,10]\n",
        "zip(a,b)"
      ],
      "execution_count": 3,
      "outputs": [
        {
          "output_type": "execute_result",
          "data": {
            "text/plain": [
              "<zip at 0x7f7f5bbc19c8>"
            ]
          },
          "metadata": {
            "tags": []
          },
          "execution_count": 3
        }
      ]
    },
    {
      "cell_type": "code",
      "metadata": {
        "id": "DqmKLjx5uvxX",
        "colab_type": "code",
        "colab": {
          "base_uri": "https://localhost:8080/",
          "height": 34
        },
        "outputId": "52fa15b1-8ef9-44b1-fe9d-5008926f55dd"
      },
      "source": [
        "list(zip(a,b))"
      ],
      "execution_count": 4,
      "outputs": [
        {
          "output_type": "execute_result",
          "data": {
            "text/plain": [
              "[(1, 6), (2, 7), (3, 8), (4, 9), (5, 10)]"
            ]
          },
          "metadata": {
            "tags": []
          },
          "execution_count": 4
        }
      ]
    },
    {
      "cell_type": "code",
      "metadata": {
        "id": "z9KnnEpju4Yj",
        "colab_type": "code",
        "colab": {
          "base_uri": "https://localhost:8080/",
          "height": 105
        },
        "outputId": "3efa30b3-e41b-4dbf-a8b2-9360e8ce9114"
      },
      "source": [
        "lis = list()\n",
        "for i,j in zip(a,b):\n",
        "    lis.append({'<=5':i,'>=5':j})\n",
        "lis"
      ],
      "execution_count": 6,
      "outputs": [
        {
          "output_type": "execute_result",
          "data": {
            "text/plain": [
              "[{'<=5': 1, '>=5': 6},\n",
              " {'<=5': 2, '>=5': 7},\n",
              " {'<=5': 3, '>=5': 8},\n",
              " {'<=5': 4, '>=5': 9},\n",
              " {'<=5': 5, '>=5': 10}]"
            ]
          },
          "metadata": {
            "tags": []
          },
          "execution_count": 6
        }
      ]
    },
    {
      "cell_type": "markdown",
      "metadata": {
        "id": "6CM3vFo3v1bv",
        "colab_type": "text"
      },
      "source": [
        "### Enumerate"
      ]
    },
    {
      "cell_type": "code",
      "metadata": {
        "id": "mWuxBJoBvtMn",
        "colab_type": "code",
        "colab": {
          "base_uri": "https://localhost:8080/",
          "height": 105
        },
        "outputId": "aca4939a-2d40-4503-a05b-49e9e9cc994f"
      },
      "source": [
        "a = [1,2,3,4,5]\n",
        "for index,value in enumerate(a):\n",
        "    print('The index of',value,'is',index)"
      ],
      "execution_count": 8,
      "outputs": [
        {
          "output_type": "stream",
          "text": [
            "The index of 1 is 0\n",
            "The index of 2 is 1\n",
            "The index of 3 is 2\n",
            "The index of 4 is 3\n",
            "The index of 5 is 4\n"
          ],
          "name": "stdout"
        }
      ]
    },
    {
      "cell_type": "code",
      "metadata": {
        "id": "jFbb8ry_wek8",
        "colab_type": "code",
        "colab": {
          "base_uri": "https://localhost:8080/",
          "height": 140
        },
        "outputId": "8eeea0f8-28fd-4d41-cd15-bcc2d2251adb"
      },
      "source": [
        "a = {1,2,3,4,5,6,6,6,7} #Remember set contain only unique digits\n",
        "for index,value in enumerate(a):\n",
        "    print('The index of',value,'is',index)"
      ],
      "execution_count": 9,
      "outputs": [
        {
          "output_type": "stream",
          "text": [
            "The index of 1 is 0\n",
            "The index of 2 is 1\n",
            "The index of 3 is 2\n",
            "The index of 4 is 3\n",
            "The index of 5 is 4\n",
            "The index of 6 is 5\n",
            "The index of 7 is 6\n"
          ],
          "name": "stdout"
        }
      ]
    }
  ]
}
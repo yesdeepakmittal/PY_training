{
  "nbformat": 4,
  "nbformat_minor": 0,
  "metadata": {
    "colab": {
      "name": "PyDay04",
      "provenance": []
    },
    "kernelspec": {
      "name": "python3",
      "display_name": "Python 3"
    }
  },
  "cells": [
    {
      "cell_type": "markdown",
      "metadata": {
        "id": "IoPTMLiTyHT4",
        "colab_type": "text"
      },
      "source": [
        "### PRINT THE PATTERN"
      ]
    },
    {
      "cell_type": "markdown",
      "metadata": {
        "id": "ZHPHQc2zpIw9",
        "colab_type": "text"
      },
      "source": [
        "> Q1.\n",
        "\n",
        "<p>*</p>\n",
        "<p>**</p>\n",
        "<p>***</p>\n",
        "<p>****</p>\n",
        "<p>*****</p>\n"
      ]
    },
    {
      "cell_type": "code",
      "metadata": {
        "id": "W9oGb1AppF_Y",
        "colab_type": "code",
        "colab": {
          "base_uri": "https://localhost:8080/",
          "height": 105
        },
        "outputId": "095a31c5-9f17-4307-a281-5b048bae3571"
      },
      "source": [
        "n = 5\n",
        "for i in range(1,n+1):\n",
        "  print('*'*i)"
      ],
      "execution_count": null,
      "outputs": [
        {
          "output_type": "stream",
          "text": [
            "*\n",
            "**\n",
            "***\n",
            "****\n",
            "*****\n"
          ],
          "name": "stdout"
        }
      ]
    },
    {
      "cell_type": "markdown",
      "metadata": {
        "id": "p6l0w6QAuw-M",
        "colab_type": "text"
      },
      "source": [
        "> Q2.\n",
        "\n",
        "<p>*</p>\n",
        "<p>* *</p>\n",
        "<p>* * *</p>\n",
        "<p>* * * *</p>\n",
        "<p>* * * * *</p>\n"
      ]
    },
    {
      "cell_type": "code",
      "metadata": {
        "id": "mG4OFOsnpO5F",
        "colab_type": "code",
        "colab": {
          "base_uri": "https://localhost:8080/",
          "height": 100
        },
        "outputId": "128e6639-8be4-4b36-a665-a5165e308d31"
      },
      "source": [
        "n = 5\n",
        "for i in range(1,n+1):\n",
        "  print('* '*(i))"
      ],
      "execution_count": null,
      "outputs": [
        {
          "output_type": "stream",
          "text": [
            "* \n",
            "* * \n",
            "* * * \n",
            "* * * * \n",
            "* * * * * \n"
          ],
          "name": "stdout"
        }
      ]
    },
    {
      "cell_type": "code",
      "metadata": {
        "id": "oEqwg8cFpjFK",
        "colab_type": "code",
        "colab": {
          "base_uri": "https://localhost:8080/",
          "height": 100
        },
        "outputId": "064fbcd9-8600-4a36-c729-0a8e2c00f26b"
      },
      "source": [
        "n =5 \n",
        "for i in range(1,n+1):\n",
        "  for j in range(i):\n",
        "    print('*',end = ' ')\n",
        "  print()\n",
        "\n"
      ],
      "execution_count": null,
      "outputs": [
        {
          "output_type": "stream",
          "text": [
            "* \n",
            "* * \n",
            "* * * \n",
            "* * * * \n",
            "* * * * * \n"
          ],
          "name": "stdout"
        }
      ]
    },
    {
      "cell_type": "markdown",
      "metadata": {
        "id": "muaEhIt7rc-x",
        "colab_type": "text"
      },
      "source": [
        ">Q3.\n",
        "<p>*****</p>\n",
        "<p>****</p>\n",
        "<p>***</p>\n",
        "<p>**</p>\n",
        "<p>*</p>"
      ]
    },
    {
      "cell_type": "code",
      "metadata": {
        "id": "m9lMqiNtqfVg",
        "colab_type": "code",
        "colab": {
          "base_uri": "https://localhost:8080/",
          "height": 100
        },
        "outputId": "11bff8d2-d3f6-42f1-ef51-abb2c86bb08f"
      },
      "source": [
        "n = 5\n",
        "for i in range(n):\n",
        "  print('*'*(n-i))"
      ],
      "execution_count": null,
      "outputs": [
        {
          "output_type": "stream",
          "text": [
            "*****\n",
            "****\n",
            "***\n",
            "**\n",
            "*\n"
          ],
          "name": "stdout"
        }
      ]
    },
    {
      "cell_type": "markdown",
      "metadata": {
        "id": "Ttregjg4GFhR",
        "colab_type": "text"
      },
      "source": [
        ">Q. 4\n",
        "<p>* * * * *</p>\n",
        "<p>* * * *</p>\n",
        "<p>* * *</p>\n",
        "<p>* *</p>\n",
        "<p>*</p>"
      ]
    },
    {
      "cell_type": "code",
      "metadata": {
        "id": "2SALFgWRsa3k",
        "colab_type": "code",
        "colab": {
          "base_uri": "https://localhost:8080/",
          "height": 100
        },
        "outputId": "a9b244dc-29b0-4acb-f955-4aaa768eedac"
      },
      "source": [
        "n = 5\n",
        "for i in range(n):\n",
        "  print('* '*(n-i))"
      ],
      "execution_count": null,
      "outputs": [
        {
          "output_type": "stream",
          "text": [
            "* * * * * \n",
            "* * * * \n",
            "* * * \n",
            "* * \n",
            "* \n"
          ],
          "name": "stdout"
        }
      ]
    },
    {
      "cell_type": "code",
      "metadata": {
        "id": "ULkmFPxOsoYh",
        "colab_type": "code",
        "colab": {
          "base_uri": "https://localhost:8080/",
          "height": 100
        },
        "outputId": "b320ef82-7a2e-4e92-e124-300351ecd4f1"
      },
      "source": [
        "n = 5\n",
        "for i in range(n):\n",
        "  for j in range(n-i):\n",
        "    print('*',end = ' ')\n",
        "  print()"
      ],
      "execution_count": null,
      "outputs": [
        {
          "output_type": "stream",
          "text": [
            "* * * * * \n",
            "* * * * \n",
            "* * * \n",
            "* * \n",
            "* \n"
          ],
          "name": "stdout"
        }
      ]
    },
    {
      "cell_type": "markdown",
      "metadata": {
        "id": "TQOAMG3dGv5z",
        "colab_type": "text"
      },
      "source": [
        "> Q. 5\n",
        "<!--https://github.com/Python-Markdown/markdown/issues/564--> \n",
        "<!-- use it rather than &nbsp -->\n",
        "<div>\n",
        "<p>&#x2005;&#x2005;&#x2005;&#x2005;&#x2005;&#x2005;&#x2005;&#x2005;&#x2005;&#x2005;&#x2005;&#x2005;*</p>\n",
        "<p>&#x2005;&#x2005;&#x2005;&#x2005;&#x2005;&#x2005;&#x2005;&#x2005;&#x2005;*&#x2005;*</p>\n",
        "<p>&#x2005;&#x2005;&#x2005;&#x2005;&#x2005;&#x2005;*&#x2005;*&#x2005;*</p>\n",
        "<p>&#x2005;&#x2005;&#x2005;*&#x2005;*&#x2005;*&#x2005;*</p>\n",
        "<p>*&#x2005;*&#x2005;*&#x2005;*&#x2005;*</p>\n",
        "</div>"
      ]
    },
    {
      "cell_type": "code",
      "metadata": {
        "id": "SBgbFhJKst49",
        "colab_type": "code",
        "colab": {
          "base_uri": "https://localhost:8080/",
          "height": 100
        },
        "outputId": "a835d47a-a0a5-4f50-96cf-bf9d77193614"
      },
      "source": [
        "n = 5\n",
        "for i in range(n):\n",
        "  print(' '*(n-i-1),'*'*(i+1))\n"
      ],
      "execution_count": null,
      "outputs": [
        {
          "output_type": "stream",
          "text": [
            "     *\n",
            "    **\n",
            "   ***\n",
            "  ****\n",
            " *****\n"
          ],
          "name": "stdout"
        }
      ]
    },
    {
      "cell_type": "code",
      "metadata": {
        "id": "8f5sBUCYtj2J",
        "colab_type": "code",
        "colab": {
          "base_uri": "https://localhost:8080/",
          "height": 100
        },
        "outputId": "d5f5364a-253d-40d2-b1b8-b5ce305b27fd"
      },
      "source": [
        "n = 5\n",
        "for i in range(5):\n",
        "  print(' '*(2*(n-i+1)),end = '')\n",
        "  for j in range(i+1):\n",
        "    print('*',end = ' ')\n",
        "  print()\n",
        "  \n"
      ],
      "execution_count": null,
      "outputs": [
        {
          "output_type": "stream",
          "text": [
            "            * \n",
            "          * * \n",
            "        * * * \n",
            "      * * * * \n",
            "    * * * * * \n"
          ],
          "name": "stdout"
        }
      ]
    },
    {
      "cell_type": "markdown",
      "metadata": {
        "id": "ocmhtSHlwYNF",
        "colab_type": "text"
      },
      "source": [
        ">Q. 6\n",
        "\n",
        "<p>&#x2005;&#x2005;&#x2005;&#x2005;*</p>\n",
        "<p>&#x2005;&#x2005;&#x2005;*&#x2005;*</p>\n",
        "<p>&#x2005;&#x2005;*&#x2005;*&#x2005;*</p>\n",
        "<p>&#x2005;*&#x2005;*&#x2005;*&#x2005;*</p>\n",
        "<p>*&#x2005;*&#x2005;*&#x2005;*&#x2005;*</p>\n",
        "\n"
      ]
    },
    {
      "cell_type": "code",
      "metadata": {
        "id": "X6XY0WkVvZka",
        "colab_type": "code",
        "colab": {
          "base_uri": "https://localhost:8080/",
          "height": 100
        },
        "outputId": "47c643fe-5d0d-42a6-a7bb-6bad42cc263b"
      },
      "source": [
        "n = 5\n",
        "for i in range(n):\n",
        "  print(' '*(n-i-1),end = '')\n",
        "  for j in range(i+1):\n",
        "    print('*',end= ' ')\n",
        "  print()\n"
      ],
      "execution_count": null,
      "outputs": [
        {
          "output_type": "stream",
          "text": [
            "    * \n",
            "   * * \n",
            "  * * * \n",
            " * * * * \n",
            "* * * * * \n"
          ],
          "name": "stdout"
        }
      ]
    }
  ]
}
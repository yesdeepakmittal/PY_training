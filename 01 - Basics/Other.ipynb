{
  "cells": [
    {
      "cell_type": "markdown",
      "metadata": {
        "id": "view-in-github",
        "colab_type": "text"
      },
      "source": [
        "<a href=\"https://colab.research.google.com/github/yesdeepakmittal/pytraining/blob/master/01%20-%20Basics/Other.ipynb\" target=\"_parent\"><img src=\"https://colab.research.google.com/assets/colab-badge.svg\" alt=\"Open In Colab\"/></a>"
      ]
    },
    {
      "cell_type": "code",
      "execution_count": 1,
      "metadata": {
        "id": "_dIeCClSYBR3",
        "outputId": "2cd66a24-30f7-436c-de5d-62530031de87",
        "colab": {
          "base_uri": "https://localhost:8080/"
        }
      },
      "outputs": [
        {
          "output_type": "execute_result",
          "data": {
            "text/plain": [
              "-inf"
            ]
          },
          "metadata": {},
          "execution_count": 1
        }
      ],
      "source": [
        "infinite_number = float('-inf')\n",
        "infinite_number"
      ]
    },
    {
      "cell_type": "markdown",
      "source": [
        "### Coloring Text"
      ],
      "metadata": {
        "id": "TNQD6EBcYDRv"
      }
    },
    {
      "cell_type": "code",
      "execution_count": 3,
      "metadata": {
        "id": "CalQvQvrYBR4",
        "outputId": "708c6e2e-3228-4616-9445-2a3501e165fe",
        "colab": {
          "base_uri": "https://localhost:8080/"
        }
      },
      "outputs": [
        {
          "output_type": "stream",
          "name": "stdout",
          "text": [
            "\u001b[91mHello, \u001b[92mWorld!\n"
          ]
        }
      ],
      "source": [
        "print('\\033[91m' + 'Hello, ' + '\\033[92m' + 'World!')"
      ]
    }
  ],
  "metadata": {
    "interpreter": {
      "hash": "5d3fc0c4eb10362043affec83520f5b4055cada69a658db64d30293aaaeeb5a6"
    },
    "kernelspec": {
      "display_name": "Python 3.9.6 64-bit (system)",
      "language": "python",
      "name": "python3"
    },
    "language_info": {
      "codemirror_mode": {
        "name": "ipython",
        "version": 3
      },
      "file_extension": ".py",
      "mimetype": "text/x-python",
      "name": "python",
      "nbconvert_exporter": "python",
      "pygments_lexer": "ipython3",
      "version": "3.9.6"
    },
    "orig_nbformat": 4,
    "colab": {
      "provenance": [],
      "include_colab_link": true
    }
  },
  "nbformat": 4,
  "nbformat_minor": 0
}
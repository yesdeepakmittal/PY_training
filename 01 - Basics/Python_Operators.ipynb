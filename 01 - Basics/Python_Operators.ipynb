{
  "nbformat": 4,
  "nbformat_minor": 0,
  "metadata": {
    "colab": {
      "name": "PyDay1",
      "provenance": [],
      "authorship_tag": "ABX9TyP3zfzHOxtNH7cJd34nU2ax"
    },
    "kernelspec": {
      "name": "python3",
      "display_name": "Python 3"
    }
  },
  "cells": [
    {
      "cell_type": "markdown",
      "metadata": {
        "id": "d1wLDhC_9xiy",
        "colab_type": "text"
      },
      "source": [
        "# Python\n",
        "\n",
        "* High level, interpreter-based, general-purpose programming language\n",
        "* Introducted by **Guido van Rossum** \n",
        "* Easily readible\n",
        "* Widely used programming language"
      ]
    },
    {
      "cell_type": "markdown",
      "metadata": {
        "id": "00pheRMSTzIo",
        "colab_type": "text"
      },
      "source": [
        "# Why to learn Python?\n",
        "* High-level, general-purpose programming language\n",
        "* One of mostly used programming language\n",
        "* Python prgramming language is close to human language\n",
        "* Wide application including but not limited to **Data Science, Machine Learning, Web-Development**,etc. \n",
        "* Open-Source\n",
        "* Rich libraries\n",
        "* Easy to use"
      ]
    },
    {
      "cell_type": "markdown",
      "metadata": {
        "id": "YnWMV4ssVQ3K",
        "colab_type": "text"
      },
      "source": [
        "# Getting Started\n",
        "* Download link: https://www.python.org/downloads/\n",
        "* Install any text editor such as Sublime Text editor, [Visual Code Studio](https://code.visualstudio.com/), etc. for ofline coding or else run codes online\n",
        "* 📌To run this code directly without downloading(online), go to [Google Colab](https://colab.research.google.com/notebooks/welcome.ipynb#recent=true) and click on **File -> Open Notebook -> GitHub** then copy the link of this file and paste into a above search bar then click on 🔍 icon. You will now be able to edit the code into your own window\n",
        "* If you have a forked version of this [code](https://github.com/yesdeepakmittal/pytraining), you have an option to save your progress into your GitHub. For accessing this file, do the below step\n",
        "* Go to [Google Colab](https://colab.research.google.com/notebooks/welcome.ipynb#recent=true) and click on **File -> Open Notebook -> GitHub** then search into the dropdown your own repository namely **YourUserName/pytraining**. Open this and you can run all the code cells. If you want to save your progress into your GitHub repository, go to **File -> Save a copy in GitHUb** and then **commit** it. "
      ]
    },
    {
      "cell_type": "markdown",
      "metadata": {
        "id": "roNPgUMD-kz8",
        "colab_type": "text"
      },
      "source": [
        "## Operators\n",
        "* **Arithmetic Operators**\n",
        "    * **Addition**: +\n",
        "    * **Subtraction**: -\n",
        "    * **Multiplication**: *\n",
        "    * **Division**: /\n",
        "    * **Division(floor)**: //\n",
        "    * **Modulus**: %\n",
        "    * **Exponential**: **"
      ]
    },
    {
      "cell_type": "code",
      "metadata": {
        "id": "pMs4JqCt3mx1",
        "colab_type": "code",
        "colab": {
          "base_uri": "https://localhost:8080/",
          "height": 33
        },
        "outputId": "d533153f-e72c-4476-c6a6-447c0466c94b"
      },
      "source": [
        "print(1+2)"
      ],
      "execution_count": null,
      "outputs": [
        {
          "output_type": "stream",
          "text": [
            "3\n"
          ],
          "name": "stdout"
        }
      ]
    },
    {
      "cell_type": "markdown",
      "metadata": {
        "id": "9AkCrvpzwi8W",
        "colab_type": "text"
      },
      "source": [
        "📌**Note**: If it is required to print only a last line in a **code cell** of Jupyter notebook, their is no necessaity of using **print()** function"
      ]
    },
    {
      "cell_type": "code",
      "metadata": {
        "id": "hz4xVEeeaQZN",
        "colab_type": "code",
        "colab": {
          "base_uri": "https://localhost:8080/",
          "height": 33
        },
        "outputId": "1c819de2-2d0e-40b6-f26a-e0b88d01e373"
      },
      "source": [
        "3-2"
      ],
      "execution_count": null,
      "outputs": [
        {
          "output_type": "execute_result",
          "data": {
            "text/plain": [
              "1"
            ]
          },
          "metadata": {
            "tags": []
          },
          "execution_count": 2
        }
      ]
    },
    {
      "cell_type": "code",
      "metadata": {
        "id": "5cks2RvMaTHu",
        "colab_type": "code",
        "colab": {
          "base_uri": "https://localhost:8080/",
          "height": 33
        },
        "outputId": "35f64a45-5101-4650-fd91-886c08b1548b"
      },
      "source": [
        "3*4"
      ],
      "execution_count": null,
      "outputs": [
        {
          "output_type": "execute_result",
          "data": {
            "text/plain": [
              "12"
            ]
          },
          "metadata": {
            "tags": []
          },
          "execution_count": 3
        }
      ]
    },
    {
      "cell_type": "code",
      "metadata": {
        "id": "X-GRadJSaVWX",
        "colab_type": "code",
        "colab": {
          "base_uri": "https://localhost:8080/",
          "height": 33
        },
        "outputId": "696d79da-93e4-4ab9-8d23-a58232d29e15"
      },
      "source": [
        "3/2"
      ],
      "execution_count": null,
      "outputs": [
        {
          "output_type": "execute_result",
          "data": {
            "text/plain": [
              "1.5"
            ]
          },
          "metadata": {
            "tags": []
          },
          "execution_count": 4
        }
      ]
    },
    {
      "cell_type": "markdown",
      "metadata": {
        "id": "I8l6ne_zNFoE",
        "colab_type": "text"
      },
      "source": [
        "* '#' symbol is used to indicate the single comment line\n",
        "* '''comment''' is used to indicate the multiple comment line"
      ]
    },
    {
      "cell_type": "code",
      "metadata": {
        "id": "ZpPdDPcmaYUh",
        "colab_type": "code",
        "colab": {
          "base_uri": "https://localhost:8080/",
          "height": 33
        },
        "outputId": "0af0de5c-c552-4646-ec7c-b60d1e631948"
      },
      "source": [
        "5//2 #Floor-Division "
      ],
      "execution_count": null,
      "outputs": [
        {
          "output_type": "execute_result",
          "data": {
            "text/plain": [
              "2"
            ]
          },
          "metadata": {
            "tags": []
          },
          "execution_count": 5
        }
      ]
    },
    {
      "cell_type": "code",
      "metadata": {
        "id": "GRr3hqelaZ4R",
        "colab_type": "code",
        "colab": {
          "base_uri": "https://localhost:8080/",
          "height": 33
        },
        "outputId": "49853ef1-69f3-42c2-8091-f211b7969c60"
      },
      "source": [
        "5%2"
      ],
      "execution_count": null,
      "outputs": [
        {
          "output_type": "execute_result",
          "data": {
            "text/plain": [
              "1"
            ]
          },
          "metadata": {
            "tags": []
          },
          "execution_count": 6
        }
      ]
    },
    {
      "cell_type": "code",
      "metadata": {
        "id": "m7tXMugnacgH",
        "colab_type": "code",
        "colab": {
          "base_uri": "https://localhost:8080/",
          "height": 33
        },
        "outputId": "269a52c0-28f0-41ae-8bc7-b4405619ce14"
      },
      "source": [
        "5**2"
      ],
      "execution_count": null,
      "outputs": [
        {
          "output_type": "execute_result",
          "data": {
            "text/plain": [
              "25"
            ]
          },
          "metadata": {
            "tags": []
          },
          "execution_count": 7
        }
      ]
    },
    {
      "cell_type": "markdown",
      "metadata": {
        "id": "rZvniipav27-",
        "colab_type": "text"
      },
      "source": [
        "* **Relational Operators**\n",
        "    * **Equal to**: ==\n",
        "    * **Less than**: <\n",
        "    * **Greater than**: >\n",
        "    * **Not equal to**: !=\n",
        "    * **Greater than or equal to**: >=\n",
        "    * **Less than or equal to**: <="
      ]
    },
    {
      "cell_type": "code",
      "metadata": {
        "id": "P78vwAuyad93",
        "colab_type": "code",
        "colab": {
          "base_uri": "https://localhost:8080/",
          "height": 52
        },
        "outputId": "a9eb85b2-9d27-488c-b6d0-3c7d48a66be2"
      },
      "source": [
        "a = 10\n",
        "b = 4\n",
        "print(a == b)\n",
        "print(a != b)"
      ],
      "execution_count": null,
      "outputs": [
        {
          "output_type": "stream",
          "text": [
            "False\n",
            "True\n"
          ],
          "name": "stdout"
        }
      ]
    },
    {
      "cell_type": "code",
      "metadata": {
        "id": "zjuIFG0Qw5Mj",
        "colab_type": "code",
        "colab": {
          "base_uri": "https://localhost:8080/",
          "height": 34
        },
        "outputId": "a35f8b4d-bfdb-42e8-c156-94fce270aadd"
      },
      "source": [
        "a < b"
      ],
      "execution_count": null,
      "outputs": [
        {
          "output_type": "execute_result",
          "data": {
            "text/plain": [
              "False"
            ]
          },
          "metadata": {
            "tags": []
          },
          "execution_count": 4
        }
      ]
    },
    {
      "cell_type": "code",
      "metadata": {
        "id": "HiY1poHnw8Ng",
        "colab_type": "code",
        "colab": {
          "base_uri": "https://localhost:8080/",
          "height": 34
        },
        "outputId": "94d3588a-270b-4b82-c5f6-3d0df54390cc"
      },
      "source": [
        "a > b"
      ],
      "execution_count": null,
      "outputs": [
        {
          "output_type": "execute_result",
          "data": {
            "text/plain": [
              "True"
            ]
          },
          "metadata": {
            "tags": []
          },
          "execution_count": 5
        }
      ]
    },
    {
      "cell_type": "code",
      "metadata": {
        "id": "xjrCPk27xBJG",
        "colab_type": "code",
        "colab": {
          "base_uri": "https://localhost:8080/",
          "height": 34
        },
        "outputId": "25440adb-2618-4b98-9205-bd327acbe507"
      },
      "source": [
        "a != b"
      ],
      "execution_count": null,
      "outputs": [
        {
          "output_type": "execute_result",
          "data": {
            "text/plain": [
              "True"
            ]
          },
          "metadata": {
            "tags": []
          },
          "execution_count": 6
        }
      ]
    },
    {
      "cell_type": "code",
      "metadata": {
        "id": "In54-SQSxCM8",
        "colab_type": "code",
        "colab": {
          "base_uri": "https://localhost:8080/",
          "height": 34
        },
        "outputId": "62c47c4c-f3d6-4c79-e394-db9796f0bc16"
      },
      "source": [
        "a >= b"
      ],
      "execution_count": null,
      "outputs": [
        {
          "output_type": "execute_result",
          "data": {
            "text/plain": [
              "True"
            ]
          },
          "metadata": {
            "tags": []
          },
          "execution_count": 7
        }
      ]
    },
    {
      "cell_type": "code",
      "metadata": {
        "id": "Akc8iN7HxDWK",
        "colab_type": "code",
        "colab": {
          "base_uri": "https://localhost:8080/",
          "height": 34
        },
        "outputId": "6ff6f929-56f0-4170-c930-c4c00891b310"
      },
      "source": [
        "a <= b"
      ],
      "execution_count": null,
      "outputs": [
        {
          "output_type": "execute_result",
          "data": {
            "text/plain": [
              "False"
            ]
          },
          "metadata": {
            "tags": []
          },
          "execution_count": 8
        }
      ]
    },
    {
      "cell_type": "markdown",
      "metadata": {
        "id": "brZYRtLj0Ysy",
        "colab_type": "text"
      },
      "source": [
        "* **Logical Operators**\n",
        "    * **and**: It returns true if both conditions are true\n",
        "    * **or**: It returns true if any condition is true \n",
        "    * **not**: It returns true if the condition is false or vice-versa"
      ]
    },
    {
      "cell_type": "code",
      "metadata": {
        "id": "-a91pFzT0J-_",
        "colab_type": "code",
        "colab": {
          "base_uri": "https://localhost:8080/",
          "height": 33
        },
        "outputId": "41724883-01b8-43ab-b7b0-2cbc72e95f38"
      },
      "source": [
        "4 > 2 and 5 < 6"
      ],
      "execution_count": null,
      "outputs": [
        {
          "output_type": "execute_result",
          "data": {
            "text/plain": [
              "True"
            ]
          },
          "metadata": {
            "tags": []
          },
          "execution_count": 14
        }
      ]
    },
    {
      "cell_type": "code",
      "metadata": {
        "id": "c0KI7pym1KHD",
        "colab_type": "code",
        "colab": {
          "base_uri": "https://localhost:8080/",
          "height": 33
        },
        "outputId": "0c7b3437-dc51-4c85-b9a6-f7a53038c9d5"
      },
      "source": [
        "4 < 2 and 5 < 6"
      ],
      "execution_count": null,
      "outputs": [
        {
          "output_type": "execute_result",
          "data": {
            "text/plain": [
              "False"
            ]
          },
          "metadata": {
            "tags": []
          },
          "execution_count": 15
        }
      ]
    },
    {
      "cell_type": "code",
      "metadata": {
        "id": "mV-O6f1s1L-W",
        "colab_type": "code",
        "colab": {
          "base_uri": "https://localhost:8080/",
          "height": 33
        },
        "outputId": "46edf36e-e22d-45ea-aaf8-cc44647b09a8"
      },
      "source": [
        "66 < 66 or 66 < 67"
      ],
      "execution_count": null,
      "outputs": [
        {
          "output_type": "execute_result",
          "data": {
            "text/plain": [
              "True"
            ]
          },
          "metadata": {
            "tags": []
          },
          "execution_count": 16
        }
      ]
    },
    {
      "cell_type": "code",
      "metadata": {
        "id": "srXHyZvm1OAr",
        "colab_type": "code",
        "colab": {
          "base_uri": "https://localhost:8080/",
          "height": 33
        },
        "outputId": "ef1fdd8f-e46d-4ea7-ed63-d63815771485"
      },
      "source": [
        "66 < 64 or 66 < 61"
      ],
      "execution_count": null,
      "outputs": [
        {
          "output_type": "execute_result",
          "data": {
            "text/plain": [
              "False"
            ]
          },
          "metadata": {
            "tags": []
          },
          "execution_count": 17
        }
      ]
    },
    {
      "cell_type": "code",
      "metadata": {
        "id": "XtsFnSaQ1gWy",
        "colab_type": "code",
        "colab": {
          "base_uri": "https://localhost:8080/",
          "height": 33
        },
        "outputId": "52656812-34d5-4948-e2be-7696728c19fd"
      },
      "source": [
        "66 <= 66 or 66 >= 67"
      ],
      "execution_count": null,
      "outputs": [
        {
          "output_type": "execute_result",
          "data": {
            "text/plain": [
              "True"
            ]
          },
          "metadata": {
            "tags": []
          },
          "execution_count": 18
        }
      ]
    },
    {
      "cell_type": "code",
      "metadata": {
        "id": "9POhA3Pz1Q2X",
        "colab_type": "code",
        "colab": {
          "base_uri": "https://localhost:8080/",
          "height": 33
        },
        "outputId": "7e277b4b-79cd-473f-f426-16cc407e2d3f"
      },
      "source": [
        "not(66 > 63)"
      ],
      "execution_count": null,
      "outputs": [
        {
          "output_type": "execute_result",
          "data": {
            "text/plain": [
              "False"
            ]
          },
          "metadata": {
            "tags": []
          },
          "execution_count": 19
        }
      ]
    },
    {
      "cell_type": "code",
      "metadata": {
        "id": "QfimxkzZ1UsS",
        "colab_type": "code",
        "colab": {
          "base_uri": "https://localhost:8080/",
          "height": 33
        },
        "outputId": "bce43d2f-4d66-4f36-c015-3b29572c09ad"
      },
      "source": [
        "not(66 < 63)"
      ],
      "execution_count": null,
      "outputs": [
        {
          "output_type": "execute_result",
          "data": {
            "text/plain": [
              "True"
            ]
          },
          "metadata": {
            "tags": []
          },
          "execution_count": 20
        }
      ]
    },
    {
      "cell_type": "code",
      "metadata": {
        "id": "O36YyZbx1WD9",
        "colab_type": "code",
        "colab": {
          "base_uri": "https://localhost:8080/",
          "height": 33
        },
        "outputId": "b873bdbf-259b-4b29-ea1a-fa48fef30039"
      },
      "source": [
        "not(66 >= 63)"
      ],
      "execution_count": null,
      "outputs": [
        {
          "output_type": "execute_result",
          "data": {
            "text/plain": [
              "False"
            ]
          },
          "metadata": {
            "tags": []
          },
          "execution_count": 21
        }
      ]
    },
    {
      "cell_type": "markdown",
      "metadata": {
        "id": "JA5osKSU2iZc",
        "colab_type": "text"
      },
      "source": [
        "* **Bitwise Operators**: Perform operation bit by bit \n",
        "    * **AND**: &\n",
        "    * **OR**: |\n",
        "    * **XOR**: ^\n",
        "    * **NOT**: ~\n",
        "    * **Left shift**: <<\n",
        "    * **Right shift**: >>"
      ]
    },
    {
      "cell_type": "markdown",
      "metadata": {
        "id": "g9ZCjdfE5F0g",
        "colab_type": "text"
      },
      "source": [
        "📌**Note**: Please refer truth table to perform bitwise operation"
      ]
    },
    {
      "cell_type": "code",
      "metadata": {
        "id": "1Lyc5Wv_1aOo",
        "colab_type": "code",
        "colab": {
          "base_uri": "https://localhost:8080/",
          "height": 34
        },
        "outputId": "6e511167-262a-487e-f8d5-ed8c25d881cc"
      },
      "source": [
        "# 2 : 0010\n",
        "# 5 : 0101\n",
        "# 2&5: 0000\n",
        "\n",
        "2&5"
      ],
      "execution_count": null,
      "outputs": [
        {
          "output_type": "execute_result",
          "data": {
            "text/plain": [
              "0"
            ]
          },
          "metadata": {
            "tags": []
          },
          "execution_count": 9
        }
      ]
    },
    {
      "cell_type": "code",
      "metadata": {
        "id": "7kXdVhk94Siw",
        "colab_type": "code",
        "colab": {
          "base_uri": "https://localhost:8080/",
          "height": 34
        },
        "outputId": "8b6b589a-1280-4764-f284-e8ee79f5e108"
      },
      "source": [
        "# 2 | 5 : 0111\n",
        "\n",
        "2 | 5"
      ],
      "execution_count": null,
      "outputs": [
        {
          "output_type": "execute_result",
          "data": {
            "text/plain": [
              "7"
            ]
          },
          "metadata": {
            "tags": []
          },
          "execution_count": 10
        }
      ]
    },
    {
      "cell_type": "code",
      "metadata": {
        "id": "B6ApKqKA4mPS",
        "colab_type": "code",
        "colab": {
          "base_uri": "https://localhost:8080/",
          "height": 34
        },
        "outputId": "6d3fedaf-cd34-4cee-bff3-79a3d237821d"
      },
      "source": [
        "# 2 ^ 5 : 0111\n",
        "\n",
        "2 ^ 5"
      ],
      "execution_count": null,
      "outputs": [
        {
          "output_type": "execute_result",
          "data": {
            "text/plain": [
              "7"
            ]
          },
          "metadata": {
            "tags": []
          },
          "execution_count": 12
        }
      ]
    },
    {
      "cell_type": "code",
      "metadata": {
        "id": "xPC8xQAM4_ZP",
        "colab_type": "code",
        "colab": {
          "base_uri": "https://localhost:8080/",
          "height": 34
        },
        "outputId": "6a186046-15ad-4ce6-d2f2-0f75977361de"
      },
      "source": [
        "# Bitwise NOT\n",
        "~2"
      ],
      "execution_count": null,
      "outputs": [
        {
          "output_type": "execute_result",
          "data": {
            "text/plain": [
              "-3"
            ]
          },
          "metadata": {
            "tags": []
          },
          "execution_count": 13
        }
      ]
    },
    {
      "cell_type": "code",
      "metadata": {
        "id": "F0sKOk-45U0C",
        "colab_type": "code",
        "colab": {
          "base_uri": "https://localhost:8080/",
          "height": 34
        },
        "outputId": "d9dc5c0d-d0dc-4f21-9651-12949b2eb950"
      },
      "source": [
        "# 2 : 0010(2) 1000(8)\n",
        "\n",
        "a = 2\n",
        "a << 2"
      ],
      "execution_count": null,
      "outputs": [
        {
          "output_type": "execute_result",
          "data": {
            "text/plain": [
              "8"
            ]
          },
          "metadata": {
            "tags": []
          },
          "execution_count": 14
        }
      ]
    },
    {
      "cell_type": "code",
      "metadata": {
        "id": "jPNsZe3aE7XH",
        "colab_type": "code",
        "colab": {
          "base_uri": "https://localhost:8080/",
          "height": 34
        },
        "outputId": "db34c496-81b5-4b61-87f2-1879e5a6401c"
      },
      "source": [
        "# 2 : 0010(2) 0000(2)\n",
        "\n",
        "a >> 2"
      ],
      "execution_count": null,
      "outputs": [
        {
          "output_type": "execute_result",
          "data": {
            "text/plain": [
              "0"
            ]
          },
          "metadata": {
            "tags": []
          },
          "execution_count": 15
        }
      ]
    },
    {
      "cell_type": "markdown",
      "metadata": {
        "id": "MsONrS3Dx2F-",
        "colab_type": "text"
      },
      "source": [
        "* **Assignment Operators**\n",
        "    * =\n",
        "    * +=\n",
        "    * -=\n",
        "    * *=\n",
        "    * /=\n",
        "    * //=\n",
        "    * %=\n",
        "    * **=\n",
        "    * &=\n",
        "    * |=\n",
        "    * ^=\n",
        "    * <<= , >>="
      ]
    },
    {
      "cell_type": "code",
      "metadata": {
        "id": "zwfnztV-xEae",
        "colab_type": "code",
        "colab": {
          "base_uri": "https://localhost:8080/",
          "height": 34
        },
        "outputId": "e4e092c2-a0ea-4c82-cb10-20f8916ec4c5"
      },
      "source": [
        "a = 2 \n",
        "b = 3 \n",
        "print(a,b)"
      ],
      "execution_count": null,
      "outputs": [
        {
          "output_type": "stream",
          "text": [
            "2 3\n"
          ],
          "name": "stdout"
        }
      ]
    },
    {
      "cell_type": "code",
      "metadata": {
        "id": "qTFOqPwjzGF2",
        "colab_type": "code",
        "colab": {
          "base_uri": "https://localhost:8080/",
          "height": 33
        },
        "outputId": "f9e77206-8105-4ed6-bc6a-37e49e3e992e"
      },
      "source": [
        "temp = 10\n",
        "temp += a  #It is equivalent to temp = temp + a\n",
        "print(temp)"
      ],
      "execution_count": null,
      "outputs": [
        {
          "output_type": "stream",
          "text": [
            "12\n"
          ],
          "name": "stdout"
        }
      ]
    },
    {
      "cell_type": "code",
      "metadata": {
        "id": "1l9V1ET8zXeL",
        "colab_type": "code",
        "colab": {
          "base_uri": "https://localhost:8080/",
          "height": 34
        },
        "outputId": "3469c1f8-d64b-4167-de98-f39fd53cc151"
      },
      "source": [
        "temp = 10\n",
        "temp -= a  #It is equivalent to temp = temp - a\n",
        "print(temp)"
      ],
      "execution_count": null,
      "outputs": [
        {
          "output_type": "stream",
          "text": [
            "8\n"
          ],
          "name": "stdout"
        }
      ]
    },
    {
      "cell_type": "code",
      "metadata": {
        "id": "yuvk_0tGzk2a",
        "colab_type": "code",
        "colab": {
          "base_uri": "https://localhost:8080/",
          "height": 33
        },
        "outputId": "8c4ecf78-b9b4-4c2e-966e-7d67f708f275"
      },
      "source": [
        "temp = 10\n",
        "temp *= a  #It is equivalent to temp = temp * a\n",
        "print(temp)"
      ],
      "execution_count": null,
      "outputs": [
        {
          "output_type": "stream",
          "text": [
            "20\n"
          ],
          "name": "stdout"
        }
      ]
    },
    {
      "cell_type": "code",
      "metadata": {
        "id": "7kEcwMVxzpOL",
        "colab_type": "code",
        "colab": {
          "base_uri": "https://localhost:8080/",
          "height": 33
        },
        "outputId": "dee36847-929b-424d-dfc4-563d5ebfe8e6"
      },
      "source": [
        "temp = 10\n",
        "temp /= a  #It is equivalent to temp = temp / a \n",
        "print(temp)"
      ],
      "execution_count": null,
      "outputs": [
        {
          "output_type": "stream",
          "text": [
            "5.0\n"
          ],
          "name": "stdout"
        }
      ]
    },
    {
      "cell_type": "code",
      "metadata": {
        "id": "8fmSwwzWz1XJ",
        "colab_type": "code",
        "colab": {
          "base_uri": "https://localhost:8080/",
          "height": 33
        },
        "outputId": "5044e6a5-012c-4b05-a71e-8f81a395c346"
      },
      "source": [
        "temp = 10\n",
        "temp //= a  #It is equivalent to temp = temp // a (Floor division)\n",
        "print(temp)"
      ],
      "execution_count": null,
      "outputs": [
        {
          "output_type": "stream",
          "text": [
            "5\n"
          ],
          "name": "stdout"
        }
      ]
    },
    {
      "cell_type": "code",
      "metadata": {
        "id": "oVLzXImD0A7x",
        "colab_type": "code",
        "colab": {
          "base_uri": "https://localhost:8080/",
          "height": 33
        },
        "outputId": "86c4ed01-ab82-41b3-e788-f2f02e57e80b"
      },
      "source": [
        "temp = 10\n",
        "temp %= a  #It is equivalent to temp = 10 % 2 \n",
        "print(temp)"
      ],
      "execution_count": null,
      "outputs": [
        {
          "output_type": "stream",
          "text": [
            "0\n"
          ],
          "name": "stdout"
        }
      ]
    },
    {
      "cell_type": "code",
      "metadata": {
        "id": "uYYT4ZjS0Fmp",
        "colab_type": "code",
        "colab": {
          "base_uri": "https://localhost:8080/",
          "height": 33
        },
        "outputId": "a2a46a17-09d1-4f5a-a87a-adcea9dfe27a"
      },
      "source": [
        "temp = 10\n",
        "temp **= a  #It is equivalent to temp = temp ** a \n",
        "print(temp)"
      ],
      "execution_count": null,
      "outputs": [
        {
          "output_type": "stream",
          "text": [
            "100\n"
          ],
          "name": "stdout"
        }
      ]
    },
    {
      "cell_type": "code",
      "metadata": {
        "id": "ZFDMwI6ZGvX0",
        "colab_type": "code",
        "colab": {
          "base_uri": "https://localhost:8080/",
          "height": 33
        },
        "outputId": "41e40fab-0292-4a17-b899-eafb62c5dd57"
      },
      "source": [
        "temp = 2\n",
        "temp &= 5   # 2 & 5 = 0\n",
        "temp"
      ],
      "execution_count": null,
      "outputs": [
        {
          "output_type": "execute_result",
          "data": {
            "text/plain": [
              "0"
            ]
          },
          "metadata": {
            "tags": []
          },
          "execution_count": 36
        }
      ]
    },
    {
      "cell_type": "code",
      "metadata": {
        "id": "j5AXdkkjGpu9",
        "colab_type": "code",
        "colab": {
          "base_uri": "https://localhost:8080/",
          "height": 33
        },
        "outputId": "c7e6f67a-c377-4c46-eb92-b46278bab3b3"
      },
      "source": [
        "temp = 2\n",
        "temp |= 5   # 2 | 5 = 7\n",
        "temp"
      ],
      "execution_count": null,
      "outputs": [
        {
          "output_type": "execute_result",
          "data": {
            "text/plain": [
              "7"
            ]
          },
          "metadata": {
            "tags": []
          },
          "execution_count": 37
        }
      ]
    },
    {
      "cell_type": "code",
      "metadata": {
        "id": "cFoIwJDUG-S2",
        "colab_type": "code",
        "colab": {
          "base_uri": "https://localhost:8080/",
          "height": 34
        },
        "outputId": "040aa062-e400-4390-a6d5-7dcb017daf9d"
      },
      "source": [
        "temp = 2\n",
        "temp ^= 5   # 2 ^ 5 = 7\n",
        "# 2 0010\n",
        "# 5 0101\n",
        "#   0111\n",
        "temp"
      ],
      "execution_count": null,
      "outputs": [
        {
          "output_type": "execute_result",
          "data": {
            "text/plain": [
              "7"
            ]
          },
          "metadata": {
            "tags": []
          },
          "execution_count": 18
        }
      ]
    },
    {
      "cell_type": "code",
      "metadata": {
        "id": "ZivFvpGOHDxM",
        "colab_type": "code",
        "colab": {
          "base_uri": "https://localhost:8080/",
          "height": 33
        },
        "outputId": "c9fa70b8-2049-4645-c55f-eb8be7795003"
      },
      "source": [
        "temp = 2\n",
        "temp >>=2   # >>2 = 0\n",
        "temp"
      ],
      "execution_count": null,
      "outputs": [
        {
          "output_type": "execute_result",
          "data": {
            "text/plain": [
              "0"
            ]
          },
          "metadata": {
            "tags": []
          },
          "execution_count": 39
        }
      ]
    },
    {
      "cell_type": "code",
      "metadata": {
        "id": "iag0duMgHP4x",
        "colab_type": "code",
        "colab": {
          "base_uri": "https://localhost:8080/",
          "height": 33
        },
        "outputId": "67cda753-4212-4690-ab34-3162458ee99b"
      },
      "source": [
        "temp = 2\n",
        "temp <<= 2   # <<2 = 8\n",
        "temp"
      ],
      "execution_count": null,
      "outputs": [
        {
          "output_type": "execute_result",
          "data": {
            "text/plain": [
              "8"
            ]
          },
          "metadata": {
            "tags": []
          },
          "execution_count": 40
        }
      ]
    },
    {
      "cell_type": "markdown",
      "metadata": {
        "id": "UNWwUu0ZMeJt",
        "colab_type": "text"
      },
      "source": [
        "* **Identity Operators**\n",
        "    * **is**: It returns true if the object is same\n",
        "    * **is not**: It returns true if the object is not same"
      ]
    },
    {
      "cell_type": "code",
      "metadata": {
        "id": "NncT4SetMysn",
        "colab_type": "code",
        "colab": {
          "base_uri": "https://localhost:8080/",
          "height": 34
        },
        "outputId": "3fed3e0d-2509-49a3-9a7b-63664f57de0e"
      },
      "source": [
        "a = 2\n",
        "b = 10\n",
        "\n",
        "a is b"
      ],
      "execution_count": null,
      "outputs": [
        {
          "output_type": "execute_result",
          "data": {
            "text/plain": [
              "False"
            ]
          },
          "metadata": {
            "tags": []
          },
          "execution_count": 19
        }
      ]
    },
    {
      "cell_type": "code",
      "metadata": {
        "id": "ZYu4OOMxM3wQ",
        "colab_type": "code",
        "colab": {
          "base_uri": "https://localhost:8080/",
          "height": 34
        },
        "outputId": "edb03c5f-c709-495f-8241-41a7e66e45c5"
      },
      "source": [
        "a is not b"
      ],
      "execution_count": null,
      "outputs": [
        {
          "output_type": "execute_result",
          "data": {
            "text/plain": [
              "True"
            ]
          },
          "metadata": {
            "tags": []
          },
          "execution_count": 20
        }
      ]
    },
    {
      "cell_type": "code",
      "metadata": {
        "id": "DnEyMCeeM5D1",
        "colab_type": "code",
        "colab": {
          "base_uri": "https://localhost:8080/",
          "height": 34
        },
        "outputId": "784d2608-6c86-4831-ea04-75ca027842a8"
      },
      "source": [
        "1 is not 2"
      ],
      "execution_count": null,
      "outputs": [
        {
          "output_type": "execute_result",
          "data": {
            "text/plain": [
              "True"
            ]
          },
          "metadata": {
            "tags": []
          },
          "execution_count": 21
        }
      ]
    },
    {
      "cell_type": "code",
      "metadata": {
        "id": "BUX75JaDNWiS",
        "colab_type": "code",
        "colab": {
          "base_uri": "https://localhost:8080/",
          "height": 34
        },
        "outputId": "3c18dd1e-8f51-45ea-b8ca-38eb2da5f9c4"
      },
      "source": [
        "2 is 2"
      ],
      "execution_count": null,
      "outputs": [
        {
          "output_type": "execute_result",
          "data": {
            "text/plain": [
              "True"
            ]
          },
          "metadata": {
            "tags": []
          },
          "execution_count": 22
        }
      ]
    },
    {
      "cell_type": "markdown",
      "metadata": {
        "id": "tFA5tcPqNbgb",
        "colab_type": "text"
      },
      "source": [
        "* **Membership Operators**\n",
        "    * **in**: It returns true if the value resides in\n",
        "    * **not in**: It returns true if the value does not reside in"
      ]
    },
    {
      "cell_type": "code",
      "metadata": {
        "id": "hJ7ig_ZlOBUl",
        "colab_type": "code",
        "colab": {
          "base_uri": "https://localhost:8080/",
          "height": 34
        },
        "outputId": "2c90224f-455d-4443-d522-907561282a91"
      },
      "source": [
        "lis = [1,2,3,4,5]\n",
        "1 in lis"
      ],
      "execution_count": null,
      "outputs": [
        {
          "output_type": "execute_result",
          "data": {
            "text/plain": [
              "True"
            ]
          },
          "metadata": {
            "tags": []
          },
          "execution_count": 23
        }
      ]
    },
    {
      "cell_type": "code",
      "metadata": {
        "id": "CvV2bFHwOI8e",
        "colab_type": "code",
        "colab": {
          "base_uri": "https://localhost:8080/",
          "height": 34
        },
        "outputId": "3f476a58-b272-4ac0-84df-48c9d87013da"
      },
      "source": [
        "3 in lis"
      ],
      "execution_count": null,
      "outputs": [
        {
          "output_type": "execute_result",
          "data": {
            "text/plain": [
              "True"
            ]
          },
          "metadata": {
            "tags": []
          },
          "execution_count": 24
        }
      ]
    },
    {
      "cell_type": "code",
      "metadata": {
        "id": "h469GklCOK8M",
        "colab_type": "code",
        "colab": {
          "base_uri": "https://localhost:8080/",
          "height": 34
        },
        "outputId": "4cd1dbd8-7f98-416a-fef4-dfe2f5943419"
      },
      "source": [
        "7 not in lis"
      ],
      "execution_count": null,
      "outputs": [
        {
          "output_type": "execute_result",
          "data": {
            "text/plain": [
              "True"
            ]
          },
          "metadata": {
            "tags": []
          },
          "execution_count": 25
        }
      ]
    },
    {
      "cell_type": "code",
      "metadata": {
        "id": "KNNsP1gIOMUm",
        "colab_type": "code",
        "colab": {
          "base_uri": "https://localhost:8080/",
          "height": 34
        },
        "outputId": "f6f52c77-5a45-4219-e2cd-d35d8554a079"
      },
      "source": [
        "7 in lis"
      ],
      "execution_count": null,
      "outputs": [
        {
          "output_type": "execute_result",
          "data": {
            "text/plain": [
              "False"
            ]
          },
          "metadata": {
            "tags": []
          },
          "execution_count": 26
        }
      ]
    },
    {
      "cell_type": "code",
      "metadata": {
        "id": "aWakewqAONtN",
        "colab_type": "code",
        "colab": {
          "base_uri": "https://localhost:8080/",
          "height": 34
        },
        "outputId": "907f49f8-55aa-483a-d9be-8e975ca2f8ef"
      },
      "source": [
        "'a' not in lis"
      ],
      "execution_count": null,
      "outputs": [
        {
          "output_type": "execute_result",
          "data": {
            "text/plain": [
              "True"
            ]
          },
          "metadata": {
            "tags": []
          },
          "execution_count": 27
        }
      ]
    }
  ]
}

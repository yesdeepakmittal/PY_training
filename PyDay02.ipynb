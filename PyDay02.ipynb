{
  "nbformat": 4,
  "nbformat_minor": 0,
  "metadata": {
    "colab": {
      "name": "PyDay2",
      "provenance": [],
      "authorship_tag": "ABX9TyM1KHnzfhEhUjEosO9+GZso",
      "include_colab_link": true
    },
    "kernelspec": {
      "name": "python3",
      "display_name": "Python 3"
    }
  },
  "cells": [
    {
      "cell_type": "markdown",
      "metadata": {
        "id": "view-in-github",
        "colab_type": "text"
      },
      "source": [
        "<a href=\"https://colab.research.google.com/github/yesdeepakmittal/pytraining/blob/master/PyDay02.ipynb\" target=\"_parent\"><img src=\"https://colab.research.google.com/assets/colab-badge.svg\" alt=\"Open In Colab\"/></a>"
      ]
    },
    {
      "cell_type": "markdown",
      "metadata": {
        "id": "6i4elgD4K6gP"
      },
      "source": [
        "## Python Datatypes"
      ]
    },
    {
      "cell_type": "markdown",
      "metadata": {
        "id": "VCooas6TK_SZ"
      },
      "source": [
        "* **Numeric**\n",
        "    * **Integer**: Negative, zero, and positive number without decimal part Ex. ...-2,-1,0,1,2...\n",
        "    * **Float**: Decimal point numbers ...-2.1,-1.5,0.7,1.2,3.4...\n",
        "    * **Complex**: Number having both  *real number* and *imaginary number* $\\sqrt{-1}$ Ex. 1+$\\sqrt{-2}$"
      ]
    },
    {
      "cell_type": "markdown",
      "metadata": {
        "id": "HQRZIOmZXUVR"
      },
      "source": [
        "<h3>⭐Integer</h3>"
      ]
    },
    {
      "cell_type": "markdown",
      "metadata": {
        "id": "gPGpVLx-FliS"
      },
      "source": [
        "Integral type is choosen by Py itself based on the magnitude. "
      ]
    },
    {
      "cell_type": "code",
      "metadata": {
        "colab": {
          "base_uri": "https://localhost:8080/"
        },
        "id": "j4XxVts9Gy6i",
        "outputId": "7c0d8585-a66e-48fe-cacc-1454bb5f0316"
      },
      "source": [
        "int() #default int() returns 0"
      ],
      "execution_count": 13,
      "outputs": [
        {
          "output_type": "execute_result",
          "data": {
            "text/plain": [
              "0"
            ]
          },
          "metadata": {
            "tags": []
          },
          "execution_count": 13
        }
      ]
    },
    {
      "cell_type": "code",
      "metadata": {
        "id": "y_dJUBXNHeG8",
        "colab": {
          "base_uri": "https://localhost:8080/",
          "height": 106
        },
        "outputId": "07b3f541-e7dd-434d-9883-116a3f635544"
      },
      "source": [
        "a = 10  \n",
        "b = -100\n",
        "c = 0x14 #Octal\n",
        "print(a,b)\n",
        "print(c)  #Decimal\n",
        "print(type(a))  #📌type() is an inbuilt function\n",
        "print(type(b))\n",
        "print(type(c)) "
      ],
      "execution_count": null,
      "outputs": [
        {
          "output_type": "stream",
          "text": [
            "10 -100\n",
            "20\n",
            "<class 'int'>\n",
            "<class 'int'>\n",
            "<class 'int'>\n"
          ],
          "name": "stdout"
        }
      ]
    },
    {
      "cell_type": "code",
      "metadata": {
        "colab": {
          "base_uri": "https://localhost:8080/",
          "height": 35
        },
        "id": "hdSs86EXGLvu",
        "outputId": "174f815f-523f-4933-bfe9-f87f7e802617"
      },
      "source": [
        "a = 10\n",
        "bin(a)"
      ],
      "execution_count": 7,
      "outputs": [
        {
          "output_type": "execute_result",
          "data": {
            "application/vnd.google.colaboratory.intrinsic+json": {
              "type": "string"
            },
            "text/plain": [
              "'0b1010'"
            ]
          },
          "metadata": {
            "tags": []
          },
          "execution_count": 7
        }
      ]
    },
    {
      "cell_type": "code",
      "metadata": {
        "colab": {
          "base_uri": "https://localhost:8080/"
        },
        "id": "u5Sjgb5DF8--",
        "outputId": "09ec6d30-9a0b-4d94-c743-c9be3c07f3bb"
      },
      "source": [
        "print('Binary to integer representation',0b1010)"
      ],
      "execution_count": 34,
      "outputs": [
        {
          "output_type": "stream",
          "text": [
            "Binary to integer representation 10\n"
          ],
          "name": "stdout"
        }
      ]
    },
    {
      "cell_type": "code",
      "metadata": {
        "colab": {
          "base_uri": "https://localhost:8080/",
          "height": 35
        },
        "id": "m7wS78JDGbYS",
        "outputId": "23849b7a-ddf9-4e1a-a6ba-4d3d5a79bc11"
      },
      "source": [
        "hex(10)"
      ],
      "execution_count": 9,
      "outputs": [
        {
          "output_type": "execute_result",
          "data": {
            "application/vnd.google.colaboratory.intrinsic+json": {
              "type": "string"
            },
            "text/plain": [
              "'0xa'"
            ]
          },
          "metadata": {
            "tags": []
          },
          "execution_count": 9
        }
      ]
    },
    {
      "cell_type": "code",
      "metadata": {
        "colab": {
          "base_uri": "https://localhost:8080/"
        },
        "id": "G3gLRHBQGeOs",
        "outputId": "fdc87b38-3e4d-450a-c464-4cf6174b603c"
      },
      "source": [
        "print('Hexadecimal to integer representation',0xa)"
      ],
      "execution_count": 29,
      "outputs": [
        {
          "output_type": "stream",
          "text": [
            "Hexadecimal to integer representation 10\n"
          ],
          "name": "stdout"
        }
      ]
    },
    {
      "cell_type": "code",
      "metadata": {
        "colab": {
          "base_uri": "https://localhost:8080/",
          "height": 35
        },
        "id": "qlkt_0_HGeLA",
        "outputId": "57c54d41-c980-4151-c6e7-b596e319129d"
      },
      "source": [
        "oct(10)"
      ],
      "execution_count": 30,
      "outputs": [
        {
          "output_type": "execute_result",
          "data": {
            "application/vnd.google.colaboratory.intrinsic+json": {
              "type": "string"
            },
            "text/plain": [
              "'0o12'"
            ]
          },
          "metadata": {
            "tags": []
          },
          "execution_count": 30
        }
      ]
    },
    {
      "cell_type": "code",
      "metadata": {
        "colab": {
          "base_uri": "https://localhost:8080/"
        },
        "id": "hu_2YW4zGeIT",
        "outputId": "ef47eb88-c868-4ddb-9951-6419c43985a7"
      },
      "source": [
        "print('Hexadecimal to integer representation',0o12)"
      ],
      "execution_count": 31,
      "outputs": [
        {
          "output_type": "stream",
          "text": [
            "Hexadecimal to integer representation 10\n"
          ],
          "name": "stdout"
        }
      ]
    },
    {
      "cell_type": "code",
      "metadata": {
        "id": "-jvrja1TZw2n",
        "colab": {
          "base_uri": "https://localhost:8080/",
          "height": 88
        },
        "outputId": "4d7e7940-469e-40e0-c97b-161f3587ad4c"
      },
      "source": [
        "a = 27\n",
        "print('{} in decimal'.format(int(a)))\n",
        "print('{} in hexadecimal'.format(hex(a)[2:]))\n",
        "print('{} in binary'.format(bin(a)[2:]))\n",
        "print('{} in octal'.format(oct(a)[2:]))"
      ],
      "execution_count": null,
      "outputs": [
        {
          "output_type": "stream",
          "text": [
            "27 in decimal\n",
            "1b in hexadecimal\n",
            "11011 in binary\n",
            "33 in octal\n"
          ],
          "name": "stdout"
        }
      ]
    },
    {
      "cell_type": "code",
      "metadata": {
        "id": "eZWOSzvTbAg-",
        "colab": {
          "base_uri": "https://localhost:8080/",
          "height": 88
        },
        "outputId": "2f2092d5-2496-4a5c-8468-b2199b042d58"
      },
      "source": [
        "print('{} in decimal form to decimal: {}'.format('111',int('111',10)))\n",
        "print('{} in hexadecimal form to decimal: {}'.format('1b',int('1b',16)))\n",
        "print('{} in octal form to decimal: {}'.format('33',int('33',8)))\n",
        "print('{} in binary form to decimal: {}'.format('11011',int('11011',2)))"
      ],
      "execution_count": null,
      "outputs": [
        {
          "output_type": "stream",
          "text": [
            "111 in decimal form to decimal: 111\n",
            "1b in hexadecimal form to decimal: 27\n",
            "33 in octal form to decimal: 27\n",
            "11011 in binary form to decimal: 27\n"
          ],
          "name": "stdout"
        }
      ]
    },
    {
      "cell_type": "code",
      "metadata": {
        "colab": {
          "base_uri": "https://localhost:8080/"
        },
        "id": "fPzYfB3WHAMX",
        "outputId": "7e522071-f867-48c0-b99d-fb7b1ec6bcda"
      },
      "source": [
        "a = 4.12\n",
        "b = -4.99\n",
        "c = '44'\n",
        "print('a in integer form',int(a))\n",
        "print('b in integer form',int(b))\n",
        "print('c in integer form',int(c))"
      ],
      "execution_count": 16,
      "outputs": [
        {
          "output_type": "stream",
          "text": [
            "a in integer form 4\n",
            "b in integer form -4\n",
            "c in integer form 44\n"
          ],
          "name": "stdout"
        }
      ]
    },
    {
      "cell_type": "code",
      "metadata": {
        "colab": {
          "base_uri": "https://localhost:8080/"
        },
        "id": "IBkucbvkIUHG",
        "outputId": "64e0659e-d6d8-4425-9838-481563b411af"
      },
      "source": [
        "int('111001',2) #change default base to your desired base"
      ],
      "execution_count": 19,
      "outputs": [
        {
          "output_type": "execute_result",
          "data": {
            "text/plain": [
              "57"
            ]
          },
          "metadata": {
            "tags": []
          },
          "execution_count": 19
        }
      ]
    },
    {
      "cell_type": "code",
      "metadata": {
        "colab": {
          "base_uri": "https://localhost:8080/"
        },
        "id": "uuDiFQ-1Ivsu",
        "outputId": "a3a9a3b4-3e39-42f7-eea1-ec0151b47cec"
      },
      "source": [
        "int('111001',5)"
      ],
      "execution_count": 21,
      "outputs": [
        {
          "output_type": "execute_result",
          "data": {
            "text/plain": [
              "3876"
            ]
          },
          "metadata": {
            "tags": []
          },
          "execution_count": 21
        }
      ]
    },
    {
      "cell_type": "code",
      "metadata": {
        "colab": {
          "base_uri": "https://localhost:8080/"
        },
        "id": "17lppyy5JR_k",
        "outputId": "d1b9eb1a-0477-4870-a74e-c6d76e7b8c71"
      },
      "source": [
        "a = 10\n",
        "isinstance(a,int)"
      ],
      "execution_count": 28,
      "outputs": [
        {
          "output_type": "execute_result",
          "data": {
            "text/plain": [
              "True"
            ]
          },
          "metadata": {
            "tags": []
          },
          "execution_count": 28
        }
      ]
    },
    {
      "cell_type": "code",
      "metadata": {
        "colab": {
          "base_uri": "https://localhost:8080/"
        },
        "id": "GBC0QBGIJ1r0",
        "outputId": "6650291a-2605-413d-d947-b8ef977a2ce7"
      },
      "source": [
        "type(10)"
      ],
      "execution_count": 26,
      "outputs": [
        {
          "output_type": "execute_result",
          "data": {
            "text/plain": [
              "int"
            ]
          },
          "metadata": {
            "tags": []
          },
          "execution_count": 26
        }
      ]
    },
    {
      "cell_type": "markdown",
      "metadata": {
        "id": "JjauyHWLXjiF"
      },
      "source": [
        "<h3>⭐Float</h3>"
      ]
    },
    {
      "cell_type": "markdown",
      "metadata": {
        "id": "MSZKCeBgKdm1"
      },
      "source": [
        "Precision tends to double"
      ]
    },
    {
      "cell_type": "code",
      "metadata": {
        "colab": {
          "base_uri": "https://localhost:8080/"
        },
        "id": "Dnyg3QDwKcnX",
        "outputId": "628ab593-566d-4b88-f978-b4d87d4aa885"
      },
      "source": [
        "float()"
      ],
      "execution_count": 32,
      "outputs": [
        {
          "output_type": "execute_result",
          "data": {
            "text/plain": [
              "0.0"
            ]
          },
          "metadata": {
            "tags": []
          },
          "execution_count": 32
        }
      ]
    },
    {
      "cell_type": "code",
      "metadata": {
        "id": "VC5pOEIwL1FS",
        "colab": {
          "base_uri": "https://localhost:8080/",
          "height": 122
        },
        "outputId": "be9bcb07-83a7-41bb-bea0-9fb256faadde"
      },
      "source": [
        "a = 10.1\n",
        "b = -100.6\n",
        "c = int(2e2) # 2 * 10^2\n",
        "print('a is',a,'\\nb is',b,'\\nc is',c)  #Escape character(\\n) for new line\n",
        "print(type(a))\n",
        "print(type(b))\n",
        "print(type(c))"
      ],
      "execution_count": null,
      "outputs": [
        {
          "output_type": "stream",
          "text": [
            "a is 10.1 \n",
            "b is -100.6 \n",
            "c is 200\n",
            "<class 'float'>\n",
            "<class 'float'>\n",
            "<class 'int'>\n"
          ],
          "name": "stdout"
        }
      ]
    },
    {
      "cell_type": "code",
      "metadata": {
        "id": "UV3S2_UddzBx",
        "colab": {
          "base_uri": "https://localhost:8080/",
          "height": 70
        },
        "outputId": "4e458ca3-c055-491a-acba-0d62da42b1af"
      },
      "source": [
        "a = 1.211\n",
        "print(pow(a,3))\n",
        "print(round(a,2))\n",
        "print(abs(a-3))"
      ],
      "execution_count": null,
      "outputs": [
        {
          "output_type": "stream",
          "text": [
            "1.7759569310000003\n",
            "1.21\n",
            "1.789\n"
          ],
          "name": "stdout"
        }
      ]
    },
    {
      "cell_type": "code",
      "metadata": {
        "colab": {
          "base_uri": "https://localhost:8080/"
        },
        "id": "pskWLW4cLKBe",
        "outputId": "2b962d40-f5c5-4abb-f745-8940e1ca0509"
      },
      "source": [
        "a = '1.2'\n",
        "float(a)"
      ],
      "execution_count": 33,
      "outputs": [
        {
          "output_type": "execute_result",
          "data": {
            "text/plain": [
              "1.2"
            ]
          },
          "metadata": {
            "tags": []
          },
          "execution_count": 33
        }
      ]
    },
    {
      "cell_type": "markdown",
      "metadata": {
        "id": "6X3JuHU_Xx3A"
      },
      "source": [
        "<h3>⭐Complex</h3>"
      ]
    },
    {
      "cell_type": "code",
      "metadata": {
        "id": "npi4AnlrcGg7",
        "colab": {
          "base_uri": "https://localhost:8080/",
          "height": 52
        },
        "outputId": "6927bc08-ffae-4642-8b07-f2229493f0df"
      },
      "source": [
        "a = 1 + 2j\n",
        "print(a)\n",
        "print(type(a))"
      ],
      "execution_count": null,
      "outputs": [
        {
          "output_type": "stream",
          "text": [
            "(1+2j)\n",
            "<class 'complex'>\n"
          ],
          "name": "stdout"
        }
      ]
    },
    {
      "cell_type": "markdown",
      "metadata": {
        "id": "wjFha1JKNb2v"
      },
      "source": [
        "* **Boolean**\n",
        "    * **True**(1)\n",
        "    * **False**(0)"
      ]
    },
    {
      "cell_type": "markdown",
      "metadata": {
        "id": "D-cRrWRYWuZ1"
      },
      "source": [
        "* All numbers results True if nonzero and False for if zero\n",
        "* Sequences and containers(viz list,string,tuple) results True if nonempty and False if empty\n",
        "* It is a default constructor of bool class"
      ]
    },
    {
      "cell_type": "code",
      "metadata": {
        "id": "VaOUNHvXMPEj",
        "colab": {
          "base_uri": "https://localhost:8080/",
          "height": 34
        },
        "outputId": "98b1c595-07cb-40de-f0be-72702b8b89ff"
      },
      "source": [
        "1 == True"
      ],
      "execution_count": null,
      "outputs": [
        {
          "output_type": "execute_result",
          "data": {
            "text/plain": [
              "True"
            ]
          },
          "metadata": {
            "tags": []
          },
          "execution_count": 4
        }
      ]
    },
    {
      "cell_type": "code",
      "metadata": {
        "id": "2J-JJdZ3MPR4",
        "colab": {
          "base_uri": "https://localhost:8080/",
          "height": 34
        },
        "outputId": "8215b8ea-1992-4650-f742-e52b5794cf15"
      },
      "source": [
        "0 == False"
      ],
      "execution_count": null,
      "outputs": [
        {
          "output_type": "execute_result",
          "data": {
            "text/plain": [
              "True"
            ]
          },
          "metadata": {
            "tags": []
          },
          "execution_count": 5
        }
      ]
    },
    {
      "cell_type": "code",
      "metadata": {
        "id": "cuVGQN-ENuGV",
        "colab": {
          "base_uri": "https://localhost:8080/",
          "height": 34
        },
        "outputId": "d8d8bbef-3e3a-4098-f076-5c2975bc507d"
      },
      "source": [
        "1 == False"
      ],
      "execution_count": null,
      "outputs": [
        {
          "output_type": "execute_result",
          "data": {
            "text/plain": [
              "False"
            ]
          },
          "metadata": {
            "tags": []
          },
          "execution_count": 6
        }
      ]
    },
    {
      "cell_type": "code",
      "metadata": {
        "id": "FNpcmfapNvvz",
        "colab": {
          "base_uri": "https://localhost:8080/",
          "height": 34
        },
        "outputId": "f4b04235-b7b3-4135-a574-4b984c25a43f"
      },
      "source": [
        "0 == True"
      ],
      "execution_count": null,
      "outputs": [
        {
          "output_type": "execute_result",
          "data": {
            "text/plain": [
              "False"
            ]
          },
          "metadata": {
            "tags": []
          },
          "execution_count": 7
        }
      ]
    },
    {
      "cell_type": "code",
      "metadata": {
        "id": "MycxtCeQNw3F",
        "colab": {
          "base_uri": "https://localhost:8080/",
          "height": 34
        },
        "outputId": "919bfc53-d230-4f71-d9e2-4eb8f14a1731"
      },
      "source": [
        "x = True\n",
        "print(type(x))"
      ],
      "execution_count": null,
      "outputs": [
        {
          "output_type": "stream",
          "text": [
            "<class 'bool'>\n"
          ],
          "name": "stdout"
        }
      ]
    },
    {
      "cell_type": "code",
      "metadata": {
        "id": "WPm7OxcGN556",
        "colab": {
          "base_uri": "https://localhost:8080/",
          "height": 34
        },
        "outputId": "dcbca507-c983-4cf0-84fa-b9cc34a66689"
      },
      "source": [
        "bool(1) #📌 bool() is an inbuilt function"
      ],
      "execution_count": null,
      "outputs": [
        {
          "output_type": "execute_result",
          "data": {
            "text/plain": [
              "True"
            ]
          },
          "metadata": {
            "tags": []
          },
          "execution_count": 9
        }
      ]
    },
    {
      "cell_type": "code",
      "metadata": {
        "id": "z8Cxcpswwxh3",
        "colab": {
          "base_uri": "https://localhost:8080/"
        },
        "outputId": "4a9d4f7e-1d7f-42e9-f818-c169eb8c5a50"
      },
      "source": [
        "bool() #default case"
      ],
      "execution_count": null,
      "outputs": [
        {
          "output_type": "execute_result",
          "data": {
            "text/plain": [
              "False"
            ]
          },
          "metadata": {
            "tags": []
          },
          "execution_count": 8
        }
      ]
    },
    {
      "cell_type": "code",
      "metadata": {
        "id": "qmrxDbscN9km",
        "colab": {
          "base_uri": "https://localhost:8080/"
        },
        "outputId": "99dcea9c-6ace-41d1-b205-34256168e539"
      },
      "source": [
        "bool(0)"
      ],
      "execution_count": 1,
      "outputs": [
        {
          "output_type": "execute_result",
          "data": {
            "text/plain": [
              "False"
            ]
          },
          "metadata": {
            "tags": []
          },
          "execution_count": 1
        }
      ]
    },
    {
      "cell_type": "code",
      "metadata": {
        "id": "Cp-tr5ZWWYkM",
        "colab": {
          "base_uri": "https://localhost:8080/"
        },
        "outputId": "54efc608-ac9f-46b0-cb98-f9fef541112e"
      },
      "source": [
        "bool([1,2,3]) "
      ],
      "execution_count": null,
      "outputs": [
        {
          "output_type": "execute_result",
          "data": {
            "text/plain": [
              "True"
            ]
          },
          "metadata": {
            "tags": []
          },
          "execution_count": 1
        }
      ]
    },
    {
      "cell_type": "code",
      "metadata": {
        "id": "WKyGk__vWg2N",
        "colab": {
          "base_uri": "https://localhost:8080/"
        },
        "outputId": "886e37f6-10fd-4c52-9eea-f3bae98406f3"
      },
      "source": [
        "bool([])"
      ],
      "execution_count": null,
      "outputs": [
        {
          "output_type": "execute_result",
          "data": {
            "text/plain": [
              "False"
            ]
          },
          "metadata": {
            "tags": []
          },
          "execution_count": 2
        }
      ]
    },
    {
      "cell_type": "code",
      "metadata": {
        "id": "QtneyYqMXU8L",
        "colab": {
          "base_uri": "https://localhost:8080/"
        },
        "outputId": "52d68fd8-c3fe-4475-dcaf-2d46fe7e42c4"
      },
      "source": [
        "bool((1,2,3,0))"
      ],
      "execution_count": null,
      "outputs": [
        {
          "output_type": "execute_result",
          "data": {
            "text/plain": [
              "True"
            ]
          },
          "metadata": {
            "tags": []
          },
          "execution_count": 3
        }
      ]
    },
    {
      "cell_type": "code",
      "metadata": {
        "id": "fIbYN3WxXdMu",
        "colab": {
          "base_uri": "https://localhost:8080/"
        },
        "outputId": "2af4ca47-72cc-446d-edbd-e7431e280db7"
      },
      "source": [
        "bool('')"
      ],
      "execution_count": null,
      "outputs": [
        {
          "output_type": "execute_result",
          "data": {
            "text/plain": [
              "False"
            ]
          },
          "metadata": {
            "tags": []
          },
          "execution_count": 4
        }
      ]
    },
    {
      "cell_type": "code",
      "metadata": {
        "id": "Mm2nMYVRXhfE",
        "colab": {
          "base_uri": "https://localhost:8080/"
        },
        "outputId": "b1d2fc4b-06db-4df7-be11-86a9a52e528c"
      },
      "source": [
        "bool({})"
      ],
      "execution_count": null,
      "outputs": [
        {
          "output_type": "execute_result",
          "data": {
            "text/plain": [
              "False"
            ]
          },
          "metadata": {
            "tags": []
          },
          "execution_count": 6
        }
      ]
    },
    {
      "cell_type": "code",
      "metadata": {
        "id": "7kiA_3R1vq-u",
        "colab": {
          "base_uri": "https://localhost:8080/"
        },
        "outputId": "2638d03d-65c8-409c-95b8-7aa7d446f099"
      },
      "source": [
        "bool({'filled':'yes'})"
      ],
      "execution_count": null,
      "outputs": [
        {
          "output_type": "execute_result",
          "data": {
            "text/plain": [
              "True"
            ]
          },
          "metadata": {
            "tags": []
          },
          "execution_count": 7
        }
      ]
    },
    {
      "cell_type": "markdown",
      "metadata": {
        "id": "txrfhXe6OKv8"
      },
      "source": [
        "* **Sequence**\n",
        "    * **String**: Collection of one or more than one characters in single quotes **' '** or double quotes **\" \"** and in triple quotes **''' '''** if the sentence is longer than one line. Strings are *immutable*.\n",
        "    * **List**: Unordered collection of data of any datatype. Lists are *mutable*. \n",
        "    * **Tuple**: Unordered collection of data of any datatype. Tuples are *immutable*."
      ]
    },
    {
      "cell_type": "markdown",
      "metadata": {
        "id": "UZ89h6n2Y9st"
      },
      "source": [
        "<h3>⭐String</h3>"
      ]
    },
    {
      "cell_type": "markdown",
      "metadata": {
        "id": "uadq18pbZH_p"
      },
      "source": [
        "* A string is a sequence of characters\n",
        "* It is immutable."
      ]
    },
    {
      "cell_type": "code",
      "metadata": {
        "id": "kY8C1bpdZGQM",
        "colab": {
          "base_uri": "https://localhost:8080/"
        },
        "outputId": "be041663-1797-4b65-faf7-3cbab451a27e"
      },
      "source": [
        "a = 'Hello, World!'\n",
        "print(a)\n",
        "print(type(a))\n",
        "isinstance(a,str)"
      ],
      "execution_count": 35,
      "outputs": [
        {
          "output_type": "stream",
          "text": [
            "Hello, World!\n",
            "<class 'str'>\n"
          ],
          "name": "stdout"
        },
        {
          "output_type": "execute_result",
          "data": {
            "text/plain": [
              "True"
            ]
          },
          "metadata": {
            "tags": []
          },
          "execution_count": 35
        }
      ]
    },
    {
      "cell_type": "code",
      "metadata": {
        "id": "5aqOClPPN_fA",
        "colab": {
          "base_uri": "https://localhost:8080/",
          "height": 35
        },
        "outputId": "69b0b3b4-3e02-4731-b192-249431d02ddb"
      },
      "source": [
        "a = \"Hello, World!\" #📌String Indexing starts from 0 to n-1\n",
        "a[2]"
      ],
      "execution_count": null,
      "outputs": [
        {
          "output_type": "execute_result",
          "data": {
            "application/vnd.google.colaboratory.intrinsic+json": {
              "type": "string"
            },
            "text/plain": [
              "'l'"
            ]
          },
          "metadata": {
            "tags": []
          },
          "execution_count": 12
        }
      ]
    },
    {
      "cell_type": "code",
      "metadata": {
        "id": "wH-n45OkUgXU",
        "colab": {
          "base_uri": "https://localhost:8080/",
          "height": 34
        },
        "outputId": "909a6934-aed0-43bd-ce19-43c39d59bfc6"
      },
      "source": [
        "a[7:12] == a[7:-1]"
      ],
      "execution_count": null,
      "outputs": [
        {
          "output_type": "execute_result",
          "data": {
            "text/plain": [
              "True"
            ]
          },
          "metadata": {
            "tags": []
          },
          "execution_count": 13
        }
      ]
    },
    {
      "cell_type": "code",
      "metadata": {
        "id": "TEUmnv54UJbW",
        "colab": {
          "base_uri": "https://localhost:8080/",
          "height": 35
        },
        "outputId": "5e4b4530-8e87-4fe1-b289-1971b8118a34"
      },
      "source": [
        "a[-2] #access the character from the last"
      ],
      "execution_count": null,
      "outputs": [
        {
          "output_type": "execute_result",
          "data": {
            "application/vnd.google.colaboratory.intrinsic+json": {
              "type": "string"
            },
            "text/plain": [
              "'d'"
            ]
          },
          "metadata": {
            "tags": []
          },
          "execution_count": 14
        }
      ]
    },
    {
      "cell_type": "code",
      "metadata": {
        "id": "MTyyXSCxUPCC",
        "colab": {
          "base_uri": "https://localhost:8080/",
          "height": 35
        },
        "outputId": "df276ff1-78bd-463a-8b65-024ab826a6b8"
      },
      "source": [
        "#slicing of a string\n",
        "a[0:5]"
      ],
      "execution_count": null,
      "outputs": [
        {
          "output_type": "execute_result",
          "data": {
            "application/vnd.google.colaboratory.intrinsic+json": {
              "type": "string"
            },
            "text/plain": [
              "'Hello'"
            ]
          },
          "metadata": {
            "tags": []
          },
          "execution_count": 15
        }
      ]
    },
    {
      "cell_type": "code",
      "metadata": {
        "id": "VIHfft2KUVA4",
        "colab": {
          "base_uri": "https://localhost:8080/",
          "height": 34
        },
        "outputId": "63e90578-7dff-4465-b5a4-07cb988ae563"
      },
      "source": [
        "print(a[0:5],'Folk!')"
      ],
      "execution_count": null,
      "outputs": [
        {
          "output_type": "stream",
          "text": [
            "Hello Folk!\n"
          ],
          "name": "stdout"
        }
      ]
    },
    {
      "cell_type": "code",
      "metadata": {
        "id": "AVS118epUaSz",
        "colab": {
          "base_uri": "https://localhost:8080/",
          "height": 35
        },
        "outputId": "d538261c-6513-4be5-a292-ce05e23a6515"
      },
      "source": [
        "a[7:-1]"
      ],
      "execution_count": null,
      "outputs": [
        {
          "output_type": "execute_result",
          "data": {
            "application/vnd.google.colaboratory.intrinsic+json": {
              "type": "string"
            },
            "text/plain": [
              "'World'"
            ]
          },
          "metadata": {
            "tags": []
          },
          "execution_count": 17
        }
      ]
    },
    {
      "cell_type": "code",
      "metadata": {
        "id": "E9CIfo9nUc1z",
        "colab": {
          "base_uri": "https://localhost:8080/",
          "height": 34
        },
        "outputId": "323b80ca-d654-4d35-9986-88955187aebe"
      },
      "source": [
        "#Concatenation\n",
        "F_Name = 'Uditanshu'\n",
        "L_Name = 'Saxena'\n",
        "print(F_Name+' '+L_Name)"
      ],
      "execution_count": null,
      "outputs": [
        {
          "output_type": "stream",
          "text": [
            "Uditanshu Saxena\n"
          ],
          "name": "stdout"
        }
      ]
    },
    {
      "cell_type": "code",
      "metadata": {
        "id": "lBWsuNsZZ2l4",
        "outputId": "b75c9064-481f-41db-9d80-90c187f08d4b",
        "colab": {
          "base_uri": "https://localhost:8080/",
          "height": 35
        }
      },
      "source": [
        "\"Can't judge\"  #here another quotation works as a string"
      ],
      "execution_count": 54,
      "outputs": [
        {
          "output_type": "execute_result",
          "data": {
            "application/vnd.google.colaboratory.intrinsic+json": {
              "type": "string"
            },
            "text/plain": [
              "\"Can't judge\""
            ]
          },
          "metadata": {
            "tags": []
          },
          "execution_count": 54
        }
      ]
    },
    {
      "cell_type": "code",
      "metadata": {
        "id": "uNe_VnHvZ2bx",
        "outputId": "27e99f23-22aa-4405-f004-c9215a3aafa8",
        "colab": {
          "base_uri": "https://localhost:8080/",
          "height": 35
        }
      },
      "source": [
        "'Can\"t judge'  #here another quotation works as a string"
      ],
      "execution_count": 55,
      "outputs": [
        {
          "output_type": "execute_result",
          "data": {
            "application/vnd.google.colaboratory.intrinsic+json": {
              "type": "string"
            },
            "text/plain": [
              "'Can\"t judge'"
            ]
          },
          "metadata": {
            "tags": []
          },
          "execution_count": 55
        }
      ]
    },
    {
      "cell_type": "code",
      "metadata": {
        "id": "sF8c-MZXZ2Qp",
        "outputId": "d29ef8c6-4ba3-4199-f13e-65b33d9cf070",
        "colab": {
          "base_uri": "https://localhost:8080/",
          "height": 35
        }
      },
      "source": [
        "'Can\\'t judge'  #escape character \\' is used"
      ],
      "execution_count": 56,
      "outputs": [
        {
          "output_type": "execute_result",
          "data": {
            "application/vnd.google.colaboratory.intrinsic+json": {
              "type": "string"
            },
            "text/plain": [
              "\"Can't judge\""
            ]
          },
          "metadata": {
            "tags": []
          },
          "execution_count": 56
        }
      ]
    },
    {
      "cell_type": "code",
      "metadata": {
        "id": "GmWcLfNleHOC",
        "outputId": "01059cc2-2873-49c5-976d-e59f9d96478f",
        "colab": {
          "base_uri": "https://localhost:8080/",
          "height": 35
        }
      },
      "source": [
        "\"Can\\\"t judge\""
      ],
      "execution_count": 57,
      "outputs": [
        {
          "output_type": "execute_result",
          "data": {
            "application/vnd.google.colaboratory.intrinsic+json": {
              "type": "string"
            },
            "text/plain": [
              "'Can\"t judge'"
            ]
          },
          "metadata": {
            "tags": []
          },
          "execution_count": 57
        }
      ]
    },
    {
      "cell_type": "code",
      "metadata": {
        "id": "NgJrc3kzhq8S",
        "outputId": "44f0613d-4220-4c05-878b-939a2fa5a2ad",
        "colab": {
          "base_uri": "https://localhost:8080/",
          "height": 35
        }
      },
      "source": [
        "#Unicode characters in Python using \\u\n",
        "'\\u20B9178' #\\u20B9 ~ ₹"
      ],
      "execution_count": 68,
      "outputs": [
        {
          "output_type": "execute_result",
          "data": {
            "application/vnd.google.colaboratory.intrinsic+json": {
              "type": "string"
            },
            "text/plain": [
              "'₹178'"
            ]
          },
          "metadata": {
            "tags": []
          },
          "execution_count": 68
        }
      ]
    },
    {
      "cell_type": "code",
      "metadata": {
        "id": "7h6CsMXii7Yy",
        "outputId": "93c65b9a-706a-4fa5-8a6b-ffe108104d4f",
        "colab": {
          "base_uri": "https://localhost:8080/"
        }
      },
      "source": [
        "# Doc-string using ''' '''  or \"\"\" \"\"\"\n",
        "a = '''1. I am a programmer.\n",
        "2. I am happy.\n",
        "3. I enjoy writing incredible codes which help others. \n",
        "4. Coding in fun. '''\n",
        "print(a)"
      ],
      "execution_count": 75,
      "outputs": [
        {
          "output_type": "stream",
          "text": [
            "1. I am a programmer.\n",
            "2. I am happy.\n",
            "3. I enjoy writing incredible codes which help others. \n",
            "4. Coding in fun. \n"
          ],
          "name": "stdout"
        }
      ]
    },
    {
      "cell_type": "code",
      "metadata": {
        "id": "jqt1Ut9-UkEc",
        "colab": {
          "base_uri": "https://localhost:8080/",
          "height": 35
        },
        "outputId": "969d9037-61ec-4fa7-c263-6316987146a5"
      },
      "source": [
        "a = 'hey'\n",
        "a.upper() #📌built-in method"
      ],
      "execution_count": null,
      "outputs": [
        {
          "output_type": "execute_result",
          "data": {
            "application/vnd.google.colaboratory.intrinsic+json": {
              "type": "string"
            },
            "text/plain": [
              "'HEY'"
            ]
          },
          "metadata": {
            "tags": []
          },
          "execution_count": 19
        }
      ]
    },
    {
      "cell_type": "code",
      "metadata": {
        "id": "Zf6zWAy1U0i-",
        "colab": {
          "base_uri": "https://localhost:8080/",
          "height": 35
        },
        "outputId": "30e65524-46c8-485f-cb3d-0921bd8f616d"
      },
      "source": [
        "'HELLO'.lower()  #📌built-in method"
      ],
      "execution_count": null,
      "outputs": [
        {
          "output_type": "execute_result",
          "data": {
            "application/vnd.google.colaboratory.intrinsic+json": {
              "type": "string"
            },
            "text/plain": [
              "'hello'"
            ]
          },
          "metadata": {
            "tags": []
          },
          "execution_count": 20
        }
      ]
    },
    {
      "cell_type": "code",
      "metadata": {
        "id": "aE1SOx3lVF2m",
        "colab": {
          "base_uri": "https://localhost:8080/",
          "height": 34
        },
        "outputId": "ea3fd15f-a396-4850-8ae0-2bc96dc63b51"
      },
      "source": [
        "a.isupper()  #📌built-in method"
      ],
      "execution_count": null,
      "outputs": [
        {
          "output_type": "execute_result",
          "data": {
            "text/plain": [
              "False"
            ]
          },
          "metadata": {
            "tags": []
          },
          "execution_count": 21
        }
      ]
    },
    {
      "cell_type": "code",
      "metadata": {
        "id": "Wn-mvDWbVJ_s",
        "colab": {
          "base_uri": "https://localhost:8080/",
          "height": 34
        },
        "outputId": "c703bd42-6920-4fc8-b3b1-e3b5cc969b59"
      },
      "source": [
        "a.islower()  #📌built-in method"
      ],
      "execution_count": null,
      "outputs": [
        {
          "output_type": "execute_result",
          "data": {
            "text/plain": [
              "True"
            ]
          },
          "metadata": {
            "tags": []
          },
          "execution_count": 22
        }
      ]
    },
    {
      "cell_type": "code",
      "metadata": {
        "id": "mCuYdQdiVNxN",
        "colab": {
          "base_uri": "https://localhost:8080/",
          "height": 34
        },
        "outputId": "e117eac4-800b-46f3-a98b-8c42929d0321"
      },
      "source": [
        "type(a)"
      ],
      "execution_count": null,
      "outputs": [
        {
          "output_type": "execute_result",
          "data": {
            "text/plain": [
              "str"
            ]
          },
          "metadata": {
            "tags": []
          },
          "execution_count": 23
        }
      ]
    },
    {
      "cell_type": "code",
      "metadata": {
        "id": "8ySI2mmQVeKU",
        "colab": {
          "base_uri": "https://localhost:8080/",
          "height": 34
        },
        "outputId": "698f7e94-2a3b-4332-bb75-da999dee934b"
      },
      "source": [
        "len(a)  #📌built-in function"
      ],
      "execution_count": null,
      "outputs": [
        {
          "output_type": "execute_result",
          "data": {
            "text/plain": [
              "3"
            ]
          },
          "metadata": {
            "tags": []
          },
          "execution_count": 24
        }
      ]
    },
    {
      "cell_type": "code",
      "metadata": {
        "id": "3goSI7DFdSGQ",
        "colab": {
          "base_uri": "https://localhost:8080/",
          "height": 88
        },
        "outputId": "e5466ea0-33d1-4339-f465-abd3e0c3e9f0"
      },
      "source": [
        "a = 'Vanijya Technology'\n",
        "print(a.lower())\n",
        "print(a.upper())\n",
        "print(a.title())\n",
        "print(a.swapcase())"
      ],
      "execution_count": null,
      "outputs": [
        {
          "output_type": "stream",
          "text": [
            "vanijya technology\n",
            "VANIJYA TECHNOLOGY\n",
            "Vanijya Technology\n",
            "vANIJYA tECHNOLOGY\n"
          ],
          "name": "stdout"
        }
      ]
    },
    {
      "cell_type": "code",
      "metadata": {
        "id": "uVr2HuVq08Qc",
        "colab": {
          "base_uri": "https://localhost:8080/",
          "height": 35
        },
        "outputId": "c67a60b9-59fb-4719-8de6-d3413cc88fd1"
      },
      "source": [
        "\" Yeah \".strip() #📌built-in method to remove whitespaces from left & right"
      ],
      "execution_count": null,
      "outputs": [
        {
          "output_type": "execute_result",
          "data": {
            "application/vnd.google.colaboratory.intrinsic+json": {
              "type": "string"
            },
            "text/plain": [
              "'Yeah'"
            ]
          },
          "metadata": {
            "tags": []
          },
          "execution_count": 25
        }
      ]
    },
    {
      "cell_type": "code",
      "metadata": {
        "id": "NxFoi8HO08M3",
        "colab": {
          "base_uri": "https://localhost:8080/",
          "height": 35
        },
        "outputId": "2b16f436-f51e-4ed2-f957-25338617b781"
      },
      "source": [
        "\" Yeah \".lstrip() #📌built-in method to remove whitespace from left"
      ],
      "execution_count": null,
      "outputs": [
        {
          "output_type": "execute_result",
          "data": {
            "application/vnd.google.colaboratory.intrinsic+json": {
              "type": "string"
            },
            "text/plain": [
              "'Yeah '"
            ]
          },
          "metadata": {
            "tags": []
          },
          "execution_count": 26
        }
      ]
    },
    {
      "cell_type": "code",
      "metadata": {
        "id": "MLRRimgH1DsD",
        "colab": {
          "base_uri": "https://localhost:8080/",
          "height": 35
        },
        "outputId": "ebef139b-cda6-4687-ef28-4c54c2127339"
      },
      "source": [
        "\" Yeah \".rstrip() #📌built-in method to remove whitespace from right"
      ],
      "execution_count": null,
      "outputs": [
        {
          "output_type": "execute_result",
          "data": {
            "application/vnd.google.colaboratory.intrinsic+json": {
              "type": "string"
            },
            "text/plain": [
              "' Yeah'"
            ]
          },
          "metadata": {
            "tags": []
          },
          "execution_count": 27
        }
      ]
    },
    {
      "cell_type": "code",
      "metadata": {
        "id": "lsx8QxFV1Dn8",
        "colab": {
          "base_uri": "https://localhost:8080/",
          "height": 34
        },
        "outputId": "d22b17c3-054e-4094-99f0-da84a5ae87ec"
      },
      "source": [
        "\" Hello \".strip().count('l') #📌built-in method to count number of specific character in a string"
      ],
      "execution_count": null,
      "outputs": [
        {
          "output_type": "execute_result",
          "data": {
            "text/plain": [
              "2"
            ]
          },
          "metadata": {
            "tags": []
          },
          "execution_count": 28
        }
      ]
    },
    {
      "cell_type": "code",
      "metadata": {
        "id": "pc7Co90l1Sqq",
        "colab": {
          "base_uri": "https://localhost:8080/",
          "height": 34
        },
        "outputId": "b2f01b14-6187-49d9-a553-4f6b02ae86c7"
      },
      "source": [
        "' hello'.endswith('lo') #📌built-in method to check if the string is ending with specified substring"
      ],
      "execution_count": null,
      "outputs": [
        {
          "output_type": "execute_result",
          "data": {
            "text/plain": [
              "True"
            ]
          },
          "metadata": {
            "tags": []
          },
          "execution_count": 29
        }
      ]
    },
    {
      "cell_type": "code",
      "metadata": {
        "id": "45C6prsr1W6s",
        "colab": {
          "base_uri": "https://localhost:8080/",
          "height": 34
        },
        "outputId": "644f3ecb-fb04-41ee-a548-f57a7aa2d6b8"
      },
      "source": [
        "'hello'.startswith('he') #📌built-in method to check if the string is starting with specified substring"
      ],
      "execution_count": null,
      "outputs": [
        {
          "output_type": "execute_result",
          "data": {
            "text/plain": [
              "True"
            ]
          },
          "metadata": {
            "tags": []
          },
          "execution_count": 30
        }
      ]
    },
    {
      "cell_type": "code",
      "metadata": {
        "id": "Xtqr-nf41Xsb",
        "colab": {
          "base_uri": "https://localhost:8080/",
          "height": 34
        },
        "outputId": "34cc979e-2cd5-4296-d3cb-c97b0ec89aa6"
      },
      "source": [
        "'123'.isnumeric() #📌built-in method to check if the string is numeric"
      ],
      "execution_count": null,
      "outputs": [
        {
          "output_type": "execute_result",
          "data": {
            "text/plain": [
              "True"
            ]
          },
          "metadata": {
            "tags": []
          },
          "execution_count": 31
        }
      ]
    },
    {
      "cell_type": "code",
      "metadata": {
        "id": "X1UgkW-51itX",
        "colab": {
          "base_uri": "https://localhost:8080/",
          "height": 34
        },
        "outputId": "de441538-7c06-42b3-9a49-5a12bdfdddc5"
      },
      "source": [
        "'hellpo '.isnumeric()"
      ],
      "execution_count": null,
      "outputs": [
        {
          "output_type": "execute_result",
          "data": {
            "text/plain": [
              "False"
            ]
          },
          "metadata": {
            "tags": []
          },
          "execution_count": 32
        }
      ]
    },
    {
      "cell_type": "code",
      "metadata": {
        "id": "jh36vNDEMGc3",
        "colab": {
          "base_uri": "https://localhost:8080/",
          "height": 34
        },
        "outputId": "4e493333-bdec-429b-a6c4-1124bc264c0f"
      },
      "source": [
        "'hello'.isalpha() #📌built-in method to check if the string is alphabetic"
      ],
      "execution_count": null,
      "outputs": [
        {
          "output_type": "execute_result",
          "data": {
            "text/plain": [
              "True"
            ]
          },
          "metadata": {
            "tags": []
          },
          "execution_count": 33
        }
      ]
    },
    {
      "cell_type": "code",
      "metadata": {
        "id": "jHO2Z9dWMO9U",
        "colab": {
          "base_uri": "https://localhost:8080/",
          "height": 35
        },
        "outputId": "1beab65d-16d1-431d-a656-120b73f3ae8c"
      },
      "source": [
        "'hello'.replace('llo','y') #📌built-in method to replace a substring from a string"
      ],
      "execution_count": null,
      "outputs": [
        {
          "output_type": "execute_result",
          "data": {
            "application/vnd.google.colaboratory.intrinsic+json": {
              "type": "string"
            },
            "text/plain": [
              "'hey'"
            ]
          },
          "metadata": {
            "tags": []
          },
          "execution_count": 34
        }
      ]
    },
    {
      "cell_type": "code",
      "metadata": {
        "id": "XclJNKao1i4S",
        "colab": {
          "base_uri": "https://localhost:8080/",
          "height": 35
        },
        "outputId": "fee380be-e1d7-40c5-b218-ce7518be4db0"
      },
      "source": [
        "a = \" \".join(['Hey,','Deepak','Mittal']) #📌built-in method to join strings with a specified \" \" character\n",
        "a"
      ],
      "execution_count": null,
      "outputs": [
        {
          "output_type": "execute_result",
          "data": {
            "application/vnd.google.colaboratory.intrinsic+json": {
              "type": "string"
            },
            "text/plain": [
              "'Hey, Deepak Mittal'"
            ]
          },
          "metadata": {
            "tags": []
          },
          "execution_count": 35
        }
      ]
    },
    {
      "cell_type": "code",
      "metadata": {
        "id": "on2brX8U1i0v",
        "colab": {
          "base_uri": "https://localhost:8080/",
          "height": 34
        },
        "outputId": "95eb03d1-8a8c-440b-8a7a-a4ca693db900"
      },
      "source": [
        "a.split() #default by whitespace"
      ],
      "execution_count": null,
      "outputs": [
        {
          "output_type": "execute_result",
          "data": {
            "text/plain": [
              "['Hey,', 'Deepak', 'Mittal']"
            ]
          },
          "metadata": {
            "tags": []
          },
          "execution_count": 36
        }
      ]
    },
    {
      "cell_type": "code",
      "metadata": {
        "id": "GkgSX6AHgf3R",
        "colab": {
          "base_uri": "https://localhost:8080/",
          "height": 35
        },
        "outputId": "1e6f8684-a5ff-4586-8835-1d720b8476a6"
      },
      "source": [
        "'Hello'.find('e')"
      ],
      "execution_count": null,
      "outputs": [
        {
          "output_type": "execute_result",
          "data": {
            "text/plain": [
              "1"
            ]
          },
          "metadata": {
            "tags": []
          },
          "execution_count": 30
        }
      ]
    },
    {
      "cell_type": "code",
      "metadata": {
        "id": "wGhpW62iglXm",
        "colab": {
          "base_uri": "https://localhost:8080/",
          "height": 35
        },
        "outputId": "7baaea71-7bc0-402e-8571-84de3755533b"
      },
      "source": [
        "'Hello'.index('e')"
      ],
      "execution_count": null,
      "outputs": [
        {
          "output_type": "execute_result",
          "data": {
            "text/plain": [
              "1"
            ]
          },
          "metadata": {
            "tags": []
          },
          "execution_count": 31
        }
      ]
    },
    {
      "cell_type": "code",
      "metadata": {
        "id": "yA6mIDXPgpNl",
        "colab": {
          "base_uri": "https://localhost:8080/",
          "height": 35
        },
        "outputId": "36e413b1-da6a-4f0a-c762-68ed68a047af"
      },
      "source": [
        "'Hello'.replace('ll','oo😂')"
      ],
      "execution_count": null,
      "outputs": [
        {
          "output_type": "execute_result",
          "data": {
            "application/vnd.google.colaboratory.intrinsic+json": {
              "type": "string"
            },
            "text/plain": [
              "'Heoo😂o'"
            ]
          },
          "metadata": {
            "tags": []
          },
          "execution_count": 33
        }
      ]
    },
    {
      "cell_type": "code",
      "metadata": {
        "id": "DxroCiNz0DBP",
        "outputId": "94123eb3-7c4c-4d36-9a01-5ec10a7c5d6d",
        "colab": {
          "base_uri": "https://localhost:8080/"
        }
      },
      "source": [
        "a = 'Hello'\n",
        "b = 'Hello'\n",
        "print(a is b) #Compare lexicographically\n",
        "print(a == b)"
      ],
      "execution_count": 153,
      "outputs": [
        {
          "output_type": "stream",
          "text": [
            "True\n",
            "True\n"
          ],
          "name": "stdout"
        }
      ]
    },
    {
      "cell_type": "markdown",
      "metadata": {
        "id": "Uytm92PmbyNK"
      },
      "source": [
        "<h5>🧐Formating in string</h5>"
      ]
    },
    {
      "cell_type": "code",
      "metadata": {
        "id": "NmxIQgkN1ilx",
        "colab": {
          "base_uri": "https://localhost:8080/",
          "height": 35
        },
        "outputId": "b2edab29-2682-4bb7-d05c-57ff12ea1477"
      },
      "source": [
        "'My name is {} and I have {} computers'.format('Deepak Mittal',2)"
      ],
      "execution_count": null,
      "outputs": [
        {
          "output_type": "execute_result",
          "data": {
            "application/vnd.google.colaboratory.intrinsic+json": {
              "type": "string"
            },
            "text/plain": [
              "'My name is Deepak Mittal and I have 2 computers'"
            ]
          },
          "metadata": {
            "tags": []
          },
          "execution_count": 37
        }
      ]
    },
    {
      "cell_type": "code",
      "metadata": {
        "id": "dHo4EOm0GVmy",
        "colab": {
          "base_uri": "https://localhost:8080/",
          "height": 35
        },
        "outputId": "19e9d912-51bd-44dc-c847-a92c82ddf1f1"
      },
      "source": [
        "#https://docs.python.org/3/library/string.html#format-specification-mini-language\n",
        "'My name is {name} and I have {number} computers'.format(number = 2,name = \"Deepak Mittal\")"
      ],
      "execution_count": null,
      "outputs": [
        {
          "output_type": "execute_result",
          "data": {
            "application/vnd.google.colaboratory.intrinsic+json": {
              "type": "string"
            },
            "text/plain": [
              "'My name is Deepak Mittal and I have 2 computers'"
            ]
          },
          "metadata": {
            "tags": []
          },
          "execution_count": 38
        }
      ]
    },
    {
      "cell_type": "code",
      "metadata": {
        "id": "4J5gkT97MusG",
        "colab": {
          "base_uri": "https://localhost:8080/",
          "height": 35
        },
        "outputId": "739ee719-5090-4589-e11a-d870da8b4534"
      },
      "source": [
        "'My name is {1} and I have {0} computers'.format(2,\"Deepak Mittal\")"
      ],
      "execution_count": null,
      "outputs": [
        {
          "output_type": "execute_result",
          "data": {
            "application/vnd.google.colaboratory.intrinsic+json": {
              "type": "string"
            },
            "text/plain": [
              "'My name is Deepak Mittal and I have 2 computers'"
            ]
          },
          "metadata": {
            "tags": []
          },
          "execution_count": 39
        }
      ]
    },
    {
      "cell_type": "code",
      "metadata": {
        "id": "NR1f0uZGQKkI",
        "colab": {
          "base_uri": "https://localhost:8080/",
          "height": 35
        },
        "outputId": "b7baafb7-2848-4850-f7b2-1e240388510b"
      },
      "source": [
        "'{:.2s} is awesome'.format('Python')"
      ],
      "execution_count": null,
      "outputs": [
        {
          "output_type": "execute_result",
          "data": {
            "application/vnd.google.colaboratory.intrinsic+json": {
              "type": "string"
            },
            "text/plain": [
              "'Py is awesome'"
            ]
          },
          "metadata": {
            "tags": []
          },
          "execution_count": 40
        }
      ]
    },
    {
      "cell_type": "code",
      "metadata": {
        "id": "4dcFXJayQKsK",
        "colab": {
          "base_uri": "https://localhost:8080/",
          "height": 35
        },
        "outputId": "2a660e33-fffd-461d-fa1e-363f204724e1"
      },
      "source": [
        "'{:<6s}'.format('hi') #left alignment"
      ],
      "execution_count": null,
      "outputs": [
        {
          "output_type": "execute_result",
          "data": {
            "application/vnd.google.colaboratory.intrinsic+json": {
              "type": "string"
            },
            "text/plain": [
              "'hi    '"
            ]
          },
          "metadata": {
            "tags": []
          },
          "execution_count": 41
        }
      ]
    },
    {
      "cell_type": "code",
      "metadata": {
        "id": "xWQUs0W3QKft",
        "colab": {
          "base_uri": "https://localhost:8080/",
          "height": 35
        },
        "outputId": "1ddfef7a-dff4-4e5d-fb91-638038590167"
      },
      "source": [
        "'{:>6s}'.format('hi')  #right alignment"
      ],
      "execution_count": null,
      "outputs": [
        {
          "output_type": "execute_result",
          "data": {
            "application/vnd.google.colaboratory.intrinsic+json": {
              "type": "string"
            },
            "text/plain": [
              "'    hi'"
            ]
          },
          "metadata": {
            "tags": []
          },
          "execution_count": 42
        }
      ]
    },
    {
      "cell_type": "code",
      "metadata": {
        "id": "iouUp_ttQzJ1",
        "colab": {
          "base_uri": "https://localhost:8080/",
          "height": 35
        },
        "outputId": "5c253d8b-c877-4335-fbc3-0f6d48dba44d"
      },
      "source": [
        "'{:^6s}'.format('hi')       #center alignment"
      ],
      "execution_count": null,
      "outputs": [
        {
          "output_type": "execute_result",
          "data": {
            "application/vnd.google.colaboratory.intrinsic+json": {
              "type": "string"
            },
            "text/plain": [
              "'  hi  '"
            ]
          },
          "metadata": {
            "tags": []
          },
          "execution_count": 43
        }
      ]
    },
    {
      "cell_type": "code",
      "metadata": {
        "id": "ssceHt78OXK3",
        "colab": {
          "base_uri": "https://localhost:8080/",
          "height": 35
        },
        "outputId": "76967496-2995-4f1f-944e-833b4803dc0d"
      },
      "source": [
        "format(121, \"d\")"
      ],
      "execution_count": null,
      "outputs": [
        {
          "output_type": "execute_result",
          "data": {
            "application/vnd.google.colaboratory.intrinsic+json": {
              "type": "string"
            },
            "text/plain": [
              "'121'"
            ]
          },
          "metadata": {
            "tags": []
          },
          "execution_count": 44
        }
      ]
    },
    {
      "cell_type": "code",
      "metadata": {
        "id": "8tMWp33eOaFJ",
        "colab": {
          "base_uri": "https://localhost:8080/",
          "height": 34
        },
        "outputId": "0ce89f44-ce57-4e01-b9d3-4281f9836eb2"
      },
      "source": [
        "format(121, \".2f\"),format(12, \"f\")"
      ],
      "execution_count": null,
      "outputs": [
        {
          "output_type": "execute_result",
          "data": {
            "text/plain": [
              "('121.00', '12.000000')"
            ]
          },
          "metadata": {
            "tags": []
          },
          "execution_count": 45
        }
      ]
    },
    {
      "cell_type": "code",
      "metadata": {
        "id": "pXRH0-GhOn46",
        "colab": {
          "base_uri": "https://localhost:8080/",
          "height": 35
        },
        "outputId": "da3f4447-c014-405b-acf6-c4a364a027c8"
      },
      "source": [
        "format(15, \"b\")"
      ],
      "execution_count": null,
      "outputs": [
        {
          "output_type": "execute_result",
          "data": {
            "application/vnd.google.colaboratory.intrinsic+json": {
              "type": "string"
            },
            "text/plain": [
              "'1111'"
            ]
          },
          "metadata": {
            "tags": []
          },
          "execution_count": 46
        }
      ]
    },
    {
      "cell_type": "code",
      "metadata": {
        "id": "oLjbPTRxOs5f",
        "colab": {
          "base_uri": "https://localhost:8080/",
          "height": 35
        },
        "outputId": "64f949f1-9276-446c-a3bb-981bed3c36d5"
      },
      "source": [
        "format(-11, \"b\")"
      ],
      "execution_count": null,
      "outputs": [
        {
          "output_type": "execute_result",
          "data": {
            "application/vnd.google.colaboratory.intrinsic+json": {
              "type": "string"
            },
            "text/plain": [
              "'-1011'"
            ]
          },
          "metadata": {
            "tags": []
          },
          "execution_count": 47
        }
      ]
    },
    {
      "cell_type": "code",
      "metadata": {
        "id": "VxZWQBe7O4QI",
        "colab": {
          "base_uri": "https://localhost:8080/",
          "height": 35
        },
        "outputId": "f94a8fd0-6b32-4a13-cd28-853a0a832ada"
      },
      "source": [
        "format(1561, \"*>+7,d\")"
      ],
      "execution_count": null,
      "outputs": [
        {
          "output_type": "execute_result",
          "data": {
            "application/vnd.google.colaboratory.intrinsic+json": {
              "type": "string"
            },
            "text/plain": [
              "'*+1,561'"
            ]
          },
          "metadata": {
            "tags": []
          },
          "execution_count": 48
        }
      ]
    },
    {
      "cell_type": "code",
      "metadata": {
        "id": "1hp1FJiwO4MM",
        "colab": {
          "base_uri": "https://localhost:8080/",
          "height": 35
        },
        "outputId": "6403646c-1847-4bc5-9100-73b85b04a70a"
      },
      "source": [
        "format(566.7883, \"^-09.3f\")"
      ],
      "execution_count": null,
      "outputs": [
        {
          "output_type": "execute_result",
          "data": {
            "application/vnd.google.colaboratory.intrinsic+json": {
              "type": "string"
            },
            "text/plain": [
              "'0566.7880'"
            ]
          },
          "metadata": {
            "tags": []
          },
          "execution_count": 49
        }
      ]
    },
    {
      "cell_type": "code",
      "metadata": {
        "id": "NQuhoCJWJRtg",
        "colab": {
          "base_uri": "https://localhost:8080/",
          "height": 35
        },
        "outputId": "017ebb2d-f303-432f-a049-8d9c3b689d35"
      },
      "source": [
        "x = 10.5\n",
        "y = x * 1.1\n",
        "\n",
        "'Number {:.2f} and with 10% additional is {:.2f}'.format(x,y)"
      ],
      "execution_count": null,
      "outputs": [
        {
          "output_type": "execute_result",
          "data": {
            "application/vnd.google.colaboratory.intrinsic+json": {
              "type": "string"
            },
            "text/plain": [
              "'Number 10.50 and with 10% additional is 11.55'"
            ]
          },
          "metadata": {
            "tags": []
          },
          "execution_count": 50
        }
      ]
    },
    {
      "cell_type": "markdown",
      "metadata": {
        "id": "SfAmXy31ZW_3"
      },
      "source": [
        "<h3>⭐List</h3>"
      ]
    },
    {
      "cell_type": "markdown",
      "metadata": {
        "id": "NYHMCUGDLdOj"
      },
      "source": [
        "Python is build using C-programming. List is the most general usuable sequence in Python. However, internally it is based on the array datatype of C-programming. When a list is instantiated, an array is instantiated under the hood. An array under the list tends to have many unoccupied positions which results in the unnecessary occupancy of memory. When an element is added to the list, it get added at the empty space. But when new elements are adding even more than the size of entire array, following process happens:\n",
        "* The new array with larger size is instantiated corresponding to the size of previous array but the exact dimension is fuzzy. \n",
        "* All the elements are copied to the new array. \n",
        "* Old array deleted. \n",
        "* New elements are then appended to the new array. \n",
        "\n",
        "When the elements from the list is removed, it tends to contract its size generally after around half of the positions are unoccupied. \n",
        "\n",
        "-----------------------------------------------------------------------\n",
        "* Lists are mutable\n",
        "* It is a referential structure(a[0],a[1],... reference to a particular element)\n",
        "* It is zero-indexed. \n",
        "* It can dynamically expand and contract its size depending upon the requirement and using above mechanism⬆.  \n",
        "* It uses [ ] as delimiters for literals. "
      ]
    },
    {
      "cell_type": "code",
      "metadata": {
        "id": "Je6HjrF4Vt8K",
        "colab": {
          "base_uri": "https://localhost:8080/"
        },
        "outputId": "09930fda-388e-4b63-8f2d-98b5c72a0474"
      },
      "source": [
        "a = [] #empty list\n",
        "a = list() #constructor for an empty list\n",
        "print(type(a))"
      ],
      "execution_count": 36,
      "outputs": [
        {
          "output_type": "stream",
          "text": [
            "<class 'list'>\n"
          ],
          "name": "stdout"
        }
      ]
    },
    {
      "cell_type": "code",
      "metadata": {
        "id": "aKULEZ7AZTdb",
        "outputId": "47afc8b5-8543-406d-d329-53e5ff4340a0",
        "colab": {
          "base_uri": "https://localhost:8080/"
        }
      },
      "source": [
        "a = []\n",
        "isinstance(a,list)"
      ],
      "execution_count": 47,
      "outputs": [
        {
          "output_type": "execute_result",
          "data": {
            "text/plain": [
              "True"
            ]
          },
          "metadata": {
            "tags": []
          },
          "execution_count": 47
        }
      ]
    },
    {
      "cell_type": "code",
      "metadata": {
        "id": "9PrVxjNIXbEM",
        "outputId": "92199d47-d69d-4092-9be3-ace1d10ca16f",
        "colab": {
          "base_uri": "https://localhost:8080/"
        }
      },
      "source": [
        "list('Python')"
      ],
      "execution_count": 37,
      "outputs": [
        {
          "output_type": "execute_result",
          "data": {
            "text/plain": [
              "['P', 'y', 't', 'h', 'o', 'n']"
            ]
          },
          "metadata": {
            "tags": []
          },
          "execution_count": 37
        }
      ]
    },
    {
      "cell_type": "code",
      "metadata": {
        "id": "7jV8cy_WbNHo",
        "colab": {
          "base_uri": "https://localhost:8080/",
          "height": 34
        },
        "outputId": "1f4dfab7-8c47-4bc2-a892-0a9660ae24fe"
      },
      "source": [
        "temp = [1,23,4,3.4, 4.5,'Nandini',[\"ismaa\",'Learning Python']]\n",
        "temp[5] = \"jvala\" #📌Mutability \n",
        "temp"
      ],
      "execution_count": null,
      "outputs": [
        {
          "output_type": "execute_result",
          "data": {
            "text/plain": [
              "[1, 23, 4, 3.4, 4.5, 'jvala', ['ismaa', 'Learning Python']]"
            ]
          },
          "metadata": {
            "tags": []
          },
          "execution_count": 52
        }
      ]
    },
    {
      "cell_type": "code",
      "metadata": {
        "id": "oRL-XTitdXuY",
        "colab": {
          "base_uri": "https://localhost:8080/",
          "height": 35
        },
        "outputId": "0c2fd317-16b9-4c2b-bfb4-e6c09de6e95e"
      },
      "source": [
        "temp[6][0][2:]"
      ],
      "execution_count": null,
      "outputs": [
        {
          "output_type": "execute_result",
          "data": {
            "application/vnd.google.colaboratory.intrinsic+json": {
              "type": "string"
            },
            "text/plain": [
              "'maa'"
            ]
          },
          "metadata": {
            "tags": []
          },
          "execution_count": 53
        }
      ]
    },
    {
      "cell_type": "code",
      "metadata": {
        "id": "7dAwKHKUo3fz",
        "colab": {
          "base_uri": "https://localhost:8080/",
          "height": 35
        },
        "outputId": "8329603d-1bf1-4117-f737-8a4596002b75"
      },
      "source": [
        "temp[6][1][-6:-4]"
      ],
      "execution_count": null,
      "outputs": [
        {
          "output_type": "execute_result",
          "data": {
            "application/vnd.google.colaboratory.intrinsic+json": {
              "type": "string"
            },
            "text/plain": [
              "'Py'"
            ]
          },
          "metadata": {
            "tags": []
          },
          "execution_count": 54
        }
      ]
    },
    {
      "cell_type": "code",
      "metadata": {
        "id": "fwPEcEmkeVDd",
        "colab": {
          "base_uri": "https://localhost:8080/",
          "height": 35
        },
        "outputId": "2df3d549-6ab3-44d3-c74a-b07ca469724d"
      },
      "source": [
        "var = temp[6][0]\n",
        "var[1:3]"
      ],
      "execution_count": null,
      "outputs": [
        {
          "output_type": "execute_result",
          "data": {
            "application/vnd.google.colaboratory.intrinsic+json": {
              "type": "string"
            },
            "text/plain": [
              "'sm'"
            ]
          },
          "metadata": {
            "tags": []
          },
          "execution_count": 55
        }
      ]
    },
    {
      "cell_type": "code",
      "metadata": {
        "id": "3SjlVOSVaAsK",
        "colab": {
          "base_uri": "https://localhost:8080/",
          "height": 34
        },
        "outputId": "72a759d3-e794-4f5a-f427-68e45c8481fc"
      },
      "source": [
        "a = ['a','b',34,[23,3],'Hello, World!']\n",
        "print(a)"
      ],
      "execution_count": null,
      "outputs": [
        {
          "output_type": "stream",
          "text": [
            "['a', 'b', 34, [23, 3], 'Hello, World!']\n"
          ],
          "name": "stdout"
        }
      ]
    },
    {
      "cell_type": "code",
      "metadata": {
        "id": "WqxNuoudaFZO",
        "colab": {
          "base_uri": "https://localhost:8080/",
          "height": 35
        },
        "outputId": "0f8cc599-e799-4283-e3b7-324781ec4b29"
      },
      "source": [
        "a[1]"
      ],
      "execution_count": null,
      "outputs": [
        {
          "output_type": "execute_result",
          "data": {
            "application/vnd.google.colaboratory.intrinsic+json": {
              "type": "string"
            },
            "text/plain": [
              "'b'"
            ]
          },
          "metadata": {
            "tags": []
          },
          "execution_count": 57
        }
      ]
    },
    {
      "cell_type": "code",
      "metadata": {
        "id": "0D1UrQffaKY5",
        "colab": {
          "base_uri": "https://localhost:8080/",
          "height": 34
        },
        "outputId": "dba4fedd-a430-4c88-c0dd-a14b2e7aadfb"
      },
      "source": [
        "a[3]"
      ],
      "execution_count": null,
      "outputs": [
        {
          "output_type": "execute_result",
          "data": {
            "text/plain": [
              "[23, 3]"
            ]
          },
          "metadata": {
            "tags": []
          },
          "execution_count": 58
        }
      ]
    },
    {
      "cell_type": "code",
      "metadata": {
        "id": "g4KCCcn7aMyT",
        "colab": {
          "base_uri": "https://localhost:8080/",
          "height": 34
        },
        "outputId": "270335c1-fc8d-4305-efc1-b847461ddc78"
      },
      "source": [
        "a[3][1]"
      ],
      "execution_count": null,
      "outputs": [
        {
          "output_type": "execute_result",
          "data": {
            "text/plain": [
              "3"
            ]
          },
          "metadata": {
            "tags": []
          },
          "execution_count": 59
        }
      ]
    },
    {
      "cell_type": "code",
      "metadata": {
        "id": "IgZlowt0aQFJ",
        "colab": {
          "base_uri": "https://localhost:8080/",
          "height": 35
        },
        "outputId": "4a2cba4f-7c0a-4658-cd64-fdb4bf14c41f"
      },
      "source": [
        "a[4][7]"
      ],
      "execution_count": null,
      "outputs": [
        {
          "output_type": "execute_result",
          "data": {
            "application/vnd.google.colaboratory.intrinsic+json": {
              "type": "string"
            },
            "text/plain": [
              "'W'"
            ]
          },
          "metadata": {
            "tags": []
          },
          "execution_count": 60
        }
      ]
    },
    {
      "cell_type": "code",
      "metadata": {
        "id": "-KTwaedYaRyW",
        "colab": {
          "base_uri": "https://localhost:8080/",
          "height": 34
        },
        "outputId": "732317ce-5170-4173-9bf8-12afae5d14e3"
      },
      "source": [
        "a[4][12] == a[4][-1]"
      ],
      "execution_count": null,
      "outputs": [
        {
          "output_type": "execute_result",
          "data": {
            "text/plain": [
              "True"
            ]
          },
          "metadata": {
            "tags": []
          },
          "execution_count": 61
        }
      ]
    },
    {
      "cell_type": "code",
      "metadata": {
        "id": "Xbj5t-enaTe0",
        "colab": {
          "base_uri": "https://localhost:8080/",
          "height": 35
        },
        "outputId": "423037f9-90e5-49bb-b1e1-5d7a5b30fd1b"
      },
      "source": [
        "a[4][0:5] #📌slicing"
      ],
      "execution_count": null,
      "outputs": [
        {
          "output_type": "execute_result",
          "data": {
            "application/vnd.google.colaboratory.intrinsic+json": {
              "type": "string"
            },
            "text/plain": [
              "'Hello'"
            ]
          },
          "metadata": {
            "tags": []
          },
          "execution_count": 62
        }
      ]
    },
    {
      "cell_type": "code",
      "metadata": {
        "id": "922VHQUTaVrw",
        "colab": {
          "base_uri": "https://localhost:8080/",
          "height": 34
        },
        "outputId": "7a3a4274-3d66-477e-9cab-a65ee065f24c"
      },
      "source": [
        "len(a)"
      ],
      "execution_count": null,
      "outputs": [
        {
          "output_type": "execute_result",
          "data": {
            "text/plain": [
              "5"
            ]
          },
          "metadata": {
            "tags": []
          },
          "execution_count": 63
        }
      ]
    },
    {
      "cell_type": "code",
      "metadata": {
        "id": "vBEXgaJ1qKfW"
      },
      "source": [
        "temp = [38,39,33,37,32,50]"
      ],
      "execution_count": null,
      "outputs": []
    },
    {
      "cell_type": "code",
      "metadata": {
        "id": "DbAMgbkGaY5K",
        "colab": {
          "base_uri": "https://localhost:8080/",
          "height": 52
        },
        "outputId": "4a62e1c4-a55f-43ce-e973-155a51039415"
      },
      "source": [
        "print(min(temp)) #📌built-in function\n",
        "print(max(temp))"
      ],
      "execution_count": null,
      "outputs": [
        {
          "output_type": "stream",
          "text": [
            "32\n",
            "50\n"
          ],
          "name": "stdout"
        }
      ]
    },
    {
      "cell_type": "code",
      "metadata": {
        "id": "SWqwZC-DadTK",
        "colab": {
          "base_uri": "https://localhost:8080/",
          "height": 34
        },
        "outputId": "51875b28-3daf-458f-eccc-f662aa805d2b"
      },
      "source": [
        "[1,2,3,4] + [2,2,2,2] #concatenation"
      ],
      "execution_count": null,
      "outputs": [
        {
          "output_type": "execute_result",
          "data": {
            "text/plain": [
              "[1, 2, 3, 4, 2, 2, 2, 2]"
            ]
          },
          "metadata": {
            "tags": []
          },
          "execution_count": 66
        }
      ]
    },
    {
      "cell_type": "code",
      "metadata": {
        "id": "F6VMrW4-ao8s",
        "colab": {
          "base_uri": "https://localhost:8080/",
          "height": 34
        },
        "outputId": "5c2a101c-4a85-43b5-f400-0c70ea540a1c"
      },
      "source": [
        "'a' in a "
      ],
      "execution_count": null,
      "outputs": [
        {
          "output_type": "execute_result",
          "data": {
            "text/plain": [
              "True"
            ]
          },
          "metadata": {
            "tags": []
          },
          "execution_count": 67
        }
      ]
    },
    {
      "cell_type": "code",
      "metadata": {
        "id": "yyocLR-Gar9v",
        "colab": {
          "base_uri": "https://localhost:8080/",
          "height": 34
        },
        "outputId": "a8791b23-d5d7-45e6-ef4e-a2435e5be6aa"
      },
      "source": [
        "a.append('d')  #📌built-in method which is use to add a element at the end of list\n",
        "a"
      ],
      "execution_count": null,
      "outputs": [
        {
          "output_type": "execute_result",
          "data": {
            "text/plain": [
              "['a', 'b', 34, [23, 3], 'Hello, World!', 'd']"
            ]
          },
          "metadata": {
            "tags": []
          },
          "execution_count": 68
        }
      ]
    },
    {
      "cell_type": "code",
      "metadata": {
        "id": "y6_N7o-9a0VU",
        "colab": {
          "base_uri": "https://localhost:8080/",
          "height": 34
        },
        "outputId": "3210321a-2006-4a91-a66e-3b8eba185ca5"
      },
      "source": [
        "a.index('d') #this method is called \"accessors\" because it does not change the state of an object"
      ],
      "execution_count": null,
      "outputs": [
        {
          "output_type": "execute_result",
          "data": {
            "text/plain": [
              "5"
            ]
          },
          "metadata": {
            "tags": []
          },
          "execution_count": 69
        }
      ]
    },
    {
      "cell_type": "code",
      "metadata": {
        "id": "8-hYVsu-4Szx",
        "colab": {
          "base_uri": "https://localhost:8080/",
          "height": 34
        },
        "outputId": "9601b9f6-0b9b-4772-b599-66a106850460"
      },
      "source": [
        "a"
      ],
      "execution_count": null,
      "outputs": [
        {
          "output_type": "execute_result",
          "data": {
            "text/plain": [
              "['a', 'b', 34, [23, 3], 'Hello, World!', 'd']"
            ]
          },
          "metadata": {
            "tags": []
          },
          "execution_count": 70
        }
      ]
    },
    {
      "cell_type": "code",
      "metadata": {
        "id": "9jGLtNT6a2Nh",
        "colab": {
          "base_uri": "https://localhost:8080/",
          "height": 34
        },
        "outputId": "0ca5e820-40d7-4ae6-e2b1-7cbcdb79d0d9"
      },
      "source": [
        "a[3][1] = 'Piyush'  #📌 Lists are mutuable\n",
        "a"
      ],
      "execution_count": null,
      "outputs": [
        {
          "output_type": "execute_result",
          "data": {
            "text/plain": [
              "['a', 'b', 34, [23, 'Piyush'], 'Hello, World!', 'd']"
            ]
          },
          "metadata": {
            "tags": []
          },
          "execution_count": 71
        }
      ]
    },
    {
      "cell_type": "code",
      "metadata": {
        "id": "BHrM18MSuYQf",
        "colab": {
          "base_uri": "https://localhost:8080/",
          "height": 34
        },
        "outputId": "3bf5ee9c-ce3c-42f9-ced2-7981abae1941"
      },
      "source": [
        "a.index('d')"
      ],
      "execution_count": null,
      "outputs": [
        {
          "output_type": "execute_result",
          "data": {
            "text/plain": [
              "5"
            ]
          },
          "metadata": {
            "tags": []
          },
          "execution_count": 72
        }
      ]
    },
    {
      "cell_type": "code",
      "metadata": {
        "id": "ZPC8uBETyYbv",
        "colab": {
          "base_uri": "https://localhost:8080/",
          "height": 35
        },
        "outputId": "2b6c2cff-ab5d-4d8b-ae0e-7fdc2b176032"
      },
      "source": [
        "a = [1,2,3]\n",
        "b = [4,5,6]\n",
        "c = [*a,*b,7,8,9] #spreading\n",
        "print(c)"
      ],
      "execution_count": null,
      "outputs": [
        {
          "output_type": "stream",
          "text": [
            "[1, 2, 3, 4, 5, 6, 7, 8, 9]\n"
          ],
          "name": "stdout"
        }
      ]
    },
    {
      "cell_type": "code",
      "metadata": {
        "id": "4DW0JQeDe20t",
        "colab": {
          "base_uri": "https://localhost:8080/",
          "height": 106
        },
        "outputId": "38cd76ac-8d78-4c69-8ff6-542c451e4608"
      },
      "source": [
        "c.insert(0,10)\n",
        "print(c)\n",
        "\n",
        "print(c.index(6))\n",
        "\n",
        "c.remove(9)\n",
        "print(c)\n",
        "\n",
        "c.sort() #Permanent sorting\n",
        "#this method is called mutators(or update methods) because it changes the state of an object\n",
        "c.sort(reverse=True)\n",
        "\n",
        "d = c.copy() #preventing the duplication of pointer to memory address\n",
        "e = c[:] #alternate method of above\n",
        "\n",
        "print(d)\n",
        "print(e)"
      ],
      "execution_count": null,
      "outputs": [
        {
          "output_type": "stream",
          "text": [
            "[10, 1, 2, 3, 4, 5, 6, 7, 8, 9]\n",
            "6\n",
            "[10, 1, 2, 3, 4, 5, 6, 7, 8]\n",
            "[10, 8, 7, 6, 5, 4, 3, 2, 1]\n",
            "[10, 8, 7, 6, 5, 4, 3, 2, 1]\n"
          ],
          "name": "stdout"
        }
      ]
    },
    {
      "cell_type": "markdown",
      "metadata": {
        "id": "mlyAt4IvM6qE"
      },
      "source": [
        "<h3>⭐Tuple</h3>"
      ]
    },
    {
      "cell_type": "markdown",
      "metadata": {
        "id": "iEq2dhLBXzta"
      },
      "source": [
        "* It is also a sequence datatype of Python\n",
        "* It uses ( ) as delimiter\n",
        "* It is immutable. "
      ]
    },
    {
      "cell_type": "code",
      "metadata": {
        "id": "ehu9yDDfYMXe",
        "outputId": "b0fd216b-8fbd-48bb-8640-1bf3e2d23257",
        "colab": {
          "base_uri": "https://localhost:8080/"
        }
      },
      "source": [
        "tuple() #default tuple"
      ],
      "execution_count": 38,
      "outputs": [
        {
          "output_type": "execute_result",
          "data": {
            "text/plain": [
              "()"
            ]
          },
          "metadata": {
            "tags": []
          },
          "execution_count": 38
        }
      ]
    },
    {
      "cell_type": "code",
      "metadata": {
        "id": "ibihEFZVYOMu",
        "outputId": "354a527a-ea25-4e55-ea41-522eaad0046d",
        "colab": {
          "base_uri": "https://localhost:8080/"
        }
      },
      "source": [
        "type((1))"
      ],
      "execution_count": 40,
      "outputs": [
        {
          "output_type": "execute_result",
          "data": {
            "text/plain": [
              "int"
            ]
          },
          "metadata": {
            "tags": []
          },
          "execution_count": 40
        }
      ]
    },
    {
      "cell_type": "code",
      "metadata": {
        "id": "CVkOU-QOYOJc",
        "outputId": "a0a35c3e-6238-424a-c382-5c39193d5dab",
        "colab": {
          "base_uri": "https://localhost:8080/"
        }
      },
      "source": [
        "type((1,)) #Notice the difference with comma   "
      ],
      "execution_count": 44,
      "outputs": [
        {
          "output_type": "execute_result",
          "data": {
            "text/plain": [
              "tuple"
            ]
          },
          "metadata": {
            "tags": []
          },
          "execution_count": 44
        }
      ]
    },
    {
      "cell_type": "code",
      "metadata": {
        "id": "LZNetn5nYYXm",
        "outputId": "3789bd13-0824-4432-90e0-afbb1419fd17",
        "colab": {
          "base_uri": "https://localhost:8080/"
        }
      },
      "source": [
        "a = 1, #one-element tuple\n",
        "type(a)"
      ],
      "execution_count": 51,
      "outputs": [
        {
          "output_type": "execute_result",
          "data": {
            "text/plain": [
              "tuple"
            ]
          },
          "metadata": {
            "tags": []
          },
          "execution_count": 51
        }
      ]
    },
    {
      "cell_type": "code",
      "metadata": {
        "id": "9SoZIaQNYb1E",
        "outputId": "c41a97b6-f32a-40cb-942d-0488e692b1df",
        "colab": {
          "base_uri": "https://localhost:8080/"
        }
      },
      "source": [
        "a"
      ],
      "execution_count": 52,
      "outputs": [
        {
          "output_type": "execute_result",
          "data": {
            "text/plain": [
              "(1,)"
            ]
          },
          "metadata": {
            "tags": []
          },
          "execution_count": 52
        }
      ]
    },
    {
      "cell_type": "code",
      "metadata": {
        "id": "U-re4eT9ZcBl",
        "outputId": "f250a34e-1979-4d2d-a09b-7715350b3efa",
        "colab": {
          "base_uri": "https://localhost:8080/"
        }
      },
      "source": [
        "isinstance(a,tuple)"
      ],
      "execution_count": 53,
      "outputs": [
        {
          "output_type": "execute_result",
          "data": {
            "text/plain": [
              "True"
            ]
          },
          "metadata": {
            "tags": []
          },
          "execution_count": 53
        }
      ]
    },
    {
      "cell_type": "code",
      "metadata": {
        "id": "K4QWwU3wa4Dz",
        "colab": {
          "base_uri": "https://localhost:8080/",
          "height": 34
        },
        "outputId": "3d90ca1f-7b4f-43e4-d456-e6faa788c585"
      },
      "source": [
        "tup = (1,2,3,4)\n",
        "tup"
      ],
      "execution_count": null,
      "outputs": [
        {
          "output_type": "execute_result",
          "data": {
            "text/plain": [
              "(1, 2, 3, 4)"
            ]
          },
          "metadata": {
            "tags": []
          },
          "execution_count": 73
        }
      ]
    },
    {
      "cell_type": "code",
      "metadata": {
        "id": "L6udyWpzbWE7",
        "colab": {
          "base_uri": "https://localhost:8080/",
          "height": 34
        },
        "outputId": "bc812091-10bf-420e-d2fc-45dbf0923055"
      },
      "source": [
        "tup[0]"
      ],
      "execution_count": null,
      "outputs": [
        {
          "output_type": "execute_result",
          "data": {
            "text/plain": [
              "1"
            ]
          },
          "metadata": {
            "tags": []
          },
          "execution_count": 74
        }
      ]
    },
    {
      "cell_type": "code",
      "metadata": {
        "id": "RfVFANXebYYR",
        "colab": {
          "base_uri": "https://localhost:8080/",
          "height": 167
        },
        "outputId": "f3e85850-2f40-4e49-eb7e-04ef776c76ec"
      },
      "source": [
        "tup[0] = \"Laptop\"   #📌 tuples are immutuable 📌Error because tuple is immutable"
      ],
      "execution_count": null,
      "outputs": [
        {
          "output_type": "error",
          "ename": "TypeError",
          "evalue": "ignored",
          "traceback": [
            "\u001b[0;31m---------------------------------------------------------------------------\u001b[0m",
            "\u001b[0;31mTypeError\u001b[0m                                 Traceback (most recent call last)",
            "\u001b[0;32m<ipython-input-75-323d94f11b86>\u001b[0m in \u001b[0;36m<module>\u001b[0;34m()\u001b[0m\n\u001b[0;32m----> 1\u001b[0;31m \u001b[0mtup\u001b[0m\u001b[0;34m[\u001b[0m\u001b[0;36m0\u001b[0m\u001b[0;34m]\u001b[0m \u001b[0;34m=\u001b[0m \u001b[0;34m\"Laptop\"\u001b[0m   \u001b[0;31m#📌 tuples are immutuable 📌Error because tuple is immutable\u001b[0m\u001b[0;34m\u001b[0m\u001b[0;34m\u001b[0m\u001b[0m\n\u001b[0m",
            "\u001b[0;31mTypeError\u001b[0m: 'tuple' object does not support item assignment"
          ]
        }
      ]
    },
    {
      "cell_type": "code",
      "metadata": {
        "id": "Ry03zsQqbfQo",
        "colab": {
          "base_uri": "https://localhost:8080/",
          "height": 34
        },
        "outputId": "0f1c48e9-af4a-4719-f165-bdbfae5553d6"
      },
      "source": [
        "t = (1,2,3,4) #create tuple\n",
        "t = list(t)   # convert tuple into list using list() function\n",
        "t.append(5)  # add 5 in list t [1,2,3,4,5]\n",
        "t = tuple(t)  # convert into tuple using tuple() function\n",
        "t"
      ],
      "execution_count": null,
      "outputs": [
        {
          "output_type": "execute_result",
          "data": {
            "text/plain": [
              "(1, 2, 3, 4, 5)"
            ]
          },
          "metadata": {
            "tags": []
          },
          "execution_count": 76
        }
      ]
    },
    {
      "cell_type": "code",
      "metadata": {
        "id": "Go2b_k6zbnD7",
        "colab": {
          "base_uri": "https://localhost:8080/",
          "height": 34
        },
        "outputId": "5bc6c40e-beb8-49ce-9403-b5e6395250c0"
      },
      "source": [
        "len(t)"
      ],
      "execution_count": null,
      "outputs": [
        {
          "output_type": "execute_result",
          "data": {
            "text/plain": [
              "5"
            ]
          },
          "metadata": {
            "tags": []
          },
          "execution_count": 77
        }
      ]
    },
    {
      "cell_type": "code",
      "metadata": {
        "id": "vpVgeogzym5y",
        "colab": {
          "base_uri": "https://localhost:8080/",
          "height": 34
        },
        "outputId": "192d6607-10c3-4623-b89f-bb07e5f35346"
      },
      "source": [
        "a = (1,2,3)\n",
        "b = (4,5,6)\n",
        "c = (*a,*b,7,8,9) #spreading\n",
        "print(c)"
      ],
      "execution_count": null,
      "outputs": [
        {
          "output_type": "stream",
          "text": [
            "(1, 2, 3, 4, 5, 6, 7, 8, 9)\n"
          ],
          "name": "stdout"
        }
      ]
    },
    {
      "cell_type": "markdown",
      "metadata": {
        "id": "EH9fInQaeR8z"
      },
      "source": [
        "<h3>⭐Set</h3>\n",
        "<ul><b>Unordered</b> collection of objects to perform mathematical set operation. Contains only unique items. </ul>\n",
        "<ul>Optimized as compared to a list and based on hash table data structure.</ul>\n",
        "<ul>Contains immutable elements but itself is mutable</ul>"
      ]
    },
    {
      "cell_type": "code",
      "metadata": {
        "id": "aNt2-gCQpiqL",
        "outputId": "34fe35f2-568e-4823-efbd-a8760d0152cb",
        "colab": {
          "base_uri": "https://localhost:8080/"
        }
      },
      "source": [
        "a = set()  #constructor set()\n",
        "print(type(a))\n",
        "\n",
        "a = {}\n",
        "print(type(a))"
      ],
      "execution_count": 91,
      "outputs": [
        {
          "output_type": "stream",
          "text": [
            "<class 'set'>\n",
            "<class 'dict'>\n"
          ],
          "name": "stdout"
        }
      ]
    },
    {
      "cell_type": "code",
      "metadata": {
        "id": "toTZghZppvGh",
        "outputId": "bf638ab0-e781-45b6-9c47-326e77649dc3",
        "colab": {
          "base_uri": "https://localhost:8080/"
        }
      },
      "source": [
        "a = {1,2,3}\n",
        "type(a)"
      ],
      "execution_count": 92,
      "outputs": [
        {
          "output_type": "execute_result",
          "data": {
            "text/plain": [
              "set"
            ]
          },
          "metadata": {
            "tags": []
          },
          "execution_count": 92
        }
      ]
    },
    {
      "cell_type": "code",
      "metadata": {
        "id": "IdTis5T3pzIm",
        "outputId": "9ec70ba1-0ce3-41f4-eb6f-1caa20155f36",
        "colab": {
          "base_uri": "https://localhost:8080/"
        }
      },
      "source": [
        "a = 'Python'\n",
        "set(a) #unordered"
      ],
      "execution_count": 93,
      "outputs": [
        {
          "output_type": "execute_result",
          "data": {
            "text/plain": [
              "{'P', 'h', 'n', 'o', 't', 'y'}"
            ]
          },
          "metadata": {
            "tags": []
          },
          "execution_count": 93
        }
      ]
    },
    {
      "cell_type": "code",
      "metadata": {
        "id": "lQuvPmpSb2vh",
        "colab": {
          "base_uri": "https://localhost:8080/"
        },
        "outputId": "f12eaa20-3f00-47a6-ffa9-68bfbfad832d"
      },
      "source": [
        "a = {1,2,3,4,5}\n",
        "b = {4,5,6,7,7}  # 7 twice\n",
        "print(a)\n",
        "print(b) #printed only once because set do not contain two similar elements"
      ],
      "execution_count": 111,
      "outputs": [
        {
          "output_type": "stream",
          "text": [
            "{1, 2, 3, 4, 5}\n",
            "{4, 5, 6, 7}\n"
          ],
          "name": "stdout"
        }
      ]
    },
    {
      "cell_type": "code",
      "metadata": {
        "id": "LkM5I10Me5IT",
        "colab": {
          "base_uri": "https://localhost:8080/"
        },
        "outputId": "3f216b42-4b40-4587-a97b-ec0d1ff3cf93"
      },
      "source": [
        "#OR\n",
        "a | b "
      ],
      "execution_count": 95,
      "outputs": [
        {
          "output_type": "execute_result",
          "data": {
            "text/plain": [
              "{1, 2, 3, 4, 5, 6, 7}"
            ]
          },
          "metadata": {
            "tags": []
          },
          "execution_count": 95
        }
      ]
    },
    {
      "cell_type": "code",
      "metadata": {
        "id": "0FuT1pwnfMyW",
        "colab": {
          "base_uri": "https://localhost:8080/"
        },
        "outputId": "00355ebd-ae81-45d5-a3ee-fc13d9ddca07"
      },
      "source": [
        "#union\n",
        "print(a.union(b)) #a u b\n",
        "print(b.union(a)) #b u a"
      ],
      "execution_count": 96,
      "outputs": [
        {
          "output_type": "stream",
          "text": [
            "{1, 2, 3, 4, 5, 6, 7}\n",
            "{1, 2, 3, 4, 5, 6, 7}\n"
          ],
          "name": "stdout"
        }
      ]
    },
    {
      "cell_type": "code",
      "metadata": {
        "id": "a0AWsoDifKQy",
        "colab": {
          "base_uri": "https://localhost:8080/"
        },
        "outputId": "0d9ad9d0-c41f-421c-e36f-e8b2ed138fca"
      },
      "source": [
        "#AND\n",
        "a & b"
      ],
      "execution_count": 97,
      "outputs": [
        {
          "output_type": "execute_result",
          "data": {
            "text/plain": [
              "{4, 5}"
            ]
          },
          "metadata": {
            "tags": []
          },
          "execution_count": 97
        }
      ]
    },
    {
      "cell_type": "code",
      "metadata": {
        "id": "EpTQ-CwPfZfy",
        "colab": {
          "base_uri": "https://localhost:8080/"
        },
        "outputId": "c3cb38b9-6169-4373-cd2d-79ebebf43141"
      },
      "source": [
        "#intersection\n",
        "print(a.intersection(b))\n",
        "print(b.intersection(a))"
      ],
      "execution_count": 98,
      "outputs": [
        {
          "output_type": "stream",
          "text": [
            "{4, 5}\n",
            "{4, 5}\n"
          ],
          "name": "stdout"
        }
      ]
    },
    {
      "cell_type": "code",
      "metadata": {
        "id": "g9uJ8xwHfiew",
        "colab": {
          "base_uri": "https://localhost:8080/"
        },
        "outputId": "38c2a31d-2b13-47dd-dd80-d9b703a568dd"
      },
      "source": [
        "#difference\n",
        "print(a-b)\n",
        "print(a.difference(b))\n",
        "print(b-a)\n",
        "print(b.difference(a))"
      ],
      "execution_count": 99,
      "outputs": [
        {
          "output_type": "stream",
          "text": [
            "{1, 2, 3}\n",
            "{1, 2, 3}\n",
            "{6, 7}\n",
            "{6, 7}\n"
          ],
          "name": "stdout"
        }
      ]
    },
    {
      "cell_type": "code",
      "metadata": {
        "id": "1BeTLwMggKU5",
        "colab": {
          "base_uri": "https://localhost:8080/"
        },
        "outputId": "22294586-45df-492f-d725-4777bf42f2f0"
      },
      "source": [
        "#symmetric difference\n",
        "print(a ^ b)\n",
        "print(a.symmetric_difference(b))\n",
        "print(b ^ a)\n",
        "print(b.symmetric_difference(a))"
      ],
      "execution_count": 100,
      "outputs": [
        {
          "output_type": "stream",
          "text": [
            "{1, 2, 3, 6, 7}\n",
            "{1, 2, 3, 6, 7}\n",
            "{1, 2, 3, 6, 7}\n",
            "{1, 2, 3, 6, 7}\n"
          ],
          "name": "stdout"
        }
      ]
    },
    {
      "cell_type": "code",
      "metadata": {
        "id": "fmq9GrQEhMqG",
        "colab": {
          "base_uri": "https://localhost:8080/"
        },
        "outputId": "7f37b8e1-2739-44d6-cad8-ab7e37a816fb"
      },
      "source": [
        "print(a)\n",
        "a.add(8)\n",
        "print(a)\n",
        "\n",
        "a.discard(1)\n",
        "print(a)\n",
        "\n",
        "a.remove(2)\n",
        "print(a)\n",
        "#remove raises an error if element is not in the set but discard do not"
      ],
      "execution_count": 112,
      "outputs": [
        {
          "output_type": "stream",
          "text": [
            "{1, 2, 3, 4, 5}\n",
            "{1, 2, 3, 4, 5, 8}\n",
            "{2, 3, 4, 5, 8}\n",
            "{3, 4, 5, 8}\n"
          ],
          "name": "stdout"
        }
      ]
    },
    {
      "cell_type": "code",
      "metadata": {
        "id": "G3ZMPCvVo5ou",
        "outputId": "087b1e0b-ff10-476c-90e7-685a0be35e3c",
        "colab": {
          "base_uri": "https://localhost:8080/",
          "height": 167
        }
      },
      "source": [
        "a.add([1,2]) #set contains only immutable items not mutable; raise error"
      ],
      "execution_count": 102,
      "outputs": [
        {
          "output_type": "error",
          "ename": "TypeError",
          "evalue": "ignored",
          "traceback": [
            "\u001b[0;31m---------------------------------------------------------------------------\u001b[0m",
            "\u001b[0;31mTypeError\u001b[0m                                 Traceback (most recent call last)",
            "\u001b[0;32m<ipython-input-102-4b1da96d43b5>\u001b[0m in \u001b[0;36m<module>\u001b[0;34m()\u001b[0m\n\u001b[0;32m----> 1\u001b[0;31m \u001b[0ma\u001b[0m\u001b[0;34m.\u001b[0m\u001b[0madd\u001b[0m\u001b[0;34m(\u001b[0m\u001b[0;34m[\u001b[0m\u001b[0;36m1\u001b[0m\u001b[0;34m,\u001b[0m\u001b[0;36m2\u001b[0m\u001b[0;34m]\u001b[0m\u001b[0;34m)\u001b[0m \u001b[0;31m#set contains only immutable items not mutable; raise error\u001b[0m\u001b[0;34m\u001b[0m\u001b[0;34m\u001b[0m\u001b[0m\n\u001b[0m",
            "\u001b[0;31mTypeError\u001b[0m: unhashable type: 'list'"
          ]
        }
      ]
    },
    {
      "cell_type": "code",
      "metadata": {
        "id": "-0HV1UXApM9h",
        "outputId": "4668fc58-e4ba-44cc-a9db-9a64f01c39e2",
        "colab": {
          "base_uri": "https://localhost:8080/",
          "height": 167
        }
      },
      "source": [
        "a.add({1,2}) # a set is also mutable; raise error"
      ],
      "execution_count": 108,
      "outputs": [
        {
          "output_type": "error",
          "ename": "TypeError",
          "evalue": "ignored",
          "traceback": [
            "\u001b[0;31m---------------------------------------------------------------------------\u001b[0m",
            "\u001b[0;31mTypeError\u001b[0m                                 Traceback (most recent call last)",
            "\u001b[0;32m<ipython-input-108-976d59242296>\u001b[0m in \u001b[0;36m<module>\u001b[0;34m()\u001b[0m\n\u001b[0;32m----> 1\u001b[0;31m \u001b[0ma\u001b[0m\u001b[0;34m.\u001b[0m\u001b[0madd\u001b[0m\u001b[0;34m(\u001b[0m\u001b[0;34m{\u001b[0m\u001b[0;36m1\u001b[0m\u001b[0;34m,\u001b[0m\u001b[0;36m2\u001b[0m\u001b[0;34m}\u001b[0m\u001b[0;34m)\u001b[0m \u001b[0;31m# a set is also mutable; raise error\u001b[0m\u001b[0;34m\u001b[0m\u001b[0;34m\u001b[0m\u001b[0m\n\u001b[0m",
            "\u001b[0;31mTypeError\u001b[0m: unhashable type: 'set'"
          ]
        }
      ]
    },
    {
      "cell_type": "code",
      "metadata": {
        "id": "HKVLzY6ZpT0X",
        "outputId": "a791c2dc-8345-4aaa-d349-4b35203f78aa",
        "colab": {
          "base_uri": "https://localhost:8080/"
        }
      },
      "source": [
        "a.add((1,2))\n",
        "print(a)\n",
        "\n",
        "a.add('hello')\n",
        "a"
      ],
      "execution_count": 106,
      "outputs": [
        {
          "output_type": "stream",
          "text": [
            "{(1, 2), 3, 4, 5, 6, 7, 8}\n"
          ],
          "name": "stdout"
        },
        {
          "output_type": "execute_result",
          "data": {
            "text/plain": [
              "{(1, 2), 3, 4, 5, 6, 7, 8, 'hello'}"
            ]
          },
          "metadata": {
            "tags": []
          },
          "execution_count": 106
        }
      ]
    },
    {
      "cell_type": "code",
      "metadata": {
        "id": "tdhIV1NHqETR",
        "outputId": "8d544e89-e0ec-4089-af6c-4dfd0cc0ba8f",
        "colab": {
          "base_uri": "https://localhost:8080/"
        }
      },
      "source": [
        "#adding multiple elements\n",
        "a.update([9,19,17]) #here we are not adding a list instead multiple elements\n",
        "a"
      ],
      "execution_count": 110,
      "outputs": [
        {
          "output_type": "execute_result",
          "data": {
            "text/plain": [
              "{(1, 2), 17, 19, 3, 4, 5, 6, 7, 8, 9, 'hello'}"
            ]
          },
          "metadata": {
            "tags": []
          },
          "execution_count": 110
        }
      ]
    },
    {
      "cell_type": "code",
      "metadata": {
        "id": "owb81z00tLgb",
        "outputId": "277ecc5d-d0c0-4504-be9e-f24bc9d38c1a",
        "colab": {
          "base_uri": "https://localhost:8080/"
        }
      },
      "source": [
        "s = {1,2,3,4,5,6}\n",
        "s.pop() #removing a random element; mutator-method\n",
        "s "
      ],
      "execution_count": 116,
      "outputs": [
        {
          "output_type": "execute_result",
          "data": {
            "text/plain": [
              "{2, 3, 4, 5, 6}"
            ]
          },
          "metadata": {
            "tags": []
          },
          "execution_count": 116
        }
      ]
    },
    {
      "cell_type": "code",
      "metadata": {
        "id": "6SsAbWtrt7vq",
        "outputId": "7dadbb2e-5dc3-4b36-ac03-416ea1aad3db",
        "colab": {
          "base_uri": "https://localhost:8080/"
        }
      },
      "source": [
        "s = {1,2,3,4,5,6}\n",
        "s.clear()\n",
        "s"
      ],
      "execution_count": 117,
      "outputs": [
        {
          "output_type": "execute_result",
          "data": {
            "text/plain": [
              "set()"
            ]
          },
          "metadata": {
            "tags": []
          },
          "execution_count": 117
        }
      ]
    },
    {
      "cell_type": "code",
      "metadata": {
        "id": "29-dftevuxTb",
        "outputId": "03b9bcc9-b72b-4bef-dacf-38a16a30ff7a",
        "colab": {
          "base_uri": "https://localhost:8080/"
        }
      },
      "source": [
        "s = {1,2,3,4,5,6}\n",
        "t = s.copy()\n",
        "print(t)\n",
        "\n",
        "t.pop()\n",
        "print(t)\n",
        "\n",
        "print(t.difference(s))\n",
        "print(s.difference(t))"
      ],
      "execution_count": 121,
      "outputs": [
        {
          "output_type": "stream",
          "text": [
            "{1, 2, 3, 4, 5, 6}\n",
            "{2, 3, 4, 5, 6}\n",
            "set()\n",
            "{1}\n"
          ],
          "name": "stdout"
        }
      ]
    },
    {
      "cell_type": "code",
      "metadata": {
        "id": "ObjQCnRCvV5O",
        "outputId": "44e16a61-cbbe-484a-8010-aecb3228a5cc",
        "colab": {
          "base_uri": "https://localhost:8080/"
        }
      },
      "source": [
        "s = {1,2,3,4,5,6}\n",
        "t = {10}\n",
        "u = {1,2}\n",
        "\n",
        "print('Is t and s are dis-joint sets?',t.isdisjoint(s))\n",
        "print('Is u a subset of s?',u.issubset(s))\n",
        "print('Is s a superset of u?',s.issuperset(u))"
      ],
      "execution_count": 125,
      "outputs": [
        {
          "output_type": "stream",
          "text": [
            "Is t and s are dis-joint sets? True\n",
            "Is u a subset of s? True\n",
            "Is s a superset of u? True\n"
          ],
          "name": "stdout"
        }
      ]
    },
    {
      "cell_type": "code",
      "metadata": {
        "id": "OEgQpTwnzLu8",
        "outputId": "20ad5689-3749-4410-f24f-c731df09384b",
        "colab": {
          "base_uri": "https://localhost:8080/"
        }
      },
      "source": [
        "a = {1,2,3}\n",
        "b = {3,2,1}\n",
        "print(a is b) #compare lexicographically\n",
        "print(b is a)\n",
        "print(a == b) #both are equivalent because of having same elements"
      ],
      "execution_count": 152,
      "outputs": [
        {
          "output_type": "stream",
          "text": [
            "False\n",
            "False\n",
            "True\n"
          ],
          "name": "stdout"
        }
      ]
    },
    {
      "cell_type": "markdown",
      "metadata": {
        "id": "_xikIpQNgwau"
      },
      "source": [
        "<h3>⭐Dictionary</h3>\n",
        "Store data in the form of Key-value pairs"
      ]
    },
    {
      "cell_type": "code",
      "metadata": {
        "id": "-1HsshDjglbw",
        "colab": {
          "base_uri": "https://localhost:8080/",
          "height": 34
        },
        "outputId": "49c973c9-2c61-41fd-9aa1-ab8761ba6fd6"
      },
      "source": [
        "d = {}        #dictionary declaration not a set declaration. \n",
        "d = dict()    #Another way of declaring a dictionary.      \n",
        "\n",
        "d = {'one':['isma','nandini','piyush'],'two':2.0,'three':3,5:5.0}\n",
        "d"
      ],
      "execution_count": null,
      "outputs": [
        {
          "output_type": "execute_result",
          "data": {
            "text/plain": [
              "{5: 5.0, 'one': ['isma', 'nandini', 'piyush'], 'three': 3, 'two': 2.0}"
            ]
          },
          "metadata": {
            "tags": []
          },
          "execution_count": 85
        }
      ]
    },
    {
      "cell_type": "code",
      "metadata": {
        "id": "tLCny9ne_xQR",
        "colab": {
          "base_uri": "https://localhost:8080/",
          "height": 34
        },
        "outputId": "a658fac9-568f-4d08-ff14-4c03188ddc9e"
      },
      "source": [
        "d['two']"
      ],
      "execution_count": null,
      "outputs": [
        {
          "output_type": "execute_result",
          "data": {
            "text/plain": [
              "2.0"
            ]
          },
          "metadata": {
            "tags": []
          },
          "execution_count": 86
        }
      ]
    },
    {
      "cell_type": "code",
      "metadata": {
        "id": "n366NRNQhF0b",
        "colab": {
          "base_uri": "https://localhost:8080/",
          "height": 122
        },
        "outputId": "99d2aace-863f-4e4d-a04b-cb2341e57fca"
      },
      "source": [
        "d['four'] = 4\n",
        "d['five'] = 5\n",
        "d"
      ],
      "execution_count": null,
      "outputs": [
        {
          "output_type": "execute_result",
          "data": {
            "text/plain": [
              "{5: 5.0,\n",
              " 'five': 5,\n",
              " 'four': 4,\n",
              " 'one': ['isma', 'nandini', 'piyush'],\n",
              " 'three': 3,\n",
              " 'two': 2.0}"
            ]
          },
          "metadata": {
            "tags": []
          },
          "execution_count": 87
        }
      ]
    },
    {
      "cell_type": "code",
      "metadata": {
        "id": "xcnm_Zz6hKfd",
        "colab": {
          "base_uri": "https://localhost:8080/",
          "height": 34
        },
        "outputId": "26d744f1-5783-4ffc-dbf3-f597ca84a483"
      },
      "source": [
        "d.keys() #📌built-in method to get all the keys"
      ],
      "execution_count": null,
      "outputs": [
        {
          "output_type": "execute_result",
          "data": {
            "text/plain": [
              "dict_keys(['one', 'two', 'three', 5, 'four', 'five'])"
            ]
          },
          "metadata": {
            "tags": []
          },
          "execution_count": 88
        }
      ]
    },
    {
      "cell_type": "code",
      "metadata": {
        "id": "qn9VV6h9hT0G",
        "colab": {
          "base_uri": "https://localhost:8080/",
          "height": 34
        },
        "outputId": "53e85af2-2624-4493-bf86-b6d98f5df9f8"
      },
      "source": [
        "d.values()  #📌built-in method to get all the values"
      ],
      "execution_count": null,
      "outputs": [
        {
          "output_type": "execute_result",
          "data": {
            "text/plain": [
              "dict_values([['isma', 'nandini', 'piyush'], 2.0, 3, 5.0, 4, 5])"
            ]
          },
          "metadata": {
            "tags": []
          },
          "execution_count": 89
        }
      ]
    },
    {
      "cell_type": "code",
      "metadata": {
        "id": "YSrscTDyhYD-",
        "colab": {
          "base_uri": "https://localhost:8080/",
          "height": 34
        },
        "outputId": "07b2156c-9f5b-4ed7-d263-e52e28a4ee17"
      },
      "source": [
        "d.items() #📌built-in method to get all items in form of list of tuples"
      ],
      "execution_count": null,
      "outputs": [
        {
          "output_type": "execute_result",
          "data": {
            "text/plain": [
              "dict_items([('one', ['isma', 'nandini', 'piyush']), ('two', 2.0), ('three', 3), (5, 5.0), ('four', 4), ('five', 5)])"
            ]
          },
          "metadata": {
            "tags": []
          },
          "execution_count": 90
        }
      ]
    },
    {
      "cell_type": "code",
      "metadata": {
        "id": "frphjVhShc2V",
        "colab": {
          "base_uri": "https://localhost:8080/",
          "height": 105
        },
        "outputId": "7c76bd3d-4ff0-47aa-a4b4-201921e90ac9"
      },
      "source": [
        "d.pop('two') #📌built-in method to remove any pair\n",
        "d"
      ],
      "execution_count": null,
      "outputs": [
        {
          "output_type": "execute_result",
          "data": {
            "text/plain": [
              "{5: 5.0,\n",
              " 'five': 5,\n",
              " 'four': 4,\n",
              " 'one': ['isma', 'nandini', 'piyush'],\n",
              " 'three': 3}"
            ]
          },
          "metadata": {
            "tags": []
          },
          "execution_count": 91
        }
      ]
    },
    {
      "cell_type": "markdown",
      "metadata": {
        "id": "X3MkfEOOCuLN"
      },
      "source": [
        "<h2>Aliasing in Python</h2"
      ]
    },
    {
      "cell_type": "code",
      "metadata": {
        "colab": {
          "base_uri": "https://localhost:8080/"
        },
        "id": "Fv69_olVCynq",
        "outputId": "d7981b55-f54d-4292-9919-52242155d46a"
      },
      "source": [
        "a = 2\n",
        "b = a \n",
        "b"
      ],
      "execution_count": 2,
      "outputs": [
        {
          "output_type": "execute_result",
          "data": {
            "text/plain": [
              "2"
            ]
          },
          "metadata": {
            "tags": []
          },
          "execution_count": 2
        }
      ]
    },
    {
      "cell_type": "code",
      "metadata": {
        "colab": {
          "base_uri": "https://localhost:8080/"
        },
        "id": "ppWGWweYC0xp",
        "outputId": "878667ea-bf1a-456e-c59c-28f419e53323"
      },
      "source": [
        "b = 3\n",
        "a"
      ],
      "execution_count": 3,
      "outputs": [
        {
          "output_type": "execute_result",
          "data": {
            "text/plain": [
              "2"
            ]
          },
          "metadata": {
            "tags": []
          },
          "execution_count": 3
        }
      ]
    },
    {
      "cell_type": "markdown",
      "metadata": {
        "id": "eNPTZDFJC6Vw"
      },
      "source": [
        "Aliasing in Python works until there is no additional value assignment to the alias. Assignment to any alias breaks the alaising and will not affect other identifiers."
      ]
    },
    {
      "cell_type": "code",
      "metadata": {
        "colab": {
          "base_uri": "https://localhost:8080/"
        },
        "id": "j1tXIG-7C26O",
        "outputId": "32b3332a-19d0-4767-9043-c87ea95b4e89"
      },
      "source": [
        "a = 1\n",
        "b = a\n",
        "c = b\n",
        "c"
      ],
      "execution_count": 4,
      "outputs": [
        {
          "output_type": "execute_result",
          "data": {
            "text/plain": [
              "1"
            ]
          },
          "metadata": {
            "tags": []
          },
          "execution_count": 4
        }
      ]
    },
    {
      "cell_type": "code",
      "metadata": {
        "colab": {
          "base_uri": "https://localhost:8080/"
        },
        "id": "OH71SAIrDNku",
        "outputId": "57fd5f3d-a2ed-4f6e-a8cd-2944a7002441"
      },
      "source": [
        "a = 4\n",
        "c"
      ],
      "execution_count": 5,
      "outputs": [
        {
          "output_type": "execute_result",
          "data": {
            "text/plain": [
              "1"
            ]
          },
          "metadata": {
            "tags": []
          },
          "execution_count": 5
        }
      ]
    },
    {
      "cell_type": "code",
      "metadata": {
        "colab": {
          "base_uri": "https://localhost:8080/"
        },
        "id": "3JcZOQc5DSbw",
        "outputId": "e0f0dfbb-8937-4f53-cb33-a84b0a8cc169"
      },
      "source": [
        "a = 1\n",
        "c = a\n",
        "c *= 2\n",
        "print(a,c)"
      ],
      "execution_count": 127,
      "outputs": [
        {
          "output_type": "stream",
          "text": [
            "1 2\n"
          ],
          "name": "stdout"
        }
      ]
    },
    {
      "cell_type": "code",
      "metadata": {
        "id": "0zUH9ypNwXjf",
        "outputId": "26799ef8-448d-48c9-b27d-85f661a67f56",
        "colab": {
          "base_uri": "https://localhost:8080/"
        }
      },
      "source": [
        "a = 2\n",
        "b = a\n",
        "a is b"
      ],
      "execution_count": 128,
      "outputs": [
        {
          "output_type": "execute_result",
          "data": {
            "text/plain": [
              "True"
            ]
          },
          "metadata": {
            "tags": []
          },
          "execution_count": 128
        }
      ]
    },
    {
      "cell_type": "code",
      "metadata": {
        "id": "IhshbOndw_BM",
        "outputId": "3e5c9f64-f47d-463d-841e-6df8eb871a24",
        "colab": {
          "base_uri": "https://localhost:8080/"
        }
      },
      "source": [
        "a = 2 \n",
        "b = 2\n",
        "a is b"
      ],
      "execution_count": 129,
      "outputs": [
        {
          "output_type": "execute_result",
          "data": {
            "text/plain": [
              "True"
            ]
          },
          "metadata": {
            "tags": []
          },
          "execution_count": 129
        }
      ]
    },
    {
      "cell_type": "code",
      "metadata": {
        "id": "-PMvY58PxBBM",
        "outputId": "a1689f7e-4876-4cfb-a3bf-ece89e2e404c",
        "colab": {
          "base_uri": "https://localhost:8080/"
        }
      },
      "source": [
        "a = 256  #extreme point for aliasing\n",
        "b = 256\n",
        "a is b"
      ],
      "execution_count": 148,
      "outputs": [
        {
          "output_type": "execute_result",
          "data": {
            "text/plain": [
              "True"
            ]
          },
          "metadata": {
            "tags": []
          },
          "execution_count": 148
        }
      ]
    },
    {
      "cell_type": "code",
      "metadata": {
        "id": "GXITjj48xFXq",
        "outputId": "1f4636f0-d883-4b03-cb6b-f18edc5fea6d",
        "colab": {
          "base_uri": "https://localhost:8080/"
        }
      },
      "source": [
        "a = 257\n",
        "b = 257\n",
        "a is b"
      ],
      "execution_count": 136,
      "outputs": [
        {
          "output_type": "execute_result",
          "data": {
            "text/plain": [
              "False"
            ]
          },
          "metadata": {
            "tags": []
          },
          "execution_count": 136
        }
      ]
    },
    {
      "cell_type": "code",
      "metadata": {
        "id": "Yv1s7EPBxWjO",
        "outputId": "1eddfb39-7c7c-4ed1-b881-401b38ed8639",
        "colab": {
          "base_uri": "https://localhost:8080/"
        }
      },
      "source": [
        "a = 0\n",
        "b = 0\n",
        "a is b"
      ],
      "execution_count": 137,
      "outputs": [
        {
          "output_type": "execute_result",
          "data": {
            "text/plain": [
              "True"
            ]
          },
          "metadata": {
            "tags": []
          },
          "execution_count": 137
        }
      ]
    },
    {
      "cell_type": "code",
      "metadata": {
        "id": "WIMj0p4ixuJR",
        "outputId": "51c10304-971a-4702-97d7-80b60699c9dc",
        "colab": {
          "base_uri": "https://localhost:8080/"
        }
      },
      "source": [
        "a = -5 #extreme point for aliasing\n",
        "b = -5\n",
        "a is b"
      ],
      "execution_count": 147,
      "outputs": [
        {
          "output_type": "execute_result",
          "data": {
            "text/plain": [
              "True"
            ]
          },
          "metadata": {
            "tags": []
          },
          "execution_count": 147
        }
      ]
    },
    {
      "cell_type": "code",
      "metadata": {
        "id": "vWqHgRGuxZXL",
        "outputId": "90319754-1823-4d66-cc75-cb897194c350",
        "colab": {
          "base_uri": "https://localhost:8080/"
        }
      },
      "source": [
        "a = -6\n",
        "b = -6\n",
        "a is b"
      ],
      "execution_count": 146,
      "outputs": [
        {
          "output_type": "execute_result",
          "data": {
            "text/plain": [
              "False"
            ]
          },
          "metadata": {
            "tags": []
          },
          "execution_count": 146
        }
      ]
    },
    {
      "cell_type": "markdown",
      "metadata": {
        "id": "QS4f5QqUyrAo"
      },
      "source": [
        "However, using == and != we can find out whether both identfiers are equivalent upto any extend. "
      ]
    },
    {
      "cell_type": "code",
      "metadata": {
        "id": "yu_V6VmVxdRR",
        "outputId": "ee199318-8205-4f9a-e2c5-5130cb625e99",
        "colab": {
          "base_uri": "https://localhost:8080/"
        }
      },
      "source": [
        "a = 10000\n",
        "b = 10000\n",
        "a == b"
      ],
      "execution_count": 149,
      "outputs": [
        {
          "output_type": "execute_result",
          "data": {
            "text/plain": [
              "True"
            ]
          },
          "metadata": {
            "tags": []
          },
          "execution_count": 149
        }
      ]
    },
    {
      "cell_type": "code",
      "metadata": {
        "id": "lqTRf5WRy7aR"
      },
      "source": [
        ""
      ],
      "execution_count": null,
      "outputs": []
    }
  ]
}